{
 "cells": [
  {
   "cell_type": "markdown",
   "id": "f4f5c578",
   "metadata": {},
   "source": [
    "# Introduction to Machine Learning\n",
    "ML is a branch of AI that focus on building an algorithm to train computer to learn from the pass experience in order to predict for future event\n",
    "\n",
    "## Type of ML\n",
    "1. Supervised Learning\n",
    "    a.Regresssion\n",
    "    b.Classification\n",
    "    \n",
    "2. Unsupervised Learning"
   ]
  },
  {
   "cell_type": "code",
   "execution_count": 1,
   "id": "f7caec99",
   "metadata": {},
   "outputs": [],
   "source": [
    "import numpy as np\n",
    "import pandas as pd\n",
    "import seaborn as sns\n",
    "import matplotlib.pyplot as plt"
   ]
  },
  {
   "cell_type": "code",
   "execution_count": 32,
   "id": "d0678e78",
   "metadata": {},
   "outputs": [
    {
     "data": {
      "text/html": [
       "<div>\n",
       "<style scoped>\n",
       "    .dataframe tbody tr th:only-of-type {\n",
       "        vertical-align: middle;\n",
       "    }\n",
       "\n",
       "    .dataframe tbody tr th {\n",
       "        vertical-align: top;\n",
       "    }\n",
       "\n",
       "    .dataframe thead th {\n",
       "        text-align: right;\n",
       "    }\n",
       "</style>\n",
       "<table border=\"1\" class=\"dataframe\">\n",
       "  <thead>\n",
       "    <tr style=\"text-align: right;\">\n",
       "      <th></th>\n",
       "      <th>R&amp;D Spend</th>\n",
       "      <th>Administration</th>\n",
       "      <th>Marketing Spend</th>\n",
       "      <th>State</th>\n",
       "      <th>Profit</th>\n",
       "    </tr>\n",
       "  </thead>\n",
       "  <tbody>\n",
       "    <tr>\n",
       "      <th>0</th>\n",
       "      <td>165349.20</td>\n",
       "      <td>136897.80</td>\n",
       "      <td>471784.10</td>\n",
       "      <td>New York</td>\n",
       "      <td>192261.83</td>\n",
       "    </tr>\n",
       "    <tr>\n",
       "      <th>1</th>\n",
       "      <td>162597.70</td>\n",
       "      <td>151377.59</td>\n",
       "      <td>443898.53</td>\n",
       "      <td>California</td>\n",
       "      <td>191792.06</td>\n",
       "    </tr>\n",
       "    <tr>\n",
       "      <th>2</th>\n",
       "      <td>153441.51</td>\n",
       "      <td>101145.55</td>\n",
       "      <td>407934.54</td>\n",
       "      <td>Florida</td>\n",
       "      <td>191050.39</td>\n",
       "    </tr>\n",
       "    <tr>\n",
       "      <th>3</th>\n",
       "      <td>144372.41</td>\n",
       "      <td>118671.85</td>\n",
       "      <td>383199.62</td>\n",
       "      <td>New York</td>\n",
       "      <td>182901.99</td>\n",
       "    </tr>\n",
       "    <tr>\n",
       "      <th>4</th>\n",
       "      <td>142107.34</td>\n",
       "      <td>91391.77</td>\n",
       "      <td>366168.42</td>\n",
       "      <td>Florida</td>\n",
       "      <td>166187.94</td>\n",
       "    </tr>\n",
       "  </tbody>\n",
       "</table>\n",
       "</div>"
      ],
      "text/plain": [
       "   R&D Spend  Administration  Marketing Spend       State     Profit\n",
       "0  165349.20       136897.80        471784.10    New York  192261.83\n",
       "1  162597.70       151377.59        443898.53  California  191792.06\n",
       "2  153441.51       101145.55        407934.54     Florida  191050.39\n",
       "3  144372.41       118671.85        383199.62    New York  182901.99\n",
       "4  142107.34        91391.77        366168.42     Florida  166187.94"
      ]
     },
     "execution_count": 32,
     "metadata": {},
     "output_type": "execute_result"
    }
   ],
   "source": [
    "path = \"C:/Users/pc/Documents/Lasop/Bike sharing demand/\"\n",
    "startup = pd.read_csv(path + \"50_Startups.csv\")\n",
    "startup.head()"
   ]
  },
  {
   "cell_type": "code",
   "execution_count": 3,
   "id": "050e60f2",
   "metadata": {},
   "outputs": [
    {
     "data": {
      "text/html": [
       "<div>\n",
       "<style scoped>\n",
       "    .dataframe tbody tr th:only-of-type {\n",
       "        vertical-align: middle;\n",
       "    }\n",
       "\n",
       "    .dataframe tbody tr th {\n",
       "        vertical-align: top;\n",
       "    }\n",
       "\n",
       "    .dataframe thead th {\n",
       "        text-align: right;\n",
       "    }\n",
       "</style>\n",
       "<table border=\"1\" class=\"dataframe\">\n",
       "  <thead>\n",
       "    <tr style=\"text-align: right;\">\n",
       "      <th></th>\n",
       "      <th>User ID</th>\n",
       "      <th>Gender</th>\n",
       "      <th>Age</th>\n",
       "      <th>EstimatedSalary</th>\n",
       "      <th>Purchased</th>\n",
       "    </tr>\n",
       "  </thead>\n",
       "  <tbody>\n",
       "    <tr>\n",
       "      <th>0</th>\n",
       "      <td>15624510</td>\n",
       "      <td>Male</td>\n",
       "      <td>19</td>\n",
       "      <td>19000</td>\n",
       "      <td>0</td>\n",
       "    </tr>\n",
       "    <tr>\n",
       "      <th>1</th>\n",
       "      <td>15810944</td>\n",
       "      <td>Male</td>\n",
       "      <td>35</td>\n",
       "      <td>20000</td>\n",
       "      <td>0</td>\n",
       "    </tr>\n",
       "    <tr>\n",
       "      <th>2</th>\n",
       "      <td>15668575</td>\n",
       "      <td>Female</td>\n",
       "      <td>26</td>\n",
       "      <td>43000</td>\n",
       "      <td>0</td>\n",
       "    </tr>\n",
       "    <tr>\n",
       "      <th>3</th>\n",
       "      <td>15603246</td>\n",
       "      <td>Female</td>\n",
       "      <td>27</td>\n",
       "      <td>57000</td>\n",
       "      <td>0</td>\n",
       "    </tr>\n",
       "    <tr>\n",
       "      <th>4</th>\n",
       "      <td>15804002</td>\n",
       "      <td>Male</td>\n",
       "      <td>19</td>\n",
       "      <td>76000</td>\n",
       "      <td>0</td>\n",
       "    </tr>\n",
       "  </tbody>\n",
       "</table>\n",
       "</div>"
      ],
      "text/plain": [
       "    User ID  Gender  Age  EstimatedSalary  Purchased\n",
       "0  15624510    Male   19            19000          0\n",
       "1  15810944    Male   35            20000          0\n",
       "2  15668575  Female   26            43000          0\n",
       "3  15603246  Female   27            57000          0\n",
       "4  15804002    Male   19            76000          0"
      ]
     },
     "execution_count": 3,
     "metadata": {},
     "output_type": "execute_result"
    }
   ],
   "source": [
    "social = pd.read_csv(path + \"Social_Network_Ads.csv\")\n",
    "social.head()"
   ]
  },
  {
   "cell_type": "markdown",
   "id": "7eefd498",
   "metadata": {},
   "source": [
    "# Building Classification Model"
   ]
  },
  {
   "cell_type": "markdown",
   "id": "dbc3e299",
   "metadata": {},
   "source": [
    "# model building"
   ]
  },
  {
   "cell_type": "code",
   "execution_count": 5,
   "id": "95adc20f",
   "metadata": {},
   "outputs": [
    {
     "data": {
      "text/html": [
       "<div>\n",
       "<style scoped>\n",
       "    .dataframe tbody tr th:only-of-type {\n",
       "        vertical-align: middle;\n",
       "    }\n",
       "\n",
       "    .dataframe tbody tr th {\n",
       "        vertical-align: top;\n",
       "    }\n",
       "\n",
       "    .dataframe thead th {\n",
       "        text-align: right;\n",
       "    }\n",
       "</style>\n",
       "<table border=\"1\" class=\"dataframe\">\n",
       "  <thead>\n",
       "    <tr style=\"text-align: right;\">\n",
       "      <th></th>\n",
       "      <th>User ID</th>\n",
       "      <th>Gender</th>\n",
       "      <th>Age</th>\n",
       "      <th>EstimatedSalary</th>\n",
       "      <th>Purchased</th>\n",
       "    </tr>\n",
       "  </thead>\n",
       "  <tbody>\n",
       "    <tr>\n",
       "      <th>0</th>\n",
       "      <td>15624510</td>\n",
       "      <td>Male</td>\n",
       "      <td>19</td>\n",
       "      <td>19000</td>\n",
       "      <td>0</td>\n",
       "    </tr>\n",
       "    <tr>\n",
       "      <th>1</th>\n",
       "      <td>15810944</td>\n",
       "      <td>Male</td>\n",
       "      <td>35</td>\n",
       "      <td>20000</td>\n",
       "      <td>0</td>\n",
       "    </tr>\n",
       "    <tr>\n",
       "      <th>2</th>\n",
       "      <td>15668575</td>\n",
       "      <td>Female</td>\n",
       "      <td>26</td>\n",
       "      <td>43000</td>\n",
       "      <td>0</td>\n",
       "    </tr>\n",
       "    <tr>\n",
       "      <th>3</th>\n",
       "      <td>15603246</td>\n",
       "      <td>Female</td>\n",
       "      <td>27</td>\n",
       "      <td>57000</td>\n",
       "      <td>0</td>\n",
       "    </tr>\n",
       "    <tr>\n",
       "      <th>4</th>\n",
       "      <td>15804002</td>\n",
       "      <td>Male</td>\n",
       "      <td>19</td>\n",
       "      <td>76000</td>\n",
       "      <td>0</td>\n",
       "    </tr>\n",
       "  </tbody>\n",
       "</table>\n",
       "</div>"
      ],
      "text/plain": [
       "    User ID  Gender  Age  EstimatedSalary  Purchased\n",
       "0  15624510    Male   19            19000          0\n",
       "1  15810944    Male   35            20000          0\n",
       "2  15668575  Female   26            43000          0\n",
       "3  15603246  Female   27            57000          0\n",
       "4  15804002    Male   19            76000          0"
      ]
     },
     "execution_count": 5,
     "metadata": {},
     "output_type": "execute_result"
    }
   ],
   "source": [
    "social.head()"
   ]
  },
  {
   "cell_type": "code",
   "execution_count": 6,
   "id": "283a436d",
   "metadata": {},
   "outputs": [],
   "source": [
    "# split the data into features/input/independent and target/output/dependent\n",
    "X = social.copy()   # features\n",
    "y = X.pop(\"Purchased\")   # target\n",
    "X.drop(columns=[\"User ID\"], inplace=True)"
   ]
  },
  {
   "cell_type": "code",
   "execution_count": 7,
   "id": "f4c30346",
   "metadata": {},
   "outputs": [],
   "source": [
    "X=social[[\"Gender\", \"Age\", \"EstimatedSalary\"]]\n",
    "y = social[\"Purchased\"]"
   ]
  },
  {
   "cell_type": "markdown",
   "id": "f97dc8ca",
   "metadata": {},
   "source": [
    "# variable transformation"
   ]
  },
  {
   "cell_type": "code",
   "execution_count": 12,
   "id": "1e0ac29f",
   "metadata": {},
   "outputs": [
    {
     "data": {
      "text/html": [
       "<div>\n",
       "<style scoped>\n",
       "    .dataframe tbody tr th:only-of-type {\n",
       "        vertical-align: middle;\n",
       "    }\n",
       "\n",
       "    .dataframe tbody tr th {\n",
       "        vertical-align: top;\n",
       "    }\n",
       "\n",
       "    .dataframe thead th {\n",
       "        text-align: right;\n",
       "    }\n",
       "</style>\n",
       "<table border=\"1\" class=\"dataframe\">\n",
       "  <thead>\n",
       "    <tr style=\"text-align: right;\">\n",
       "      <th></th>\n",
       "      <th>color</th>\n",
       "      <th>grade</th>\n",
       "    </tr>\n",
       "  </thead>\n",
       "  <tbody>\n",
       "    <tr>\n",
       "      <th>0</th>\n",
       "      <td>blue</td>\n",
       "      <td>good</td>\n",
       "    </tr>\n",
       "    <tr>\n",
       "      <th>1</th>\n",
       "      <td>red</td>\n",
       "      <td>best</td>\n",
       "    </tr>\n",
       "    <tr>\n",
       "      <th>2</th>\n",
       "      <td>blue</td>\n",
       "      <td>best</td>\n",
       "    </tr>\n",
       "    <tr>\n",
       "      <th>3</th>\n",
       "      <td>green</td>\n",
       "      <td>better</td>\n",
       "    </tr>\n",
       "    <tr>\n",
       "      <th>4</th>\n",
       "      <td>black</td>\n",
       "      <td>best</td>\n",
       "    </tr>\n",
       "  </tbody>\n",
       "</table>\n",
       "</div>"
      ],
      "text/plain": [
       "   color   grade\n",
       "0   blue    good\n",
       "1    red    best\n",
       "2   blue    best\n",
       "3  green  better\n",
       "4  black    best"
      ]
     },
     "execution_count": 12,
     "metadata": {},
     "output_type": "execute_result"
    }
   ],
   "source": [
    "u = {\"color\": [\"blue\", \"red\", \"blue\", \"green\", \"black\"], \n",
    "    \"grade\":[\"good\", \"best\", \"best\", \"better\", \"best\"]}\n",
    "t=pd.DataFrame(u)\n",
    "t"
   ]
  },
  {
   "cell_type": "code",
   "execution_count": 15,
   "id": "038a8e38",
   "metadata": {},
   "outputs": [
    {
     "data": {
      "text/html": [
       "<div>\n",
       "<style scoped>\n",
       "    .dataframe tbody tr th:only-of-type {\n",
       "        vertical-align: middle;\n",
       "    }\n",
       "\n",
       "    .dataframe tbody tr th {\n",
       "        vertical-align: top;\n",
       "    }\n",
       "\n",
       "    .dataframe thead th {\n",
       "        text-align: right;\n",
       "    }\n",
       "</style>\n",
       "<table border=\"1\" class=\"dataframe\">\n",
       "  <thead>\n",
       "    <tr style=\"text-align: right;\">\n",
       "      <th></th>\n",
       "      <th>grade</th>\n",
       "      <th>color_black</th>\n",
       "      <th>color_blue</th>\n",
       "      <th>color_green</th>\n",
       "      <th>color_red</th>\n",
       "    </tr>\n",
       "  </thead>\n",
       "  <tbody>\n",
       "    <tr>\n",
       "      <th>0</th>\n",
       "      <td>good</td>\n",
       "      <td>0</td>\n",
       "      <td>1</td>\n",
       "      <td>0</td>\n",
       "      <td>0</td>\n",
       "    </tr>\n",
       "    <tr>\n",
       "      <th>1</th>\n",
       "      <td>best</td>\n",
       "      <td>0</td>\n",
       "      <td>0</td>\n",
       "      <td>0</td>\n",
       "      <td>1</td>\n",
       "    </tr>\n",
       "    <tr>\n",
       "      <th>2</th>\n",
       "      <td>best</td>\n",
       "      <td>0</td>\n",
       "      <td>1</td>\n",
       "      <td>0</td>\n",
       "      <td>0</td>\n",
       "    </tr>\n",
       "    <tr>\n",
       "      <th>3</th>\n",
       "      <td>better</td>\n",
       "      <td>0</td>\n",
       "      <td>0</td>\n",
       "      <td>1</td>\n",
       "      <td>0</td>\n",
       "    </tr>\n",
       "    <tr>\n",
       "      <th>4</th>\n",
       "      <td>best</td>\n",
       "      <td>1</td>\n",
       "      <td>0</td>\n",
       "      <td>0</td>\n",
       "      <td>0</td>\n",
       "    </tr>\n",
       "  </tbody>\n",
       "</table>\n",
       "</div>"
      ],
      "text/plain": [
       "    grade  color_black  color_blue  color_green  color_red\n",
       "0    good            0           1            0          0\n",
       "1    best            0           0            0          1\n",
       "2    best            0           1            0          0\n",
       "3  better            0           0            1          0\n",
       "4    best            1           0            0          0"
      ]
     },
     "execution_count": 15,
     "metadata": {},
     "output_type": "execute_result"
    }
   ],
   "source": [
    "pd.get_dummies(t, columns=[\"color\"])"
   ]
  },
  {
   "cell_type": "code",
   "execution_count": 16,
   "id": "f5ff10c0",
   "metadata": {},
   "outputs": [
    {
     "data": {
      "text/plain": [
       "0    0\n",
       "1    2\n",
       "2    2\n",
       "3    1\n",
       "4    2\n",
       "Name: grade, dtype: int64"
      ]
     },
     "execution_count": 16,
     "metadata": {},
     "output_type": "execute_result"
    }
   ],
   "source": [
    "rel = {\"good\":0, \"better\":1, \"best\":2}\n",
    "t[\"grade\"].map(rel)"
   ]
  },
  {
   "cell_type": "code",
   "execution_count": 17,
   "id": "db6e5938",
   "metadata": {},
   "outputs": [
    {
     "name": "stderr",
     "output_type": "stream",
     "text": [
      "C:\\Users\\pc\\AppData\\Local\\Temp\\ipykernel_13208\\1343679505.py:2: SettingWithCopyWarning: \n",
      "A value is trying to be set on a copy of a slice from a DataFrame.\n",
      "Try using .loc[row_indexer,col_indexer] = value instead\n",
      "\n",
      "See the caveats in the documentation: https://pandas.pydata.org/pandas-docs/stable/user_guide/indexing.html#returning-a-view-versus-a-copy\n",
      "  X[\"Gender\"] = X[\"Gender\"].map(rel)\n"
     ]
    }
   ],
   "source": [
    "rel = {\"Male\":0, \"Female\":1}\n",
    "X[\"Gender\"] = X[\"Gender\"].map(rel)"
   ]
  },
  {
   "cell_type": "code",
   "execution_count": null,
   "id": "bcfc14d0",
   "metadata": {},
   "outputs": [],
   "source": []
  },
  {
   "cell_type": "code",
   "execution_count": 25,
   "id": "f7ea84d7",
   "metadata": {},
   "outputs": [],
   "source": [
    "# spliting into train and validation set\n",
    "from sklearn.model_selection import train_test_split\n",
    "x_train, x_val, y_train, y_val = train_test_split(X, y , test_size=0.1, random_state=42)"
   ]
  },
  {
   "cell_type": "code",
   "execution_count": 26,
   "id": "c687fab2",
   "metadata": {},
   "outputs": [],
   "source": [
    "# model buildig\n",
    "from sklearn.tree import DecisionTreeClassifier\n",
    "dt = DecisionTreeClassifier() # creating the instance of the dt\n",
    "model1 = dt.fit(x_train, y_train)   # train the model"
   ]
  },
  {
   "cell_type": "code",
   "execution_count": 27,
   "id": "507ad6b9",
   "metadata": {},
   "outputs": [],
   "source": [
    "# Evaluate the \n",
    "y_pred=model1.predict(x_val)  # predictin from the model"
   ]
  },
  {
   "cell_type": "code",
   "execution_count": 28,
   "id": "8975a908",
   "metadata": {},
   "outputs": [
    {
     "data": {
      "text/plain": [
       "0.85"
      ]
     },
     "execution_count": 28,
     "metadata": {},
     "output_type": "execute_result"
    }
   ],
   "source": [
    "from sklearn.metrics  import accuracy_score\n",
    "accuracy_score(y_val, y_pred)"
   ]
  },
  {
   "cell_type": "markdown",
   "id": "f346c78b",
   "metadata": {},
   "source": [
    "# Different algorithm"
   ]
  },
  {
   "cell_type": "code",
   "execution_count": 29,
   "id": "92e71859",
   "metadata": {},
   "outputs": [],
   "source": [
    "from sklearn.ensemble import RandomForestClassifier\n",
    "sv = RandomForestClassifier()\n",
    "model2 = sv.fit(x_train, y_train)"
   ]
  },
  {
   "cell_type": "code",
   "execution_count": 30,
   "id": "ee8e83c6",
   "metadata": {},
   "outputs": [],
   "source": [
    "y_pred2=model1.predict(x_val)  # predictin from the model"
   ]
  },
  {
   "cell_type": "code",
   "execution_count": 31,
   "id": "a4c4b4e6",
   "metadata": {},
   "outputs": [
    {
     "data": {
      "text/plain": [
       "0.85"
      ]
     },
     "execution_count": 31,
     "metadata": {},
     "output_type": "execute_result"
    }
   ],
   "source": [
    "accuracy_score(y_val, y_pred2)"
   ]
  },
  {
   "cell_type": "markdown",
   "id": "01a73875",
   "metadata": {},
   "source": [
    "# Regression Model"
   ]
  },
  {
   "cell_type": "code",
   "execution_count": 36,
   "id": "50783b73",
   "metadata": {},
   "outputs": [],
   "source": [
    "# split the data into feature and target\n",
    "X = startup.copy()\n",
    "y = X.pop(\"Profit\")"
   ]
  },
  {
   "cell_type": "code",
   "execution_count": 40,
   "id": "0e4672f6",
   "metadata": {},
   "outputs": [],
   "source": [
    "X_2 =pd.get_dummies(X, columns=[\"State\"])"
   ]
  },
  {
   "cell_type": "code",
   "execution_count": 41,
   "id": "a9de396c",
   "metadata": {},
   "outputs": [],
   "source": [
    "# split the data into train and val\n",
    "from sklearn.model_selection import train_test_split\n",
    "\n",
    "x_train, x_val, y_train, y_val = train_test_split(X_2, y, test_size=0.1, random_state=42)"
   ]
  },
  {
   "cell_type": "code",
   "execution_count": 43,
   "id": "0fa64123",
   "metadata": {},
   "outputs": [
    {
     "data": {
      "text/plain": [
       "LinearRegression()"
      ]
     },
     "execution_count": 43,
     "metadata": {},
     "output_type": "execute_result"
    }
   ],
   "source": [
    "# model the regression model\n",
    "from sklearn.linear_model import LinearRegression\n",
    "lr = LinearRegression()\n",
    "model_r_1 = lr.fit(x_train, y_train)\n",
    "model_r_1"
   ]
  },
  {
   "cell_type": "code",
   "execution_count": 48,
   "id": "09b40297",
   "metadata": {},
   "outputs": [],
   "source": [
    "# evaluate the model\n",
    "y_r_pred=model_r_1.predict(x_val)"
   ]
  },
  {
   "cell_type": "code",
   "execution_count": 49,
   "id": "800e9851",
   "metadata": {},
   "outputs": [
    {
     "data": {
      "text/plain": [
       "6777.573873301619"
      ]
     },
     "execution_count": 49,
     "metadata": {},
     "output_type": "execute_result"
    }
   ],
   "source": [
    "from sklearn.metrics import mean_absolute_error\n",
    "mean_absolute_error(y_val, y_r_pred)"
   ]
  },
  {
   "cell_type": "code",
   "execution_count": null,
   "id": "f2acd571",
   "metadata": {},
   "outputs": [],
   "source": []
  },
  {
   "cell_type": "code",
   "execution_count": null,
   "id": "eba29aea",
   "metadata": {},
   "outputs": [],
   "source": []
  },
  {
   "cell_type": "code",
   "execution_count": null,
   "id": "1bd6d8a1",
   "metadata": {},
   "outputs": [],
   "source": []
  },
  {
   "cell_type": "code",
   "execution_count": null,
   "id": "e3bfb2cb",
   "metadata": {},
   "outputs": [],
   "source": []
  },
  {
   "cell_type": "code",
   "execution_count": null,
   "id": "09440be9",
   "metadata": {},
   "outputs": [],
   "source": []
  },
  {
   "cell_type": "code",
   "execution_count": null,
   "id": "b246caa6",
   "metadata": {},
   "outputs": [],
   "source": []
  },
  {
   "cell_type": "code",
   "execution_count": null,
   "id": "a5306ad9",
   "metadata": {},
   "outputs": [],
   "source": []
  },
  {
   "cell_type": "code",
   "execution_count": null,
   "id": "b16d8e64",
   "metadata": {},
   "outputs": [],
   "source": []
  },
  {
   "cell_type": "code",
   "execution_count": null,
   "id": "bfcf2856",
   "metadata": {},
   "outputs": [],
   "source": []
  },
  {
   "cell_type": "code",
   "execution_count": null,
   "id": "fdd8bddc",
   "metadata": {},
   "outputs": [],
   "source": []
  },
  {
   "cell_type": "code",
   "execution_count": null,
   "id": "d3688eb5",
   "metadata": {},
   "outputs": [],
   "source": []
  },
  {
   "cell_type": "code",
   "execution_count": null,
   "id": "086bc61c",
   "metadata": {},
   "outputs": [],
   "source": []
  },
  {
   "cell_type": "code",
   "execution_count": null,
   "id": "c5cf570b",
   "metadata": {},
   "outputs": [],
   "source": []
  },
  {
   "cell_type": "code",
   "execution_count": null,
   "id": "fc7fd8d7",
   "metadata": {},
   "outputs": [],
   "source": []
  },
  {
   "cell_type": "code",
   "execution_count": null,
   "id": "0833cb94",
   "metadata": {},
   "outputs": [],
   "source": []
  },
  {
   "cell_type": "markdown",
   "id": "80c062d5",
   "metadata": {},
   "source": [
    "# Table of Content\n",
    "1. importation of the packages\n",
    "2. Data importation\n",
    "3. Data Accessing\n",
    "4. Data Cleaning"
   ]
  },
  {
   "cell_type": "markdown",
   "id": "50bc1463",
   "metadata": {},
   "source": [
    "# 1. importation of the packages\n"
   ]
  },
  {
   "cell_type": "code",
   "execution_count": 1,
   "id": "f90e54d9",
   "metadata": {},
   "outputs": [],
   "source": [
    "import numpy as np\n",
    "import pandas as pd"
   ]
  },
  {
   "cell_type": "markdown",
   "id": "90695de7",
   "metadata": {},
   "source": [
    "# 2. Data importation"
   ]
  },
  {
   "cell_type": "code",
   "execution_count": 2,
   "id": "b1adbb1c",
   "metadata": {},
   "outputs": [],
   "source": [
    "path = \"C:/Users/pc/Desktop/1/my project/Done/titanic/\"\n",
    "df = pd.read_csv(path + \"train.csv\")\n"
   ]
  },
  {
   "cell_type": "markdown",
   "id": "fdd62aff",
   "metadata": {},
   "source": [
    "# 3. Data Accessing"
   ]
  },
  {
   "cell_type": "code",
   "execution_count": 3,
   "id": "07987e8f",
   "metadata": {},
   "outputs": [
    {
     "data": {
      "text/html": [
       "<div>\n",
       "<style scoped>\n",
       "    .dataframe tbody tr th:only-of-type {\n",
       "        vertical-align: middle;\n",
       "    }\n",
       "\n",
       "    .dataframe tbody tr th {\n",
       "        vertical-align: top;\n",
       "    }\n",
       "\n",
       "    .dataframe thead th {\n",
       "        text-align: right;\n",
       "    }\n",
       "</style>\n",
       "<table border=\"1\" class=\"dataframe\">\n",
       "  <thead>\n",
       "    <tr style=\"text-align: right;\">\n",
       "      <th></th>\n",
       "      <th>PassengerId</th>\n",
       "      <th>Survived</th>\n",
       "      <th>Pclass</th>\n",
       "      <th>Name</th>\n",
       "      <th>Sex</th>\n",
       "      <th>Age</th>\n",
       "      <th>SibSp</th>\n",
       "      <th>Parch</th>\n",
       "      <th>Ticket</th>\n",
       "      <th>Fare</th>\n",
       "      <th>Cabin</th>\n",
       "      <th>Embarked</th>\n",
       "    </tr>\n",
       "  </thead>\n",
       "  <tbody>\n",
       "    <tr>\n",
       "      <th>0</th>\n",
       "      <td>1</td>\n",
       "      <td>0</td>\n",
       "      <td>3</td>\n",
       "      <td>Braund, Mr. Owen Harris</td>\n",
       "      <td>male</td>\n",
       "      <td>22.0</td>\n",
       "      <td>1</td>\n",
       "      <td>0</td>\n",
       "      <td>A/5 21171</td>\n",
       "      <td>7.2500</td>\n",
       "      <td>NaN</td>\n",
       "      <td>S</td>\n",
       "    </tr>\n",
       "    <tr>\n",
       "      <th>1</th>\n",
       "      <td>2</td>\n",
       "      <td>1</td>\n",
       "      <td>1</td>\n",
       "      <td>Cumings, Mrs. John Bradley (Florence Briggs Th...</td>\n",
       "      <td>female</td>\n",
       "      <td>38.0</td>\n",
       "      <td>1</td>\n",
       "      <td>0</td>\n",
       "      <td>PC 17599</td>\n",
       "      <td>71.2833</td>\n",
       "      <td>C85</td>\n",
       "      <td>C</td>\n",
       "    </tr>\n",
       "    <tr>\n",
       "      <th>2</th>\n",
       "      <td>3</td>\n",
       "      <td>1</td>\n",
       "      <td>3</td>\n",
       "      <td>Heikkinen, Miss. Laina</td>\n",
       "      <td>female</td>\n",
       "      <td>26.0</td>\n",
       "      <td>0</td>\n",
       "      <td>0</td>\n",
       "      <td>STON/O2. 3101282</td>\n",
       "      <td>7.9250</td>\n",
       "      <td>NaN</td>\n",
       "      <td>S</td>\n",
       "    </tr>\n",
       "    <tr>\n",
       "      <th>3</th>\n",
       "      <td>4</td>\n",
       "      <td>1</td>\n",
       "      <td>1</td>\n",
       "      <td>Futrelle, Mrs. Jacques Heath (Lily May Peel)</td>\n",
       "      <td>female</td>\n",
       "      <td>35.0</td>\n",
       "      <td>1</td>\n",
       "      <td>0</td>\n",
       "      <td>113803</td>\n",
       "      <td>53.1000</td>\n",
       "      <td>C123</td>\n",
       "      <td>S</td>\n",
       "    </tr>\n",
       "    <tr>\n",
       "      <th>4</th>\n",
       "      <td>5</td>\n",
       "      <td>0</td>\n",
       "      <td>3</td>\n",
       "      <td>Allen, Mr. William Henry</td>\n",
       "      <td>male</td>\n",
       "      <td>35.0</td>\n",
       "      <td>0</td>\n",
       "      <td>0</td>\n",
       "      <td>373450</td>\n",
       "      <td>8.0500</td>\n",
       "      <td>NaN</td>\n",
       "      <td>S</td>\n",
       "    </tr>\n",
       "  </tbody>\n",
       "</table>\n",
       "</div>"
      ],
      "text/plain": [
       "   PassengerId  Survived  Pclass  \\\n",
       "0            1         0       3   \n",
       "1            2         1       1   \n",
       "2            3         1       3   \n",
       "3            4         1       1   \n",
       "4            5         0       3   \n",
       "\n",
       "                                                Name     Sex   Age  SibSp  \\\n",
       "0                            Braund, Mr. Owen Harris    male  22.0      1   \n",
       "1  Cumings, Mrs. John Bradley (Florence Briggs Th...  female  38.0      1   \n",
       "2                             Heikkinen, Miss. Laina  female  26.0      0   \n",
       "3       Futrelle, Mrs. Jacques Heath (Lily May Peel)  female  35.0      1   \n",
       "4                           Allen, Mr. William Henry    male  35.0      0   \n",
       "\n",
       "   Parch            Ticket     Fare Cabin Embarked  \n",
       "0      0         A/5 21171   7.2500   NaN        S  \n",
       "1      0          PC 17599  71.2833   C85        C  \n",
       "2      0  STON/O2. 3101282   7.9250   NaN        S  \n",
       "3      0            113803  53.1000  C123        S  \n",
       "4      0            373450   8.0500   NaN        S  "
      ]
     },
     "execution_count": 3,
     "metadata": {},
     "output_type": "execute_result"
    }
   ],
   "source": [
    "# print the first five rows of the dataframe\n",
    "df.head()"
   ]
  },
  {
   "cell_type": "code",
   "execution_count": 4,
   "id": "25b01e2d",
   "metadata": {},
   "outputs": [
    {
     "data": {
      "text/html": [
       "<div>\n",
       "<style scoped>\n",
       "    .dataframe tbody tr th:only-of-type {\n",
       "        vertical-align: middle;\n",
       "    }\n",
       "\n",
       "    .dataframe tbody tr th {\n",
       "        vertical-align: top;\n",
       "    }\n",
       "\n",
       "    .dataframe thead th {\n",
       "        text-align: right;\n",
       "    }\n",
       "</style>\n",
       "<table border=\"1\" class=\"dataframe\">\n",
       "  <thead>\n",
       "    <tr style=\"text-align: right;\">\n",
       "      <th></th>\n",
       "      <th>PassengerId</th>\n",
       "      <th>Survived</th>\n",
       "      <th>Pclass</th>\n",
       "      <th>Name</th>\n",
       "      <th>Sex</th>\n",
       "      <th>Age</th>\n",
       "      <th>SibSp</th>\n",
       "      <th>Parch</th>\n",
       "      <th>Ticket</th>\n",
       "      <th>Fare</th>\n",
       "      <th>Cabin</th>\n",
       "      <th>Embarked</th>\n",
       "    </tr>\n",
       "  </thead>\n",
       "  <tbody>\n",
       "    <tr>\n",
       "      <th>886</th>\n",
       "      <td>887</td>\n",
       "      <td>0</td>\n",
       "      <td>2</td>\n",
       "      <td>Montvila, Rev. Juozas</td>\n",
       "      <td>male</td>\n",
       "      <td>27.0</td>\n",
       "      <td>0</td>\n",
       "      <td>0</td>\n",
       "      <td>211536</td>\n",
       "      <td>13.00</td>\n",
       "      <td>NaN</td>\n",
       "      <td>S</td>\n",
       "    </tr>\n",
       "    <tr>\n",
       "      <th>887</th>\n",
       "      <td>888</td>\n",
       "      <td>1</td>\n",
       "      <td>1</td>\n",
       "      <td>Graham, Miss. Margaret Edith</td>\n",
       "      <td>female</td>\n",
       "      <td>19.0</td>\n",
       "      <td>0</td>\n",
       "      <td>0</td>\n",
       "      <td>112053</td>\n",
       "      <td>30.00</td>\n",
       "      <td>B42</td>\n",
       "      <td>S</td>\n",
       "    </tr>\n",
       "    <tr>\n",
       "      <th>888</th>\n",
       "      <td>889</td>\n",
       "      <td>0</td>\n",
       "      <td>3</td>\n",
       "      <td>Johnston, Miss. Catherine Helen \"Carrie\"</td>\n",
       "      <td>female</td>\n",
       "      <td>NaN</td>\n",
       "      <td>1</td>\n",
       "      <td>2</td>\n",
       "      <td>W./C. 6607</td>\n",
       "      <td>23.45</td>\n",
       "      <td>NaN</td>\n",
       "      <td>S</td>\n",
       "    </tr>\n",
       "    <tr>\n",
       "      <th>889</th>\n",
       "      <td>890</td>\n",
       "      <td>1</td>\n",
       "      <td>1</td>\n",
       "      <td>Behr, Mr. Karl Howell</td>\n",
       "      <td>male</td>\n",
       "      <td>26.0</td>\n",
       "      <td>0</td>\n",
       "      <td>0</td>\n",
       "      <td>111369</td>\n",
       "      <td>30.00</td>\n",
       "      <td>C148</td>\n",
       "      <td>C</td>\n",
       "    </tr>\n",
       "    <tr>\n",
       "      <th>890</th>\n",
       "      <td>891</td>\n",
       "      <td>0</td>\n",
       "      <td>3</td>\n",
       "      <td>Dooley, Mr. Patrick</td>\n",
       "      <td>male</td>\n",
       "      <td>32.0</td>\n",
       "      <td>0</td>\n",
       "      <td>0</td>\n",
       "      <td>370376</td>\n",
       "      <td>7.75</td>\n",
       "      <td>NaN</td>\n",
       "      <td>Q</td>\n",
       "    </tr>\n",
       "  </tbody>\n",
       "</table>\n",
       "</div>"
      ],
      "text/plain": [
       "     PassengerId  Survived  Pclass                                      Name  \\\n",
       "886          887         0       2                     Montvila, Rev. Juozas   \n",
       "887          888         1       1              Graham, Miss. Margaret Edith   \n",
       "888          889         0       3  Johnston, Miss. Catherine Helen \"Carrie\"   \n",
       "889          890         1       1                     Behr, Mr. Karl Howell   \n",
       "890          891         0       3                       Dooley, Mr. Patrick   \n",
       "\n",
       "        Sex   Age  SibSp  Parch      Ticket   Fare Cabin Embarked  \n",
       "886    male  27.0      0      0      211536  13.00   NaN        S  \n",
       "887  female  19.0      0      0      112053  30.00   B42        S  \n",
       "888  female   NaN      1      2  W./C. 6607  23.45   NaN        S  \n",
       "889    male  26.0      0      0      111369  30.00  C148        C  \n",
       "890    male  32.0      0      0      370376   7.75   NaN        Q  "
      ]
     },
     "execution_count": 4,
     "metadata": {},
     "output_type": "execute_result"
    }
   ],
   "source": [
    "# print the last five rows of the dataframe\n",
    "df.tail()"
   ]
  },
  {
   "cell_type": "code",
   "execution_count": 5,
   "id": "4b53e365",
   "metadata": {},
   "outputs": [
    {
     "name": "stdout",
     "output_type": "stream",
     "text": [
      "<class 'pandas.core.frame.DataFrame'>\n",
      "RangeIndex: 891 entries, 0 to 890\n",
      "Data columns (total 12 columns):\n",
      " #   Column       Non-Null Count  Dtype  \n",
      "---  ------       --------------  -----  \n",
      " 0   PassengerId  891 non-null    int64  \n",
      " 1   Survived     891 non-null    int64  \n",
      " 2   Pclass       891 non-null    int64  \n",
      " 3   Name         891 non-null    object \n",
      " 4   Sex          891 non-null    object \n",
      " 5   Age          714 non-null    float64\n",
      " 6   SibSp        891 non-null    int64  \n",
      " 7   Parch        891 non-null    int64  \n",
      " 8   Ticket       891 non-null    object \n",
      " 9   Fare         891 non-null    float64\n",
      " 10  Cabin        204 non-null    object \n",
      " 11  Embarked     889 non-null    object \n",
      "dtypes: float64(2), int64(5), object(5)\n",
      "memory usage: 83.7+ KB\n"
     ]
    }
   ],
   "source": [
    "# show the summary of the dataframe\n",
    "df.info()"
   ]
  },
  {
   "cell_type": "markdown",
   "id": "febd3728",
   "metadata": {},
   "source": [
    "the dataframe consist of 12 columns and 891 rows. some of the columns having a missing values that will deal in data cleaning stage"
   ]
  },
  {
   "cell_type": "code",
   "execution_count": 6,
   "id": "a2e89e43",
   "metadata": {},
   "outputs": [
    {
     "data": {
      "text/html": [
       "<div>\n",
       "<style scoped>\n",
       "    .dataframe tbody tr th:only-of-type {\n",
       "        vertical-align: middle;\n",
       "    }\n",
       "\n",
       "    .dataframe tbody tr th {\n",
       "        vertical-align: top;\n",
       "    }\n",
       "\n",
       "    .dataframe thead th {\n",
       "        text-align: right;\n",
       "    }\n",
       "</style>\n",
       "<table border=\"1\" class=\"dataframe\">\n",
       "  <thead>\n",
       "    <tr style=\"text-align: right;\">\n",
       "      <th></th>\n",
       "      <th>PassengerId</th>\n",
       "      <th>Survived</th>\n",
       "      <th>Pclass</th>\n",
       "      <th>Name</th>\n",
       "      <th>Sex</th>\n",
       "      <th>Age</th>\n",
       "      <th>SibSp</th>\n",
       "      <th>Parch</th>\n",
       "      <th>Ticket</th>\n",
       "      <th>Fare</th>\n",
       "      <th>Cabin</th>\n",
       "      <th>Embarked</th>\n",
       "    </tr>\n",
       "  </thead>\n",
       "  <tbody>\n",
       "    <tr>\n",
       "      <th>619</th>\n",
       "      <td>620</td>\n",
       "      <td>0</td>\n",
       "      <td>2</td>\n",
       "      <td>Gavey, Mr. Lawrence</td>\n",
       "      <td>male</td>\n",
       "      <td>26.0</td>\n",
       "      <td>0</td>\n",
       "      <td>0</td>\n",
       "      <td>31028</td>\n",
       "      <td>10.5000</td>\n",
       "      <td>NaN</td>\n",
       "      <td>S</td>\n",
       "    </tr>\n",
       "    <tr>\n",
       "      <th>607</th>\n",
       "      <td>608</td>\n",
       "      <td>1</td>\n",
       "      <td>1</td>\n",
       "      <td>Daniel, Mr. Robert Williams</td>\n",
       "      <td>male</td>\n",
       "      <td>27.0</td>\n",
       "      <td>0</td>\n",
       "      <td>0</td>\n",
       "      <td>113804</td>\n",
       "      <td>30.5000</td>\n",
       "      <td>NaN</td>\n",
       "      <td>S</td>\n",
       "    </tr>\n",
       "    <tr>\n",
       "      <th>723</th>\n",
       "      <td>724</td>\n",
       "      <td>0</td>\n",
       "      <td>2</td>\n",
       "      <td>Hodges, Mr. Henry Price</td>\n",
       "      <td>male</td>\n",
       "      <td>50.0</td>\n",
       "      <td>0</td>\n",
       "      <td>0</td>\n",
       "      <td>250643</td>\n",
       "      <td>13.0000</td>\n",
       "      <td>NaN</td>\n",
       "      <td>S</td>\n",
       "    </tr>\n",
       "    <tr>\n",
       "      <th>299</th>\n",
       "      <td>300</td>\n",
       "      <td>1</td>\n",
       "      <td>1</td>\n",
       "      <td>Baxter, Mrs. James (Helene DeLaudeniere Chaput)</td>\n",
       "      <td>female</td>\n",
       "      <td>50.0</td>\n",
       "      <td>0</td>\n",
       "      <td>1</td>\n",
       "      <td>PC 17558</td>\n",
       "      <td>247.5208</td>\n",
       "      <td>B58 B60</td>\n",
       "      <td>C</td>\n",
       "    </tr>\n",
       "    <tr>\n",
       "      <th>264</th>\n",
       "      <td>265</td>\n",
       "      <td>0</td>\n",
       "      <td>3</td>\n",
       "      <td>Henry, Miss. Delia</td>\n",
       "      <td>female</td>\n",
       "      <td>NaN</td>\n",
       "      <td>0</td>\n",
       "      <td>0</td>\n",
       "      <td>382649</td>\n",
       "      <td>7.7500</td>\n",
       "      <td>NaN</td>\n",
       "      <td>Q</td>\n",
       "    </tr>\n",
       "    <tr>\n",
       "      <th>437</th>\n",
       "      <td>438</td>\n",
       "      <td>1</td>\n",
       "      <td>2</td>\n",
       "      <td>Richards, Mrs. Sidney (Emily Hocking)</td>\n",
       "      <td>female</td>\n",
       "      <td>24.0</td>\n",
       "      <td>2</td>\n",
       "      <td>3</td>\n",
       "      <td>29106</td>\n",
       "      <td>18.7500</td>\n",
       "      <td>NaN</td>\n",
       "      <td>S</td>\n",
       "    </tr>\n",
       "    <tr>\n",
       "      <th>497</th>\n",
       "      <td>498</td>\n",
       "      <td>0</td>\n",
       "      <td>3</td>\n",
       "      <td>Shellard, Mr. Frederick William</td>\n",
       "      <td>male</td>\n",
       "      <td>NaN</td>\n",
       "      <td>0</td>\n",
       "      <td>0</td>\n",
       "      <td>C.A. 6212</td>\n",
       "      <td>15.1000</td>\n",
       "      <td>NaN</td>\n",
       "      <td>S</td>\n",
       "    </tr>\n",
       "    <tr>\n",
       "      <th>19</th>\n",
       "      <td>20</td>\n",
       "      <td>1</td>\n",
       "      <td>3</td>\n",
       "      <td>Masselmani, Mrs. Fatima</td>\n",
       "      <td>female</td>\n",
       "      <td>NaN</td>\n",
       "      <td>0</td>\n",
       "      <td>0</td>\n",
       "      <td>2649</td>\n",
       "      <td>7.2250</td>\n",
       "      <td>NaN</td>\n",
       "      <td>C</td>\n",
       "    </tr>\n",
       "    <tr>\n",
       "      <th>258</th>\n",
       "      <td>259</td>\n",
       "      <td>1</td>\n",
       "      <td>1</td>\n",
       "      <td>Ward, Miss. Anna</td>\n",
       "      <td>female</td>\n",
       "      <td>35.0</td>\n",
       "      <td>0</td>\n",
       "      <td>0</td>\n",
       "      <td>PC 17755</td>\n",
       "      <td>512.3292</td>\n",
       "      <td>NaN</td>\n",
       "      <td>C</td>\n",
       "    </tr>\n",
       "    <tr>\n",
       "      <th>71</th>\n",
       "      <td>72</td>\n",
       "      <td>0</td>\n",
       "      <td>3</td>\n",
       "      <td>Goodwin, Miss. Lillian Amy</td>\n",
       "      <td>female</td>\n",
       "      <td>16.0</td>\n",
       "      <td>5</td>\n",
       "      <td>2</td>\n",
       "      <td>CA 2144</td>\n",
       "      <td>46.9000</td>\n",
       "      <td>NaN</td>\n",
       "      <td>S</td>\n",
       "    </tr>\n",
       "  </tbody>\n",
       "</table>\n",
       "</div>"
      ],
      "text/plain": [
       "     PassengerId  Survived  Pclass  \\\n",
       "619          620         0       2   \n",
       "607          608         1       1   \n",
       "723          724         0       2   \n",
       "299          300         1       1   \n",
       "264          265         0       3   \n",
       "437          438         1       2   \n",
       "497          498         0       3   \n",
       "19            20         1       3   \n",
       "258          259         1       1   \n",
       "71            72         0       3   \n",
       "\n",
       "                                                Name     Sex   Age  SibSp  \\\n",
       "619                              Gavey, Mr. Lawrence    male  26.0      0   \n",
       "607                      Daniel, Mr. Robert Williams    male  27.0      0   \n",
       "723                          Hodges, Mr. Henry Price    male  50.0      0   \n",
       "299  Baxter, Mrs. James (Helene DeLaudeniere Chaput)  female  50.0      0   \n",
       "264                               Henry, Miss. Delia  female   NaN      0   \n",
       "437            Richards, Mrs. Sidney (Emily Hocking)  female  24.0      2   \n",
       "497                  Shellard, Mr. Frederick William    male   NaN      0   \n",
       "19                           Masselmani, Mrs. Fatima  female   NaN      0   \n",
       "258                                 Ward, Miss. Anna  female  35.0      0   \n",
       "71                        Goodwin, Miss. Lillian Amy  female  16.0      5   \n",
       "\n",
       "     Parch     Ticket      Fare    Cabin Embarked  \n",
       "619      0      31028   10.5000      NaN        S  \n",
       "607      0     113804   30.5000      NaN        S  \n",
       "723      0     250643   13.0000      NaN        S  \n",
       "299      1   PC 17558  247.5208  B58 B60        C  \n",
       "264      0     382649    7.7500      NaN        Q  \n",
       "437      3      29106   18.7500      NaN        S  \n",
       "497      0  C.A. 6212   15.1000      NaN        S  \n",
       "19       0       2649    7.2250      NaN        C  \n",
       "258      0   PC 17755  512.3292      NaN        C  \n",
       "71       2    CA 2144   46.9000      NaN        S  "
      ]
     },
     "execution_count": 6,
     "metadata": {},
     "output_type": "execute_result"
    }
   ],
   "source": [
    "# randomly sample the dataframe\n",
    "df.sample(10)"
   ]
  },
  {
   "cell_type": "code",
   "execution_count": 7,
   "id": "13e64011",
   "metadata": {},
   "outputs": [
    {
     "data": {
      "text/plain": [
       "(891, 12)"
      ]
     },
     "execution_count": 7,
     "metadata": {},
     "output_type": "execute_result"
    }
   ],
   "source": [
    "# dimension of the dataframe\n",
    "df.shape"
   ]
  },
  {
   "cell_type": "code",
   "execution_count": 8,
   "id": "a93adca2",
   "metadata": {},
   "outputs": [
    {
     "data": {
      "text/plain": [
       "PassengerId      int64\n",
       "Survived         int64\n",
       "Pclass           int64\n",
       "Name            object\n",
       "Sex             object\n",
       "Age            float64\n",
       "SibSp            int64\n",
       "Parch            int64\n",
       "Ticket          object\n",
       "Fare           float64\n",
       "Cabin           object\n",
       "Embarked        object\n",
       "dtype: object"
      ]
     },
     "execution_count": 8,
     "metadata": {},
     "output_type": "execute_result"
    }
   ],
   "source": [
    "# check datatype of the columns\n",
    "df.dtypes"
   ]
  },
  {
   "cell_type": "code",
   "execution_count": 9,
   "id": "beea3cec",
   "metadata": {},
   "outputs": [
    {
     "data": {
      "text/plain": [
       "Index(['PassengerId', 'Survived', 'Pclass', 'Name', 'Sex', 'Age', 'SibSp',\n",
       "       'Parch', 'Ticket', 'Fare', 'Cabin', 'Embarked'],\n",
       "      dtype='object')"
      ]
     },
     "execution_count": 9,
     "metadata": {},
     "output_type": "execute_result"
    }
   ],
   "source": [
    "df.columns"
   ]
  },
  {
   "cell_type": "code",
   "execution_count": 10,
   "id": "d4a3f0f2",
   "metadata": {},
   "outputs": [
    {
     "data": {
      "text/plain": [
       "PassengerId      0\n",
       "Survived         0\n",
       "Pclass           0\n",
       "Name             0\n",
       "Sex              0\n",
       "Age            177\n",
       "SibSp            0\n",
       "Parch            0\n",
       "Ticket           0\n",
       "Fare             0\n",
       "Cabin          687\n",
       "Embarked         2\n",
       "dtype: int64"
      ]
     },
     "execution_count": 10,
     "metadata": {},
     "output_type": "execute_result"
    }
   ],
   "source": [
    "# check for missing values\n",
    "df.isna().sum()"
   ]
  },
  {
   "cell_type": "code",
   "execution_count": 11,
   "id": "89de427e",
   "metadata": {},
   "outputs": [
    {
     "data": {
      "text/plain": [
       "0"
      ]
     },
     "execution_count": 11,
     "metadata": {},
     "output_type": "execute_result"
    }
   ],
   "source": [
    "# check for duplicates entries\n",
    "df.duplicated().sum()"
   ]
  },
  {
   "cell_type": "markdown",
   "id": "1d98ec4b",
   "metadata": {},
   "source": [
    "# Data Cleaning"
   ]
  },
  {
   "cell_type": "code",
   "execution_count": 12,
   "id": "9151cbeb",
   "metadata": {},
   "outputs": [],
   "source": [
    "# we are using mean to fill the missing value because the age column is numerical\n",
    "age_mean=round(df.Age.mean(), 0)\n",
    "df[\"Age\"].fillna(age_mean, inplace=True)"
   ]
  },
  {
   "cell_type": "code",
   "execution_count": 13,
   "id": "c962dbfe",
   "metadata": {},
   "outputs": [],
   "source": [
    "# fill the missing in cabin column with mode because it is a character variable\n",
    "cabin_mode=df.Cabin.mode()[0]\n",
    "df.Cabin.fillna(cabin_mode, inplace=True)"
   ]
  },
  {
   "cell_type": "code",
   "execution_count": 14,
   "id": "e2d7bf5f",
   "metadata": {},
   "outputs": [],
   "source": [
    "Embarked_mode=df.Embarked.mode()[0]\n",
    "df.Embarked.fillna(Embarked_mode, inplace=True)"
   ]
  },
  {
   "cell_type": "code",
   "execution_count": 15,
   "id": "a99c53d1",
   "metadata": {},
   "outputs": [
    {
     "data": {
      "text/plain": [
       "0                                Braund, Mr. Owen Harris\n",
       "1      Cumings, Mrs. John Bradley (Florence Briggs Th...\n",
       "2                                 Heikkinen, Miss. Laina\n",
       "3           Futrelle, Mrs. Jacques Heath (Lily May Peel)\n",
       "4                               Allen, Mr. William Henry\n",
       "                             ...                        \n",
       "886                                Montvila, Rev. Juozas\n",
       "887                         Graham, Miss. Margaret Edith\n",
       "888             Johnston, Miss. Catherine Helen \"Carrie\"\n",
       "889                                Behr, Mr. Karl Howell\n",
       "890                                  Dooley, Mr. Patrick\n",
       "Name: Name, Length: 891, dtype: object"
      ]
     },
     "execution_count": 15,
     "metadata": {},
     "output_type": "execute_result"
    }
   ],
   "source": [
    "df[\"Name\"]"
   ]
  },
  {
   "cell_type": "code",
   "execution_count": 16,
   "id": "45ccfc74",
   "metadata": {},
   "outputs": [],
   "source": [
    "y = lambda x: x.split()[1].strip('.').strip(\",\")"
   ]
  },
  {
   "cell_type": "code",
   "execution_count": 17,
   "id": "48383c6c",
   "metadata": {},
   "outputs": [
    {
     "data": {
      "text/plain": [
       "0        Mr\n",
       "1       Mrs\n",
       "2      Miss\n",
       "3       Mrs\n",
       "4        Mr\n",
       "       ... \n",
       "886     Rev\n",
       "887    Miss\n",
       "888    Miss\n",
       "889      Mr\n",
       "890      Mr\n",
       "Name: Name, Length: 891, dtype: object"
      ]
     },
     "execution_count": 17,
     "metadata": {},
     "output_type": "execute_result"
    }
   ],
   "source": [
    "df[\"Name\"].apply(y)"
   ]
  },
  {
   "cell_type": "code",
   "execution_count": 18,
   "id": "d386b639",
   "metadata": {},
   "outputs": [],
   "source": [
    "df[\"Title\"] = df[\"Name\"].apply(y)"
   ]
  },
  {
   "cell_type": "code",
   "execution_count": 58,
   "id": "afee5ea6",
   "metadata": {},
   "outputs": [],
   "source": [
    "all_title=[\"Mr\", \"Miss\", \"Mrs\", \"Master\", \"Dr\", \"Rev\" ]\n",
    "for i in df.Title:\n",
    "    if i not in all_title:\n",
    "        df.Title.replace(i, \"others\", inplace=True)"
   ]
  },
  {
   "cell_type": "code",
   "execution_count": 59,
   "id": "03b8709d",
   "metadata": {},
   "outputs": [
    {
     "data": {
      "text/html": [
       "<div>\n",
       "<style scoped>\n",
       "    .dataframe tbody tr th:only-of-type {\n",
       "        vertical-align: middle;\n",
       "    }\n",
       "\n",
       "    .dataframe tbody tr th {\n",
       "        vertical-align: top;\n",
       "    }\n",
       "\n",
       "    .dataframe thead th {\n",
       "        text-align: right;\n",
       "    }\n",
       "</style>\n",
       "<table border=\"1\" class=\"dataframe\">\n",
       "  <thead>\n",
       "    <tr style=\"text-align: right;\">\n",
       "      <th></th>\n",
       "      <th>PassengerId</th>\n",
       "      <th>Survived</th>\n",
       "      <th>Pclass</th>\n",
       "      <th>Name</th>\n",
       "      <th>Sex</th>\n",
       "      <th>Age</th>\n",
       "      <th>SibSp</th>\n",
       "      <th>Parch</th>\n",
       "      <th>Ticket</th>\n",
       "      <th>Fare</th>\n",
       "      <th>Cabin</th>\n",
       "      <th>Embarked</th>\n",
       "      <th>Title</th>\n",
       "    </tr>\n",
       "  </thead>\n",
       "  <tbody>\n",
       "    <tr>\n",
       "      <th>0</th>\n",
       "      <td>1</td>\n",
       "      <td>0</td>\n",
       "      <td>3</td>\n",
       "      <td>Braund, Mr. Owen Harris</td>\n",
       "      <td>male</td>\n",
       "      <td>22.0</td>\n",
       "      <td>1</td>\n",
       "      <td>0</td>\n",
       "      <td>A/5 21171</td>\n",
       "      <td>7.2500</td>\n",
       "      <td>B96 B98</td>\n",
       "      <td>S</td>\n",
       "      <td>Mr</td>\n",
       "    </tr>\n",
       "    <tr>\n",
       "      <th>1</th>\n",
       "      <td>2</td>\n",
       "      <td>1</td>\n",
       "      <td>1</td>\n",
       "      <td>Cumings, Mrs. John Bradley (Florence Briggs Th...</td>\n",
       "      <td>female</td>\n",
       "      <td>38.0</td>\n",
       "      <td>1</td>\n",
       "      <td>0</td>\n",
       "      <td>PC 17599</td>\n",
       "      <td>71.2833</td>\n",
       "      <td>C85</td>\n",
       "      <td>C</td>\n",
       "      <td>Mrs</td>\n",
       "    </tr>\n",
       "    <tr>\n",
       "      <th>2</th>\n",
       "      <td>3</td>\n",
       "      <td>1</td>\n",
       "      <td>3</td>\n",
       "      <td>Heikkinen, Miss. Laina</td>\n",
       "      <td>female</td>\n",
       "      <td>26.0</td>\n",
       "      <td>0</td>\n",
       "      <td>0</td>\n",
       "      <td>STON/O2. 3101282</td>\n",
       "      <td>7.9250</td>\n",
       "      <td>B96 B98</td>\n",
       "      <td>S</td>\n",
       "      <td>Miss</td>\n",
       "    </tr>\n",
       "    <tr>\n",
       "      <th>3</th>\n",
       "      <td>4</td>\n",
       "      <td>1</td>\n",
       "      <td>1</td>\n",
       "      <td>Futrelle, Mrs. Jacques Heath (Lily May Peel)</td>\n",
       "      <td>female</td>\n",
       "      <td>35.0</td>\n",
       "      <td>1</td>\n",
       "      <td>0</td>\n",
       "      <td>113803</td>\n",
       "      <td>53.1000</td>\n",
       "      <td>C123</td>\n",
       "      <td>S</td>\n",
       "      <td>Mrs</td>\n",
       "    </tr>\n",
       "    <tr>\n",
       "      <th>4</th>\n",
       "      <td>5</td>\n",
       "      <td>0</td>\n",
       "      <td>3</td>\n",
       "      <td>Allen, Mr. William Henry</td>\n",
       "      <td>male</td>\n",
       "      <td>35.0</td>\n",
       "      <td>0</td>\n",
       "      <td>0</td>\n",
       "      <td>373450</td>\n",
       "      <td>8.0500</td>\n",
       "      <td>B96 B98</td>\n",
       "      <td>S</td>\n",
       "      <td>Mr</td>\n",
       "    </tr>\n",
       "  </tbody>\n",
       "</table>\n",
       "</div>"
      ],
      "text/plain": [
       "   PassengerId  Survived  Pclass  \\\n",
       "0            1         0       3   \n",
       "1            2         1       1   \n",
       "2            3         1       3   \n",
       "3            4         1       1   \n",
       "4            5         0       3   \n",
       "\n",
       "                                                Name     Sex   Age  SibSp  \\\n",
       "0                            Braund, Mr. Owen Harris    male  22.0      1   \n",
       "1  Cumings, Mrs. John Bradley (Florence Briggs Th...  female  38.0      1   \n",
       "2                             Heikkinen, Miss. Laina  female  26.0      0   \n",
       "3       Futrelle, Mrs. Jacques Heath (Lily May Peel)  female  35.0      1   \n",
       "4                           Allen, Mr. William Henry    male  35.0      0   \n",
       "\n",
       "   Parch            Ticket     Fare    Cabin Embarked Title  \n",
       "0      0         A/5 21171   7.2500  B96 B98        S    Mr  \n",
       "1      0          PC 17599  71.2833      C85        C   Mrs  \n",
       "2      0  STON/O2. 3101282   7.9250  B96 B98        S  Miss  \n",
       "3      0            113803  53.1000     C123        S   Mrs  \n",
       "4      0            373450   8.0500  B96 B98        S    Mr  "
      ]
     },
     "execution_count": 59,
     "metadata": {},
     "output_type": "execute_result"
    }
   ],
   "source": [
    "df.head()"
   ]
  },
  {
   "cell_type": "markdown",
   "id": "4b5c8106",
   "metadata": {},
   "source": [
    "# Data Exploration"
   ]
  },
  {
   "cell_type": "markdown",
   "id": "b07c4ea3",
   "metadata": {},
   "source": [
    "# Uni-variate analysis for categorical variable\n"
   ]
  },
  {
   "cell_type": "code",
   "execution_count": 64,
   "id": "fa70671f",
   "metadata": {},
   "outputs": [],
   "source": [
    "import seaborn as sns\n",
    "import matplotlib.pyplot as plt"
   ]
  },
  {
   "cell_type": "code",
   "execution_count": 69,
   "id": "bb4b5d00",
   "metadata": {},
   "outputs": [
    {
     "data": {
      "text/plain": [
       "Dead     549\n",
       "Alive    342\n",
       "Name: Survived, dtype: int64"
      ]
     },
     "execution_count": 69,
     "metadata": {},
     "output_type": "execute_result"
    }
   ],
   "source": [
    "# analysis survived column\n",
    "survived_anal=df[\"Survived\"].value_counts()\n",
    "survived_anal.index = [\"Dead\", \"Alive\"]\n",
    "survived_anal"
   ]
  },
  {
   "cell_type": "code",
   "execution_count": 102,
   "id": "4afc8a65",
   "metadata": {},
   "outputs": [
    {
     "data": {
      "image/png": "[encoded data removed]",
      "text/plain": [
       "<Figure size 800x500 with 1 Axes>"
      ]
     },
     "metadata": {},
     "output_type": "display_data"
    }
   ],
   "source": [
    "# pandasplot for unvariate analysis\n",
    "fig, ola = plt.subplots(figsize=(8, 5), facecolor=\"grey\")\n",
    "ola.set_facecolor(\"pink\")\n",
    "survived_anal.plot(kind=\"bar\", ax=ola, color=\"purple\")   # pandasplot\n",
    "plt.title(\"Count of Survived and non-survived\", color=\"red\")\n",
    "plt.ylabel(\"Count\", color=\"green\", rotation=40)\n",
    "plt.xlabel(\"Survived\", color=\"yellow\")\n",
    "plt.xticks(rotation=30, color=\"pink\")\n",
    "plt.yticks(rotation=30, color=\"pink\")\n",
    "plt.show()"
   ]
  },
  {
   "cell_type": "code",
   "execution_count": null,
   "id": "089978bf",
   "metadata": {},
   "outputs": [],
   "source": [
    "# seaborn\n",
    "# matplot\n",
    "# pandasplot"
   ]
  },
  {
   "cell_type": "code",
   "execution_count": 104,
   "id": "bd2a6f9f",
   "metadata": {},
   "outputs": [
    {
     "data": {
      "text/plain": [
       "Dead     549\n",
       "Alive    342\n",
       "Name: Survived, dtype: int64"
      ]
     },
     "execution_count": 104,
     "metadata": {},
     "output_type": "execute_result"
    }
   ],
   "source": [
    "survived_anal"
   ]
  },
  {
   "cell_type": "code",
   "execution_count": null,
   "id": "58494d36",
   "metadata": {},
   "outputs": [],
   "source": []
  },
  {
   "cell_type": "code",
   "execution_count": null,
   "id": "904dde8a",
   "metadata": {},
   "outputs": [],
   "source": []
  },
  {
   "cell_type": "code",
   "execution_count": 122,
   "id": "27016e0e",
   "metadata": {},
   "outputs": [
    {
     "data": {
      "image/png": "[encoded data removed]",
      "text/plain": [
       "<Figure size 640x480 with 1 Axes>"
      ]
     },
     "metadata": {},
     "output_type": "display_data"
    }
   ],
   "source": [
    "# uisng matplot\n",
    "plt.bar(x=survived_anal.index, height=survived_anal.values)\n",
    "plt.show()"
   ]
  },
  {
   "cell_type": "code",
   "execution_count": 124,
   "id": "326391ae",
   "metadata": {},
   "outputs": [
    {
     "data": {
      "image/png": "[encoded data removed]",
      "text/plain": [
       "<Figure size 640x480 with 1 Axes>"
      ]
     },
     "metadata": {},
     "output_type": "display_data"
    }
   ],
   "source": [
    "sns.barplot(x=survived_anal.index, y=survived_anal.values)\n",
    "plt.show()"
   ]
  },
  {
   "cell_type": "code",
   "execution_count": 128,
   "id": "b8db006b",
   "metadata": {},
   "outputs": [],
   "source": [
    "# convert the age from float to int\n",
    "df[\"Age\"]= df[\"Age\"].astype(int)"
   ]
  },
  {
   "cell_type": "code",
   "execution_count": 132,
   "id": "286d6541",
   "metadata": {},
   "outputs": [
    {
     "data": {
      "image/png": "[encoded data removed]",
      "text/plain": [
       "<Figure size 640x480 with 1 Axes>"
      ]
     },
     "metadata": {},
     "output_type": "display_data"
    }
   ],
   "source": [
    "df[\"Age\"].plot(kind=\"hist\")\n",
    "plt.show()"
   ]
  },
  {
   "cell_type": "code",
   "execution_count": 135,
   "id": "3ce6cc1f",
   "metadata": {},
   "outputs": [
    {
     "data": {
      "image/png": "[encoded data removed]",
      "text/plain": [
       "<Figure size 640x480 with 1 Axes>"
      ]
     },
     "metadata": {},
     "output_type": "display_data"
    }
   ],
   "source": [
    "# for numerical variable what we need to know is distribution of the data\n",
    "df[\"Age\"].plot(kind=\"kde\")\n",
    "plt.show()\n"
   ]
  },
  {
   "cell_type": "code",
   "execution_count": 131,
   "id": "d758131e",
   "metadata": {},
   "outputs": [
    {
     "data": {
      "image/png": "[encoded data removed]",
      "text/plain": [
       "<Figure size 640x480 with 1 Axes>"
      ]
     },
     "metadata": {},
     "output_type": "display_data"
    }
   ],
   "source": [
    "df[\"Age\"].plot(kind=\"box\")\n",
    "plt.show()"
   ]
  },
  {
   "cell_type": "markdown",
   "id": "cf1ca282",
   "metadata": {},
   "source": [
    "# Bivariate analysis"
   ]
  },
  {
   "cell_type": "code",
   "execution_count": null,
   "id": "889dd8dc",
   "metadata": {},
   "outputs": [],
   "source": []
  },
  {
   "cell_type": "code",
   "execution_count": 143,
   "id": "ecdc72f6",
   "metadata": {},
   "outputs": [
    {
     "data": {
      "image/png": "[encoded data removed]",
      "text/plain": [
       "<Figure size 640x480 with 1 Axes>"
      ]
     },
     "metadata": {},
     "output_type": "display_data"
    }
   ],
   "source": [
    "# cat vs cat\n",
    "tosin=pd.crosstab(index=df[\"Survived\"], columns=df[\"Sex\"], values=df[\"Sex\"], aggfunc=\"count\")\n",
    "tosin.index = [\"Dead\", \"Alive\"]\n",
    "tosin.plot(kind=\"bar\", stacked=True)\n",
    "plt.show()"
   ]
  },
  {
   "cell_type": "code",
   "execution_count": 146,
   "id": "075f8a53",
   "metadata": {},
   "outputs": [
    {
     "data": {
      "image/png": "[encoded data removed]",
      "text/plain": [
       "<Figure size 640x480 with 1 Axes>"
      ]
     },
     "metadata": {},
     "output_type": "display_data"
    }
   ],
   "source": [
    "tosin=pd.crosstab(index=df[\"Survived\"], columns=df[\"SibSp\"], values=df[\"SibSp\"], aggfunc=\"count\")\n",
    "tosin.index = [\"Dead\", \"Alive\"]\n",
    "tosin.plot(kind=\"bar\", stacked=False)\n",
    "plt.show()"
   ]
  },
  {
   "cell_type": "code",
   "execution_count": null,
   "id": "94518a70",
   "metadata": {},
   "outputs": [],
   "source": []
  },
  {
   "cell_type": "code",
   "execution_count": 158,
   "id": "7151fa75",
   "metadata": {},
   "outputs": [
    {
     "data": {
      "image/png": "[encoded data removed]",
      "text/plain": [
       "<Figure size 1200x300 with 1 Axes>"
      ]
     },
     "metadata": {},
     "output_type": "display_data"
    }
   ],
   "source": [
    "# cat vs num\n",
    "ola = sns.FacetGrid(data=df, hue=\"Survived\", aspect=4)\n",
    "ola.map(sns.kdeplot, \"Age\", shade=True)\n",
    "plt.legend()\n",
    "plt.xlim(0, 100)\n",
    "plt.show()"
   ]
  },
  {
   "cell_type": "code",
   "execution_count": 160,
   "id": "2c38cacf",
   "metadata": {},
   "outputs": [
    {
     "data": {
      "image/png": "[encoded data removed]",
      "text/plain": [
       "<Figure size 640x480 with 1 Axes>"
      ]
     },
     "metadata": {},
     "output_type": "display_data"
    }
   ],
   "source": [
    "# num vs num\n",
    "sns.scatterplot(x=df[\"Age\"], y=df[\"Fare\"])\n",
    "plt.show() "
   ]
  },
  {
   "cell_type": "code",
   "execution_count": 162,
   "id": "ff0eda19",
   "metadata": {},
   "outputs": [
    {
     "data": {
      "image/png": "[encoded data removed]",
      "text/plain": [
       "<Figure size 640x480 with 1 Axes>"
      ]
     },
     "metadata": {},
     "output_type": "display_data"
    }
   ],
   "source": [
    "mary = [1,2,3,4,5,6,7,8]\n",
    "esther = [50,100, 150, 200, 250, 300, 350, 400]\n",
    "sns.scatterplot(x=mary, y=esther)\n",
    "plt.show()"
   ]
  },
  {
   "cell_type": "code",
   "execution_count": 163,
   "id": "b9cca6c6",
   "metadata": {},
   "outputs": [
    {
     "data": {
      "image/png": "[encoded data removed]",
      "text/plain": [
       "<Figure size 640x480 with 1 Axes>"
      ]
     },
     "metadata": {},
     "output_type": "display_data"
    }
   ],
   "source": [
    "mary = [1,2,3,4,5,6,7,8]\n",
    "esther = [-50,-100, -150, -200, -250,- 300, -350, -400]\n",
    "sns.scatterplot(x=mary, y=esther)\n",
    "plt.show()"
   ]
  },
  {
   "cell_type": "code",
   "execution_count": 136,
   "id": "e6fb9312",
   "metadata": {},
   "outputs": [
    {
     "data": {
      "text/html": [
       "<div>\n",
       "<style scoped>\n",
       "    .dataframe tbody tr th:only-of-type {\n",
       "        vertical-align: middle;\n",
       "    }\n",
       "\n",
       "    .dataframe tbody tr th {\n",
       "        vertical-align: top;\n",
       "    }\n",
       "\n",
       "    .dataframe thead th {\n",
       "        text-align: right;\n",
       "    }\n",
       "</style>\n",
       "<table border=\"1\" class=\"dataframe\">\n",
       "  <thead>\n",
       "    <tr style=\"text-align: right;\">\n",
       "      <th></th>\n",
       "      <th>PassengerId</th>\n",
       "      <th>Survived</th>\n",
       "      <th>Pclass</th>\n",
       "      <th>Name</th>\n",
       "      <th>Sex</th>\n",
       "      <th>Age</th>\n",
       "      <th>SibSp</th>\n",
       "      <th>Parch</th>\n",
       "      <th>Ticket</th>\n",
       "      <th>Fare</th>\n",
       "      <th>Cabin</th>\n",
       "      <th>Embarked</th>\n",
       "      <th>Title</th>\n",
       "    </tr>\n",
       "  </thead>\n",
       "  <tbody>\n",
       "    <tr>\n",
       "      <th>0</th>\n",
       "      <td>1</td>\n",
       "      <td>0</td>\n",
       "      <td>3</td>\n",
       "      <td>Braund, Mr. Owen Harris</td>\n",
       "      <td>male</td>\n",
       "      <td>22</td>\n",
       "      <td>1</td>\n",
       "      <td>0</td>\n",
       "      <td>A/5 21171</td>\n",
       "      <td>7.2500</td>\n",
       "      <td>B96 B98</td>\n",
       "      <td>S</td>\n",
       "      <td>Mr</td>\n",
       "    </tr>\n",
       "    <tr>\n",
       "      <th>1</th>\n",
       "      <td>2</td>\n",
       "      <td>1</td>\n",
       "      <td>1</td>\n",
       "      <td>Cumings, Mrs. John Bradley (Florence Briggs Th...</td>\n",
       "      <td>female</td>\n",
       "      <td>38</td>\n",
       "      <td>1</td>\n",
       "      <td>0</td>\n",
       "      <td>PC 17599</td>\n",
       "      <td>71.2833</td>\n",
       "      <td>C85</td>\n",
       "      <td>C</td>\n",
       "      <td>Mrs</td>\n",
       "    </tr>\n",
       "    <tr>\n",
       "      <th>2</th>\n",
       "      <td>3</td>\n",
       "      <td>1</td>\n",
       "      <td>3</td>\n",
       "      <td>Heikkinen, Miss. Laina</td>\n",
       "      <td>female</td>\n",
       "      <td>26</td>\n",
       "      <td>0</td>\n",
       "      <td>0</td>\n",
       "      <td>STON/O2. 3101282</td>\n",
       "      <td>7.9250</td>\n",
       "      <td>B96 B98</td>\n",
       "      <td>S</td>\n",
       "      <td>Miss</td>\n",
       "    </tr>\n",
       "    <tr>\n",
       "      <th>3</th>\n",
       "      <td>4</td>\n",
       "      <td>1</td>\n",
       "      <td>1</td>\n",
       "      <td>Futrelle, Mrs. Jacques Heath (Lily May Peel)</td>\n",
       "      <td>female</td>\n",
       "      <td>35</td>\n",
       "      <td>1</td>\n",
       "      <td>0</td>\n",
       "      <td>113803</td>\n",
       "      <td>53.1000</td>\n",
       "      <td>C123</td>\n",
       "      <td>S</td>\n",
       "      <td>Mrs</td>\n",
       "    </tr>\n",
       "    <tr>\n",
       "      <th>4</th>\n",
       "      <td>5</td>\n",
       "      <td>0</td>\n",
       "      <td>3</td>\n",
       "      <td>Allen, Mr. William Henry</td>\n",
       "      <td>male</td>\n",
       "      <td>35</td>\n",
       "      <td>0</td>\n",
       "      <td>0</td>\n",
       "      <td>373450</td>\n",
       "      <td>8.0500</td>\n",
       "      <td>B96 B98</td>\n",
       "      <td>S</td>\n",
       "      <td>Mr</td>\n",
       "    </tr>\n",
       "    <tr>\n",
       "      <th>...</th>\n",
       "      <td>...</td>\n",
       "      <td>...</td>\n",
       "      <td>...</td>\n",
       "      <td>...</td>\n",
       "      <td>...</td>\n",
       "      <td>...</td>\n",
       "      <td>...</td>\n",
       "      <td>...</td>\n",
       "      <td>...</td>\n",
       "      <td>...</td>\n",
       "      <td>...</td>\n",
       "      <td>...</td>\n",
       "      <td>...</td>\n",
       "    </tr>\n",
       "    <tr>\n",
       "      <th>886</th>\n",
       "      <td>887</td>\n",
       "      <td>0</td>\n",
       "      <td>2</td>\n",
       "      <td>Montvila, Rev. Juozas</td>\n",
       "      <td>male</td>\n",
       "      <td>27</td>\n",
       "      <td>0</td>\n",
       "      <td>0</td>\n",
       "      <td>211536</td>\n",
       "      <td>13.0000</td>\n",
       "      <td>B96 B98</td>\n",
       "      <td>S</td>\n",
       "      <td>Rev</td>\n",
       "    </tr>\n",
       "    <tr>\n",
       "      <th>887</th>\n",
       "      <td>888</td>\n",
       "      <td>1</td>\n",
       "      <td>1</td>\n",
       "      <td>Graham, Miss. Margaret Edith</td>\n",
       "      <td>female</td>\n",
       "      <td>19</td>\n",
       "      <td>0</td>\n",
       "      <td>0</td>\n",
       "      <td>112053</td>\n",
       "      <td>30.0000</td>\n",
       "      <td>B42</td>\n",
       "      <td>S</td>\n",
       "      <td>Miss</td>\n",
       "    </tr>\n",
       "    <tr>\n",
       "      <th>888</th>\n",
       "      <td>889</td>\n",
       "      <td>0</td>\n",
       "      <td>3</td>\n",
       "      <td>Johnston, Miss. Catherine Helen \"Carrie\"</td>\n",
       "      <td>female</td>\n",
       "      <td>30</td>\n",
       "      <td>1</td>\n",
       "      <td>2</td>\n",
       "      <td>W./C. 6607</td>\n",
       "      <td>23.4500</td>\n",
       "      <td>B96 B98</td>\n",
       "      <td>S</td>\n",
       "      <td>Miss</td>\n",
       "    </tr>\n",
       "    <tr>\n",
       "      <th>889</th>\n",
       "      <td>890</td>\n",
       "      <td>1</td>\n",
       "      <td>1</td>\n",
       "      <td>Behr, Mr. Karl Howell</td>\n",
       "      <td>male</td>\n",
       "      <td>26</td>\n",
       "      <td>0</td>\n",
       "      <td>0</td>\n",
       "      <td>111369</td>\n",
       "      <td>30.0000</td>\n",
       "      <td>C148</td>\n",
       "      <td>C</td>\n",
       "      <td>Mr</td>\n",
       "    </tr>\n",
       "    <tr>\n",
       "      <th>890</th>\n",
       "      <td>891</td>\n",
       "      <td>0</td>\n",
       "      <td>3</td>\n",
       "      <td>Dooley, Mr. Patrick</td>\n",
       "      <td>male</td>\n",
       "      <td>32</td>\n",
       "      <td>0</td>\n",
       "      <td>0</td>\n",
       "      <td>370376</td>\n",
       "      <td>7.7500</td>\n",
       "      <td>B96 B98</td>\n",
       "      <td>Q</td>\n",
       "      <td>Mr</td>\n",
       "    </tr>\n",
       "  </tbody>\n",
       "</table>\n",
       "<p>891 rows × 13 columns</p>\n",
       "</div>"
      ],
      "text/plain": [
       "     PassengerId  Survived  Pclass  \\\n",
       "0              1         0       3   \n",
       "1              2         1       1   \n",
       "2              3         1       3   \n",
       "3              4         1       1   \n",
       "4              5         0       3   \n",
       "..           ...       ...     ...   \n",
       "886          887         0       2   \n",
       "887          888         1       1   \n",
       "888          889         0       3   \n",
       "889          890         1       1   \n",
       "890          891         0       3   \n",
       "\n",
       "                                                  Name     Sex  Age  SibSp  \\\n",
       "0                              Braund, Mr. Owen Harris    male   22      1   \n",
       "1    Cumings, Mrs. John Bradley (Florence Briggs Th...  female   38      1   \n",
       "2                               Heikkinen, Miss. Laina  female   26      0   \n",
       "3         Futrelle, Mrs. Jacques Heath (Lily May Peel)  female   35      1   \n",
       "4                             Allen, Mr. William Henry    male   35      0   \n",
       "..                                                 ...     ...  ...    ...   \n",
       "886                              Montvila, Rev. Juozas    male   27      0   \n",
       "887                       Graham, Miss. Margaret Edith  female   19      0   \n",
       "888           Johnston, Miss. Catherine Helen \"Carrie\"  female   30      1   \n",
       "889                              Behr, Mr. Karl Howell    male   26      0   \n",
       "890                                Dooley, Mr. Patrick    male   32      0   \n",
       "\n",
       "     Parch            Ticket     Fare    Cabin Embarked Title  \n",
       "0        0         A/5 21171   7.2500  B96 B98        S    Mr  \n",
       "1        0          PC 17599  71.2833      C85        C   Mrs  \n",
       "2        0  STON/O2. 3101282   7.9250  B96 B98        S  Miss  \n",
       "3        0            113803  53.1000     C123        S   Mrs  \n",
       "4        0            373450   8.0500  B96 B98        S    Mr  \n",
       "..     ...               ...      ...      ...      ...   ...  \n",
       "886      0            211536  13.0000  B96 B98        S   Rev  \n",
       "887      0            112053  30.0000      B42        S  Miss  \n",
       "888      2        W./C. 6607  23.4500  B96 B98        S  Miss  \n",
       "889      0            111369  30.0000     C148        C    Mr  \n",
       "890      0            370376   7.7500  B96 B98        Q    Mr  \n",
       "\n",
       "[891 rows x 13 columns]"
      ]
     },
     "execution_count": 136,
     "metadata": {},
     "output_type": "execute_result"
    }
   ],
   "source": [
    "df"
   ]
  },
  {
   "cell_type": "code",
   "execution_count": null,
   "id": "6aa58f6e",
   "metadata": {},
   "outputs": [],
   "source": []
  },
  {
   "cell_type": "code",
   "execution_count": null,
   "id": "e1b66d29",
   "metadata": {},
   "outputs": [],
   "source": []
  },
  {
   "cell_type": "code",
   "execution_count": null,
   "id": "03a5e5ad",
   "metadata": {},
   "outputs": [],
   "source": []
  },
  {
   "cell_type": "code",
   "execution_count": null,
   "id": "880684aa",
   "metadata": {},
   "outputs": [],
   "source": []
  },
  {
   "cell_type": "code",
   "execution_count": 4,
   "id": "d31c621e",
   "metadata": {},
   "outputs": [],
   "source": [
    "hh = [\"python\", \"is\", \"fun\", \"but\", \"require\", \"alot\", \"of\", \"practicing\", \"to \", \"master\", \"it\"]\n",
    "ff=\"\".join(hh)"
   ]
  },
  {
   "cell_type": "code",
   "execution_count": 5,
   "id": "193a79a2",
   "metadata": {},
   "outputs": [
    {
     "data": {
      "text/plain": [
       "48"
      ]
     },
     "execution_count": 5,
     "metadata": {},
     "output_type": "execute_result"
    }
   ],
   "source": [
    "len(ff)"
   ]
  },
  {
   "cell_type": "markdown",
   "id": "e47a3c42",
   "metadata": {},
   "source": [
    "# Function\n",
    "\n"
   ]
  },
  {
   "cell_type": "code",
   "execution_count": 6,
   "id": "5b1bf7ba",
   "metadata": {},
   "outputs": [],
   "source": [
    "# defining function\n",
    "def greet(): # non parameter\n",
    "    print(\"you're welcome to our school \")"
   ]
  },
  {
   "cell_type": "code",
   "execution_count": 7,
   "id": "8c0b76f3",
   "metadata": {},
   "outputs": [
    {
     "name": "stdout",
     "output_type": "stream",
     "text": [
      "you're welcome to our school \n"
     ]
    }
   ],
   "source": [
    "greet()"
   ]
  },
  {
   "cell_type": "code",
   "execution_count": 10,
   "id": "ca3d6bf0",
   "metadata": {},
   "outputs": [],
   "source": [
    "# create a function to add any two number\n",
    "\n",
    "def add_two(e, i):\n",
    "    total = e + i\n",
    "    return total"
   ]
  },
  {
   "cell_type": "code",
   "execution_count": 12,
   "id": "c86396e8",
   "metadata": {},
   "outputs": [
    {
     "data": {
      "text/plain": [
       "17"
      ]
     },
     "execution_count": 12,
     "metadata": {},
     "output_type": "execute_result"
    }
   ],
   "source": [
    "add_two(10, 7)"
   ]
  },
  {
   "cell_type": "code",
   "execution_count": 16,
   "id": "af453638",
   "metadata": {},
   "outputs": [],
   "source": [
    "def sec(minute):\n",
    "    seconds = minute / 60\n",
    "    return seconds"
   ]
  },
  {
   "cell_type": "code",
   "execution_count": 18,
   "id": "09da5559",
   "metadata": {},
   "outputs": [
    {
     "data": {
      "text/plain": [
       "2.0"
      ]
     },
     "execution_count": 18,
     "metadata": {},
     "output_type": "execute_result"
    }
   ],
   "source": [
    "sec(120)"
   ]
  },
  {
   "cell_type": "code",
   "execution_count": 24,
   "id": "e916575e",
   "metadata": {},
   "outputs": [],
   "source": [
    "esther= lambda mary1, mary2: mary1 + mary2"
   ]
  },
  {
   "cell_type": "code",
   "execution_count": 25,
   "id": "6fb2d008",
   "metadata": {},
   "outputs": [
    {
     "data": {
      "text/plain": [
       "3829"
      ]
     },
     "execution_count": 25,
     "metadata": {},
     "output_type": "execute_result"
    }
   ],
   "source": [
    "esther(3736, 93)"
   ]
  },
  {
   "cell_type": "code",
   "execution_count": 47,
   "id": "2429abf6",
   "metadata": {},
   "outputs": [
    {
     "data": {
      "text/plain": [
       "73"
      ]
     },
     "execution_count": 47,
     "metadata": {},
     "output_type": "execute_result"
    }
   ],
   "source": [
    "def all_list(y):\n",
    "    u =[]\n",
    "    for elemet in y:\n",
    "        elemet = int(elemet)\n",
    "        u.append(elemet)\n",
    "    all_sum = sum(u)\n",
    "    return all_sum\n",
    "\n",
    "k = [2,3,4,56,6,2]\n",
    "all_list(k)"
   ]
  },
  {
   "cell_type": "code",
   "execution_count": 46,
   "id": "e83ddfe5",
   "metadata": {},
   "outputs": [
    {
     "data": {
      "text/plain": [
       "3"
      ]
     },
     "execution_count": 46,
     "metadata": {},
     "output_type": "execute_result"
    }
   ],
   "source": []
  },
  {
   "cell_type": "code",
   "execution_count": 41,
   "id": "02cb7b9d",
   "metadata": {},
   "outputs": [
    {
     "name": "stdout",
     "output_type": "stream",
     "text": [
      "3 8 2 45 7\n"
     ]
    }
   ],
   "source": [
    "\"2\" = 2"
   ]
  },
  {
   "cell_type": "code",
   "execution_count": 42,
   "id": "a3a96369",
   "metadata": {},
   "outputs": [
    {
     "data": {
      "text/plain": [
       "['3', '8', '2', '45', '7']"
      ]
     },
     "execution_count": 42,
     "metadata": {},
     "output_type": "execute_result"
    }
   ],
   "source": [
    "h"
   ]
  },
  {
   "cell_type": "code",
   "execution_count": 43,
   "id": "e1d31811",
   "metadata": {},
   "outputs": [
    {
     "data": {
      "text/plain": [
       "65"
      ]
     },
     "execution_count": 43,
     "metadata": {},
     "output_type": "execute_result"
    }
   ],
   "source": []
  },
  {
   "cell_type": "code",
   "execution_count": 21,
   "id": "dae0de4c",
   "metadata": {},
   "outputs": [
    {
     "data": {
      "text/plain": [
       "300"
      ]
     },
     "execution_count": 21,
     "metadata": {},
     "output_type": "execute_result"
    }
   ],
   "source": [
    "sec = lambda u : u * 60\n",
    "sec(5)"
   ]
  },
  {
   "cell_type": "markdown",
   "id": "5c4c3020",
   "metadata": {},
   "source": [
    "# control flow in python\n",
    "1. Conditional Statement\n",
    "    a. if\n",
    "    b. else\n",
    "    c. elif\n",
    "\n",
    "2. Loop statement\n",
    "    a. for loop\n",
    "    b. while loop\n",
    "    \n",
    " 3. Lopp contol statement\n",
    "     a. break\n",
    "     b. continue\n",
    "     \n",
    "  4. Error handling statement\n",
    "      a. try\n",
    "      b. except"
   ]
  },
  {
   "cell_type": "code",
   "execution_count": 2,
   "id": "2beecce6",
   "metadata": {},
   "outputs": [],
   "source": [
    "a = 10\n",
    "if a>12:\n",
    "    print(\"we are good to go\")\n",
    "    print(\"what we can under the block of if can be as you want\")"
   ]
  },
  {
   "cell_type": "code",
   "execution_count": 4,
   "id": "deab95ec",
   "metadata": {},
   "outputs": [
    {
     "name": "stdout",
     "output_type": "stream",
     "text": [
      "we may need to wait for others\n"
     ]
    }
   ],
   "source": [
    "a = 10\n",
    "if a>12:\n",
    "    print(\"we are good to go\")\n",
    "else:\n",
    "    print(\"we may need to wait for others\")"
   ]
  },
  {
   "cell_type": "code",
   "execution_count": 5,
   "id": "b1707c2d",
   "metadata": {},
   "outputs": [
    {
     "name": "stdout",
     "output_type": "stream",
     "text": [
      "some set of people must have gone \n"
     ]
    }
   ],
   "source": [
    "a = 10\n",
    "if a>12:\n",
    "    print(\"we are good to go\")\n",
    "elif a==10:\n",
    "    print(\"some set of people must have gone \")\n",
    "else:\n",
    "    print(\"we may need to wait for others\")"
   ]
  },
  {
   "cell_type": "code",
   "execution_count": 9,
   "id": "e277b461",
   "metadata": {},
   "outputs": [
    {
     "name": "stdout",
     "output_type": "stream",
     "text": [
      "please enter your age to know the age group 99\n",
      "you are too old to be here \n"
     ]
    }
   ],
   "source": [
    "age = int( input(\"please enter your age to know the age group \") )\n",
    "\n",
    "if age<=12:\n",
    "    print(\"you are a child \")\n",
    "elif (age>12) and (age<=19):\n",
    "    print(\"you are a teenager\")\n",
    "elif (age>19) and (age<=49):\n",
    "    print(\"you are an Adult\")\n",
    "else:\n",
    "    print(\"you are too old to be here \")\n"
   ]
  },
  {
   "cell_type": "code",
   "execution_count": null,
   "id": "16a8398b",
   "metadata": {},
   "outputs": [],
   "source": [
    "string\n",
    "list\n",
    "tuple\n",
    "set\n",
    "dictionary"
   ]
  },
  {
   "cell_type": "code",
   "execution_count": 11,
   "id": "1e4b5473",
   "metadata": {},
   "outputs": [
    {
     "name": "stdout",
     "output_type": "stream",
     "text": [
      "o\n",
      "l\n",
      "a\n",
      "i\n",
      "t\n",
      "a\n",
      "n\n"
     ]
    }
   ],
   "source": [
    "name = \"olaitan\"\n",
    "for char in name:\n",
    "    print(char)"
   ]
  },
  {
   "cell_type": "code",
   "execution_count": 18,
   "id": "47239439",
   "metadata": {},
   "outputs": [],
   "source": [
    "all_population = [1,2,3,4,5,6,7,8,9,10,11,12,13,14,15,16,17,18,19,20]\n",
    "even_list = []\n",
    "odd_list = []\n",
    "for element in all_population:\n",
    "    if element%2==0:\n",
    "        even_list.append(element)\n",
    "    else:\n",
    "        odd_list.append(element)\n"
   ]
  },
  {
   "cell_type": "code",
   "execution_count": 27,
   "id": "be55eaae",
   "metadata": {},
   "outputs": [],
   "source": [
    "all_population = [1,2,3,4,5,6,7,8,9,10,11,12,13,14,15,16,17,18,19,20]\n",
    "even_list = []\n",
    "odd_list = []\n",
    "for element in all_population:\n",
    "    if element==12:\n",
    "        break\n",
    "    if element%2==0:\n",
    "        even_list.append(element)\n",
    "        \n",
    "    else:\n",
    "        odd_list.append(element)\n"
   ]
  },
  {
   "cell_type": "code",
   "execution_count": 28,
   "id": "28b9d4cc",
   "metadata": {},
   "outputs": [],
   "source": [
    "all_population = [1,2,3,4,5,6,7,8,9,10,11,12,13,14,15,16,17,18,19,20]\n",
    "even_list = []\n",
    "odd_list = []\n",
    "for element in all_population:\n",
    "    if element==12:\n",
    "        continue\n",
    "    if element%2==0:\n",
    "        even_list.append(element)\n",
    "        \n",
    "    else:\n",
    "        odd_list.append(element)\n"
   ]
  },
  {
   "cell_type": "code",
   "execution_count": null,
   "id": "f1411c0e",
   "metadata": {},
   "outputs": [],
   "source": []
  },
  {
   "cell_type": "code",
   "execution_count": 29,
   "id": "23af22d5",
   "metadata": {},
   "outputs": [
    {
     "data": {
      "text/plain": [
       "[2, 4, 6, 8, 10, 14, 16, 18, 20]"
      ]
     },
     "execution_count": 29,
     "metadata": {},
     "output_type": "execute_result"
    }
   ],
   "source": [
    "even_list"
   ]
  },
  {
   "cell_type": "code",
   "execution_count": null,
   "id": "27b133a9",
   "metadata": {},
   "outputs": [],
   "source": []
  },
  {
   "cell_type": "code",
   "execution_count": 19,
   "id": "e1010988",
   "metadata": {},
   "outputs": [
    {
     "data": {
      "text/plain": [
       "[2, 4, 6, 8, 10, 12, 14, 16, 18, 20]"
      ]
     },
     "execution_count": 19,
     "metadata": {},
     "output_type": "execute_result"
    }
   ],
   "source": [
    "even_list"
   ]
  },
  {
   "cell_type": "code",
   "execution_count": 20,
   "id": "3027ff69",
   "metadata": {},
   "outputs": [
    {
     "data": {
      "text/plain": [
       "[1, 3, 5, 7, 9, 11, 13, 15, 17, 19]"
      ]
     },
     "execution_count": 20,
     "metadata": {},
     "output_type": "execute_result"
    }
   ],
   "source": [
    "odd_list"
   ]
  },
  {
   "cell_type": "code",
   "execution_count": 21,
   "id": "e2fd9ea4",
   "metadata": {},
   "outputs": [],
   "source": [
    "# land= [\"Finland\", \"England\", \"Holland\"]\n",
    "countries = [\"Finland\", \"England\", \"china\", \"Angona\", \"Holland\", \"Nigeria\", \"Portugal\"]\n",
    "land = []\n",
    "for country in countries:\n",
    "    if country.endswith(\"land\"):\n",
    "        land.append(country)"
   ]
  },
  {
   "cell_type": "code",
   "execution_count": null,
   "id": "de91bb5d",
   "metadata": {},
   "outputs": [],
   "source": [
    "a=1\n",
    "while a<=10:\n",
    "    print(\"number {} while loop is runing\".format(a))\n",
    "    a+=1"
   ]
  },
  {
   "cell_type": "code",
   "execution_count": 8,
   "id": "3067bfb9",
   "metadata": {},
   "outputs": [
    {
     "name": "stdout",
     "output_type": "stream",
     "text": [
      "number 1 while loop is runing\n",
      "number 2 while loop is runing\n",
      "number 3 while loop is runing\n",
      "number 4 while loop is runing\n",
      "number 5 while loop is runing\n",
      "number 6 while loop is runing\n",
      "number 7 while loop is runing\n",
      "number 8 while loop is runing\n",
      "number 9 while loop is runing\n",
      "number 10 while loop is runing\n",
      "number 11 while loop is runing\n"
     ]
    }
   ],
   "source": [
    "a =1\n",
    "while True:\n",
    "    print(\"number {} while loop is runing\".format(a))\n",
    "    if a>10:\n",
    "        break\n",
    "    a+=1"
   ]
  },
  {
   "cell_type": "code",
   "execution_count": 17,
   "id": "45489318",
   "metadata": {},
   "outputs": [
    {
     "name": "stdout",
     "output_type": "stream",
     "text": [
      "enter your guess number 2\n",
      "enter your guess number 2\n",
      "enter your guess number 3\n"
     ]
    },
    {
     "ename": "KeyboardInterrupt",
     "evalue": "Interrupted by user",
     "output_type": "error",
     "traceback": [
      "\u001b[1;31m---------------------------------------------------------------------------\u001b[0m",
      "\u001b[1;31mKeyboardInterrupt\u001b[0m                         Traceback (most recent call last)",
      "\u001b[1;32m~\\AppData\\Local\\Temp\\ipykernel_14600\\3017290868.py\u001b[0m in \u001b[0;36m<module>\u001b[1;34m\u001b[0m\n\u001b[0;32m      3\u001b[0m \u001b[1;32mwhile\u001b[0m \u001b[1;32mTrue\u001b[0m\u001b[1;33m:\u001b[0m\u001b[1;33m\u001b[0m\u001b[1;33m\u001b[0m\u001b[0m\n\u001b[0;32m      4\u001b[0m     \u001b[1;32mif\u001b[0m \u001b[0mcounter\u001b[0m\u001b[1;33m<=\u001b[0m\u001b[1;36m2\u001b[0m\u001b[1;33m:\u001b[0m\u001b[1;33m\u001b[0m\u001b[1;33m\u001b[0m\u001b[0m\n\u001b[1;32m----> 5\u001b[1;33m         \u001b[0mguess\u001b[0m \u001b[1;33m=\u001b[0m \u001b[0mint\u001b[0m\u001b[1;33m(\u001b[0m\u001b[0minput\u001b[0m\u001b[1;33m(\u001b[0m\u001b[1;34m\"enter your guess number \"\u001b[0m\u001b[1;33m)\u001b[0m\u001b[1;33m)\u001b[0m\u001b[1;33m\u001b[0m\u001b[1;33m\u001b[0m\u001b[0m\n\u001b[0m\u001b[0;32m      6\u001b[0m         \u001b[1;32mif\u001b[0m \u001b[0mguess\u001b[0m \u001b[1;33m==\u001b[0m \u001b[0msecret_number\u001b[0m\u001b[1;33m:\u001b[0m\u001b[1;33m\u001b[0m\u001b[1;33m\u001b[0m\u001b[0m\n\u001b[0;32m      7\u001b[0m             \u001b[0mprint\u001b[0m\u001b[1;33m(\u001b[0m\u001b[1;34m\"Bingo!!! you just won yourself a prize\"\u001b[0m\u001b[1;33m)\u001b[0m\u001b[1;33m\u001b[0m\u001b[1;33m\u001b[0m\u001b[0m\n",
      "\u001b[1;32m~\\anaconda3\\lib\\site-packages\\ipykernel\\kernelbase.py\u001b[0m in \u001b[0;36mraw_input\u001b[1;34m(self, prompt)\u001b[0m\n\u001b[0;32m   1175\u001b[0m                 \u001b[1;34m\"raw_input was called, but this frontend does not support input requests.\"\u001b[0m\u001b[1;33m\u001b[0m\u001b[1;33m\u001b[0m\u001b[0m\n\u001b[0;32m   1176\u001b[0m             )\n\u001b[1;32m-> 1177\u001b[1;33m         return self._input_request(\n\u001b[0m\u001b[0;32m   1178\u001b[0m             \u001b[0mstr\u001b[0m\u001b[1;33m(\u001b[0m\u001b[0mprompt\u001b[0m\u001b[1;33m)\u001b[0m\u001b[1;33m,\u001b[0m\u001b[1;33m\u001b[0m\u001b[1;33m\u001b[0m\u001b[0m\n\u001b[0;32m   1179\u001b[0m             \u001b[0mself\u001b[0m\u001b[1;33m.\u001b[0m\u001b[0m_parent_ident\u001b[0m\u001b[1;33m[\u001b[0m\u001b[1;34m\"shell\"\u001b[0m\u001b[1;33m]\u001b[0m\u001b[1;33m,\u001b[0m\u001b[1;33m\u001b[0m\u001b[1;33m\u001b[0m\u001b[0m\n",
      "\u001b[1;32m~\\anaconda3\\lib\\site-packages\\ipykernel\\kernelbase.py\u001b[0m in \u001b[0;36m_input_request\u001b[1;34m(self, prompt, ident, parent, password)\u001b[0m\n\u001b[0;32m   1217\u001b[0m             \u001b[1;32mexcept\u001b[0m \u001b[0mKeyboardInterrupt\u001b[0m\u001b[1;33m:\u001b[0m\u001b[1;33m\u001b[0m\u001b[1;33m\u001b[0m\u001b[0m\n\u001b[0;32m   1218\u001b[0m                 \u001b[1;31m# re-raise KeyboardInterrupt, to truncate traceback\u001b[0m\u001b[1;33m\u001b[0m\u001b[1;33m\u001b[0m\u001b[0m\n\u001b[1;32m-> 1219\u001b[1;33m                 \u001b[1;32mraise\u001b[0m \u001b[0mKeyboardInterrupt\u001b[0m\u001b[1;33m(\u001b[0m\u001b[1;34m\"Interrupted by user\"\u001b[0m\u001b[1;33m)\u001b[0m \u001b[1;32mfrom\u001b[0m \u001b[1;32mNone\u001b[0m\u001b[1;33m\u001b[0m\u001b[1;33m\u001b[0m\u001b[0m\n\u001b[0m\u001b[0;32m   1220\u001b[0m             \u001b[1;32mexcept\u001b[0m \u001b[0mException\u001b[0m\u001b[1;33m:\u001b[0m\u001b[1;33m\u001b[0m\u001b[1;33m\u001b[0m\u001b[0m\n\u001b[0;32m   1221\u001b[0m                 \u001b[0mself\u001b[0m\u001b[1;33m.\u001b[0m\u001b[0mlog\u001b[0m\u001b[1;33m.\u001b[0m\u001b[0mwarning\u001b[0m\u001b[1;33m(\u001b[0m\u001b[1;34m\"Invalid Message:\"\u001b[0m\u001b[1;33m,\u001b[0m \u001b[0mexc_info\u001b[0m\u001b[1;33m=\u001b[0m\u001b[1;32mTrue\u001b[0m\u001b[1;33m)\u001b[0m\u001b[1;33m\u001b[0m\u001b[1;33m\u001b[0m\u001b[0m\n",
      "\u001b[1;31mKeyboardInterrupt\u001b[0m: Interrupted by user"
     ]
    }
   ],
   "source": [
    "secret_number =7\n",
    "guess_time=0\n",
    "while True:\n",
    "    if guess_time<=2:\n",
    "        guess = int(input(\"enter your guess number \"))\n",
    "        if guess == secret_number:\n",
    "            print(\"Bingo!!! you just won yourself a prize\")\n",
    "            break\n",
    "    guess_time+=1   "
   ]
  },
  {
   "cell_type": "code",
   "execution_count": 32,
   "id": "5d56cf17",
   "metadata": {},
   "outputs": [
    {
     "name": "stdout",
     "output_type": "stream",
     "text": [
      "enter your guess number 3\n",
      "olaitan, there is error in your try block\n"
     ]
    }
   ],
   "source": [
    "try:\n",
    "    secret_number =7\n",
    "    guess_time=0\n",
    "    while True:\n",
    "        if guess_time<=2:\n",
    "            guess = input(\"enter your guess number \")\n",
    "            if guess > secret_number:\n",
    "                print(\"Bingo!!! you just won yourself a prize\")\n",
    "                break\n",
    "        guess_time+=1   \n",
    "except:\n",
    "    print(\"olaitan, there is error in your try block\")\n",
    "    "
   ]
  },
  {
   "cell_type": "code",
   "execution_count": 34,
   "id": "ce315320",
   "metadata": {},
   "outputs": [
    {
     "ename": "TypeError",
     "evalue": "'>' not supported between instances of 'int' and 'str'",
     "output_type": "error",
     "traceback": [
      "\u001b[1;31m---------------------------------------------------------------------------\u001b[0m",
      "\u001b[1;31mTypeError\u001b[0m                                 Traceback (most recent call last)",
      "\u001b[1;32m~\\AppData\\Local\\Temp\\ipykernel_14600\\2593287460.py\u001b[0m in \u001b[0;36m<module>\u001b[1;34m\u001b[0m\n\u001b[1;32m----> 1\u001b[1;33m \u001b[1;36m2\u001b[0m \u001b[1;33m>\u001b[0m \u001b[1;34m\"3\"\u001b[0m\u001b[1;33m\u001b[0m\u001b[1;33m\u001b[0m\u001b[0m\n\u001b[0m",
      "\u001b[1;31mTypeError\u001b[0m: '>' not supported between instances of 'int' and 'str'"
     ]
    }
   ],
   "source": [
    "2 > \"3\""
   ]
  },
  {
   "cell_type": "code",
   "execution_count": null,
   "id": "1d79b573",
   "metadata": {},
   "outputs": [],
   "source": [
    "kkks\n",
    "kkdkd\n",
    "kkkd\n",
    "kkkd\n",
    "kkd\n",
    "jjdl\n",
    "jjdl"
   ]
  },
  {
   "cell_type": "code",
   "execution_count": null,
   "id": "68a0bb30",
   "metadata": {},
   "outputs": [],
   "source": []
  },
  {
   "cell_type": "code",
   "execution_count": null,
   "id": "a68a1ffa",
   "metadata": {},
   "outputs": [],
   "source": []
  },
  {
   "cell_type": "code",
   "execution_count": null,
   "id": "537db606",
   "metadata": {},
   "outputs": [],
   "source": []
  },
  {
   "cell_type": "code",
   "execution_count": null,
   "id": "f21bbf42",
   "metadata": {},
   "outputs": [],
   "source": []
  },
  {
   "cell_type": "code",
   "execution_count": null,
   "id": "e1a4ea37",
   "metadata": {},
   "outputs": [],
   "source": []
  },
  {
   "cell_type": "code",
   "execution_count": null,
   "id": "58c2d344",
   "metadata": {},
   "outputs": [],
   "source": []
  },
  {
   "cell_type": "code",
   "execution_count": null,
   "id": "9da1326e",
   "metadata": {},
   "outputs": [],
   "source": []
  },
  {
   "cell_type": "code",
   "execution_count": null,
   "id": "4ac51022",
   "metadata": {},
   "outputs": [],
   "source": []
  },
  {
   "cell_type": "code",
   "execution_count": null,
   "id": "c8947ae6",
   "metadata": {},
   "outputs": [],
   "source": []
  },
  {
   "cell_type": "code",
   "execution_count": null,
   "id": "766ec689",
   "metadata": {},
   "outputs": [],
   "source": []
  },
  {
   "cell_type": "code",
   "execution_count": null,
   "id": "4c77efb5",
   "metadata": {},
   "outputs": [],
   "source": []
  },
  {
   "cell_type": "code",
   "execution_count": null,
   "id": "2ebd4465",
   "metadata": {},
   "outputs": [],
   "source": []
  },
  {
   "cell_type": "code",
   "execution_count": null,
   "id": "dddaec5c",
   "metadata": {},
   "outputs": [],
   "source": []
  },
  {
   "cell_type": "code",
   "execution_count": null,
   "id": "8f7e6ee9",
   "metadata": {},
   "outputs": [],
   "source": []
  },
  {
   "cell_type": "code",
   "execution_count": null,
   "id": "df3c7991",
   "metadata": {},
   "outputs": [],
   "source": []
  },
  {
   "cell_type": "code",
   "execution_count": null,
   "id": "d0c2c442",
   "metadata": {},
   "outputs": [],
   "source": []
  },
  {
   "cell_type": "code",
   "execution_count": null,
   "id": "c04ecdd7",
   "metadata": {},
   "outputs": [],
   "source": []
  },
  {
   "cell_type": "code",
   "execution_count": null,
   "id": "d06d3506",
   "metadata": {},
   "outputs": [],
   "source": []
  },
  {
   "cell_type": "code",
   "execution_count": null,
   "id": "dbbc09bd",
   "metadata": {},
   "outputs": [],
   "source": []
  },
  {
   "cell_type": "code",
   "execution_count": null,
   "id": "d86eeefa",
   "metadata": {},
   "outputs": [],
   "source": []
  },
  {
   "cell_type": "code",
   "execution_count": null,
   "id": "22c9387a",
   "metadata": {},
   "outputs": [],
   "source": []
  },
  {
   "cell_type": "code",
   "execution_count": null,
   "id": "14e568d3",
   "metadata": {},
   "outputs": [],
   "source": []
  },
  {
   "cell_type": "code",
   "execution_count": null,
   "id": "d074603b",
   "metadata": {},
   "outputs": [],
   "source": []
  },
  {
   "cell_type": "code",
   "execution_count": null,
   "id": "b2f7bab3",
   "metadata": {},
   "outputs": [],
   "source": []
  },
  {
   "cell_type": "code",
   "execution_count": null,
   "id": "a97f4d5f",
   "metadata": {},
   "outputs": [],
   "source": []
  },
  {
   "cell_type": "code",
   "execution_count": null,
   "id": "e6e856c8",
   "metadata": {},
   "outputs": [],
   "source": []
  },
  {
   "cell_type": "code",
   "execution_count": null,
   "id": "9db72eb4",
   "metadata": {},
   "outputs": [],
   "source": []
  },
  {
   "cell_type": "code",
   "execution_count": null,
   "id": "a0a9f362",
   "metadata": {},
   "outputs": [],
   "source": []
  },
  {
   "cell_type": "code",
   "execution_count": null,
   "id": "23bdcb3a",
   "metadata": {},
   "outputs": [],
   "source": []
  },
  {
   "cell_type": "code",
   "execution_count": null,
   "id": "0369a129",
   "metadata": {},
   "outputs": [],
   "source": []
  },
  {
   "cell_type": "code",
   "execution_count": null,
   "id": "1c266091",
   "metadata": {},
   "outputs": [],
   "source": []
  },
  {
   "cell_type": "code",
   "execution_count": null,
   "id": "c87bdce2",
   "metadata": {},
   "outputs": [],
   "source": []
  },
  {
   "cell_type": "code",
   "execution_count": null,
   "id": "0541ba88",
   "metadata": {},
   "outputs": [],
   "source": []
  },
  {
   "cell_type": "code",
   "execution_count": null,
   "id": "169203bf",
   "metadata": {},
   "outputs": [],
   "source": []
  },
  {
   "cell_type": "code",
   "execution_count": null,
   "id": "f6643561",
   "metadata": {},
   "outputs": [],
   "source": []
  },
  {
   "cell_type": "code",
   "execution_count": null,
   "id": "d3532ff2",
   "metadata": {},
   "outputs": [],
   "source": []
  },
  {
   "cell_type": "code",
   "execution_count": null,
   "id": "e36da421",
   "metadata": {},
   "outputs": [],
   "source": []
  },
  {
   "cell_type": "code",
   "execution_count": null,
   "id": "b22f657a",
   "metadata": {},
   "outputs": [],
   "source": []
  },
  {
   "cell_type": "code",
   "execution_count": null,
   "id": "6a946284",
   "metadata": {},
   "outputs": [],
   "source": []
  },
  {
   "cell_type": "code",
   "execution_count": 141,
   "id": "eb384353",
   "metadata": {},
   "outputs": [],
   "source": [
    "import pandas as pd\n",
    "path = \"C:/Users/pc/Documents/Lasop/PowerBI/Data/data/\"\n",
    "df = pd.read_excel(path + \"PBI.xlsx\")"
   ]
  },
  {
   "cell_type": "code",
   "execution_count": null,
   "id": "026abbc6",
   "metadata": {},
   "outputs": [],
   "source": []
  },
  {
   "cell_type": "code",
   "execution_count": null,
   "id": "40519243",
   "metadata": {},
   "outputs": [],
   "source": []
  },
  {
   "cell_type": "code",
   "execution_count": null,
   "id": "b01e8bda",
   "metadata": {},
   "outputs": [],
   "source": []
  },
  {
   "cell_type": "code",
   "execution_count": 142,
   "id": "afb20ae2",
   "metadata": {},
   "outputs": [],
   "source": [
    "f=df.PRODUCT.value_counts().index.sort_values() \n",
    "for i in df.PRODUCT:\n",
    "    if i in f[:15]:\n",
    "        df.PRODUCT.replace(i, \"Phone\", inplace=True)\n",
    "    elif i in f[15:26]:\n",
    "        df.PRODUCT.replace(i, \"Laptop\", inplace=True)\n",
    "    elif i in f[26:33]:\n",
    "        df.PRODUCT.replace(i, \"Desktop\", inplace=True)\n",
    "    elif i in f[33:]:\n",
    "         df.PRODUCT.replace(i, \"Notepad\", inplace=True)"
   ]
  },
  {
   "cell_type": "code",
   "execution_count": 143,
   "id": "796a14f2",
   "metadata": {},
   "outputs": [
    {
     "data": {
      "text/plain": [
       "Phone      277\n",
       "Notepad    234\n",
       "Laptop     187\n",
       "Desktop    134\n",
       "Name: PRODUCT, dtype: int64"
      ]
     },
     "execution_count": 143,
     "metadata": {},
     "output_type": "execute_result"
    }
   ],
   "source": [
    "df.PRODUCT.value_counts()"
   ]
  },
  {
   "cell_type": "code",
   "execution_count": 144,
   "id": "b79bf83e",
   "metadata": {},
   "outputs": [],
   "source": [
    "df.loc[df[\"PRODUCT\"]==\"Laptop\", \"Unit Price\"] = 710.78\n",
    "df.loc[df[\"PRODUCT\"]==\"Desktop\", \"Unit Price\"] = 500.70\n",
    "df.loc[df[\"PRODUCT\"]==\"Phone\", \"Unit Price\"] = 350.40\n",
    "df.loc[df[\"PRODUCT\"]==\"Notepad\", \"Unit Price\"] = 400.50"
   ]
  },
  {
   "cell_type": "code",
   "execution_count": 145,
   "id": "3fcc8521",
   "metadata": {},
   "outputs": [
    {
     "data": {
      "text/html": [
       "<div>\n",
       "<style scoped>\n",
       "    .dataframe tbody tr th:only-of-type {\n",
       "        vertical-align: middle;\n",
       "    }\n",
       "\n",
       "    .dataframe tbody tr th {\n",
       "        vertical-align: top;\n",
       "    }\n",
       "\n",
       "    .dataframe thead th {\n",
       "        text-align: right;\n",
       "    }\n",
       "</style>\n",
       "<table border=\"1\" class=\"dataframe\">\n",
       "  <thead>\n",
       "    <tr style=\"text-align: right;\">\n",
       "      <th></th>\n",
       "      <th>DATE</th>\n",
       "      <th>CUSTOMER NAME</th>\n",
       "      <th>PRODUCT</th>\n",
       "      <th>UNIT PRICE ($)</th>\n",
       "      <th>QUANTITY</th>\n",
       "      <th>Actual Sales</th>\n",
       "      <th>Country</th>\n",
       "      <th>Region</th>\n",
       "      <th>Unit Price</th>\n",
       "    </tr>\n",
       "  </thead>\n",
       "  <tbody>\n",
       "    <tr>\n",
       "      <th>0</th>\n",
       "      <td>2021-01-01</td>\n",
       "      <td>Customer33</td>\n",
       "      <td>Laptop</td>\n",
       "      <td>156.96</td>\n",
       "      <td>9</td>\n",
       "      <td>1412.64</td>\n",
       "      <td>India</td>\n",
       "      <td>Western</td>\n",
       "      <td>710.78</td>\n",
       "    </tr>\n",
       "    <tr>\n",
       "      <th>1</th>\n",
       "      <td>2021-01-01</td>\n",
       "      <td>Customer29</td>\n",
       "      <td>Laptop</td>\n",
       "      <td>141.57</td>\n",
       "      <td>1</td>\n",
       "      <td>141.57</td>\n",
       "      <td>India</td>\n",
       "      <td>South</td>\n",
       "      <td>710.78</td>\n",
       "    </tr>\n",
       "    <tr>\n",
       "      <th>2</th>\n",
       "      <td>2021-01-02</td>\n",
       "      <td>Customer31</td>\n",
       "      <td>Notepad</td>\n",
       "      <td>79.92</td>\n",
       "      <td>15</td>\n",
       "      <td>1198.80</td>\n",
       "      <td>India</td>\n",
       "      <td>North</td>\n",
       "      <td>400.50</td>\n",
       "    </tr>\n",
       "    <tr>\n",
       "      <th>3</th>\n",
       "      <td>2021-01-02</td>\n",
       "      <td>Customer03</td>\n",
       "      <td>Desktop</td>\n",
       "      <td>119.70</td>\n",
       "      <td>1</td>\n",
       "      <td>119.70</td>\n",
       "      <td>India</td>\n",
       "      <td>Northeast</td>\n",
       "      <td>500.70</td>\n",
       "    </tr>\n",
       "    <tr>\n",
       "      <th>4</th>\n",
       "      <td>2021-01-02</td>\n",
       "      <td>Customer05</td>\n",
       "      <td>Phone</td>\n",
       "      <td>15.72</td>\n",
       "      <td>2</td>\n",
       "      <td>31.44</td>\n",
       "      <td>India</td>\n",
       "      <td>Northeast</td>\n",
       "      <td>350.40</td>\n",
       "    </tr>\n",
       "    <tr>\n",
       "      <th>...</th>\n",
       "      <td>...</td>\n",
       "      <td>...</td>\n",
       "      <td>...</td>\n",
       "      <td>...</td>\n",
       "      <td>...</td>\n",
       "      <td>...</td>\n",
       "      <td>...</td>\n",
       "      <td>...</td>\n",
       "      <td>...</td>\n",
       "    </tr>\n",
       "    <tr>\n",
       "      <th>827</th>\n",
       "      <td>2021-12-30</td>\n",
       "      <td>Customer31</td>\n",
       "      <td>Phone</td>\n",
       "      <td>164.28</td>\n",
       "      <td>13</td>\n",
       "      <td>2135.64</td>\n",
       "      <td>India</td>\n",
       "      <td>North</td>\n",
       "      <td>350.40</td>\n",
       "    </tr>\n",
       "    <tr>\n",
       "      <th>828</th>\n",
       "      <td>2021-12-30</td>\n",
       "      <td>Customer33</td>\n",
       "      <td>Notepad</td>\n",
       "      <td>173.88</td>\n",
       "      <td>14</td>\n",
       "      <td>2434.32</td>\n",
       "      <td>India</td>\n",
       "      <td>Western</td>\n",
       "      <td>400.50</td>\n",
       "    </tr>\n",
       "    <tr>\n",
       "      <th>829</th>\n",
       "      <td>2021-12-30</td>\n",
       "      <td>Customer21</td>\n",
       "      <td>Desktop</td>\n",
       "      <td>201.28</td>\n",
       "      <td>31</td>\n",
       "      <td>6239.68</td>\n",
       "      <td>South Africa</td>\n",
       "      <td>Export</td>\n",
       "      <td>500.70</td>\n",
       "    </tr>\n",
       "    <tr>\n",
       "      <th>830</th>\n",
       "      <td>2021-12-31</td>\n",
       "      <td>Customer32</td>\n",
       "      <td>Phone</td>\n",
       "      <td>48.40</td>\n",
       "      <td>6</td>\n",
       "      <td>290.40</td>\n",
       "      <td>Pakistan</td>\n",
       "      <td>Export</td>\n",
       "      <td>350.40</td>\n",
       "    </tr>\n",
       "    <tr>\n",
       "      <th>831</th>\n",
       "      <td>2021-12-31</td>\n",
       "      <td>Customer18</td>\n",
       "      <td>Desktop</td>\n",
       "      <td>119.70</td>\n",
       "      <td>12</td>\n",
       "      <td>1436.40</td>\n",
       "      <td>India</td>\n",
       "      <td>Western</td>\n",
       "      <td>500.70</td>\n",
       "    </tr>\n",
       "  </tbody>\n",
       "</table>\n",
       "<p>832 rows × 9 columns</p>\n",
       "</div>"
      ],
      "text/plain": [
       "          DATE CUSTOMER NAME  PRODUCT  UNIT PRICE ($)  QUANTITY  Actual Sales  \\\n",
       "0   2021-01-01    Customer33   Laptop          156.96         9       1412.64   \n",
       "1   2021-01-01    Customer29   Laptop          141.57         1        141.57   \n",
       "2   2021-01-02    Customer31  Notepad           79.92        15       1198.80   \n",
       "3   2021-01-02    Customer03  Desktop          119.70         1        119.70   \n",
       "4   2021-01-02    Customer05    Phone           15.72         2         31.44   \n",
       "..         ...           ...      ...             ...       ...           ...   \n",
       "827 2021-12-30    Customer31    Phone          164.28        13       2135.64   \n",
       "828 2021-12-30    Customer33  Notepad          173.88        14       2434.32   \n",
       "829 2021-12-30    Customer21  Desktop          201.28        31       6239.68   \n",
       "830 2021-12-31    Customer32    Phone           48.40         6        290.40   \n",
       "831 2021-12-31    Customer18  Desktop          119.70        12       1436.40   \n",
       "\n",
       "          Country     Region  Unit Price  \n",
       "0           India    Western      710.78  \n",
       "1           India      South      710.78  \n",
       "2           India      North      400.50  \n",
       "3           India  Northeast      500.70  \n",
       "4           India  Northeast      350.40  \n",
       "..            ...        ...         ...  \n",
       "827         India      North      350.40  \n",
       "828         India    Western      400.50  \n",
       "829  South Africa     Export      500.70  \n",
       "830      Pakistan     Export      350.40  \n",
       "831         India    Western      500.70  \n",
       "\n",
       "[832 rows x 9 columns]"
      ]
     },
     "execution_count": 145,
     "metadata": {},
     "output_type": "execute_result"
    }
   ],
   "source": [
    "df"
   ]
  },
  {
   "cell_type": "code",
   "execution_count": 146,
   "id": "a80c1326",
   "metadata": {},
   "outputs": [],
   "source": [
    "for i in df[\"CUSTOMER NAME\"]:\n",
    "    if i in [\"Customer14\", \"Customer34\",  \"Customer07\"]:\n",
    "        df[\"CUSTOMER NAME\"].replace(i, \"Customer33\", inplace=True)\n",
    "    elif i in [\"Customer34\", \"Customer38\", \"Customer13\", \"Customer37\", \"Customer40\", \"Customer11\"]:\n",
    "        df[\"CUSTOMER NAME\"].replace(i, \"Customer22\", inplace=True)\n",
    "    elif i in [\"Customer10\", \"Customer27\", \"Customer36\", \"Customer15\", \"Customer23\"]:\n",
    "        df[\"CUSTOMER NAME\"].replace(i, \"Customer18\", inplace=True)\n",
    "    elif i in [\"Customer16\", \"Customer04\", \"Customer01\", \"Customer08\", \"Customer17\"]:\n",
    "        df[\"CUSTOMER NAME\"].replace(i, \"Customer21\", inplace=True)\n",
    "    elif i in [\"Customer28\", \"Customer32\", \"Customer03\", \"Customer31\", \"Customer24\", \"Customer39\"]:\n",
    "        df[\"CUSTOMER NAME\"].replace(i, \"Customer05\", inplace=True)"
   ]
  },
  {
   "cell_type": "code",
   "execution_count": 147,
   "id": "55bd3988",
   "metadata": {},
   "outputs": [],
   "source": [
    "df[\"CUSTOMER NAME\"].replace([\"Customer21\", \"Customer18\", \"Customer05\", \"Customer22\", \"Customer33\",\n",
    "                            \"Customer25\", \"Customer06\", \"Customer30\", \"Customer12\", \"Customer02\",\n",
    "                            \"Customer26\", \"Customer19\", \"Customer20\", \"Customer29\", \"Customer09\",\n",
    "                            \"Customer35\"] \n",
    "                            ,[ \"James\", \"Smith\", \"Richael\", \"White\", \"Rasford\",\n",
    "                             \"Anthony\", \"Alice\", \"Ismail\", \"Sancho\", \"Baily\",\n",
    "                             \"Fernandez\", \"Bellamy\", \"Shaw\", \"Sallah\", \"Kola\",\n",
    "                             \"Ada\"], inplace=True)"
   ]
  },
  {
   "cell_type": "code",
   "execution_count": 148,
   "id": "9924144f",
   "metadata": {},
   "outputs": [
    {
     "data": {
      "text/html": [
       "<div>\n",
       "<style scoped>\n",
       "    .dataframe tbody tr th:only-of-type {\n",
       "        vertical-align: middle;\n",
       "    }\n",
       "\n",
       "    .dataframe tbody tr th {\n",
       "        vertical-align: top;\n",
       "    }\n",
       "\n",
       "    .dataframe thead th {\n",
       "        text-align: right;\n",
       "    }\n",
       "</style>\n",
       "<table border=\"1\" class=\"dataframe\">\n",
       "  <thead>\n",
       "    <tr style=\"text-align: right;\">\n",
       "      <th></th>\n",
       "      <th>DATE</th>\n",
       "      <th>CUSTOMER NAME</th>\n",
       "      <th>PRODUCT</th>\n",
       "      <th>UNIT PRICE ($)</th>\n",
       "      <th>QUANTITY</th>\n",
       "      <th>Actual Sales</th>\n",
       "      <th>Country</th>\n",
       "      <th>Region</th>\n",
       "      <th>Unit Price</th>\n",
       "    </tr>\n",
       "  </thead>\n",
       "  <tbody>\n",
       "    <tr>\n",
       "      <th>0</th>\n",
       "      <td>2021-01-01</td>\n",
       "      <td>Rasford</td>\n",
       "      <td>Laptop</td>\n",
       "      <td>156.96</td>\n",
       "      <td>9</td>\n",
       "      <td>1412.64</td>\n",
       "      <td>India</td>\n",
       "      <td>Western</td>\n",
       "      <td>710.78</td>\n",
       "    </tr>\n",
       "    <tr>\n",
       "      <th>1</th>\n",
       "      <td>2021-01-01</td>\n",
       "      <td>Sallah</td>\n",
       "      <td>Laptop</td>\n",
       "      <td>141.57</td>\n",
       "      <td>1</td>\n",
       "      <td>141.57</td>\n",
       "      <td>India</td>\n",
       "      <td>South</td>\n",
       "      <td>710.78</td>\n",
       "    </tr>\n",
       "    <tr>\n",
       "      <th>2</th>\n",
       "      <td>2021-01-02</td>\n",
       "      <td>Richael</td>\n",
       "      <td>Notepad</td>\n",
       "      <td>79.92</td>\n",
       "      <td>15</td>\n",
       "      <td>1198.80</td>\n",
       "      <td>India</td>\n",
       "      <td>North</td>\n",
       "      <td>400.50</td>\n",
       "    </tr>\n",
       "    <tr>\n",
       "      <th>3</th>\n",
       "      <td>2021-01-02</td>\n",
       "      <td>Richael</td>\n",
       "      <td>Desktop</td>\n",
       "      <td>119.70</td>\n",
       "      <td>1</td>\n",
       "      <td>119.70</td>\n",
       "      <td>India</td>\n",
       "      <td>Northeast</td>\n",
       "      <td>500.70</td>\n",
       "    </tr>\n",
       "    <tr>\n",
       "      <th>4</th>\n",
       "      <td>2021-01-02</td>\n",
       "      <td>Richael</td>\n",
       "      <td>Phone</td>\n",
       "      <td>15.72</td>\n",
       "      <td>2</td>\n",
       "      <td>31.44</td>\n",
       "      <td>India</td>\n",
       "      <td>Northeast</td>\n",
       "      <td>350.40</td>\n",
       "    </tr>\n",
       "    <tr>\n",
       "      <th>...</th>\n",
       "      <td>...</td>\n",
       "      <td>...</td>\n",
       "      <td>...</td>\n",
       "      <td>...</td>\n",
       "      <td>...</td>\n",
       "      <td>...</td>\n",
       "      <td>...</td>\n",
       "      <td>...</td>\n",
       "      <td>...</td>\n",
       "    </tr>\n",
       "    <tr>\n",
       "      <th>827</th>\n",
       "      <td>2021-12-30</td>\n",
       "      <td>Richael</td>\n",
       "      <td>Phone</td>\n",
       "      <td>164.28</td>\n",
       "      <td>13</td>\n",
       "      <td>2135.64</td>\n",
       "      <td>India</td>\n",
       "      <td>North</td>\n",
       "      <td>350.40</td>\n",
       "    </tr>\n",
       "    <tr>\n",
       "      <th>828</th>\n",
       "      <td>2021-12-30</td>\n",
       "      <td>Rasford</td>\n",
       "      <td>Notepad</td>\n",
       "      <td>173.88</td>\n",
       "      <td>14</td>\n",
       "      <td>2434.32</td>\n",
       "      <td>India</td>\n",
       "      <td>Western</td>\n",
       "      <td>400.50</td>\n",
       "    </tr>\n",
       "    <tr>\n",
       "      <th>829</th>\n",
       "      <td>2021-12-30</td>\n",
       "      <td>James</td>\n",
       "      <td>Desktop</td>\n",
       "      <td>201.28</td>\n",
       "      <td>31</td>\n",
       "      <td>6239.68</td>\n",
       "      <td>South Africa</td>\n",
       "      <td>Export</td>\n",
       "      <td>500.70</td>\n",
       "    </tr>\n",
       "    <tr>\n",
       "      <th>830</th>\n",
       "      <td>2021-12-31</td>\n",
       "      <td>Richael</td>\n",
       "      <td>Phone</td>\n",
       "      <td>48.40</td>\n",
       "      <td>6</td>\n",
       "      <td>290.40</td>\n",
       "      <td>Pakistan</td>\n",
       "      <td>Export</td>\n",
       "      <td>350.40</td>\n",
       "    </tr>\n",
       "    <tr>\n",
       "      <th>831</th>\n",
       "      <td>2021-12-31</td>\n",
       "      <td>Smith</td>\n",
       "      <td>Desktop</td>\n",
       "      <td>119.70</td>\n",
       "      <td>12</td>\n",
       "      <td>1436.40</td>\n",
       "      <td>India</td>\n",
       "      <td>Western</td>\n",
       "      <td>500.70</td>\n",
       "    </tr>\n",
       "  </tbody>\n",
       "</table>\n",
       "<p>832 rows × 9 columns</p>\n",
       "</div>"
      ],
      "text/plain": [
       "          DATE CUSTOMER NAME  PRODUCT  UNIT PRICE ($)  QUANTITY  Actual Sales  \\\n",
       "0   2021-01-01       Rasford   Laptop          156.96         9       1412.64   \n",
       "1   2021-01-01        Sallah   Laptop          141.57         1        141.57   \n",
       "2   2021-01-02       Richael  Notepad           79.92        15       1198.80   \n",
       "3   2021-01-02       Richael  Desktop          119.70         1        119.70   \n",
       "4   2021-01-02       Richael    Phone           15.72         2         31.44   \n",
       "..         ...           ...      ...             ...       ...           ...   \n",
       "827 2021-12-30       Richael    Phone          164.28        13       2135.64   \n",
       "828 2021-12-30       Rasford  Notepad          173.88        14       2434.32   \n",
       "829 2021-12-30         James  Desktop          201.28        31       6239.68   \n",
       "830 2021-12-31       Richael    Phone           48.40         6        290.40   \n",
       "831 2021-12-31         Smith  Desktop          119.70        12       1436.40   \n",
       "\n",
       "          Country     Region  Unit Price  \n",
       "0           India    Western      710.78  \n",
       "1           India      South      710.78  \n",
       "2           India      North      400.50  \n",
       "3           India  Northeast      500.70  \n",
       "4           India  Northeast      350.40  \n",
       "..            ...        ...         ...  \n",
       "827         India      North      350.40  \n",
       "828         India    Western      400.50  \n",
       "829  South Africa     Export      500.70  \n",
       "830      Pakistan     Export      350.40  \n",
       "831         India    Western      500.70  \n",
       "\n",
       "[832 rows x 9 columns]"
      ]
     },
     "execution_count": 148,
     "metadata": {},
     "output_type": "execute_result"
    }
   ],
   "source": [
    "df"
   ]
  },
  {
   "cell_type": "code",
   "execution_count": 149,
   "id": "a5a0ca40",
   "metadata": {},
   "outputs": [
    {
     "data": {
      "text/plain": [
       "James        155\n",
       "Smith        126\n",
       "Richael      102\n",
       "White         93\n",
       "Rasford       83\n",
       "Anthony       31\n",
       "Alice         29\n",
       "Ismail        27\n",
       "Sancho        25\n",
       "Baily         25\n",
       "Fernandez     24\n",
       "Bellamy       24\n",
       "Shaw          23\n",
       "Sallah        22\n",
       "Kola          22\n",
       "Ada           21\n",
       "Name: CUSTOMER NAME, dtype: int64"
      ]
     },
     "execution_count": 149,
     "metadata": {},
     "output_type": "execute_result"
    }
   ],
   "source": [
    "df[\"CUSTOMER NAME\"].value_counts()"
   ]
  },
  {
   "cell_type": "code",
   "execution_count": 150,
   "id": "080caa15",
   "metadata": {},
   "outputs": [],
   "source": [
    "df.loc[df[\"CUSTOMER NAME\"]==\"James\", \"Supervisor\"]= \"Ferguson\"\n",
    "df.loc[df[\"CUSTOMER NAME\"]==\"Sallah\", \"Supervisor\"]= \"Ferguson\"\n",
    "df.loc[df[\"CUSTOMER NAME\"]==\"Kola\", \"Supervisor\"]= \"Ferguson\"\n",
    "df.loc[df[\"CUSTOMER NAME\"]==\"Sancho\", \"Supervisor\"]= \"Ferguson\"\n",
    "\n",
    "\n",
    "df.loc[df[\"CUSTOMER NAME\"]==\"Smith\", \"Supervisor\"]= \"Mark\"\n",
    "df.loc[df[\"CUSTOMER NAME\"]==\"White\", \"Supervisor\"]= \"Mark\"\n",
    "df.loc[df[\"CUSTOMER NAME\"]==\"Fernandez\", \"Supervisor\"]= \"Mark\"\n",
    "df.loc[df[\"CUSTOMER NAME\"]==\"Ada\", \"Supervisor\"]= \"Mark\"\n",
    "\n",
    "\n",
    "\n",
    "df.loc[df[\"CUSTOMER NAME\"]==\"Richael\", \"Supervisor\"]= \"Elon\"\n",
    "df.loc[df[\"CUSTOMER NAME\"]==\"Shaw\", \"Supervisor\"]= \"Elon\"\n",
    "df.loc[df[\"CUSTOMER NAME\"]==\"Bellamy\", \"Supervisor\"]= \"Elon\"\n",
    "df.loc[df[\"CUSTOMER NAME\"]==\"Baily\", \"Supervisor\"]= \"Elon\"\n",
    "df.loc[df[\"CUSTOMER NAME\"]==\"Ismail\", \"Supervisor\"]= \"Elon\"\n",
    "df.loc[df[\"CUSTOMER NAME\"]==\"Alice\", \"Supervisor\"]= \"Elon\"\n",
    "df.loc[df[\"CUSTOMER NAME\"]==\"Anthony\", \"Supervisor\"]= \"Elon\"\n",
    "df.loc[df[\"CUSTOMER NAME\"]==\"Rasford\", \"Supervisor\"]= \"Elon\"\n"
   ]
  },
  {
   "cell_type": "code",
   "execution_count": 151,
   "id": "f6d90136",
   "metadata": {},
   "outputs": [],
   "source": [
    "df.rename(columns={\"CUSTOMER NAME\": \"Sales rep\"}, inplace=True)"
   ]
  },
  {
   "cell_type": "code",
   "execution_count": 158,
   "id": "f752d4a7",
   "metadata": {},
   "outputs": [],
   "source": [
    "y = pd.read_csv(\"in.csv\")\n",
    "yy = pd.read_csv(\"in1.csv\")\n"
   ]
  },
  {
   "cell_type": "code",
   "execution_count": 161,
   "id": "76d2eab7",
   "metadata": {},
   "outputs": [],
   "source": [
    "u=pd.concat([y, yy], ignore_index=True)"
   ]
  },
  {
   "cell_type": "code",
   "execution_count": 163,
   "id": "9e8fb24b",
   "metadata": {},
   "outputs": [],
   "source": [
    "u[\"DATE\"]=pd.to_datetime(u[\"DATE\"])"
   ]
  },
  {
   "cell_type": "code",
   "execution_count": 165,
   "id": "59fd28bf",
   "metadata": {},
   "outputs": [],
   "source": [
    "u.to_csv(\"sales.csv\", index=False)"
   ]
  },
  {
   "cell_type": "code",
   "execution_count": null,
   "id": "c64d2dec",
   "metadata": {},
   "outputs": [],
   "source": []
  },
  {
   "cell_type": "code",
   "execution_count": 155,
   "id": "115d8083",
   "metadata": {},
   "outputs": [
    {
     "data": {
      "text/html": [
       "<div>\n",
       "<style scoped>\n",
       "    .dataframe tbody tr th:only-of-type {\n",
       "        vertical-align: middle;\n",
       "    }\n",
       "\n",
       "    .dataframe tbody tr th {\n",
       "        vertical-align: top;\n",
       "    }\n",
       "\n",
       "    .dataframe thead th {\n",
       "        text-align: right;\n",
       "    }\n",
       "</style>\n",
       "<table border=\"1\" class=\"dataframe\">\n",
       "  <thead>\n",
       "    <tr style=\"text-align: right;\">\n",
       "      <th></th>\n",
       "      <th>DATE</th>\n",
       "      <th>Sales rep</th>\n",
       "      <th>PRODUCT</th>\n",
       "      <th>QUANTITY</th>\n",
       "      <th>Country</th>\n",
       "      <th>Region</th>\n",
       "      <th>Unit Price</th>\n",
       "      <th>Supervisor</th>\n",
       "    </tr>\n",
       "  </thead>\n",
       "  <tbody>\n",
       "    <tr>\n",
       "      <th>304</th>\n",
       "      <td>2021-05-06</td>\n",
       "      <td>Rasford</td>\n",
       "      <td>Phone</td>\n",
       "      <td>6</td>\n",
       "      <td>India</td>\n",
       "      <td>Western</td>\n",
       "      <td>350.40</td>\n",
       "      <td>Elon</td>\n",
       "    </tr>\n",
       "    <tr>\n",
       "      <th>649</th>\n",
       "      <td>2021-10-06</td>\n",
       "      <td>Sancho</td>\n",
       "      <td>Notepad</td>\n",
       "      <td>17</td>\n",
       "      <td>India</td>\n",
       "      <td>Central</td>\n",
       "      <td>400.50</td>\n",
       "      <td>Ferguson</td>\n",
       "    </tr>\n",
       "    <tr>\n",
       "      <th>496</th>\n",
       "      <td>2021-07-27</td>\n",
       "      <td>White</td>\n",
       "      <td>Notepad</td>\n",
       "      <td>25</td>\n",
       "      <td>Mexico</td>\n",
       "      <td>Export</td>\n",
       "      <td>400.50</td>\n",
       "      <td>Mark</td>\n",
       "    </tr>\n",
       "    <tr>\n",
       "      <th>258</th>\n",
       "      <td>2021-04-15</td>\n",
       "      <td>Smith</td>\n",
       "      <td>Laptop</td>\n",
       "      <td>3</td>\n",
       "      <td>India</td>\n",
       "      <td>South</td>\n",
       "      <td>710.78</td>\n",
       "      <td>Mark</td>\n",
       "    </tr>\n",
       "    <tr>\n",
       "      <th>684</th>\n",
       "      <td>2021-10-24</td>\n",
       "      <td>Smith</td>\n",
       "      <td>Phone</td>\n",
       "      <td>3</td>\n",
       "      <td>India</td>\n",
       "      <td>Western</td>\n",
       "      <td>350.40</td>\n",
       "      <td>Mark</td>\n",
       "    </tr>\n",
       "    <tr>\n",
       "      <th>560</th>\n",
       "      <td>2021-08-28</td>\n",
       "      <td>James</td>\n",
       "      <td>Notepad</td>\n",
       "      <td>22</td>\n",
       "      <td>South Africa</td>\n",
       "      <td>Export</td>\n",
       "      <td>400.50</td>\n",
       "      <td>Ferguson</td>\n",
       "    </tr>\n",
       "    <tr>\n",
       "      <th>182</th>\n",
       "      <td>2021-03-14</td>\n",
       "      <td>Shaw</td>\n",
       "      <td>Notepad</td>\n",
       "      <td>32</td>\n",
       "      <td>United Kingdom</td>\n",
       "      <td>Export</td>\n",
       "      <td>400.50</td>\n",
       "      <td>Elon</td>\n",
       "    </tr>\n",
       "  </tbody>\n",
       "</table>\n",
       "</div>"
      ],
      "text/plain": [
       "          DATE Sales rep  PRODUCT  QUANTITY         Country   Region  \\\n",
       "304 2021-05-06   Rasford    Phone         6           India  Western   \n",
       "649 2021-10-06    Sancho  Notepad        17           India  Central   \n",
       "496 2021-07-27     White  Notepad        25          Mexico   Export   \n",
       "258 2021-04-15     Smith   Laptop         3           India    South   \n",
       "684 2021-10-24     Smith    Phone         3           India  Western   \n",
       "560 2021-08-28     James  Notepad        22    South Africa   Export   \n",
       "182 2021-03-14      Shaw  Notepad        32  United Kingdom   Export   \n",
       "\n",
       "     Unit Price Supervisor  \n",
       "304      350.40       Elon  \n",
       "649      400.50   Ferguson  \n",
       "496      400.50       Mark  \n",
       "258      710.78       Mark  \n",
       "684      350.40       Mark  \n",
       "560      400.50   Ferguson  \n",
       "182      400.50       Elon  "
      ]
     },
     "execution_count": 155,
     "metadata": {},
     "output_type": "execute_result"
    }
   ],
   "source": [
    "df.sample(7)"
   ]
  },
  {
   "cell_type": "code",
   "execution_count": 153,
   "id": "dbb46553",
   "metadata": {},
   "outputs": [],
   "source": [
    "df.drop(columns=[\"UNIT PRICE ($)\", \"Actual Sales\"], inplace=True)"
   ]
  },
  {
   "cell_type": "code",
   "execution_count": 154,
   "id": "2af20457",
   "metadata": {},
   "outputs": [
    {
     "data": {
      "text/plain": [
       "DATE          0\n",
       "Sales rep     0\n",
       "PRODUCT       0\n",
       "QUANTITY      0\n",
       "Country       0\n",
       "Region        0\n",
       "Unit Price    0\n",
       "Supervisor    0\n",
       "dtype: int64"
      ]
     },
     "execution_count": 154,
     "metadata": {},
     "output_type": "execute_result"
    }
   ],
   "source": [
    "df.isna().sum()"
   ]
  },
  {
   "cell_type": "code",
   "execution_count": 156,
   "id": "e39e98df",
   "metadata": {},
   "outputs": [],
   "source": [
    "df.to_csv(\"in.csv\", index=False)"
   ]
  },
  {
   "cell_type": "code",
   "execution_count": 1,
   "id": "68a04136",
   "metadata": {},
   "outputs": [],
   "source": [
    "import  psycopg2 as ps\n",
    "import pandas as pd\n",
    "from psycopg2 import errors as er\n",
    "import os\n",
    "\n",
    "password=os.environ.get(\"password\")"
   ]
  },
  {
   "cell_type": "markdown",
   "id": "80b2eac1",
   "metadata": {},
   "source": [
    "# Using PostgreSQL SELECT statement to query data from one column example"
   ]
  },
  {
   "cell_type": "code",
   "execution_count": null,
   "id": "b7ae5dbb",
   "metadata": {},
   "outputs": [],
   "source": []
  },
  {
   "cell_type": "code",
   "execution_count": 28,
   "id": "c047ecdb",
   "metadata": {},
   "outputs": [
    {
     "data": {
      "text/html": [
       "<div>\n",
       "<style scoped>\n",
       "    .dataframe tbody tr th:only-of-type {\n",
       "        vertical-align: middle;\n",
       "    }\n",
       "\n",
       "    .dataframe tbody tr th {\n",
       "        vertical-align: top;\n",
       "    }\n",
       "\n",
       "    .dataframe thead th {\n",
       "        text-align: right;\n",
       "    }\n",
       "</style>\n",
       "<table border=\"1\" class=\"dataframe\">\n",
       "  <thead>\n",
       "    <tr style=\"text-align: right;\">\n",
       "      <th></th>\n",
       "      <th>First Name</th>\n",
       "    </tr>\n",
       "  </thead>\n",
       "  <tbody>\n",
       "    <tr>\n",
       "      <th>0</th>\n",
       "      <td>Jared</td>\n",
       "    </tr>\n",
       "    <tr>\n",
       "      <th>1</th>\n",
       "      <td>Mary</td>\n",
       "    </tr>\n",
       "    <tr>\n",
       "      <th>2</th>\n",
       "      <td>Patricia</td>\n",
       "    </tr>\n",
       "    <tr>\n",
       "      <th>3</th>\n",
       "      <td>Linda</td>\n",
       "    </tr>\n",
       "    <tr>\n",
       "      <th>4</th>\n",
       "      <td>Barbara</td>\n",
       "    </tr>\n",
       "    <tr>\n",
       "      <th>...</th>\n",
       "      <td>...</td>\n",
       "    </tr>\n",
       "    <tr>\n",
       "      <th>594</th>\n",
       "      <td>Terrence</td>\n",
       "    </tr>\n",
       "    <tr>\n",
       "      <th>595</th>\n",
       "      <td>Enrique</td>\n",
       "    </tr>\n",
       "    <tr>\n",
       "      <th>596</th>\n",
       "      <td>Freddie</td>\n",
       "    </tr>\n",
       "    <tr>\n",
       "      <th>597</th>\n",
       "      <td>Wade</td>\n",
       "    </tr>\n",
       "    <tr>\n",
       "      <th>598</th>\n",
       "      <td>Austin</td>\n",
       "    </tr>\n",
       "  </tbody>\n",
       "</table>\n",
       "<p>599 rows × 1 columns</p>\n",
       "</div>"
      ],
      "text/plain": [
       "    First Name\n",
       "0        Jared\n",
       "1         Mary\n",
       "2     Patricia\n",
       "3        Linda\n",
       "4      Barbara\n",
       "..         ...\n",
       "594   Terrence\n",
       "595    Enrique\n",
       "596    Freddie\n",
       "597       Wade\n",
       "598     Austin\n",
       "\n",
       "[599 rows x 1 columns]"
      ]
     },
     "metadata": {},
     "output_type": "display_data"
    }
   ],
   "source": [
    "try:\n",
    "    connection = ps.connect(\n",
    "                user= \"postgres\",\n",
    "                password=password,\n",
    "                database= \"dvdRental\"   )  # connect to the postgres server\n",
    "    \n",
    "    \n",
    "    cursor = connection.cursor()   #  to be able to perform work on the database\n",
    "\n",
    "    show_database = \"SELECT first_name FROM customer;\" \n",
    "\n",
    "    cursor.execute(show_database)\n",
    "    result=cursor.fetchall()\n",
    "    result_df=pd.DataFrame(result, columns=[\"First Name\"])\n",
    "    display(result_df)\n",
    "except ():\n",
    "    print(\"error\")\n",
    "#finally:\n",
    " #   if connection:\n",
    "  #      cursor.close()\n",
    "   #     connection.close()        \n",
    "\n"
   ]
  },
  {
   "cell_type": "markdown",
   "id": "c6efd181",
   "metadata": {},
   "source": [
    "# 2) Using PostgreSQL SELECT statement to query data from multiple columns example"
   ]
  },
  {
   "cell_type": "code",
   "execution_count": 3,
   "id": "a2cc31f9",
   "metadata": {},
   "outputs": [
    {
     "data": {
      "text/html": [
       "<div>\n",
       "<style scoped>\n",
       "    .dataframe tbody tr th:only-of-type {\n",
       "        vertical-align: middle;\n",
       "    }\n",
       "\n",
       "    .dataframe tbody tr th {\n",
       "        vertical-align: top;\n",
       "    }\n",
       "\n",
       "    .dataframe thead th {\n",
       "        text-align: right;\n",
       "    }\n",
       "</style>\n",
       "<table border=\"1\" class=\"dataframe\">\n",
       "  <thead>\n",
       "    <tr style=\"text-align: right;\">\n",
       "      <th></th>\n",
       "      <th>first name</th>\n",
       "      <th>last name</th>\n",
       "      <th>email</th>\n",
       "    </tr>\n",
       "  </thead>\n",
       "  <tbody>\n",
       "    <tr>\n",
       "      <th>0</th>\n",
       "      <td>Jared</td>\n",
       "      <td>Ely</td>\n",
       "      <td>jared.ely@sakilacustomer.org</td>\n",
       "    </tr>\n",
       "    <tr>\n",
       "      <th>1</th>\n",
       "      <td>Mary</td>\n",
       "      <td>Smith</td>\n",
       "      <td>mary.smith@sakilacustomer.org</td>\n",
       "    </tr>\n",
       "    <tr>\n",
       "      <th>2</th>\n",
       "      <td>Patricia</td>\n",
       "      <td>Johnson</td>\n",
       "      <td>patricia.johnson@sakilacustomer.org</td>\n",
       "    </tr>\n",
       "    <tr>\n",
       "      <th>3</th>\n",
       "      <td>Linda</td>\n",
       "      <td>Williams</td>\n",
       "      <td>linda.williams@sakilacustomer.org</td>\n",
       "    </tr>\n",
       "    <tr>\n",
       "      <th>4</th>\n",
       "      <td>Barbara</td>\n",
       "      <td>Jones</td>\n",
       "      <td>barbara.jones@sakilacustomer.org</td>\n",
       "    </tr>\n",
       "    <tr>\n",
       "      <th>...</th>\n",
       "      <td>...</td>\n",
       "      <td>...</td>\n",
       "      <td>...</td>\n",
       "    </tr>\n",
       "    <tr>\n",
       "      <th>594</th>\n",
       "      <td>Terrence</td>\n",
       "      <td>Gunderson</td>\n",
       "      <td>terrence.gunderson@sakilacustomer.org</td>\n",
       "    </tr>\n",
       "    <tr>\n",
       "      <th>595</th>\n",
       "      <td>Enrique</td>\n",
       "      <td>Forsythe</td>\n",
       "      <td>enrique.forsythe@sakilacustomer.org</td>\n",
       "    </tr>\n",
       "    <tr>\n",
       "      <th>596</th>\n",
       "      <td>Freddie</td>\n",
       "      <td>Duggan</td>\n",
       "      <td>freddie.duggan@sakilacustomer.org</td>\n",
       "    </tr>\n",
       "    <tr>\n",
       "      <th>597</th>\n",
       "      <td>Wade</td>\n",
       "      <td>Delvalle</td>\n",
       "      <td>wade.delvalle@sakilacustomer.org</td>\n",
       "    </tr>\n",
       "    <tr>\n",
       "      <th>598</th>\n",
       "      <td>Austin</td>\n",
       "      <td>Cintron</td>\n",
       "      <td>austin.cintron@sakilacustomer.org</td>\n",
       "    </tr>\n",
       "  </tbody>\n",
       "</table>\n",
       "<p>599 rows × 3 columns</p>\n",
       "</div>"
      ],
      "text/plain": [
       "    first name  last name                                  email\n",
       "0        Jared        Ely           jared.ely@sakilacustomer.org\n",
       "1         Mary      Smith          mary.smith@sakilacustomer.org\n",
       "2     Patricia    Johnson    patricia.johnson@sakilacustomer.org\n",
       "3        Linda   Williams      linda.williams@sakilacustomer.org\n",
       "4      Barbara      Jones       barbara.jones@sakilacustomer.org\n",
       "..         ...        ...                                    ...\n",
       "594   Terrence  Gunderson  terrence.gunderson@sakilacustomer.org\n",
       "595    Enrique   Forsythe    enrique.forsythe@sakilacustomer.org\n",
       "596    Freddie     Duggan      freddie.duggan@sakilacustomer.org\n",
       "597       Wade   Delvalle       wade.delvalle@sakilacustomer.org\n",
       "598     Austin    Cintron      austin.cintron@sakilacustomer.org\n",
       "\n",
       "[599 rows x 3 columns]"
      ]
     },
     "metadata": {},
     "output_type": "display_data"
    }
   ],
   "source": [
    "try:\n",
    "    multiple_columns= \"SELECT first_name, last_name, email FROM customer;\"\n",
    "    cursor.execute(multiple_columns)\n",
    "    result=cursor.fetchall()\n",
    "    result_df1= pd.DataFrame(result, columns=[\"first name\", \"last name\", \"email\"])\n",
    "    display(result_df1)\n",
    "except (Exception, errors):\n",
    "    print(errors)"
   ]
  },
  {
   "cell_type": "markdown",
   "id": "b85d5675",
   "metadata": {},
   "source": [
    "# 3) Using PostgreSQL SELECT statement to query data from all columns of a table example"
   ]
  },
  {
   "cell_type": "code",
   "execution_count": 4,
   "id": "a42f73f0",
   "metadata": {},
   "outputs": [
    {
     "data": {
      "text/html": [
       "<div>\n",
       "<style scoped>\n",
       "    .dataframe tbody tr th:only-of-type {\n",
       "        vertical-align: middle;\n",
       "    }\n",
       "\n",
       "    .dataframe tbody tr th {\n",
       "        vertical-align: top;\n",
       "    }\n",
       "\n",
       "    .dataframe thead th {\n",
       "        text-align: right;\n",
       "    }\n",
       "</style>\n",
       "<table border=\"1\" class=\"dataframe\">\n",
       "  <thead>\n",
       "    <tr style=\"text-align: right;\">\n",
       "      <th></th>\n",
       "      <th>customer_id</th>\n",
       "      <th>store_id</th>\n",
       "      <th>first_name</th>\n",
       "      <th>last_name</th>\n",
       "      <th>email</th>\n",
       "      <th>adddress_id</th>\n",
       "      <th>activate_bool</th>\n",
       "      <th>created_date</th>\n",
       "      <th>last_updated</th>\n",
       "      <th>active</th>\n",
       "    </tr>\n",
       "  </thead>\n",
       "  <tbody>\n",
       "    <tr>\n",
       "      <th>0</th>\n",
       "      <td>524</td>\n",
       "      <td>1</td>\n",
       "      <td>Jared</td>\n",
       "      <td>Ely</td>\n",
       "      <td>jared.ely@sakilacustomer.org</td>\n",
       "      <td>530</td>\n",
       "      <td>True</td>\n",
       "      <td>2006-02-14</td>\n",
       "      <td>2013-05-26 14:49:45.738</td>\n",
       "      <td>1</td>\n",
       "    </tr>\n",
       "    <tr>\n",
       "      <th>1</th>\n",
       "      <td>1</td>\n",
       "      <td>1</td>\n",
       "      <td>Mary</td>\n",
       "      <td>Smith</td>\n",
       "      <td>mary.smith@sakilacustomer.org</td>\n",
       "      <td>5</td>\n",
       "      <td>True</td>\n",
       "      <td>2006-02-14</td>\n",
       "      <td>2013-05-26 14:49:45.738</td>\n",
       "      <td>1</td>\n",
       "    </tr>\n",
       "    <tr>\n",
       "      <th>2</th>\n",
       "      <td>2</td>\n",
       "      <td>1</td>\n",
       "      <td>Patricia</td>\n",
       "      <td>Johnson</td>\n",
       "      <td>patricia.johnson@sakilacustomer.org</td>\n",
       "      <td>6</td>\n",
       "      <td>True</td>\n",
       "      <td>2006-02-14</td>\n",
       "      <td>2013-05-26 14:49:45.738</td>\n",
       "      <td>1</td>\n",
       "    </tr>\n",
       "    <tr>\n",
       "      <th>3</th>\n",
       "      <td>3</td>\n",
       "      <td>1</td>\n",
       "      <td>Linda</td>\n",
       "      <td>Williams</td>\n",
       "      <td>linda.williams@sakilacustomer.org</td>\n",
       "      <td>7</td>\n",
       "      <td>True</td>\n",
       "      <td>2006-02-14</td>\n",
       "      <td>2013-05-26 14:49:45.738</td>\n",
       "      <td>1</td>\n",
       "    </tr>\n",
       "    <tr>\n",
       "      <th>4</th>\n",
       "      <td>4</td>\n",
       "      <td>2</td>\n",
       "      <td>Barbara</td>\n",
       "      <td>Jones</td>\n",
       "      <td>barbara.jones@sakilacustomer.org</td>\n",
       "      <td>8</td>\n",
       "      <td>True</td>\n",
       "      <td>2006-02-14</td>\n",
       "      <td>2013-05-26 14:49:45.738</td>\n",
       "      <td>1</td>\n",
       "    </tr>\n",
       "    <tr>\n",
       "      <th>...</th>\n",
       "      <td>...</td>\n",
       "      <td>...</td>\n",
       "      <td>...</td>\n",
       "      <td>...</td>\n",
       "      <td>...</td>\n",
       "      <td>...</td>\n",
       "      <td>...</td>\n",
       "      <td>...</td>\n",
       "      <td>...</td>\n",
       "      <td>...</td>\n",
       "    </tr>\n",
       "    <tr>\n",
       "      <th>594</th>\n",
       "      <td>595</td>\n",
       "      <td>1</td>\n",
       "      <td>Terrence</td>\n",
       "      <td>Gunderson</td>\n",
       "      <td>terrence.gunderson@sakilacustomer.org</td>\n",
       "      <td>601</td>\n",
       "      <td>True</td>\n",
       "      <td>2006-02-14</td>\n",
       "      <td>2013-05-26 14:49:45.738</td>\n",
       "      <td>1</td>\n",
       "    </tr>\n",
       "    <tr>\n",
       "      <th>595</th>\n",
       "      <td>596</td>\n",
       "      <td>1</td>\n",
       "      <td>Enrique</td>\n",
       "      <td>Forsythe</td>\n",
       "      <td>enrique.forsythe@sakilacustomer.org</td>\n",
       "      <td>602</td>\n",
       "      <td>True</td>\n",
       "      <td>2006-02-14</td>\n",
       "      <td>2013-05-26 14:49:45.738</td>\n",
       "      <td>1</td>\n",
       "    </tr>\n",
       "    <tr>\n",
       "      <th>596</th>\n",
       "      <td>597</td>\n",
       "      <td>1</td>\n",
       "      <td>Freddie</td>\n",
       "      <td>Duggan</td>\n",
       "      <td>freddie.duggan@sakilacustomer.org</td>\n",
       "      <td>603</td>\n",
       "      <td>True</td>\n",
       "      <td>2006-02-14</td>\n",
       "      <td>2013-05-26 14:49:45.738</td>\n",
       "      <td>1</td>\n",
       "    </tr>\n",
       "    <tr>\n",
       "      <th>597</th>\n",
       "      <td>598</td>\n",
       "      <td>1</td>\n",
       "      <td>Wade</td>\n",
       "      <td>Delvalle</td>\n",
       "      <td>wade.delvalle@sakilacustomer.org</td>\n",
       "      <td>604</td>\n",
       "      <td>True</td>\n",
       "      <td>2006-02-14</td>\n",
       "      <td>2013-05-26 14:49:45.738</td>\n",
       "      <td>1</td>\n",
       "    </tr>\n",
       "    <tr>\n",
       "      <th>598</th>\n",
       "      <td>599</td>\n",
       "      <td>2</td>\n",
       "      <td>Austin</td>\n",
       "      <td>Cintron</td>\n",
       "      <td>austin.cintron@sakilacustomer.org</td>\n",
       "      <td>605</td>\n",
       "      <td>True</td>\n",
       "      <td>2006-02-14</td>\n",
       "      <td>2013-05-26 14:49:45.738</td>\n",
       "      <td>1</td>\n",
       "    </tr>\n",
       "  </tbody>\n",
       "</table>\n",
       "<p>599 rows × 10 columns</p>\n",
       "</div>"
      ],
      "text/plain": [
       "     customer_id  store_id first_name  last_name  \\\n",
       "0            524         1      Jared        Ely   \n",
       "1              1         1       Mary      Smith   \n",
       "2              2         1   Patricia    Johnson   \n",
       "3              3         1      Linda   Williams   \n",
       "4              4         2    Barbara      Jones   \n",
       "..           ...       ...        ...        ...   \n",
       "594          595         1   Terrence  Gunderson   \n",
       "595          596         1    Enrique   Forsythe   \n",
       "596          597         1    Freddie     Duggan   \n",
       "597          598         1       Wade   Delvalle   \n",
       "598          599         2     Austin    Cintron   \n",
       "\n",
       "                                     email  adddress_id  activate_bool  \\\n",
       "0             jared.ely@sakilacustomer.org          530           True   \n",
       "1            mary.smith@sakilacustomer.org            5           True   \n",
       "2      patricia.johnson@sakilacustomer.org            6           True   \n",
       "3        linda.williams@sakilacustomer.org            7           True   \n",
       "4         barbara.jones@sakilacustomer.org            8           True   \n",
       "..                                     ...          ...            ...   \n",
       "594  terrence.gunderson@sakilacustomer.org          601           True   \n",
       "595    enrique.forsythe@sakilacustomer.org          602           True   \n",
       "596      freddie.duggan@sakilacustomer.org          603           True   \n",
       "597       wade.delvalle@sakilacustomer.org          604           True   \n",
       "598      austin.cintron@sakilacustomer.org          605           True   \n",
       "\n",
       "    created_date            last_updated  active  \n",
       "0     2006-02-14 2013-05-26 14:49:45.738       1  \n",
       "1     2006-02-14 2013-05-26 14:49:45.738       1  \n",
       "2     2006-02-14 2013-05-26 14:49:45.738       1  \n",
       "3     2006-02-14 2013-05-26 14:49:45.738       1  \n",
       "4     2006-02-14 2013-05-26 14:49:45.738       1  \n",
       "..           ...                     ...     ...  \n",
       "594   2006-02-14 2013-05-26 14:49:45.738       1  \n",
       "595   2006-02-14 2013-05-26 14:49:45.738       1  \n",
       "596   2006-02-14 2013-05-26 14:49:45.738       1  \n",
       "597   2006-02-14 2013-05-26 14:49:45.738       1  \n",
       "598   2006-02-14 2013-05-26 14:49:45.738       1  \n",
       "\n",
       "[599 rows x 10 columns]"
      ]
     },
     "metadata": {},
     "output_type": "display_data"
    }
   ],
   "source": [
    "try:\n",
    "    multiple_columns= \"SELECT * FROM customer;\"\n",
    "    cursor.execute(multiple_columns)\n",
    "    result=cursor.fetchall()\n",
    "    result_df1= pd.DataFrame(result, columns=[\"customer_id\", \"store_id\", \"first_name\", \"last_name\", \"email\", \"adddress_id\"\n",
    "                                             , \"activate_bool\", \"created_date\", \"last_updated\", \"active\"])\n",
    "    display(result_df1)\n",
    "except (Exception, errors):\n",
    "    print(errors)"
   ]
  },
  {
   "cell_type": "markdown",
   "id": "c41a0b35",
   "metadata": {},
   "source": [
    "# select the firstname and lastname as fullname and email from customer's table"
   ]
  },
  {
   "cell_type": "code",
   "execution_count": 5,
   "id": "b2ee7431",
   "metadata": {},
   "outputs": [
    {
     "data": {
      "text/html": [
       "<div>\n",
       "<style scoped>\n",
       "    .dataframe tbody tr th:only-of-type {\n",
       "        vertical-align: middle;\n",
       "    }\n",
       "\n",
       "    .dataframe tbody tr th {\n",
       "        vertical-align: top;\n",
       "    }\n",
       "\n",
       "    .dataframe thead th {\n",
       "        text-align: right;\n",
       "    }\n",
       "</style>\n",
       "<table border=\"1\" class=\"dataframe\">\n",
       "  <thead>\n",
       "    <tr style=\"text-align: right;\">\n",
       "      <th></th>\n",
       "      <th>fullname</th>\n",
       "      <th>email</th>\n",
       "    </tr>\n",
       "  </thead>\n",
       "  <tbody>\n",
       "    <tr>\n",
       "      <th>0</th>\n",
       "      <td>Jared Ely</td>\n",
       "      <td>jared.ely@sakilacustomer.org</td>\n",
       "    </tr>\n",
       "    <tr>\n",
       "      <th>1</th>\n",
       "      <td>Mary Smith</td>\n",
       "      <td>mary.smith@sakilacustomer.org</td>\n",
       "    </tr>\n",
       "    <tr>\n",
       "      <th>2</th>\n",
       "      <td>Patricia Johnson</td>\n",
       "      <td>patricia.johnson@sakilacustomer.org</td>\n",
       "    </tr>\n",
       "    <tr>\n",
       "      <th>3</th>\n",
       "      <td>Linda Williams</td>\n",
       "      <td>linda.williams@sakilacustomer.org</td>\n",
       "    </tr>\n",
       "    <tr>\n",
       "      <th>4</th>\n",
       "      <td>Barbara Jones</td>\n",
       "      <td>barbara.jones@sakilacustomer.org</td>\n",
       "    </tr>\n",
       "    <tr>\n",
       "      <th>...</th>\n",
       "      <td>...</td>\n",
       "      <td>...</td>\n",
       "    </tr>\n",
       "    <tr>\n",
       "      <th>594</th>\n",
       "      <td>Terrence Gunderson</td>\n",
       "      <td>terrence.gunderson@sakilacustomer.org</td>\n",
       "    </tr>\n",
       "    <tr>\n",
       "      <th>595</th>\n",
       "      <td>Enrique Forsythe</td>\n",
       "      <td>enrique.forsythe@sakilacustomer.org</td>\n",
       "    </tr>\n",
       "    <tr>\n",
       "      <th>596</th>\n",
       "      <td>Freddie Duggan</td>\n",
       "      <td>freddie.duggan@sakilacustomer.org</td>\n",
       "    </tr>\n",
       "    <tr>\n",
       "      <th>597</th>\n",
       "      <td>Wade Delvalle</td>\n",
       "      <td>wade.delvalle@sakilacustomer.org</td>\n",
       "    </tr>\n",
       "    <tr>\n",
       "      <th>598</th>\n",
       "      <td>Austin Cintron</td>\n",
       "      <td>austin.cintron@sakilacustomer.org</td>\n",
       "    </tr>\n",
       "  </tbody>\n",
       "</table>\n",
       "<p>599 rows × 2 columns</p>\n",
       "</div>"
      ],
      "text/plain": [
       "               fullname                                  email\n",
       "0             Jared Ely           jared.ely@sakilacustomer.org\n",
       "1            Mary Smith          mary.smith@sakilacustomer.org\n",
       "2      Patricia Johnson    patricia.johnson@sakilacustomer.org\n",
       "3        Linda Williams      linda.williams@sakilacustomer.org\n",
       "4         Barbara Jones       barbara.jones@sakilacustomer.org\n",
       "..                  ...                                    ...\n",
       "594  Terrence Gunderson  terrence.gunderson@sakilacustomer.org\n",
       "595    Enrique Forsythe    enrique.forsythe@sakilacustomer.org\n",
       "596      Freddie Duggan      freddie.duggan@sakilacustomer.org\n",
       "597       Wade Delvalle       wade.delvalle@sakilacustomer.org\n",
       "598      Austin Cintron      austin.cintron@sakilacustomer.org\n",
       "\n",
       "[599 rows x 2 columns]"
      ]
     },
     "metadata": {},
     "output_type": "display_data"
    }
   ],
   "source": [
    "try:\n",
    "    task= \"SELECT first_name || ' ' || last_name as fullname, email FROM customer;\"\n",
    "    cursor.execute(task)\n",
    "    result= cursor.fetchall()\n",
    "    record=pd.DataFrame(result, columns=[\"fullname\", \"email\"])\n",
    "    display(record)\n",
    "except:\n",
    "    print(errors)"
   ]
  },
  {
   "cell_type": "code",
   "execution_count": null,
   "id": "a44bb257",
   "metadata": {},
   "outputs": [],
   "source": []
  },
  {
   "cell_type": "markdown",
   "id": "ec53adcb",
   "metadata": {},
   "source": [
    "# ORDER BY\n",
    "### SELECT the firstname and the lastname of customers and  sort customers by their first names in ascending order:"
   ]
  },
  {
   "cell_type": "code",
   "execution_count": 6,
   "id": "a6ebb17f",
   "metadata": {},
   "outputs": [
    {
     "data": {
      "text/html": [
       "<div>\n",
       "<style scoped>\n",
       "    .dataframe tbody tr th:only-of-type {\n",
       "        vertical-align: middle;\n",
       "    }\n",
       "\n",
       "    .dataframe tbody tr th {\n",
       "        vertical-align: top;\n",
       "    }\n",
       "\n",
       "    .dataframe thead th {\n",
       "        text-align: right;\n",
       "    }\n",
       "</style>\n",
       "<table border=\"1\" class=\"dataframe\">\n",
       "  <thead>\n",
       "    <tr style=\"text-align: right;\">\n",
       "      <th></th>\n",
       "      <th>first name</th>\n",
       "      <th>last name</th>\n",
       "    </tr>\n",
       "  </thead>\n",
       "  <tbody>\n",
       "    <tr>\n",
       "      <th>0</th>\n",
       "      <td>Aaron</td>\n",
       "      <td>Selby</td>\n",
       "    </tr>\n",
       "    <tr>\n",
       "      <th>1</th>\n",
       "      <td>Adam</td>\n",
       "      <td>Gooch</td>\n",
       "    </tr>\n",
       "    <tr>\n",
       "      <th>2</th>\n",
       "      <td>Adrian</td>\n",
       "      <td>Clary</td>\n",
       "    </tr>\n",
       "    <tr>\n",
       "      <th>3</th>\n",
       "      <td>Agnes</td>\n",
       "      <td>Bishop</td>\n",
       "    </tr>\n",
       "    <tr>\n",
       "      <th>4</th>\n",
       "      <td>Alan</td>\n",
       "      <td>Kahn</td>\n",
       "    </tr>\n",
       "    <tr>\n",
       "      <th>...</th>\n",
       "      <td>...</td>\n",
       "      <td>...</td>\n",
       "    </tr>\n",
       "    <tr>\n",
       "      <th>594</th>\n",
       "      <td>Willie</td>\n",
       "      <td>Howell</td>\n",
       "    </tr>\n",
       "    <tr>\n",
       "      <th>595</th>\n",
       "      <td>Wilma</td>\n",
       "      <td>Richards</td>\n",
       "    </tr>\n",
       "    <tr>\n",
       "      <th>596</th>\n",
       "      <td>Yolanda</td>\n",
       "      <td>Weaver</td>\n",
       "    </tr>\n",
       "    <tr>\n",
       "      <th>597</th>\n",
       "      <td>Yvonne</td>\n",
       "      <td>Watkins</td>\n",
       "    </tr>\n",
       "    <tr>\n",
       "      <th>598</th>\n",
       "      <td>Zachary</td>\n",
       "      <td>Hite</td>\n",
       "    </tr>\n",
       "  </tbody>\n",
       "</table>\n",
       "<p>599 rows × 2 columns</p>\n",
       "</div>"
      ],
      "text/plain": [
       "    first name last name\n",
       "0        Aaron     Selby\n",
       "1         Adam     Gooch\n",
       "2       Adrian     Clary\n",
       "3        Agnes    Bishop\n",
       "4         Alan      Kahn\n",
       "..         ...       ...\n",
       "594     Willie    Howell\n",
       "595      Wilma  Richards\n",
       "596    Yolanda    Weaver\n",
       "597     Yvonne   Watkins\n",
       "598    Zachary      Hite\n",
       "\n",
       "[599 rows x 2 columns]"
      ]
     },
     "metadata": {},
     "output_type": "display_data"
    }
   ],
   "source": [
    "try:\n",
    "    task = \"SELECT first_name, last_name FROM customer ORDER BY first_name ASC;\"\n",
    "    cursor.execute(task)\n",
    "    result=cursor.fetchall()\n",
    "    record = pd.DataFrame(result, columns=[\"first name\", \"last name\"])\n",
    "    display(record)\n",
    "except:\n",
    "    print(errors)"
   ]
  },
  {
   "cell_type": "markdown",
   "id": "dd107e3b",
   "metadata": {},
   "source": [
    "### SELECT the firstname and the lastname of customers and  sort customers by their first names in decending order:"
   ]
  },
  {
   "cell_type": "code",
   "execution_count": 7,
   "id": "fc88e7fd",
   "metadata": {},
   "outputs": [
    {
     "data": {
      "text/html": [
       "<div>\n",
       "<style scoped>\n",
       "    .dataframe tbody tr th:only-of-type {\n",
       "        vertical-align: middle;\n",
       "    }\n",
       "\n",
       "    .dataframe tbody tr th {\n",
       "        vertical-align: top;\n",
       "    }\n",
       "\n",
       "    .dataframe thead th {\n",
       "        text-align: right;\n",
       "    }\n",
       "</style>\n",
       "<table border=\"1\" class=\"dataframe\">\n",
       "  <thead>\n",
       "    <tr style=\"text-align: right;\">\n",
       "      <th></th>\n",
       "      <th>first name</th>\n",
       "      <th>last name</th>\n",
       "    </tr>\n",
       "  </thead>\n",
       "  <tbody>\n",
       "    <tr>\n",
       "      <th>0</th>\n",
       "      <td>Zachary</td>\n",
       "      <td>Hite</td>\n",
       "    </tr>\n",
       "    <tr>\n",
       "      <th>1</th>\n",
       "      <td>Yvonne</td>\n",
       "      <td>Watkins</td>\n",
       "    </tr>\n",
       "    <tr>\n",
       "      <th>2</th>\n",
       "      <td>Yolanda</td>\n",
       "      <td>Weaver</td>\n",
       "    </tr>\n",
       "    <tr>\n",
       "      <th>3</th>\n",
       "      <td>Wilma</td>\n",
       "      <td>Richards</td>\n",
       "    </tr>\n",
       "    <tr>\n",
       "      <th>4</th>\n",
       "      <td>Willie</td>\n",
       "      <td>Markham</td>\n",
       "    </tr>\n",
       "    <tr>\n",
       "      <th>...</th>\n",
       "      <td>...</td>\n",
       "      <td>...</td>\n",
       "    </tr>\n",
       "    <tr>\n",
       "      <th>594</th>\n",
       "      <td>Alan</td>\n",
       "      <td>Kahn</td>\n",
       "    </tr>\n",
       "    <tr>\n",
       "      <th>595</th>\n",
       "      <td>Agnes</td>\n",
       "      <td>Bishop</td>\n",
       "    </tr>\n",
       "    <tr>\n",
       "      <th>596</th>\n",
       "      <td>Adrian</td>\n",
       "      <td>Clary</td>\n",
       "    </tr>\n",
       "    <tr>\n",
       "      <th>597</th>\n",
       "      <td>Adam</td>\n",
       "      <td>Gooch</td>\n",
       "    </tr>\n",
       "    <tr>\n",
       "      <th>598</th>\n",
       "      <td>Aaron</td>\n",
       "      <td>Selby</td>\n",
       "    </tr>\n",
       "  </tbody>\n",
       "</table>\n",
       "<p>599 rows × 2 columns</p>\n",
       "</div>"
      ],
      "text/plain": [
       "    first name last name\n",
       "0      Zachary      Hite\n",
       "1       Yvonne   Watkins\n",
       "2      Yolanda    Weaver\n",
       "3        Wilma  Richards\n",
       "4       Willie   Markham\n",
       "..         ...       ...\n",
       "594       Alan      Kahn\n",
       "595      Agnes    Bishop\n",
       "596     Adrian     Clary\n",
       "597       Adam     Gooch\n",
       "598      Aaron     Selby\n",
       "\n",
       "[599 rows x 2 columns]"
      ]
     },
     "metadata": {},
     "output_type": "display_data"
    }
   ],
   "source": [
    "try:\n",
    "    task = \"SELECT first_name, last_name FROM customer ORDER BY first_name DESC;\"\n",
    "    cursor.execute(task)\n",
    "    result=cursor.fetchall()\n",
    "    record = pd.DataFrame(result, columns=[\"first name\", \"last name\"])\n",
    "    display(record)\n",
    "except:\n",
    "    print(errors)"
   ]
  },
  {
   "cell_type": "markdown",
   "id": "7f4f3bfc",
   "metadata": {},
   "source": [
    "# SELECT the firstname and the lastname of the customer and sorting using the firstname in ascending order and the lastname in descenidng order\\"
   ]
  },
  {
   "cell_type": "code",
   "execution_count": 8,
   "id": "63b3891b",
   "metadata": {},
   "outputs": [
    {
     "data": {
      "text/html": [
       "<div>\n",
       "<style scoped>\n",
       "    .dataframe tbody tr th:only-of-type {\n",
       "        vertical-align: middle;\n",
       "    }\n",
       "\n",
       "    .dataframe tbody tr th {\n",
       "        vertical-align: top;\n",
       "    }\n",
       "\n",
       "    .dataframe thead th {\n",
       "        text-align: right;\n",
       "    }\n",
       "</style>\n",
       "<table border=\"1\" class=\"dataframe\">\n",
       "  <thead>\n",
       "    <tr style=\"text-align: right;\">\n",
       "      <th></th>\n",
       "      <th>first name</th>\n",
       "      <th>last name</th>\n",
       "    </tr>\n",
       "  </thead>\n",
       "  <tbody>\n",
       "    <tr>\n",
       "      <th>0</th>\n",
       "      <td>Aaron</td>\n",
       "      <td>Selby</td>\n",
       "    </tr>\n",
       "    <tr>\n",
       "      <th>1</th>\n",
       "      <td>Adam</td>\n",
       "      <td>Gooch</td>\n",
       "    </tr>\n",
       "    <tr>\n",
       "      <th>2</th>\n",
       "      <td>Adrian</td>\n",
       "      <td>Clary</td>\n",
       "    </tr>\n",
       "    <tr>\n",
       "      <th>3</th>\n",
       "      <td>Agnes</td>\n",
       "      <td>Bishop</td>\n",
       "    </tr>\n",
       "    <tr>\n",
       "      <th>4</th>\n",
       "      <td>Alan</td>\n",
       "      <td>Kahn</td>\n",
       "    </tr>\n",
       "    <tr>\n",
       "      <th>...</th>\n",
       "      <td>...</td>\n",
       "      <td>...</td>\n",
       "    </tr>\n",
       "    <tr>\n",
       "      <th>594</th>\n",
       "      <td>Willie</td>\n",
       "      <td>Howell</td>\n",
       "    </tr>\n",
       "    <tr>\n",
       "      <th>595</th>\n",
       "      <td>Wilma</td>\n",
       "      <td>Richards</td>\n",
       "    </tr>\n",
       "    <tr>\n",
       "      <th>596</th>\n",
       "      <td>Yolanda</td>\n",
       "      <td>Weaver</td>\n",
       "    </tr>\n",
       "    <tr>\n",
       "      <th>597</th>\n",
       "      <td>Yvonne</td>\n",
       "      <td>Watkins</td>\n",
       "    </tr>\n",
       "    <tr>\n",
       "      <th>598</th>\n",
       "      <td>Zachary</td>\n",
       "      <td>Hite</td>\n",
       "    </tr>\n",
       "  </tbody>\n",
       "</table>\n",
       "<p>599 rows × 2 columns</p>\n",
       "</div>"
      ],
      "text/plain": [
       "    first name last name\n",
       "0        Aaron     Selby\n",
       "1         Adam     Gooch\n",
       "2       Adrian     Clary\n",
       "3        Agnes    Bishop\n",
       "4         Alan      Kahn\n",
       "..         ...       ...\n",
       "594     Willie    Howell\n",
       "595      Wilma  Richards\n",
       "596    Yolanda    Weaver\n",
       "597     Yvonne   Watkins\n",
       "598    Zachary      Hite\n",
       "\n",
       "[599 rows x 2 columns]"
      ]
     },
     "metadata": {},
     "output_type": "display_data"
    }
   ],
   "source": [
    "try:\n",
    "    task = \"SELECT first_name, last_name FROM customer ORDER BY first_name ASC, last_name DESC;\"\n",
    "    cursor.execute(task)\n",
    "    result=cursor.fetchall()\n",
    "    record = pd.DataFrame(result, columns=[\"first name\", \"last name\"])\n",
    "    display(record)\n",
    "except:\n",
    "    print(errors)"
   ]
  },
  {
   "cell_type": "markdown",
   "id": "eba87910",
   "metadata": {},
   "source": [
    "# select the firstname, and length of the firstname, and the lastname of the customer and sort by the length of the firstname in descending order"
   ]
  },
  {
   "cell_type": "code",
   "execution_count": 9,
   "id": "cbba3caa",
   "metadata": {},
   "outputs": [
    {
     "data": {
      "text/html": [
       "<div>\n",
       "<style scoped>\n",
       "    .dataframe tbody tr th:only-of-type {\n",
       "        vertical-align: middle;\n",
       "    }\n",
       "\n",
       "    .dataframe tbody tr th {\n",
       "        vertical-align: top;\n",
       "    }\n",
       "\n",
       "    .dataframe thead th {\n",
       "        text-align: right;\n",
       "    }\n",
       "</style>\n",
       "<table border=\"1\" class=\"dataframe\">\n",
       "  <thead>\n",
       "    <tr style=\"text-align: right;\">\n",
       "      <th></th>\n",
       "      <th>first name</th>\n",
       "      <th>len</th>\n",
       "      <th>lastname</th>\n",
       "    </tr>\n",
       "  </thead>\n",
       "  <tbody>\n",
       "    <tr>\n",
       "      <th>0</th>\n",
       "      <td>Christopher</td>\n",
       "      <td>11</td>\n",
       "      <td>Greco</td>\n",
       "    </tr>\n",
       "    <tr>\n",
       "      <th>1</th>\n",
       "      <td>Jacqueline</td>\n",
       "      <td>10</td>\n",
       "      <td>Long</td>\n",
       "    </tr>\n",
       "    <tr>\n",
       "      <th>2</th>\n",
       "      <td>Constance</td>\n",
       "      <td>9</td>\n",
       "      <td>Reid</td>\n",
       "    </tr>\n",
       "    <tr>\n",
       "      <th>3</th>\n",
       "      <td>Katherine</td>\n",
       "      <td>9</td>\n",
       "      <td>Rivera</td>\n",
       "    </tr>\n",
       "    <tr>\n",
       "      <th>4</th>\n",
       "      <td>Nathaniel</td>\n",
       "      <td>9</td>\n",
       "      <td>Adam</td>\n",
       "    </tr>\n",
       "    <tr>\n",
       "      <th>...</th>\n",
       "      <td>...</td>\n",
       "      <td>...</td>\n",
       "      <td>...</td>\n",
       "    </tr>\n",
       "    <tr>\n",
       "      <th>594</th>\n",
       "      <td>Ida</td>\n",
       "      <td>3</td>\n",
       "      <td>Andrews</td>\n",
       "    </tr>\n",
       "    <tr>\n",
       "      <th>595</th>\n",
       "      <td>Sue</td>\n",
       "      <td>3</td>\n",
       "      <td>Peters</td>\n",
       "    </tr>\n",
       "    <tr>\n",
       "      <th>596</th>\n",
       "      <td>Sam</td>\n",
       "      <td>3</td>\n",
       "      <td>Mcduffie</td>\n",
       "    </tr>\n",
       "    <tr>\n",
       "      <th>597</th>\n",
       "      <td>Dan</td>\n",
       "      <td>3</td>\n",
       "      <td>Paine</td>\n",
       "    </tr>\n",
       "    <tr>\n",
       "      <th>598</th>\n",
       "      <td>Jo</td>\n",
       "      <td>2</td>\n",
       "      <td>Fowler</td>\n",
       "    </tr>\n",
       "  </tbody>\n",
       "</table>\n",
       "<p>599 rows × 3 columns</p>\n",
       "</div>"
      ],
      "text/plain": [
       "      first name  len  lastname\n",
       "0    Christopher   11     Greco\n",
       "1     Jacqueline   10      Long\n",
       "2      Constance    9      Reid\n",
       "3      Katherine    9    Rivera\n",
       "4      Nathaniel    9      Adam\n",
       "..           ...  ...       ...\n",
       "594          Ida    3   Andrews\n",
       "595          Sue    3    Peters\n",
       "596          Sam    3  Mcduffie\n",
       "597          Dan    3     Paine\n",
       "598           Jo    2    Fowler\n",
       "\n",
       "[599 rows x 3 columns]"
      ]
     },
     "metadata": {},
     "output_type": "display_data"
    }
   ],
   "source": [
    "try:\n",
    "    \n",
    "    connection = ps.connect(\n",
    "                user= \"postgres\",\n",
    "                password=password,\n",
    "                database= \"dvdRental\"   )  # connect to the postgres server\n",
    "    cursor = connection.cursor()   #  to be able to perform work on the database\n",
    "    \n",
    "    task = \"\"\"SELECT first_name, LENGTH(first_name) as \"length of firstname\" ,\n",
    "      last_name FROM customer ORDER BY \"length of firstname\" DESC;\"\"\"\n",
    "    \n",
    "    cursor.execute(task)\n",
    "    result = cursor.fetchall()\n",
    "    record= pd.DataFrame(result, columns=[\"first name\", \"len\", \"lastname\"])\n",
    "    display(record)\n",
    "except:\n",
    "    print(errors)"
   ]
  },
  {
   "cell_type": "markdown",
   "id": "9a83bdc7",
   "metadata": {},
   "source": [
    "# select the title and the rating from film table and perform custom sorting in following order R, G and PG-13 using rating column"
   ]
  },
  {
   "cell_type": "code",
   "execution_count": 10,
   "id": "83a4b8ce",
   "metadata": {},
   "outputs": [
    {
     "data": {
      "text/html": [
       "<div>\n",
       "<style scoped>\n",
       "    .dataframe tbody tr th:only-of-type {\n",
       "        vertical-align: middle;\n",
       "    }\n",
       "\n",
       "    .dataframe tbody tr th {\n",
       "        vertical-align: top;\n",
       "    }\n",
       "\n",
       "    .dataframe thead th {\n",
       "        text-align: right;\n",
       "    }\n",
       "</style>\n",
       "<table border=\"1\" class=\"dataframe\">\n",
       "  <thead>\n",
       "    <tr style=\"text-align: right;\">\n",
       "      <th></th>\n",
       "      <th>title</th>\n",
       "      <th>rating</th>\n",
       "    </tr>\n",
       "  </thead>\n",
       "  <tbody>\n",
       "    <tr>\n",
       "      <th>0</th>\n",
       "      <td>Wild Apollo</td>\n",
       "      <td>R</td>\n",
       "    </tr>\n",
       "    <tr>\n",
       "      <th>1</th>\n",
       "      <td>Shrunk Divine</td>\n",
       "      <td>R</td>\n",
       "    </tr>\n",
       "    <tr>\n",
       "      <th>2</th>\n",
       "      <td>Kramer Chocolate</td>\n",
       "      <td>R</td>\n",
       "    </tr>\n",
       "    <tr>\n",
       "      <th>3</th>\n",
       "      <td>Siege Madre</td>\n",
       "      <td>R</td>\n",
       "    </tr>\n",
       "    <tr>\n",
       "      <th>4</th>\n",
       "      <td>Guys Falcon</td>\n",
       "      <td>R</td>\n",
       "    </tr>\n",
       "    <tr>\n",
       "      <th>...</th>\n",
       "      <td>...</td>\n",
       "      <td>...</td>\n",
       "    </tr>\n",
       "    <tr>\n",
       "      <th>995</th>\n",
       "      <td>Worst Banger</td>\n",
       "      <td>PG</td>\n",
       "    </tr>\n",
       "    <tr>\n",
       "      <th>996</th>\n",
       "      <td>Wrath Mile</td>\n",
       "      <td>NC-17</td>\n",
       "    </tr>\n",
       "    <tr>\n",
       "      <th>997</th>\n",
       "      <td>Youth Kick</td>\n",
       "      <td>NC-17</td>\n",
       "    </tr>\n",
       "    <tr>\n",
       "      <th>998</th>\n",
       "      <td>Zhivago Core</td>\n",
       "      <td>NC-17</td>\n",
       "    </tr>\n",
       "    <tr>\n",
       "      <th>999</th>\n",
       "      <td>Zorro Ark</td>\n",
       "      <td>NC-17</td>\n",
       "    </tr>\n",
       "  </tbody>\n",
       "</table>\n",
       "<p>1000 rows × 2 columns</p>\n",
       "</div>"
      ],
      "text/plain": [
       "                title rating\n",
       "0         Wild Apollo      R\n",
       "1       Shrunk Divine      R\n",
       "2    Kramer Chocolate      R\n",
       "3         Siege Madre      R\n",
       "4         Guys Falcon      R\n",
       "..                ...    ...\n",
       "995      Worst Banger     PG\n",
       "996        Wrath Mile  NC-17\n",
       "997        Youth Kick  NC-17\n",
       "998      Zhivago Core  NC-17\n",
       "999         Zorro Ark  NC-17\n",
       "\n",
       "[1000 rows x 2 columns]"
      ]
     },
     "metadata": {},
     "output_type": "display_data"
    }
   ],
   "source": [
    "try:\n",
    "    task = \"\"\"SELECT TITLE, rating FROM film  ORDER BY \n",
    "            case when rating= 'R' then 1\n",
    "            when rating = 'G' then 2\n",
    "             when rating = 'PG-13' THEN 3\n",
    "            else 4\n",
    "            end;\"\"\"\n",
    "    \n",
    "    \n",
    "    cursor.execute(task)\n",
    "    result= cursor.fetchall()\n",
    "    record = pd.DataFrame(result, columns=[\"title\", \"rating\"])\n",
    "    display(record)\n",
    "except:\n",
    "    print(er)"
   ]
  },
  {
   "cell_type": "code",
   "execution_count": 11,
   "id": "3ad94c11",
   "metadata": {},
   "outputs": [
    {
     "data": {
      "text/html": [
       "<div>\n",
       "<style scoped>\n",
       "    .dataframe tbody tr th:only-of-type {\n",
       "        vertical-align: middle;\n",
       "    }\n",
       "\n",
       "    .dataframe tbody tr th {\n",
       "        vertical-align: top;\n",
       "    }\n",
       "\n",
       "    .dataframe thead th {\n",
       "        text-align: right;\n",
       "    }\n",
       "</style>\n",
       "<table border=\"1\" class=\"dataframe\">\n",
       "  <thead>\n",
       "    <tr style=\"text-align: right;\">\n",
       "      <th></th>\n",
       "      <th>0</th>\n",
       "    </tr>\n",
       "  </thead>\n",
       "  <tbody>\n",
       "    <tr>\n",
       "      <th>0</th>\n",
       "      <td>NaN</td>\n",
       "    </tr>\n",
       "    <tr>\n",
       "      <th>1</th>\n",
       "      <td>NaN</td>\n",
       "    </tr>\n",
       "    <tr>\n",
       "      <th>2</th>\n",
       "      <td>1.0</td>\n",
       "    </tr>\n",
       "    <tr>\n",
       "      <th>3</th>\n",
       "      <td>2.0</td>\n",
       "    </tr>\n",
       "    <tr>\n",
       "      <th>4</th>\n",
       "      <td>3.0</td>\n",
       "    </tr>\n",
       "  </tbody>\n",
       "</table>\n",
       "</div>"
      ],
      "text/plain": [
       "     0\n",
       "0  NaN\n",
       "1  NaN\n",
       "2  1.0\n",
       "3  2.0\n",
       "4  3.0"
      ]
     },
     "metadata": {},
     "output_type": "display_data"
    }
   ],
   "source": [
    "try:\n",
    "    \n",
    "    connection = ps.connect(\n",
    "                user= \"postgres\",\n",
    "                password=password,\n",
    "                database= \"dvdRental\"   )  # connect to the postgres server\n",
    "    cursor = connection.cursor()   #  to be able to perform work on the database\n",
    "    \n",
    "    drop_table = \"DROP TABLE IF EXISTS ola\"\n",
    "    \n",
    "    cursor.execute(drop_table)\n",
    "    connection.commit()\n",
    "    \n",
    "    creat_table = \"\"\"CREATE TABLE if not exists ola(\n",
    "    \n",
    "    num int \n",
    "    )\"\"\"\n",
    "    \n",
    "    cursor.execute(creat_table)\n",
    "    connection.commit()\n",
    "    \n",
    "    insert = \"INSERT INTO ola(num) VALUES(1), (2), (NULL), (3), (NULL)\"\n",
    "    cursor.execute(insert)\n",
    "    connection.commit()\n",
    "    \n",
    "    task = \"SELECT * FROM ola ORDER BY num NULLS FIRST\"\n",
    "    cursor.execute(task)\n",
    "    result=cursor.fetchall()\n",
    "    record = pd.DataFrame(result)\n",
    "    display(record)\n",
    "    \n",
    "    \n",
    "except:\n",
    "    print(er)"
   ]
  },
  {
   "cell_type": "code",
   "execution_count": null,
   "id": "0d084f7c",
   "metadata": {},
   "outputs": [],
   "source": []
  },
  {
   "cell_type": "code",
   "execution_count": null,
   "id": "28d1340d",
   "metadata": {},
   "outputs": [],
   "source": []
  },
  {
   "cell_type": "code",
   "execution_count": null,
   "id": "847781f0",
   "metadata": {},
   "outputs": [],
   "source": []
  },
  {
   "cell_type": "markdown",
   "id": "4f703886",
   "metadata": {},
   "source": [
    "# Where Clause\n",
    "Is used to filter rows of a table base on the given condition"
   ]
  },
  {
   "cell_type": "markdown",
   "id": "4d4e32c9",
   "metadata": {},
   "source": [
    "# Where Clause with equal sign"
   ]
  },
  {
   "cell_type": "code",
   "execution_count": 12,
   "id": "31a7fca2",
   "metadata": {},
   "outputs": [
    {
     "data": {
      "text/html": [
       "<div>\n",
       "<style scoped>\n",
       "    .dataframe tbody tr th:only-of-type {\n",
       "        vertical-align: middle;\n",
       "    }\n",
       "\n",
       "    .dataframe tbody tr th {\n",
       "        vertical-align: top;\n",
       "    }\n",
       "\n",
       "    .dataframe thead th {\n",
       "        text-align: right;\n",
       "    }\n",
       "</style>\n",
       "<table border=\"1\" class=\"dataframe\">\n",
       "  <thead>\n",
       "    <tr style=\"text-align: right;\">\n",
       "      <th></th>\n",
       "      <th>first name</th>\n",
       "      <th>last name</th>\n",
       "    </tr>\n",
       "  </thead>\n",
       "  <tbody>\n",
       "    <tr>\n",
       "      <th>0</th>\n",
       "      <td>Jamie</td>\n",
       "      <td>Rice</td>\n",
       "    </tr>\n",
       "    <tr>\n",
       "      <th>1</th>\n",
       "      <td>Jamie</td>\n",
       "      <td>Waugh</td>\n",
       "    </tr>\n",
       "  </tbody>\n",
       "</table>\n",
       "</div>"
      ],
      "text/plain": [
       "  first name last name\n",
       "0      Jamie      Rice\n",
       "1      Jamie     Waugh"
      ]
     },
     "metadata": {},
     "output_type": "display_data"
    }
   ],
   "source": [
    "import psycopg2 as ps\n",
    "from psycopg2 import errors as er\n",
    "import pandas as pd\n",
    "try:\n",
    "    \n",
    "    connection = ps.connect(\n",
    "                user= \"postgres\",\n",
    "                password=password,\n",
    "                database= \"dvdRental\"   )  # connect to the postgres server\n",
    "    cursor = connection.cursor()   #  to be able to perform work on the database\n",
    "    \n",
    "    task = \"SELECT first_name, last_name FROM customer WHERE first_name='Jamie'\"\n",
    "    cursor.execute(task)\n",
    "    record = cursor.fetchall()\n",
    "    df = pd.DataFrame(record, columns=[\"first name\", \"last name\"])\n",
    "    display(df)\n",
    "    \n",
    "except:\n",
    "    print(er)"
   ]
  },
  {
   "cell_type": "markdown",
   "id": "b8d9acec",
   "metadata": {},
   "source": [
    "# Where Clause with and Operator\n",
    "select the firstname and the lastname of the customer whose firstname is Rice and the lastname is jamie"
   ]
  },
  {
   "cell_type": "code",
   "execution_count": 13,
   "id": "2f3b1e3a",
   "metadata": {},
   "outputs": [
    {
     "data": {
      "text/html": [
       "<div>\n",
       "<style scoped>\n",
       "    .dataframe tbody tr th:only-of-type {\n",
       "        vertical-align: middle;\n",
       "    }\n",
       "\n",
       "    .dataframe tbody tr th {\n",
       "        vertical-align: top;\n",
       "    }\n",
       "\n",
       "    .dataframe thead th {\n",
       "        text-align: right;\n",
       "    }\n",
       "</style>\n",
       "<table border=\"1\" class=\"dataframe\">\n",
       "  <thead>\n",
       "    <tr style=\"text-align: right;\">\n",
       "      <th></th>\n",
       "      <th>last name</th>\n",
       "      <th>first name</th>\n",
       "    </tr>\n",
       "  </thead>\n",
       "  <tbody>\n",
       "    <tr>\n",
       "      <th>0</th>\n",
       "      <td>Rice</td>\n",
       "      <td>Jamie</td>\n",
       "    </tr>\n",
       "  </tbody>\n",
       "</table>\n",
       "</div>"
      ],
      "text/plain": [
       "  last name first name\n",
       "0      Rice      Jamie"
      ]
     },
     "metadata": {},
     "output_type": "display_data"
    }
   ],
   "source": [
    "try:\n",
    "    connection = ps.connect(\n",
    "                user= \"postgres\",\n",
    "                password= password,\n",
    "                database = \"dvdRental\"\n",
    "    )\n",
    "    \n",
    "    cursor = connection.cursor()\n",
    "    \n",
    "    task = \"SELECT last_name, first_name FROM Customer WHERE first_name='Jamie' AND last_name='Rice';\"\n",
    "    cursor.execute(task)\n",
    "    record = cursor.fetchall()\n",
    "    df = pd.DataFrame(record,columns=[ \"last name\", \"first name\",])\n",
    "    display(df)\n",
    "except:\n",
    "    print(er)"
   ]
  },
  {
   "cell_type": "code",
   "execution_count": null,
   "id": "2caaf5af",
   "metadata": {},
   "outputs": [],
   "source": []
  },
  {
   "cell_type": "code",
   "execution_count": 14,
   "id": "9522a737",
   "metadata": {},
   "outputs": [
    {
     "data": {
      "text/html": [
       "<div>\n",
       "<style scoped>\n",
       "    .dataframe tbody tr th:only-of-type {\n",
       "        vertical-align: middle;\n",
       "    }\n",
       "\n",
       "    .dataframe tbody tr th {\n",
       "        vertical-align: top;\n",
       "    }\n",
       "\n",
       "    .dataframe thead th {\n",
       "        text-align: right;\n",
       "    }\n",
       "</style>\n",
       "<table border=\"1\" class=\"dataframe\">\n",
       "  <thead>\n",
       "    <tr style=\"text-align: right;\">\n",
       "      <th></th>\n",
       "      <th>first name</th>\n",
       "      <th>length of first name</th>\n",
       "    </tr>\n",
       "  </thead>\n",
       "  <tbody>\n",
       "    <tr>\n",
       "      <th>0</th>\n",
       "      <td>Amy</td>\n",
       "      <td>3</td>\n",
       "    </tr>\n",
       "    <tr>\n",
       "      <th>1</th>\n",
       "      <td>Anna</td>\n",
       "      <td>4</td>\n",
       "    </tr>\n",
       "    <tr>\n",
       "      <th>2</th>\n",
       "      <td>Ann</td>\n",
       "      <td>3</td>\n",
       "    </tr>\n",
       "    <tr>\n",
       "      <th>3</th>\n",
       "      <td>Alice</td>\n",
       "      <td>5</td>\n",
       "    </tr>\n",
       "    <tr>\n",
       "      <th>4</th>\n",
       "      <td>Anne</td>\n",
       "      <td>4</td>\n",
       "    </tr>\n",
       "    <tr>\n",
       "      <th>5</th>\n",
       "      <td>Annie</td>\n",
       "      <td>5</td>\n",
       "    </tr>\n",
       "    <tr>\n",
       "      <th>6</th>\n",
       "      <td>Anita</td>\n",
       "      <td>5</td>\n",
       "    </tr>\n",
       "    <tr>\n",
       "      <th>7</th>\n",
       "      <td>Amber</td>\n",
       "      <td>5</td>\n",
       "    </tr>\n",
       "    <tr>\n",
       "      <th>8</th>\n",
       "      <td>April</td>\n",
       "      <td>5</td>\n",
       "    </tr>\n",
       "    <tr>\n",
       "      <th>9</th>\n",
       "      <td>Ana</td>\n",
       "      <td>3</td>\n",
       "    </tr>\n",
       "    <tr>\n",
       "      <th>10</th>\n",
       "      <td>Alma</td>\n",
       "      <td>4</td>\n",
       "    </tr>\n",
       "    <tr>\n",
       "      <th>11</th>\n",
       "      <td>Agnes</td>\n",
       "      <td>5</td>\n",
       "    </tr>\n",
       "    <tr>\n",
       "      <th>12</th>\n",
       "      <td>Adam</td>\n",
       "      <td>4</td>\n",
       "    </tr>\n",
       "    <tr>\n",
       "      <th>13</th>\n",
       "      <td>Aaron</td>\n",
       "      <td>5</td>\n",
       "    </tr>\n",
       "    <tr>\n",
       "      <th>14</th>\n",
       "      <td>Alan</td>\n",
       "      <td>4</td>\n",
       "    </tr>\n",
       "    <tr>\n",
       "      <th>15</th>\n",
       "      <td>Allen</td>\n",
       "      <td>5</td>\n",
       "    </tr>\n",
       "    <tr>\n",
       "      <th>16</th>\n",
       "      <td>Alex</td>\n",
       "      <td>4</td>\n",
       "    </tr>\n",
       "    <tr>\n",
       "      <th>17</th>\n",
       "      <td>Alvin</td>\n",
       "      <td>5</td>\n",
       "    </tr>\n",
       "    <tr>\n",
       "      <th>18</th>\n",
       "      <td>Angel</td>\n",
       "      <td>5</td>\n",
       "    </tr>\n",
       "    <tr>\n",
       "      <th>19</th>\n",
       "      <td>Andre</td>\n",
       "      <td>5</td>\n",
       "    </tr>\n",
       "    <tr>\n",
       "      <th>20</th>\n",
       "      <td>Allan</td>\n",
       "      <td>5</td>\n",
       "    </tr>\n",
       "    <tr>\n",
       "      <th>21</th>\n",
       "      <td>Andy</td>\n",
       "      <td>4</td>\n",
       "    </tr>\n",
       "  </tbody>\n",
       "</table>\n",
       "</div>"
      ],
      "text/plain": [
       "   first name  length of first name\n",
       "0         Amy                     3\n",
       "1        Anna                     4\n",
       "2         Ann                     3\n",
       "3       Alice                     5\n",
       "4        Anne                     4\n",
       "5       Annie                     5\n",
       "6       Anita                     5\n",
       "7       Amber                     5\n",
       "8       April                     5\n",
       "9         Ana                     3\n",
       "10       Alma                     4\n",
       "11      Agnes                     5\n",
       "12       Adam                     4\n",
       "13      Aaron                     5\n",
       "14       Alan                     4\n",
       "15      Allen                     5\n",
       "16       Alex                     4\n",
       "17      Alvin                     5\n",
       "18      Angel                     5\n",
       "19      Andre                     5\n",
       "20      Allan                     5\n",
       "21       Andy                     4"
      ]
     },
     "metadata": {},
     "output_type": "display_data"
    }
   ],
   "source": [
    "# finds customers whose first names start with the letter A and contains 3 to 5 characters \n",
    "\n",
    "try:\n",
    "    connection = ps.connect(\n",
    "        database=\"dvdRental\",\n",
    "        password=password,\n",
    "        user= \"postgres\"\n",
    "    )\n",
    "    \n",
    "    cursor = connection.cursor()\n",
    "    task = \"\"\"SELECT first_name, LENGTH(first_name) as \"kkk l\" FROM customer WHERE first_name LIKE 'A%' AND LENGTH(first_name) BETWEEN 3 AND 5\"\"\"\n",
    "    cursor.execute(task)\n",
    "    record = cursor.fetchall()\n",
    "    result = pd.DataFrame(record, columns=[\"first name\", \"length of first name\"])\n",
    "    display(result)\n",
    "    \n",
    "except:\n",
    "    print(er)"
   ]
  },
  {
   "cell_type": "code",
   "execution_count": null,
   "id": "e8b81d37",
   "metadata": {},
   "outputs": [],
   "source": []
  },
  {
   "cell_type": "code",
   "execution_count": null,
   "id": "72717f81",
   "metadata": {},
   "outputs": [],
   "source": []
  },
  {
   "cell_type": "markdown",
   "id": "983afe8b",
   "metadata": {},
   "source": [
    "# LIMIT"
   ]
  },
  {
   "cell_type": "code",
   "execution_count": 15,
   "id": "1b0eb75b",
   "metadata": {},
   "outputs": [
    {
     "data": {
      "text/html": [
       "<div>\n",
       "<style scoped>\n",
       "    .dataframe tbody tr th:only-of-type {\n",
       "        vertical-align: middle;\n",
       "    }\n",
       "\n",
       "    .dataframe tbody tr th {\n",
       "        vertical-align: top;\n",
       "    }\n",
       "\n",
       "    .dataframe thead th {\n",
       "        text-align: right;\n",
       "    }\n",
       "</style>\n",
       "<table border=\"1\" class=\"dataframe\">\n",
       "  <thead>\n",
       "    <tr style=\"text-align: right;\">\n",
       "      <th></th>\n",
       "      <th>film_id</th>\n",
       "      <th>title</th>\n",
       "      <th>release_year</th>\n",
       "    </tr>\n",
       "  </thead>\n",
       "  <tbody>\n",
       "    <tr>\n",
       "      <th>0</th>\n",
       "      <td>1</td>\n",
       "      <td>Academy Dinosaur</td>\n",
       "      <td>2006</td>\n",
       "    </tr>\n",
       "    <tr>\n",
       "      <th>1</th>\n",
       "      <td>2</td>\n",
       "      <td>Ace Goldfinger</td>\n",
       "      <td>2006</td>\n",
       "    </tr>\n",
       "    <tr>\n",
       "      <th>2</th>\n",
       "      <td>3</td>\n",
       "      <td>Adaptation Holes</td>\n",
       "      <td>2006</td>\n",
       "    </tr>\n",
       "    <tr>\n",
       "      <th>3</th>\n",
       "      <td>4</td>\n",
       "      <td>Affair Prejudice</td>\n",
       "      <td>2006</td>\n",
       "    </tr>\n",
       "    <tr>\n",
       "      <th>4</th>\n",
       "      <td>5</td>\n",
       "      <td>African Egg</td>\n",
       "      <td>2006</td>\n",
       "    </tr>\n",
       "  </tbody>\n",
       "</table>\n",
       "</div>"
      ],
      "text/plain": [
       "   film_id             title  release_year\n",
       "0        1  Academy Dinosaur          2006\n",
       "1        2    Ace Goldfinger          2006\n",
       "2        3  Adaptation Holes          2006\n",
       "3        4  Affair Prejudice          2006\n",
       "4        5       African Egg          2006"
      ]
     },
     "metadata": {},
     "output_type": "display_data"
    }
   ],
   "source": [
    "# finds customers whose first names start with the letter A and contains 3 to 5 characters \n",
    "\n",
    "try:\n",
    "    connection = ps.connect(\n",
    "        database=\"dvdRental\",\n",
    "        password=password,\n",
    "        user= \"postgres\"\n",
    "    )\n",
    "    \n",
    "    cursor = connection.cursor()\n",
    "    task = \"\"\"SELECT film_id, title, release_year FROM film ORDER BY film_id LIMIT 5;\"\"\"\n",
    "    cursor.execute(task)\n",
    "    record = cursor.fetchall()\n",
    "    result = pd.DataFrame(record, columns=[\"film_id\", \"title\", \"release_year\"])\n",
    "    display(result)\n",
    "    \n",
    "except:\n",
    "    print(er)"
   ]
  },
  {
   "cell_type": "code",
   "execution_count": null,
   "id": "f9e9ae79",
   "metadata": {},
   "outputs": [],
   "source": []
  },
  {
   "cell_type": "code",
   "execution_count": 16,
   "id": "a0a4c900",
   "metadata": {},
   "outputs": [
    {
     "data": {
      "text/html": [
       "<div>\n",
       "<style scoped>\n",
       "    .dataframe tbody tr th:only-of-type {\n",
       "        vertical-align: middle;\n",
       "    }\n",
       "\n",
       "    .dataframe tbody tr th {\n",
       "        vertical-align: top;\n",
       "    }\n",
       "\n",
       "    .dataframe thead th {\n",
       "        text-align: right;\n",
       "    }\n",
       "</style>\n",
       "<table border=\"1\" class=\"dataframe\">\n",
       "  <thead>\n",
       "    <tr style=\"text-align: right;\">\n",
       "      <th></th>\n",
       "      <th>film_id</th>\n",
       "      <th>title</th>\n",
       "      <th>release_year</th>\n",
       "    </tr>\n",
       "  </thead>\n",
       "  <tbody>\n",
       "    <tr>\n",
       "      <th>0</th>\n",
       "      <td>4</td>\n",
       "      <td>Affair Prejudice</td>\n",
       "      <td>2006</td>\n",
       "    </tr>\n",
       "    <tr>\n",
       "      <th>1</th>\n",
       "      <td>5</td>\n",
       "      <td>African Egg</td>\n",
       "      <td>2006</td>\n",
       "    </tr>\n",
       "    <tr>\n",
       "      <th>2</th>\n",
       "      <td>6</td>\n",
       "      <td>Agent Truman</td>\n",
       "      <td>2006</td>\n",
       "    </tr>\n",
       "    <tr>\n",
       "      <th>3</th>\n",
       "      <td>7</td>\n",
       "      <td>Airplane Sierra</td>\n",
       "      <td>2006</td>\n",
       "    </tr>\n",
       "    <tr>\n",
       "      <th>4</th>\n",
       "      <td>8</td>\n",
       "      <td>Airport Pollock</td>\n",
       "      <td>2006</td>\n",
       "    </tr>\n",
       "  </tbody>\n",
       "</table>\n",
       "</div>"
      ],
      "text/plain": [
       "   film_id             title  release_year\n",
       "0        4  Affair Prejudice          2006\n",
       "1        5       African Egg          2006\n",
       "2        6      Agent Truman          2006\n",
       "3        7   Airplane Sierra          2006\n",
       "4        8   Airport Pollock          2006"
      ]
     },
     "metadata": {},
     "output_type": "display_data"
    }
   ],
   "source": [
    "# finds customers whose first names start with the letter A and contains 3 to 5 characters \n",
    "\n",
    "try:\n",
    "    connection = ps.connect(\n",
    "        database=\"dvdRental\",\n",
    "        password=password,\n",
    "        user= \"postgres\"\n",
    "    )\n",
    "    \n",
    "    cursor = connection.cursor()\n",
    "    task = \"\"\"SELECT film_id, title, release_year FROM film ORDER BY film_id LIMIT 5 OFFSET 3;\"\"\"\n",
    "    cursor.execute(task)\n",
    "    record = cursor.fetchall()\n",
    "    result = pd.DataFrame(record, columns=[\"film_id\", \"title\", \"release_year\"])\n",
    "    display(result)\n",
    "    \n",
    "except:\n",
    "    print(er)"
   ]
  },
  {
   "cell_type": "code",
   "execution_count": null,
   "id": "84ce70b6",
   "metadata": {},
   "outputs": [],
   "source": []
  },
  {
   "cell_type": "code",
   "execution_count": null,
   "id": "79387ce3",
   "metadata": {},
   "outputs": [],
   "source": []
  },
  {
   "cell_type": "markdown",
   "id": "44f9cc23",
   "metadata": {},
   "source": [
    "# FETCH\n",
    "FETCH clause is to retrieve a portion of rows returned by a query."
   ]
  },
  {
   "cell_type": "code",
   "execution_count": null,
   "id": "dc419f79",
   "metadata": {},
   "outputs": [],
   "source": []
  },
  {
   "cell_type": "code",
   "execution_count": 17,
   "id": "d294b250",
   "metadata": {},
   "outputs": [
    {
     "data": {
      "text/html": [
       "<div>\n",
       "<style scoped>\n",
       "    .dataframe tbody tr th:only-of-type {\n",
       "        vertical-align: middle;\n",
       "    }\n",
       "\n",
       "    .dataframe tbody tr th {\n",
       "        vertical-align: top;\n",
       "    }\n",
       "\n",
       "    .dataframe thead th {\n",
       "        text-align: right;\n",
       "    }\n",
       "</style>\n",
       "<table border=\"1\" class=\"dataframe\">\n",
       "  <thead>\n",
       "    <tr style=\"text-align: right;\">\n",
       "      <th></th>\n",
       "      <th>film_id</th>\n",
       "      <th>title</th>\n",
       "      <th>release_year</th>\n",
       "    </tr>\n",
       "  </thead>\n",
       "  <tbody>\n",
       "    <tr>\n",
       "      <th>0</th>\n",
       "      <td>1</td>\n",
       "      <td>Academy Dinosaur</td>\n",
       "      <td>2006</td>\n",
       "    </tr>\n",
       "    <tr>\n",
       "      <th>1</th>\n",
       "      <td>2</td>\n",
       "      <td>Ace Goldfinger</td>\n",
       "      <td>2006</td>\n",
       "    </tr>\n",
       "    <tr>\n",
       "      <th>2</th>\n",
       "      <td>3</td>\n",
       "      <td>Adaptation Holes</td>\n",
       "      <td>2006</td>\n",
       "    </tr>\n",
       "    <tr>\n",
       "      <th>3</th>\n",
       "      <td>4</td>\n",
       "      <td>Affair Prejudice</td>\n",
       "      <td>2006</td>\n",
       "    </tr>\n",
       "    <tr>\n",
       "      <th>4</th>\n",
       "      <td>5</td>\n",
       "      <td>African Egg</td>\n",
       "      <td>2006</td>\n",
       "    </tr>\n",
       "  </tbody>\n",
       "</table>\n",
       "</div>"
      ],
      "text/plain": [
       "   film_id             title  release_year\n",
       "0        1  Academy Dinosaur          2006\n",
       "1        2    Ace Goldfinger          2006\n",
       "2        3  Adaptation Holes          2006\n",
       "3        4  Affair Prejudice          2006\n",
       "4        5       African Egg          2006"
      ]
     },
     "metadata": {},
     "output_type": "display_data"
    }
   ],
   "source": [
    "# finds customers whose first names start with the letter A and contains 3 to 5 characters \n",
    "\n",
    "try:\n",
    "    connection = ps.connect(\n",
    "        database=\"dvdRental\",\n",
    "        password=password,\n",
    "        user= \"postgres\"\n",
    "    )\n",
    "    \n",
    "    cursor = connection.cursor()\n",
    "    task = \"\"\"SELECT film_id, title, release_year FROM film ORDER BY film_id FETCH NEXT 5 ROW ONLY;\"\"\"\n",
    "    cursor.execute(task)\n",
    "    record = cursor.fetchall()\n",
    "    result = pd.DataFrame(record, columns=[\"film_id\", \"title\", \"release_year\"])\n",
    "    display(result)\n",
    "    \n",
    "except:\n",
    "    print(er)"
   ]
  },
  {
   "cell_type": "code",
   "execution_count": 18,
   "id": "7367e63f",
   "metadata": {},
   "outputs": [
    {
     "data": {
      "text/html": [
       "<div>\n",
       "<style scoped>\n",
       "    .dataframe tbody tr th:only-of-type {\n",
       "        vertical-align: middle;\n",
       "    }\n",
       "\n",
       "    .dataframe tbody tr th {\n",
       "        vertical-align: top;\n",
       "    }\n",
       "\n",
       "    .dataframe thead th {\n",
       "        text-align: right;\n",
       "    }\n",
       "</style>\n",
       "<table border=\"1\" class=\"dataframe\">\n",
       "  <thead>\n",
       "    <tr style=\"text-align: right;\">\n",
       "      <th></th>\n",
       "      <th>film_id</th>\n",
       "      <th>title</th>\n",
       "      <th>release_year</th>\n",
       "    </tr>\n",
       "  </thead>\n",
       "  <tbody>\n",
       "    <tr>\n",
       "      <th>0</th>\n",
       "      <td>6</td>\n",
       "      <td>Agent Truman</td>\n",
       "      <td>2006</td>\n",
       "    </tr>\n",
       "    <tr>\n",
       "      <th>1</th>\n",
       "      <td>7</td>\n",
       "      <td>Airplane Sierra</td>\n",
       "      <td>2006</td>\n",
       "    </tr>\n",
       "    <tr>\n",
       "      <th>2</th>\n",
       "      <td>8</td>\n",
       "      <td>Airport Pollock</td>\n",
       "      <td>2006</td>\n",
       "    </tr>\n",
       "    <tr>\n",
       "      <th>3</th>\n",
       "      <td>9</td>\n",
       "      <td>Alabama Devil</td>\n",
       "      <td>2006</td>\n",
       "    </tr>\n",
       "    <tr>\n",
       "      <th>4</th>\n",
       "      <td>10</td>\n",
       "      <td>Aladdin Calendar</td>\n",
       "      <td>2006</td>\n",
       "    </tr>\n",
       "  </tbody>\n",
       "</table>\n",
       "</div>"
      ],
      "text/plain": [
       "   film_id             title  release_year\n",
       "0        6      Agent Truman          2006\n",
       "1        7   Airplane Sierra          2006\n",
       "2        8   Airport Pollock          2006\n",
       "3        9     Alabama Devil          2006\n",
       "4       10  Aladdin Calendar          2006"
      ]
     },
     "metadata": {},
     "output_type": "display_data"
    }
   ],
   "source": [
    "# finds customers whose first names start with the letter A and contains 3 to 5 characters \n",
    "\n",
    "try:\n",
    "    connection = ps.connect(\n",
    "        database=\"dvdRental\",\n",
    "        password=password,\n",
    "        user= \"postgres\"\n",
    "    )\n",
    "    \n",
    "    cursor = connection.cursor()\n",
    "    task = \"\"\"SELECT film_id, title, release_year FROM film ORDER BY film_id OFFSET 5 ROWS FETCH NEXT 5 ROW ONLY;\"\"\"\n",
    "    cursor.execute(task)\n",
    "    record = cursor.fetchall()\n",
    "    result = pd.DataFrame(record, columns=[\"film_id\", \"title\", \"release_year\"])\n",
    "    display(result)\n",
    "    \n",
    "except:\n",
    "    print(er)"
   ]
  },
  {
   "cell_type": "code",
   "execution_count": 21,
   "id": "ee668ed6",
   "metadata": {},
   "outputs": [],
   "source": [
    "try:\n",
    "    connection = ps.connect(\n",
    "        user= \"postgres\",\n",
    "        password=password,\n",
    "        database=\"dvdRental\"\n",
    "    )\n",
    "    cur = connection.cursor()\n",
    "    \n",
    "    drop = \"\"\"DROP TABLE basket_a; \"\"\"\n",
    "    cur.execute(drop)\n",
    "    connection.commit()\n",
    "    \n",
    "    \n",
    "    task = \"\"\"CREATE TABLE basket_a (\n",
    "    a INT PRIMARY KEY,\n",
    "    fruit_a VARCHAR (100) NOT NULL);\"\"\"\n",
    "    \n",
    "    cur.execute(task)\n",
    "    connection.commit()\n",
    "    \n",
    "    drop = \"\"\"DROP TABLE basket_b; \"\"\"\n",
    "    cur.execute(drop)\n",
    "    connection.commit()\n",
    "    \n",
    "    \n",
    "    task2= \"\"\"CREATE TABLE basket_b (\n",
    "    b INT PRIMARY KEY,\n",
    "    fruit_b VARCHAR (100) NOT NULL); \"\"\"\n",
    "    \n",
    "    cur.execute(task2)\n",
    "    connection.commit()\n",
    "    \n",
    "    task3 = \"\"\"INSERT INTO basket_a (a, fruit_a)\n",
    "        VALUES\n",
    "                (1, 'Apple'),\n",
    "                (2, 'Orange'),\n",
    "                (3, 'Banana'),\n",
    "                (4, 'Cucumber'); \"\"\"\n",
    "    \n",
    "    cur.execute(task3)\n",
    "    connection.commit()\n",
    "    \n",
    "    task4 = \"\"\"  INSERT INTO basket_b (b, fruit_b)\n",
    "        VALUES\n",
    "            (1, 'Orange'),\n",
    "            (2, 'Apple'),\n",
    "            (3, 'Watermelon'),\n",
    "            (4, 'Pear');\n",
    "        \"\"\"\n",
    "    cur.execute(task4)\n",
    "    connection.commit()\n",
    "except:\n",
    "    print(er)"
   ]
  },
  {
   "cell_type": "code",
   "execution_count": 33,
   "id": "f625d24e",
   "metadata": {},
   "outputs": [
    {
     "data": {
      "text/html": [
       "<div>\n",
       "<style scoped>\n",
       "    .dataframe tbody tr th:only-of-type {\n",
       "        vertical-align: middle;\n",
       "    }\n",
       "\n",
       "    .dataframe tbody tr th {\n",
       "        vertical-align: top;\n",
       "    }\n",
       "\n",
       "    .dataframe thead th {\n",
       "        text-align: right;\n",
       "    }\n",
       "</style>\n",
       "<table border=\"1\" class=\"dataframe\">\n",
       "  <thead>\n",
       "    <tr style=\"text-align: right;\">\n",
       "      <th></th>\n",
       "      <th>b</th>\n",
       "      <th>fruit_b</th>\n",
       "    </tr>\n",
       "  </thead>\n",
       "  <tbody>\n",
       "    <tr>\n",
       "      <th>0</th>\n",
       "      <td>1</td>\n",
       "      <td>Orange</td>\n",
       "    </tr>\n",
       "    <tr>\n",
       "      <th>1</th>\n",
       "      <td>2</td>\n",
       "      <td>Apple</td>\n",
       "    </tr>\n",
       "    <tr>\n",
       "      <th>2</th>\n",
       "      <td>3</td>\n",
       "      <td>Watermelon</td>\n",
       "    </tr>\n",
       "    <tr>\n",
       "      <th>3</th>\n",
       "      <td>4</td>\n",
       "      <td>Pear</td>\n",
       "    </tr>\n",
       "  </tbody>\n",
       "</table>\n",
       "</div>"
      ],
      "text/plain": [
       "   b     fruit_b\n",
       "0  1      Orange\n",
       "1  2       Apple\n",
       "2  3  Watermelon\n",
       "3  4        Pear"
      ]
     },
     "metadata": {},
     "output_type": "display_data"
    },
    {
     "data": {
      "text/html": [
       "<div>\n",
       "<style scoped>\n",
       "    .dataframe tbody tr th:only-of-type {\n",
       "        vertical-align: middle;\n",
       "    }\n",
       "\n",
       "    .dataframe tbody tr th {\n",
       "        vertical-align: top;\n",
       "    }\n",
       "\n",
       "    .dataframe thead th {\n",
       "        text-align: right;\n",
       "    }\n",
       "</style>\n",
       "<table border=\"1\" class=\"dataframe\">\n",
       "  <thead>\n",
       "    <tr style=\"text-align: right;\">\n",
       "      <th></th>\n",
       "      <th>a</th>\n",
       "      <th>fruit_a</th>\n",
       "    </tr>\n",
       "  </thead>\n",
       "  <tbody>\n",
       "    <tr>\n",
       "      <th>0</th>\n",
       "      <td>1</td>\n",
       "      <td>Apple</td>\n",
       "    </tr>\n",
       "    <tr>\n",
       "      <th>1</th>\n",
       "      <td>2</td>\n",
       "      <td>Orange</td>\n",
       "    </tr>\n",
       "    <tr>\n",
       "      <th>2</th>\n",
       "      <td>3</td>\n",
       "      <td>Banana</td>\n",
       "    </tr>\n",
       "    <tr>\n",
       "      <th>3</th>\n",
       "      <td>4</td>\n",
       "      <td>Cucumber</td>\n",
       "    </tr>\n",
       "  </tbody>\n",
       "</table>\n",
       "</div>"
      ],
      "text/plain": [
       "   a   fruit_a\n",
       "0  1     Apple\n",
       "1  2    Orange\n",
       "2  3    Banana\n",
       "3  4  Cucumber"
      ]
     },
     "metadata": {},
     "output_type": "display_data"
    }
   ],
   "source": [
    "try:\n",
    "    \n",
    "    connection= ps.connect(\n",
    "    user=\"postgres\",\n",
    "    password=password,\n",
    "    database= \"dvdRental\"\n",
    "    )\n",
    "    \n",
    "    cur= connection.cursor()\n",
    "    task= \"SELECT * FROM basket_b\"\n",
    "    cur.execute(task)\n",
    "    result = cur.fetchall()\n",
    "    df = pd.DataFrame(result, columns=[\"b\", \"fruit_b\"])\n",
    "    display(df)\n",
    "    \n",
    "    task= \"SELECT * FROM basket_a\"\n",
    "    cur.execute(task)\n",
    "    result = cur.fetchall()\n",
    "    df = pd.DataFrame(result, columns=[\"a\", \"fruit_a\"])\n",
    "    display(df)\n",
    "    \n",
    "except:\n",
    "    print(er)"
   ]
  },
  {
   "cell_type": "markdown",
   "id": "47fe51cd",
   "metadata": {},
   "source": [
    "# Inner join"
   ]
  },
  {
   "cell_type": "code",
   "execution_count": 39,
   "id": "63d716bc",
   "metadata": {},
   "outputs": [
    {
     "data": {
      "text/html": [
       "<div>\n",
       "<style scoped>\n",
       "    .dataframe tbody tr th:only-of-type {\n",
       "        vertical-align: middle;\n",
       "    }\n",
       "\n",
       "    .dataframe tbody tr th {\n",
       "        vertical-align: top;\n",
       "    }\n",
       "\n",
       "    .dataframe thead th {\n",
       "        text-align: right;\n",
       "    }\n",
       "</style>\n",
       "<table border=\"1\" class=\"dataframe\">\n",
       "  <thead>\n",
       "    <tr style=\"text-align: right;\">\n",
       "      <th></th>\n",
       "      <th>a</th>\n",
       "      <th>fruit_a</th>\n",
       "      <th>b</th>\n",
       "      <th>fruit_b</th>\n",
       "    </tr>\n",
       "  </thead>\n",
       "  <tbody>\n",
       "    <tr>\n",
       "      <th>0</th>\n",
       "      <td>1</td>\n",
       "      <td>Apple</td>\n",
       "      <td>2</td>\n",
       "      <td>Apple</td>\n",
       "    </tr>\n",
       "    <tr>\n",
       "      <th>1</th>\n",
       "      <td>2</td>\n",
       "      <td>Orange</td>\n",
       "      <td>1</td>\n",
       "      <td>Orange</td>\n",
       "    </tr>\n",
       "  </tbody>\n",
       "</table>\n",
       "</div>"
      ],
      "text/plain": [
       "   a fruit_a  b fruit_b\n",
       "0  1   Apple  2   Apple\n",
       "1  2  Orange  1  Orange"
      ]
     },
     "metadata": {},
     "output_type": "display_data"
    }
   ],
   "source": [
    "try:\n",
    "    \n",
    "    connection= ps.connect(\n",
    "    user=\"postgres\",\n",
    "    password=password,\n",
    "    database= \"dvdRental\"\n",
    "    )\n",
    "    \n",
    "    cur= connection.cursor()\n",
    "    task= \"SELECT ba.a, ba.fruit_a, bb.b, bb.fruit_b FROM basket_a ba INNER JOIN basket_b bb  ON ba.fruit_a = bb.fruit_b;\"\n",
    "    cur.execute(task)\n",
    "    result = cur.fetchall()\n",
    "    df = pd.DataFrame(result, columns=[\"a\", \"fruit_a\", \"b\", \"fruit_b\"])\n",
    "    display(df)\n",
    "except:\n",
    "    print(er)"
   ]
  },
  {
   "cell_type": "code",
   "execution_count": null,
   "id": "8300b4eb",
   "metadata": {},
   "outputs": [],
   "source": []
  },
  {
   "cell_type": "code",
   "execution_count": 40,
   "id": "0b4e2958",
   "metadata": {},
   "outputs": [
    {
     "data": {
      "text/html": [
       "<div>\n",
       "<style scoped>\n",
       "    .dataframe tbody tr th:only-of-type {\n",
       "        vertical-align: middle;\n",
       "    }\n",
       "\n",
       "    .dataframe tbody tr th {\n",
       "        vertical-align: top;\n",
       "    }\n",
       "\n",
       "    .dataframe thead th {\n",
       "        text-align: right;\n",
       "    }\n",
       "</style>\n",
       "<table border=\"1\" class=\"dataframe\">\n",
       "  <thead>\n",
       "    <tr style=\"text-align: right;\">\n",
       "      <th></th>\n",
       "      <th>a</th>\n",
       "      <th>fruit_a</th>\n",
       "      <th>b</th>\n",
       "      <th>fruit_b</th>\n",
       "    </tr>\n",
       "  </thead>\n",
       "  <tbody>\n",
       "    <tr>\n",
       "      <th>0</th>\n",
       "      <td>1</td>\n",
       "      <td>Apple</td>\n",
       "      <td>2.0</td>\n",
       "      <td>Apple</td>\n",
       "    </tr>\n",
       "    <tr>\n",
       "      <th>1</th>\n",
       "      <td>2</td>\n",
       "      <td>Orange</td>\n",
       "      <td>1.0</td>\n",
       "      <td>Orange</td>\n",
       "    </tr>\n",
       "    <tr>\n",
       "      <th>2</th>\n",
       "      <td>3</td>\n",
       "      <td>Banana</td>\n",
       "      <td>NaN</td>\n",
       "      <td>None</td>\n",
       "    </tr>\n",
       "    <tr>\n",
       "      <th>3</th>\n",
       "      <td>4</td>\n",
       "      <td>Cucumber</td>\n",
       "      <td>NaN</td>\n",
       "      <td>None</td>\n",
       "    </tr>\n",
       "  </tbody>\n",
       "</table>\n",
       "</div>"
      ],
      "text/plain": [
       "   a   fruit_a    b fruit_b\n",
       "0  1     Apple  2.0   Apple\n",
       "1  2    Orange  1.0  Orange\n",
       "2  3    Banana  NaN    None\n",
       "3  4  Cucumber  NaN    None"
      ]
     },
     "metadata": {},
     "output_type": "display_data"
    }
   ],
   "source": [
    "try:\n",
    "    \n",
    "    connection= ps.connect(\n",
    "    user=\"postgres\",\n",
    "    password=password,\n",
    "    database= \"dvdRental\"\n",
    "    )\n",
    "    \n",
    "    cur= connection.cursor()\n",
    "    task= \"SELECT ba.a, ba.fruit_a, bb.b, bb.fruit_b FROM basket_a ba Left JOIN basket_b bb  ON ba.fruit_a = bb.fruit_b;\"\n",
    "    cur.execute(task)\n",
    "    result = cur.fetchall()\n",
    "    df = pd.DataFrame(result, columns=[\"a\", \"fruit_a\", \"b\", \"fruit_b\"])\n",
    "    display(df)\n",
    "except:\n",
    "    print(er)"
   ]
  },
  {
   "cell_type": "code",
   "execution_count": null,
   "id": "6bce9dd0",
   "metadata": {},
   "outputs": [],
   "source": []
  },
  {
   "cell_type": "markdown",
   "id": "a1568848",
   "metadata": {},
   "source": [
    "# left outer join\n",
    "<font color=\"blue\">To select rows from the left table that do not have matching rows in the right table, you use the left join with a WHERE clause. </font>"
   ]
  },
  {
   "cell_type": "code",
   "execution_count": 41,
   "id": "11fb2946",
   "metadata": {},
   "outputs": [
    {
     "data": {
      "text/html": [
       "<div>\n",
       "<style scoped>\n",
       "    .dataframe tbody tr th:only-of-type {\n",
       "        vertical-align: middle;\n",
       "    }\n",
       "\n",
       "    .dataframe tbody tr th {\n",
       "        vertical-align: top;\n",
       "    }\n",
       "\n",
       "    .dataframe thead th {\n",
       "        text-align: right;\n",
       "    }\n",
       "</style>\n",
       "<table border=\"1\" class=\"dataframe\">\n",
       "  <thead>\n",
       "    <tr style=\"text-align: right;\">\n",
       "      <th></th>\n",
       "      <th>a</th>\n",
       "      <th>fruit_a</th>\n",
       "      <th>b</th>\n",
       "      <th>fruit_b</th>\n",
       "    </tr>\n",
       "  </thead>\n",
       "  <tbody>\n",
       "    <tr>\n",
       "      <th>0</th>\n",
       "      <td>3</td>\n",
       "      <td>Banana</td>\n",
       "      <td>None</td>\n",
       "      <td>None</td>\n",
       "    </tr>\n",
       "    <tr>\n",
       "      <th>1</th>\n",
       "      <td>4</td>\n",
       "      <td>Cucumber</td>\n",
       "      <td>None</td>\n",
       "      <td>None</td>\n",
       "    </tr>\n",
       "  </tbody>\n",
       "</table>\n",
       "</div>"
      ],
      "text/plain": [
       "   a   fruit_a     b fruit_b\n",
       "0  3    Banana  None    None\n",
       "1  4  Cucumber  None    None"
      ]
     },
     "metadata": {},
     "output_type": "display_data"
    }
   ],
   "source": [
    "try:\n",
    "    \n",
    "    connection= ps.connect(\n",
    "    user=\"postgres\",\n",
    "    password=password,\n",
    "    database= \"dvdRental\"\n",
    "    )\n",
    "    \n",
    "    cur= connection.cursor()\n",
    "    task= \"\"\"SELECT ba.a, ba.fruit_a, bb.b, bb.fruit_b FROM basket_a ba Left JOIN basket_b bb  ON ba.fruit_a = bb.fruit_b\n",
    "    WHERE bb.b IS NULL;\"\"\"\n",
    "    cur.execute(task)\n",
    "    result = cur.fetchall()\n",
    "    df = pd.DataFrame(result, columns=[\"a\", \"fruit_a\", \"b\", \"fruit_b\"])\n",
    "    display(df)\n",
    "except:\n",
    "    print(er)"
   ]
  },
  {
   "cell_type": "code",
   "execution_count": null,
   "id": "61699375",
   "metadata": {},
   "outputs": [],
   "source": []
  },
  {
   "cell_type": "markdown",
   "id": "8ee273ea",
   "metadata": {},
   "source": [
    "# Right Join"
   ]
  },
  {
   "cell_type": "code",
   "execution_count": 42,
   "id": "f1056013",
   "metadata": {},
   "outputs": [
    {
     "data": {
      "text/html": [
       "<div>\n",
       "<style scoped>\n",
       "    .dataframe tbody tr th:only-of-type {\n",
       "        vertical-align: middle;\n",
       "    }\n",
       "\n",
       "    .dataframe tbody tr th {\n",
       "        vertical-align: top;\n",
       "    }\n",
       "\n",
       "    .dataframe thead th {\n",
       "        text-align: right;\n",
       "    }\n",
       "</style>\n",
       "<table border=\"1\" class=\"dataframe\">\n",
       "  <thead>\n",
       "    <tr style=\"text-align: right;\">\n",
       "      <th></th>\n",
       "      <th>a</th>\n",
       "      <th>fruit_a</th>\n",
       "      <th>b</th>\n",
       "      <th>fruit_b</th>\n",
       "    </tr>\n",
       "  </thead>\n",
       "  <tbody>\n",
       "    <tr>\n",
       "      <th>0</th>\n",
       "      <td>2.0</td>\n",
       "      <td>Orange</td>\n",
       "      <td>1</td>\n",
       "      <td>Orange</td>\n",
       "    </tr>\n",
       "    <tr>\n",
       "      <th>1</th>\n",
       "      <td>1.0</td>\n",
       "      <td>Apple</td>\n",
       "      <td>2</td>\n",
       "      <td>Apple</td>\n",
       "    </tr>\n",
       "    <tr>\n",
       "      <th>2</th>\n",
       "      <td>NaN</td>\n",
       "      <td>None</td>\n",
       "      <td>3</td>\n",
       "      <td>Watermelon</td>\n",
       "    </tr>\n",
       "    <tr>\n",
       "      <th>3</th>\n",
       "      <td>NaN</td>\n",
       "      <td>None</td>\n",
       "      <td>4</td>\n",
       "      <td>Pear</td>\n",
       "    </tr>\n",
       "  </tbody>\n",
       "</table>\n",
       "</div>"
      ],
      "text/plain": [
       "     a fruit_a  b     fruit_b\n",
       "0  2.0  Orange  1      Orange\n",
       "1  1.0   Apple  2       Apple\n",
       "2  NaN    None  3  Watermelon\n",
       "3  NaN    None  4        Pear"
      ]
     },
     "metadata": {},
     "output_type": "display_data"
    }
   ],
   "source": [
    "try:\n",
    "    \n",
    "    connection= ps.connect(\n",
    "    user=\"postgres\",\n",
    "    password=password,\n",
    "    database= \"dvdRental\"\n",
    "    )\n",
    "    \n",
    "    cur= connection.cursor()\n",
    "    task= \"\"\"SELECT ba.a, ba.fruit_a, bb.b, bb.fruit_b FROM basket_a ba right JOIN basket_b bb ON ba.fruit_a = bb.fruit_b;\"\"\"\n",
    "    cur.execute(task)\n",
    "    result = cur.fetchall()\n",
    "    df = pd.DataFrame(result, columns=[\"a\", \"fruit_a\", \"b\", \"fruit_b\"])\n",
    "    display(df)\n",
    "except:\n",
    "    print(er)"
   ]
  },
  {
   "cell_type": "markdown",
   "id": "e2402b00",
   "metadata": {},
   "source": [
    "# RIGHT outer join\n",
    "<font color=\"blue\">you can get rows from the right table that do not have matching rows from the left table by adding a WHERE clause as follows:. </font>"
   ]
  },
  {
   "cell_type": "code",
   "execution_count": 43,
   "id": "0e1ce550",
   "metadata": {},
   "outputs": [
    {
     "data": {
      "text/html": [
       "<div>\n",
       "<style scoped>\n",
       "    .dataframe tbody tr th:only-of-type {\n",
       "        vertical-align: middle;\n",
       "    }\n",
       "\n",
       "    .dataframe tbody tr th {\n",
       "        vertical-align: top;\n",
       "    }\n",
       "\n",
       "    .dataframe thead th {\n",
       "        text-align: right;\n",
       "    }\n",
       "</style>\n",
       "<table border=\"1\" class=\"dataframe\">\n",
       "  <thead>\n",
       "    <tr style=\"text-align: right;\">\n",
       "      <th></th>\n",
       "      <th>a</th>\n",
       "      <th>fruit_a</th>\n",
       "      <th>b</th>\n",
       "      <th>fruit_b</th>\n",
       "    </tr>\n",
       "  </thead>\n",
       "  <tbody>\n",
       "    <tr>\n",
       "      <th>0</th>\n",
       "      <td>None</td>\n",
       "      <td>None</td>\n",
       "      <td>3</td>\n",
       "      <td>Watermelon</td>\n",
       "    </tr>\n",
       "    <tr>\n",
       "      <th>1</th>\n",
       "      <td>None</td>\n",
       "      <td>None</td>\n",
       "      <td>4</td>\n",
       "      <td>Pear</td>\n",
       "    </tr>\n",
       "  </tbody>\n",
       "</table>\n",
       "</div>"
      ],
      "text/plain": [
       "      a fruit_a  b     fruit_b\n",
       "0  None    None  3  Watermelon\n",
       "1  None    None  4        Pear"
      ]
     },
     "metadata": {},
     "output_type": "display_data"
    }
   ],
   "source": [
    "try:\n",
    "    \n",
    "    connection= ps.connect(\n",
    "    user=\"postgres\",\n",
    "    password=password,\n",
    "    database= \"dvdRental\"\n",
    "    )\n",
    "    \n",
    "    cur= connection.cursor()\n",
    "    task= \"\"\"SELECT ba.a, ba.fruit_a, bb.b, bb.fruit_b FROM basket_a ba right JOIN basket_b bb ON ba.fruit_a = bb.fruit_b\n",
    "    WHERE ba.fruit_a IS NULL;\"\"\"\n",
    "    cur.execute(task)\n",
    "    result = cur.fetchall()\n",
    "    df = pd.DataFrame(result, columns=[\"a\", \"fruit_a\", \"b\", \"fruit_b\"])\n",
    "    display(df)\n",
    "except:\n",
    "    print(er)"
   ]
  },
  {
   "cell_type": "markdown",
   "id": "08421d61",
   "metadata": {},
   "source": [
    "# full  join\n",
    "The full outer join or full join returns a result set that contains all rows from both left and right tables, with the matching rows from both sides if available. In case there is no match, the columns of the table will be filled with NULL.\n"
   ]
  },
  {
   "cell_type": "code",
   "execution_count": 44,
   "id": "98d380ac",
   "metadata": {},
   "outputs": [
    {
     "data": {
      "text/html": [
       "<div>\n",
       "<style scoped>\n",
       "    .dataframe tbody tr th:only-of-type {\n",
       "        vertical-align: middle;\n",
       "    }\n",
       "\n",
       "    .dataframe tbody tr th {\n",
       "        vertical-align: top;\n",
       "    }\n",
       "\n",
       "    .dataframe thead th {\n",
       "        text-align: right;\n",
       "    }\n",
       "</style>\n",
       "<table border=\"1\" class=\"dataframe\">\n",
       "  <thead>\n",
       "    <tr style=\"text-align: right;\">\n",
       "      <th></th>\n",
       "      <th>a</th>\n",
       "      <th>fruit_a</th>\n",
       "      <th>b</th>\n",
       "      <th>fruit_b</th>\n",
       "    </tr>\n",
       "  </thead>\n",
       "  <tbody>\n",
       "    <tr>\n",
       "      <th>0</th>\n",
       "      <td>1.0</td>\n",
       "      <td>Apple</td>\n",
       "      <td>2.0</td>\n",
       "      <td>Apple</td>\n",
       "    </tr>\n",
       "    <tr>\n",
       "      <th>1</th>\n",
       "      <td>2.0</td>\n",
       "      <td>Orange</td>\n",
       "      <td>1.0</td>\n",
       "      <td>Orange</td>\n",
       "    </tr>\n",
       "    <tr>\n",
       "      <th>2</th>\n",
       "      <td>3.0</td>\n",
       "      <td>Banana</td>\n",
       "      <td>NaN</td>\n",
       "      <td>None</td>\n",
       "    </tr>\n",
       "    <tr>\n",
       "      <th>3</th>\n",
       "      <td>4.0</td>\n",
       "      <td>Cucumber</td>\n",
       "      <td>NaN</td>\n",
       "      <td>None</td>\n",
       "    </tr>\n",
       "    <tr>\n",
       "      <th>4</th>\n",
       "      <td>NaN</td>\n",
       "      <td>None</td>\n",
       "      <td>3.0</td>\n",
       "      <td>Watermelon</td>\n",
       "    </tr>\n",
       "    <tr>\n",
       "      <th>5</th>\n",
       "      <td>NaN</td>\n",
       "      <td>None</td>\n",
       "      <td>4.0</td>\n",
       "      <td>Pear</td>\n",
       "    </tr>\n",
       "  </tbody>\n",
       "</table>\n",
       "</div>"
      ],
      "text/plain": [
       "     a   fruit_a    b     fruit_b\n",
       "0  1.0     Apple  2.0       Apple\n",
       "1  2.0    Orange  1.0      Orange\n",
       "2  3.0    Banana  NaN        None\n",
       "3  4.0  Cucumber  NaN        None\n",
       "4  NaN      None  3.0  Watermelon\n",
       "5  NaN      None  4.0        Pear"
      ]
     },
     "metadata": {},
     "output_type": "display_data"
    }
   ],
   "source": [
    "try:\n",
    "    \n",
    "    connection= ps.connect(\n",
    "    user=\"postgres\",\n",
    "    password=password,\n",
    "    database= \"dvdRental\"\n",
    "    )\n",
    "    \n",
    "    cur= connection.cursor()\n",
    "    task= \"\"\"SELECT ba.a, ba.fruit_a, bb.b, bb.fruit_b FROM basket_a ba FULL JOIN basket_b bb ON ba.fruit_a = bb.fruit_b;\"\"\"\n",
    "    cur.execute(task)\n",
    "    result = cur.fetchall()\n",
    "    df = pd.DataFrame(result, columns=[\"a\", \"fruit_a\", \"b\", \"fruit_b\"])\n",
    "    display(df)\n",
    "except:\n",
    "    print(er)"
   ]
  },
  {
   "cell_type": "code",
   "execution_count": null,
   "id": "8a8d6bae",
   "metadata": {},
   "outputs": [],
   "source": []
  },
  {
   "cell_type": "code",
   "execution_count": null,
   "id": "05c99a9f",
   "metadata": {},
   "outputs": [],
   "source": []
  },
  {
   "cell_type": "markdown",
   "id": "2c69c6cc",
   "metadata": {},
   "source": [
    "# full outer join\n",
    "\n",
    "To return rows in a table that do not have matching rows in the other, you use the full join with a WHERE clause like this:"
   ]
  },
  {
   "cell_type": "code",
   "execution_count": 52,
   "id": "d61936f4",
   "metadata": {},
   "outputs": [
    {
     "data": {
      "text/html": [
       "<div>\n",
       "<style scoped>\n",
       "    .dataframe tbody tr th:only-of-type {\n",
       "        vertical-align: middle;\n",
       "    }\n",
       "\n",
       "    .dataframe tbody tr th {\n",
       "        vertical-align: top;\n",
       "    }\n",
       "\n",
       "    .dataframe thead th {\n",
       "        text-align: right;\n",
       "    }\n",
       "</style>\n",
       "<table border=\"1\" class=\"dataframe\">\n",
       "  <thead>\n",
       "    <tr style=\"text-align: right;\">\n",
       "      <th></th>\n",
       "      <th>a</th>\n",
       "      <th>fruit_a</th>\n",
       "      <th>b</th>\n",
       "      <th>fruit_b</th>\n",
       "    </tr>\n",
       "  </thead>\n",
       "  <tbody>\n",
       "    <tr>\n",
       "      <th>0</th>\n",
       "      <td>3.0</td>\n",
       "      <td>Banana</td>\n",
       "      <td>NaN</td>\n",
       "      <td>None</td>\n",
       "    </tr>\n",
       "    <tr>\n",
       "      <th>1</th>\n",
       "      <td>4.0</td>\n",
       "      <td>Cucumber</td>\n",
       "      <td>NaN</td>\n",
       "      <td>None</td>\n",
       "    </tr>\n",
       "    <tr>\n",
       "      <th>2</th>\n",
       "      <td>NaN</td>\n",
       "      <td>None</td>\n",
       "      <td>3.0</td>\n",
       "      <td>Watermelon</td>\n",
       "    </tr>\n",
       "    <tr>\n",
       "      <th>3</th>\n",
       "      <td>NaN</td>\n",
       "      <td>None</td>\n",
       "      <td>4.0</td>\n",
       "      <td>Pear</td>\n",
       "    </tr>\n",
       "  </tbody>\n",
       "</table>\n",
       "</div>"
      ],
      "text/plain": [
       "     a   fruit_a    b     fruit_b\n",
       "0  3.0    Banana  NaN        None\n",
       "1  4.0  Cucumber  NaN        None\n",
       "2  NaN      None  3.0  Watermelon\n",
       "3  NaN      None  4.0        Pear"
      ]
     },
     "metadata": {},
     "output_type": "display_data"
    }
   ],
   "source": [
    "try:\n",
    "    \n",
    "    connection= ps.connect(\n",
    "    user=\"postgres\",\n",
    "    password=password,\n",
    "    database= \"dvdRental\"\n",
    "    )\n",
    "    \n",
    "    cur= connection.cursor()\n",
    "    task= \"\"\"SELECT ba.a, ba.fruit_a, bb.b, bb.fruit_b FROM basket_a ba FULL JOIN basket_b bb ON ba.fruit_a = bb.fruit_b\n",
    "    WHERE fruit_a IS NULL OR fruit_b IS NULL;\"\"\"\n",
    "    cur.execute(task)\n",
    "    result = cur.fetchall()\n",
    "    df = pd.DataFrame(result, columns=[\"a\", \"fruit_a\", \"b\", \"fruit_b\"])\n",
    "    display(df)\n",
    "except:\n",
    "    print(er)"
   ]
  },
  {
   "cell_type": "code",
   "execution_count": 57,
   "id": "a81ced69",
   "metadata": {},
   "outputs": [],
   "source": [
    "try:\n",
    "    \n",
    "    connection = ps.connect(\n",
    "        user=\"postgres\",\n",
    "        password=password,\n",
    "        database=\"dvdRental\"\n",
    "    )\n",
    "    \n",
    "    cur = connection.cursor()\n",
    "    \n",
    "    \n",
    "    drop= \"\"\"drop table if exists employee\"\"\"\n",
    "    cur.execute(drop)\n",
    "    connection.commit()\n",
    "    \n",
    "    \n",
    "    \n",
    "    task = \"\"\"  CREATE TABLE employee (\n",
    "    employee_id INT PRIMARY KEY,\n",
    "    first_name VARCHAR (255) NOT NULL,\n",
    "    last_name VARCHAR (255) NOT NULL,\n",
    "    manager_id INT,\n",
    "    FOREIGN KEY (manager_id) \n",
    "    REFERENCES employee (employee_id) \n",
    "    ON DELETE CASCADE); \"\"\"\n",
    "    \n",
    "    cur.execute(task)\n",
    "    connection.commit()\n",
    "    \n",
    "    task2= \"\"\"  INSERT INTO employee (\n",
    "    employee_id, first_name, last_name, manager_id)\n",
    "    \n",
    "    VALUES\n",
    "        (1, 'Windy', 'Hays', NULL),\n",
    "        (2, 'Ava', 'Christensen', 1),\n",
    "        (3, 'Hassan', 'Conner', 1),\n",
    "        (4, 'Anna', 'Reeves', 2),\n",
    "        (5, 'Sau', 'Norman', 2),\n",
    "        (6, 'Kelsie', 'Hays', 3),\n",
    "        (7, 'Tory', 'Goff', 3),\n",
    "        (8, 'Salley', 'Lester', 3);\n",
    "    \"\"\"\n",
    "    \n",
    "    cur.execute(task2)\n",
    "    connection.commit()\n",
    "    \n",
    "except:\n",
    "    print(er)"
   ]
  },
  {
   "cell_type": "markdown",
   "id": "4da043f6",
   "metadata": {},
   "source": [
    "In this employee table, the manager_id column references the employee_id column. The value in the manager_id column shows the manager that the employee directly reports to. When the value in the manager_id column is null, that employee does not report to anyone. In other words, he or she is the top manager."
   ]
  },
  {
   "cell_type": "code",
   "execution_count": null,
   "id": "4a91a7a2",
   "metadata": {},
   "outputs": [],
   "source": []
  },
  {
   "cell_type": "code",
   "execution_count": 61,
   "id": "534d0b40",
   "metadata": {},
   "outputs": [
    {
     "data": {
      "text/html": [
       "<div>\n",
       "<style scoped>\n",
       "    .dataframe tbody tr th:only-of-type {\n",
       "        vertical-align: middle;\n",
       "    }\n",
       "\n",
       "    .dataframe tbody tr th {\n",
       "        vertical-align: top;\n",
       "    }\n",
       "\n",
       "    .dataframe thead th {\n",
       "        text-align: right;\n",
       "    }\n",
       "</style>\n",
       "<table border=\"1\" class=\"dataframe\">\n",
       "  <thead>\n",
       "    <tr style=\"text-align: right;\">\n",
       "      <th></th>\n",
       "      <th>employee_id</th>\n",
       "      <th>first_name</th>\n",
       "      <th>last_name</th>\n",
       "      <th>manager_id</th>\n",
       "    </tr>\n",
       "  </thead>\n",
       "  <tbody>\n",
       "    <tr>\n",
       "      <th>0</th>\n",
       "      <td>1</td>\n",
       "      <td>Windy</td>\n",
       "      <td>Hays</td>\n",
       "      <td>NaN</td>\n",
       "    </tr>\n",
       "    <tr>\n",
       "      <th>1</th>\n",
       "      <td>2</td>\n",
       "      <td>Ava</td>\n",
       "      <td>Christensen</td>\n",
       "      <td>1.0</td>\n",
       "    </tr>\n",
       "    <tr>\n",
       "      <th>2</th>\n",
       "      <td>3</td>\n",
       "      <td>Hassan</td>\n",
       "      <td>Conner</td>\n",
       "      <td>1.0</td>\n",
       "    </tr>\n",
       "    <tr>\n",
       "      <th>3</th>\n",
       "      <td>4</td>\n",
       "      <td>Anna</td>\n",
       "      <td>Reeves</td>\n",
       "      <td>2.0</td>\n",
       "    </tr>\n",
       "    <tr>\n",
       "      <th>4</th>\n",
       "      <td>5</td>\n",
       "      <td>Sau</td>\n",
       "      <td>Norman</td>\n",
       "      <td>2.0</td>\n",
       "    </tr>\n",
       "    <tr>\n",
       "      <th>5</th>\n",
       "      <td>6</td>\n",
       "      <td>Kelsie</td>\n",
       "      <td>Hays</td>\n",
       "      <td>3.0</td>\n",
       "    </tr>\n",
       "    <tr>\n",
       "      <th>6</th>\n",
       "      <td>7</td>\n",
       "      <td>Tory</td>\n",
       "      <td>Goff</td>\n",
       "      <td>3.0</td>\n",
       "    </tr>\n",
       "    <tr>\n",
       "      <th>7</th>\n",
       "      <td>8</td>\n",
       "      <td>Salley</td>\n",
       "      <td>Lester</td>\n",
       "      <td>3.0</td>\n",
       "    </tr>\n",
       "  </tbody>\n",
       "</table>\n",
       "</div>"
      ],
      "text/plain": [
       "   employee_id first_name    last_name  manager_id\n",
       "0            1      Windy         Hays         NaN\n",
       "1            2        Ava  Christensen         1.0\n",
       "2            3     Hassan       Conner         1.0\n",
       "3            4       Anna       Reeves         2.0\n",
       "4            5        Sau       Norman         2.0\n",
       "5            6     Kelsie         Hays         3.0\n",
       "6            7       Tory         Goff         3.0\n",
       "7            8     Salley       Lester         3.0"
      ]
     },
     "metadata": {},
     "output_type": "display_data"
    }
   ],
   "source": [
    "try:\n",
    "    \n",
    "    connection = ps.connect(\n",
    "        user=\"postgres\",\n",
    "        password=password,\n",
    "        database=\"dvdRental\"\n",
    "    )\n",
    "    \n",
    "    cur = connection.cursor()\n",
    "    task = \"\"\"SELECT * FROM employee\"\"\"\n",
    "    cur.execute(task)\n",
    "    result = cur.fetchall()\n",
    "    df = pd.DataFrame(result, columns=[\"employee_id\", \"first_name\", \"last_name\", \"manager_id\"])\n",
    "    display(df)\n",
    "    \n",
    "except:\n",
    "    print(er)"
   ]
  },
  {
   "cell_type": "code",
   "execution_count": null,
   "id": "74f0465f",
   "metadata": {},
   "outputs": [],
   "source": [
    "The following query uses the self-join to find who reports to whom:"
   ]
  },
  {
   "cell_type": "code",
   "execution_count": 64,
   "id": "c75a2c01",
   "metadata": {},
   "outputs": [
    {
     "data": {
      "text/html": [
       "<div>\n",
       "<style scoped>\n",
       "    .dataframe tbody tr th:only-of-type {\n",
       "        vertical-align: middle;\n",
       "    }\n",
       "\n",
       "    .dataframe tbody tr th {\n",
       "        vertical-align: top;\n",
       "    }\n",
       "\n",
       "    .dataframe thead th {\n",
       "        text-align: right;\n",
       "    }\n",
       "</style>\n",
       "<table border=\"1\" class=\"dataframe\">\n",
       "  <thead>\n",
       "    <tr style=\"text-align: right;\">\n",
       "      <th></th>\n",
       "      <th>employee</th>\n",
       "      <th>manager</th>\n",
       "    </tr>\n",
       "  </thead>\n",
       "  <tbody>\n",
       "    <tr>\n",
       "      <th>0</th>\n",
       "      <td>Sau Norman</td>\n",
       "      <td>Ava Christensen</td>\n",
       "    </tr>\n",
       "    <tr>\n",
       "      <th>1</th>\n",
       "      <td>Anna Reeves</td>\n",
       "      <td>Ava Christensen</td>\n",
       "    </tr>\n",
       "    <tr>\n",
       "      <th>2</th>\n",
       "      <td>Salley Lester</td>\n",
       "      <td>Hassan Conner</td>\n",
       "    </tr>\n",
       "    <tr>\n",
       "      <th>3</th>\n",
       "      <td>Kelsie Hays</td>\n",
       "      <td>Hassan Conner</td>\n",
       "    </tr>\n",
       "    <tr>\n",
       "      <th>4</th>\n",
       "      <td>Tory Goff</td>\n",
       "      <td>Hassan Conner</td>\n",
       "    </tr>\n",
       "    <tr>\n",
       "      <th>5</th>\n",
       "      <td>Ava Christensen</td>\n",
       "      <td>Windy Hays</td>\n",
       "    </tr>\n",
       "    <tr>\n",
       "      <th>6</th>\n",
       "      <td>Hassan Conner</td>\n",
       "      <td>Windy Hays</td>\n",
       "    </tr>\n",
       "  </tbody>\n",
       "</table>\n",
       "</div>"
      ],
      "text/plain": [
       "          employee          manager\n",
       "0       Sau Norman  Ava Christensen\n",
       "1      Anna Reeves  Ava Christensen\n",
       "2    Salley Lester    Hassan Conner\n",
       "3      Kelsie Hays    Hassan Conner\n",
       "4        Tory Goff    Hassan Conner\n",
       "5  Ava Christensen       Windy Hays\n",
       "6    Hassan Conner       Windy Hays"
      ]
     },
     "metadata": {},
     "output_type": "display_data"
    }
   ],
   "source": [
    "try:\n",
    "    \n",
    "    connection = ps.connect(\n",
    "        user=\"postgres\",\n",
    "        password=password,\n",
    "        database=\"dvdRental\"\n",
    "    )\n",
    "    \n",
    "    cur = connection.cursor()\n",
    "    task = \"\"\" SELECT\n",
    "    e.first_name || ' ' || e.last_name employee,\n",
    "    m.first_name || ' ' || m.last_name manager\n",
    "FROM\n",
    "    employee e\n",
    "INNER JOIN employee m ON m .employee_id = e.manager_id\n",
    "ORDER BY manager;\n",
    "\"\"\"\n",
    "    cur.execute(task)\n",
    "    result = cur.fetchall()\n",
    "    df = pd.DataFrame(result, columns=[\"employee\", \"manager\"])\n",
    "    display(df)\n",
    "    \n",
    "except:\n",
    "    print(er)"
   ]
  },
  {
   "cell_type": "code",
   "execution_count": null,
   "id": "24407fb4",
   "metadata": {},
   "outputs": [],
   "source": []
  },
  {
   "cell_type": "code",
   "execution_count": null,
   "id": "844cd92f",
   "metadata": {},
   "outputs": [],
   "source": []
  },
  {
   "cell_type": "markdown",
   "id": "5be4027c",
   "metadata": {},
   "source": [
    "# Group by \n",
    "The GROUP BY clause divides the rows returned from the SELECT statement into groups. "
   ]
  },
  {
   "cell_type": "code",
   "execution_count": 22,
   "id": "c0107dfb",
   "metadata": {},
   "outputs": [],
   "source": [
    "import psycopg2 as ps\n"
   ]
  },
  {
   "cell_type": "markdown",
   "id": "75972bca",
   "metadata": {},
   "source": [
    "Groupby without Aggregate function act like a Select Distinct "
   ]
  },
  {
   "cell_type": "code",
   "execution_count": 25,
   "id": "c5000c7a",
   "metadata": {},
   "outputs": [
    {
     "data": {
      "text/html": [
       "<div>\n",
       "<style scoped>\n",
       "    .dataframe tbody tr th:only-of-type {\n",
       "        vertical-align: middle;\n",
       "    }\n",
       "\n",
       "    .dataframe tbody tr th {\n",
       "        vertical-align: top;\n",
       "    }\n",
       "\n",
       "    .dataframe thead th {\n",
       "        text-align: right;\n",
       "    }\n",
       "</style>\n",
       "<table border=\"1\" class=\"dataframe\">\n",
       "  <thead>\n",
       "    <tr style=\"text-align: right;\">\n",
       "      <th></th>\n",
       "      <th>customer_id</th>\n",
       "    </tr>\n",
       "  </thead>\n",
       "  <tbody>\n",
       "    <tr>\n",
       "      <th>0</th>\n",
       "      <td>184</td>\n",
       "    </tr>\n",
       "    <tr>\n",
       "      <th>1</th>\n",
       "      <td>87</td>\n",
       "    </tr>\n",
       "    <tr>\n",
       "      <th>2</th>\n",
       "      <td>477</td>\n",
       "    </tr>\n",
       "    <tr>\n",
       "      <th>3</th>\n",
       "      <td>273</td>\n",
       "    </tr>\n",
       "    <tr>\n",
       "      <th>4</th>\n",
       "      <td>550</td>\n",
       "    </tr>\n",
       "    <tr>\n",
       "      <th>...</th>\n",
       "      <td>...</td>\n",
       "    </tr>\n",
       "    <tr>\n",
       "      <th>594</th>\n",
       "      <td>449</td>\n",
       "    </tr>\n",
       "    <tr>\n",
       "      <th>595</th>\n",
       "      <td>64</td>\n",
       "    </tr>\n",
       "    <tr>\n",
       "      <th>596</th>\n",
       "      <td>520</td>\n",
       "    </tr>\n",
       "    <tr>\n",
       "      <th>597</th>\n",
       "      <td>55</td>\n",
       "    </tr>\n",
       "    <tr>\n",
       "      <th>598</th>\n",
       "      <td>148</td>\n",
       "    </tr>\n",
       "  </tbody>\n",
       "</table>\n",
       "<p>599 rows × 1 columns</p>\n",
       "</div>"
      ],
      "text/plain": [
       "     customer_id\n",
       "0            184\n",
       "1             87\n",
       "2            477\n",
       "3            273\n",
       "4            550\n",
       "..           ...\n",
       "594          449\n",
       "595           64\n",
       "596          520\n",
       "597           55\n",
       "598          148\n",
       "\n",
       "[599 rows x 1 columns]"
      ]
     },
     "metadata": {},
     "output_type": "display_data"
    }
   ],
   "source": [
    "try:\n",
    "    connection = ps.connect(\n",
    "        database= \"dvdRental\",\n",
    "        password=password,\n",
    "        user = \"postgres\")\n",
    "        \n",
    "    cur = connection.cursor() \n",
    "    task = \"\"\"  SELECT\n",
    "                   customer_id\n",
    "                FROM\n",
    "                   payment\n",
    "                GROUP BY\n",
    "                   customer_id;\n",
    "                \"\"\"\n",
    "    cur.execute(task)\n",
    "    result = cur.fetchall()\n",
    "    df = pd.DataFrame(result, columns=[\"customer_id\"])\n",
    "    display(df)\n",
    "    \n",
    "except:\n",
    "    print(er)\n",
    "    "
   ]
  },
  {
   "cell_type": "code",
   "execution_count": null,
   "id": "b64d3d21",
   "metadata": {},
   "outputs": [],
   "source": []
  },
  {
   "cell_type": "code",
   "execution_count": null,
   "id": "ddbab423",
   "metadata": {},
   "outputs": [],
   "source": []
  },
  {
   "cell_type": "code",
   "execution_count": null,
   "id": "6b609530",
   "metadata": {},
   "outputs": [],
   "source": []
  },
  {
   "cell_type": "code",
   "execution_count": null,
   "id": "e897fa50",
   "metadata": {},
   "outputs": [],
   "source": []
  },
  {
   "cell_type": "code",
   "execution_count": null,
   "id": "afc1d1dc",
   "metadata": {},
   "outputs": [],
   "source": []
  },
  {
   "cell_type": "code",
   "execution_count": null,
   "id": "3a61e2c1",
   "metadata": {},
   "outputs": [],
   "source": []
  },
  {
   "cell_type": "code",
   "execution_count": null,
   "id": "e337ffc9",
   "metadata": {},
   "outputs": [],
   "source": []
  },
  {
   "cell_type": "code",
   "execution_count": null,
   "id": "9ffaf5c1",
   "metadata": {},
   "outputs": [],
   "source": []
  }
 ],
 "metadata": {
  "kernelspec": {
   "display_name": "Python 3 (ipykernel)",
   "language": "python",
   "name": "python3"
  },
  "language_info": {
   "codemirror_mode": {
    "name": "ipython",
    "version": 3
   },
   "file_extension": ".py",
   "mimetype": "text/x-python",
   "name": "python",
   "nbconvert_exporter": "python",
   "pygments_lexer": "ipython3",
   "version": "3.9.13"
  }
 },
 "nbformat": 4,
 "nbformat_minor": 5
}
