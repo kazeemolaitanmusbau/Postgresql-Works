{
 "cells": [
  {
   "cell_type": "code",
   "execution_count": null,
   "id": "5cb386fb",
   "metadata": {},
   "outputs": [],
   "source": []
  },
  {
   "cell_type": "markdown",
   "id": "8e5d0052",
   "metadata": {},
   "source": [
    "# Introduction to jupyter Notebook\n",
    "\n",
    "you don't have to stress yourself in **creating** body, just write what you want `write`\n",
    "\n",
    "## Python is fun\n",
    "\n",
    "###### smallest header\n",
    "\n",
    "## Order list\n",
    "1. Point One\n",
    "2. Point Two\n",
    "3. Point Three\n",
    "\n",
    "\n",
    "## Unorder List\n",
    "- Point One\n",
    "- Point Two\n",
    "- Point three\n",
    "\n",
    "\n"
   ]
  },
  {
   "cell_type": "code",
   "execution_count": 3,
   "id": "637a7ccd",
   "metadata": {},
   "outputs": [
    {
     "name": "stdout",
     "output_type": "stream",
     "text": [
      "Hello World,  python is awesome\n"
     ]
    }
   ],
   "source": [
    "# am about to write my first python code\n",
    "print(\"Hello World,  python is awesome\")"
   ]
  },
  {
   "cell_type": "markdown",
   "id": "e0046c07",
   "metadata": {},
   "source": [
    "# Variable and identifier\n",
    "- A variable is an object that occupy space on compputer memory\n",
    "- Identifier is used to identify variable\n",
    "\n",
    "\n",
    "## Rules For Naming Variable\n",
    "\n",
    "- A variable name can not start with a number, though it can be find anywhere else\n",
    "- A variable name can not contain any special character(s) except underscore\n",
    "- A variable name can not be join with space, Use underscore instead.\n",
    "- A variable can not be name with pyton reserved key words"
   ]
  },
  {
   "cell_type": "code",
   "execution_count": null,
   "id": "7a9de3a5",
   "metadata": {},
   "outputs": [],
   "source": [
    "# state your fullname, age and your name of your school, then introduce youreself to the screen"
   ]
  },
  {
   "cell_type": "code",
   "execution_count": 2,
   "id": "cc6fbb25",
   "metadata": {},
   "outputs": [
    {
     "name": "stdout",
     "output_type": "stream",
     "text": [
      "Hello everyone, my fullname is olaitan kazeem i am 12 year olds and the name of my school is  LASOP\n"
     ]
    }
   ],
   "source": [
    "first_name = \"olaitan\"\n",
    "last_name = \"kazeem\"\n",
    "age = 12\n",
    "school = \"LASOP\"\n",
    "\n",
    "print(\"Hello everyone, my fullname is\" , first_name, last_name, \"i am\" , age, \n",
    "     \"year olds and the name of my school is \", school)"
   ]
  },
  {
   "cell_type": "code",
   "execution_count": 3,
   "id": "e8e9d293",
   "metadata": {},
   "outputs": [
    {
     "name": "stdout",
     "output_type": "stream",
     "text": [
      "please enter your first name James\n",
      "please enter your last name Sancho\n",
      "please enter your age 45\n",
      "What is the name of your school  Fut Minna\n",
      "Hello everyone, my fullname is James Sancho i am 45 year olds and the name of my school is  Fut Minna\n"
     ]
    }
   ],
   "source": [
    "first_name = input(\"please enter your first name \")\n",
    "last_name = input(\"please enter your last name \")\n",
    "age = input(\"please enter your age \")\n",
    "school = input(\"What is the name of your school  \")\n",
    "\n",
    "print(\"Hello everyone, my fullname is\" , first_name, last_name, \"i am\" , age, \n",
    "     \"year olds and the name of my school is \", school)"
   ]
  },
  {
   "cell_type": "code",
   "execution_count": 4,
   "id": "3cbdf377",
   "metadata": {},
   "outputs": [
    {
     "name": "stdout",
     "output_type": "stream",
     "text": [
      "please enter your first name k\n",
      "please enter your last name i\n",
      "please enter your age y\n",
      "What is the name of your school  g\n",
      "Hello everyone, my fullname is k i i am y year olds and the name of my school is  g\n"
     ]
    }
   ],
   "source": [
    "first_name = input(\"please enter your first name \")\n",
    "last_name = input(\"please enter your last name \")\n",
    "age = input(\"please enter your age \")\n",
    "school = input(\"What is the name of your school  \")\n",
    "\n",
    "print(\"Hello everyone, my fullname is\" , first_name, last_name, \"i am\" , age, \n",
    "     \"year olds and the name of my school is \", school)"
   ]
  },
  {
   "cell_type": "code",
   "execution_count": null,
   "id": "9cbfbd5e",
   "metadata": {},
   "outputs": [],
   "source": []
  },
  {
   "cell_type": "code",
   "execution_count": null,
   "id": "610d4ebc",
   "metadata": {},
   "outputs": [],
   "source": []
  }
 ],
 "metadata": {
  "kernelspec": {
   "display_name": "Python 3 (ipykernel)",
   "language": "python",
   "name": "python3"
  },
  "language_info": {
   "codemirror_mode": {
    "name": "ipython",
    "version": 3
   },
   "file_extension": ".py",
   "mimetype": "text/x-python",
   "name": "python",
   "nbconvert_exporter": "python",
   "pygments_lexer": "ipython3",
   "version": "3.9.13"
  }
 },
 "nbformat": 4,
 "nbformat_minor": 5
}
