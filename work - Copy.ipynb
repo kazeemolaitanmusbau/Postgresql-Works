{
 "cells": [
  {
   "cell_type": "code",
   "execution_count": 1,
   "id": "dc8988b3",
   "metadata": {},
   "outputs": [],
   "source": [
    "import numpy as np\n",
    "import pandas as pd\n",
    "import matplotlib.pyplot as plt\n",
    "import seaborn as sns\n",
    "from sklearn.pipeline import Pipeline\n",
    "from sklearn.preprocessing import StandardScaler, OneHotEncoder, LabelEncoder\n",
    "from sklearn.impute import SimpleImputer\n",
    "from sklearn.compose import  ColumnTransformer\n",
    "from sklearn.linear_model import LinearRegression\n",
    "from sklearn.metrics import r2_score, mean_absolute_error\n",
    "from sklearn.model_selection import train_test_split\n",
    "from sklearn.ensemble import RandomForestRegressor\n",
    "import warnings \n",
    "warnings.filterwarnings(\"ignore\")"
   ]
  },
  {
   "cell_type": "code",
   "execution_count": 2,
   "id": "4b0fe05f",
   "metadata": {},
   "outputs": [
    {
     "data": {
      "text/html": [
       "<div>\n",
       "<style scoped>\n",
       "    .dataframe tbody tr th:only-of-type {\n",
       "        vertical-align: middle;\n",
       "    }\n",
       "\n",
       "    .dataframe tbody tr th {\n",
       "        vertical-align: top;\n",
       "    }\n",
       "\n",
       "    .dataframe thead th {\n",
       "        text-align: right;\n",
       "    }\n",
       "</style>\n",
       "<table border=\"1\" class=\"dataframe\">\n",
       "  <thead>\n",
       "    <tr style=\"text-align: right;\">\n",
       "      <th></th>\n",
       "      <th>ID</th>\n",
       "      <th>District</th>\n",
       "      <th>Block</th>\n",
       "      <th>CultLand</th>\n",
       "      <th>CropCultLand</th>\n",
       "      <th>LandPreparationMethod</th>\n",
       "      <th>CropTillageDate</th>\n",
       "      <th>CropTillageDepth</th>\n",
       "      <th>CropEstMethod</th>\n",
       "      <th>RcNursEstDate</th>\n",
       "      <th>...</th>\n",
       "      <th>Harv_method</th>\n",
       "      <th>Harv_date</th>\n",
       "      <th>Harv_hand_rent</th>\n",
       "      <th>Threshing_date</th>\n",
       "      <th>Threshing_method</th>\n",
       "      <th>Residue_length</th>\n",
       "      <th>Residue_perc</th>\n",
       "      <th>Stubble_use</th>\n",
       "      <th>Acre</th>\n",
       "      <th>Yield</th>\n",
       "    </tr>\n",
       "  </thead>\n",
       "  <tbody>\n",
       "    <tr>\n",
       "      <th>0</th>\n",
       "      <td>ID_GTFAC7PEVWQ9</td>\n",
       "      <td>Nalanda</td>\n",
       "      <td>Noorsarai</td>\n",
       "      <td>45</td>\n",
       "      <td>40</td>\n",
       "      <td>TractorPlough FourWheelTracRotavator</td>\n",
       "      <td>2022-07-20</td>\n",
       "      <td>5</td>\n",
       "      <td>Manual_PuddledRandom</td>\n",
       "      <td>2022-06-27</td>\n",
       "      <td>...</td>\n",
       "      <td>machine</td>\n",
       "      <td>2022-11-16</td>\n",
       "      <td>NaN</td>\n",
       "      <td>2022-11-16</td>\n",
       "      <td>machine</td>\n",
       "      <td>30</td>\n",
       "      <td>40</td>\n",
       "      <td>plowed_in_soil</td>\n",
       "      <td>0.312500</td>\n",
       "      <td>600</td>\n",
       "    </tr>\n",
       "    <tr>\n",
       "      <th>1</th>\n",
       "      <td>ID_TK40ARLSPOKS</td>\n",
       "      <td>Nalanda</td>\n",
       "      <td>Rajgir</td>\n",
       "      <td>26</td>\n",
       "      <td>26</td>\n",
       "      <td>WetTillagePuddling TractorPlough FourWheelTrac...</td>\n",
       "      <td>2022-07-18</td>\n",
       "      <td>5</td>\n",
       "      <td>Manual_PuddledRandom</td>\n",
       "      <td>2022-06-20</td>\n",
       "      <td>...</td>\n",
       "      <td>hand</td>\n",
       "      <td>2022-11-25</td>\n",
       "      <td>3.0</td>\n",
       "      <td>2022-12-24</td>\n",
       "      <td>machine</td>\n",
       "      <td>24</td>\n",
       "      <td>10</td>\n",
       "      <td>plowed_in_soil</td>\n",
       "      <td>0.312500</td>\n",
       "      <td>600</td>\n",
       "    </tr>\n",
       "    <tr>\n",
       "      <th>2</th>\n",
       "      <td>ID_1FJY2CRIMLZZ</td>\n",
       "      <td>Gaya</td>\n",
       "      <td>Gurua</td>\n",
       "      <td>10</td>\n",
       "      <td>10</td>\n",
       "      <td>TractorPlough FourWheelTracRotavator</td>\n",
       "      <td>2022-06-30</td>\n",
       "      <td>6</td>\n",
       "      <td>Manual_PuddledRandom</td>\n",
       "      <td>2022-06-20</td>\n",
       "      <td>...</td>\n",
       "      <td>hand</td>\n",
       "      <td>2022-12-12</td>\n",
       "      <td>480.0</td>\n",
       "      <td>2023-01-11</td>\n",
       "      <td>machine</td>\n",
       "      <td>30</td>\n",
       "      <td>10</td>\n",
       "      <td>plowed_in_soil</td>\n",
       "      <td>0.148148</td>\n",
       "      <td>225</td>\n",
       "    </tr>\n",
       "    <tr>\n",
       "      <th>3</th>\n",
       "      <td>ID_I3IPXS4DB7NE</td>\n",
       "      <td>Gaya</td>\n",
       "      <td>Gurua</td>\n",
       "      <td>15</td>\n",
       "      <td>15</td>\n",
       "      <td>TractorPlough FourWheelTracRotavator</td>\n",
       "      <td>2022-06-16</td>\n",
       "      <td>6</td>\n",
       "      <td>Manual_PuddledRandom</td>\n",
       "      <td>2022-06-17</td>\n",
       "      <td>...</td>\n",
       "      <td>hand</td>\n",
       "      <td>2022-12-02</td>\n",
       "      <td>240.0</td>\n",
       "      <td>2022-12-29</td>\n",
       "      <td>hand</td>\n",
       "      <td>26</td>\n",
       "      <td>10</td>\n",
       "      <td>plowed_in_soil</td>\n",
       "      <td>0.222222</td>\n",
       "      <td>468</td>\n",
       "    </tr>\n",
       "    <tr>\n",
       "      <th>4</th>\n",
       "      <td>ID_4T8YQWXWHB4A</td>\n",
       "      <td>Nalanda</td>\n",
       "      <td>Noorsarai</td>\n",
       "      <td>60</td>\n",
       "      <td>60</td>\n",
       "      <td>TractorPlough WetTillagePuddling</td>\n",
       "      <td>2022-07-19</td>\n",
       "      <td>4</td>\n",
       "      <td>Manual_PuddledRandom</td>\n",
       "      <td>2022-06-21</td>\n",
       "      <td>...</td>\n",
       "      <td>machine</td>\n",
       "      <td>2022-11-30</td>\n",
       "      <td>NaN</td>\n",
       "      <td>2022-12-02</td>\n",
       "      <td>machine</td>\n",
       "      <td>24</td>\n",
       "      <td>40</td>\n",
       "      <td>plowed_in_soil</td>\n",
       "      <td>0.468750</td>\n",
       "      <td>550</td>\n",
       "    </tr>\n",
       "    <tr>\n",
       "      <th>...</th>\n",
       "      <td>...</td>\n",
       "      <td>...</td>\n",
       "      <td>...</td>\n",
       "      <td>...</td>\n",
       "      <td>...</td>\n",
       "      <td>...</td>\n",
       "      <td>...</td>\n",
       "      <td>...</td>\n",
       "      <td>...</td>\n",
       "      <td>...</td>\n",
       "      <td>...</td>\n",
       "      <td>...</td>\n",
       "      <td>...</td>\n",
       "      <td>...</td>\n",
       "      <td>...</td>\n",
       "      <td>...</td>\n",
       "      <td>...</td>\n",
       "      <td>...</td>\n",
       "      <td>...</td>\n",
       "      <td>...</td>\n",
       "      <td>...</td>\n",
       "    </tr>\n",
       "    <tr>\n",
       "      <th>3865</th>\n",
       "      <td>ID_7ZZQ6R4XB4FK</td>\n",
       "      <td>Nalanda</td>\n",
       "      <td>Rajgir</td>\n",
       "      <td>28</td>\n",
       "      <td>28</td>\n",
       "      <td>WetTillagePuddling TractorPlough FourWheelTrac...</td>\n",
       "      <td>2022-07-02</td>\n",
       "      <td>6</td>\n",
       "      <td>LineSowingAfterTillage</td>\n",
       "      <td>2022-06-29</td>\n",
       "      <td>...</td>\n",
       "      <td>machine</td>\n",
       "      <td>2022-11-29</td>\n",
       "      <td>NaN</td>\n",
       "      <td>2022-12-14</td>\n",
       "      <td>machine</td>\n",
       "      <td>25</td>\n",
       "      <td>40</td>\n",
       "      <td>plowed_in_soil</td>\n",
       "      <td>0.375000</td>\n",
       "      <td>720</td>\n",
       "    </tr>\n",
       "    <tr>\n",
       "      <th>3866</th>\n",
       "      <td>ID_PVVDF6LK6FO8</td>\n",
       "      <td>Vaishali</td>\n",
       "      <td>Mahua</td>\n",
       "      <td>5</td>\n",
       "      <td>5</td>\n",
       "      <td>WetTillagePuddling TractorPlough FourWheelTrac...</td>\n",
       "      <td>2022-07-06</td>\n",
       "      <td>5</td>\n",
       "      <td>Manual_PuddledRandom</td>\n",
       "      <td>2022-07-08</td>\n",
       "      <td>...</td>\n",
       "      <td>hand</td>\n",
       "      <td>2022-10-10</td>\n",
       "      <td>4.0</td>\n",
       "      <td>2022-11-05</td>\n",
       "      <td>hand</td>\n",
       "      <td>30</td>\n",
       "      <td>10</td>\n",
       "      <td>plowed_in_soil</td>\n",
       "      <td>0.136364</td>\n",
       "      <td>250</td>\n",
       "    </tr>\n",
       "    <tr>\n",
       "      <th>3867</th>\n",
       "      <td>ID_RBYVUPRATVMW</td>\n",
       "      <td>Nalanda</td>\n",
       "      <td>Noorsarai</td>\n",
       "      <td>50</td>\n",
       "      <td>45</td>\n",
       "      <td>TractorPlough</td>\n",
       "      <td>2022-07-07</td>\n",
       "      <td>5</td>\n",
       "      <td>Manual_PuddledRandom</td>\n",
       "      <td>2022-06-15</td>\n",
       "      <td>...</td>\n",
       "      <td>hand</td>\n",
       "      <td>2022-10-20</td>\n",
       "      <td>1200.0</td>\n",
       "      <td>2022-10-30</td>\n",
       "      <td>hand</td>\n",
       "      <td>25</td>\n",
       "      <td>10</td>\n",
       "      <td>plowed_in_soil</td>\n",
       "      <td>0.375000</td>\n",
       "      <td>600</td>\n",
       "    </tr>\n",
       "    <tr>\n",
       "      <th>3868</th>\n",
       "      <td>ID_ARE9QWENJNJ2</td>\n",
       "      <td>Jamui</td>\n",
       "      <td>Khaira</td>\n",
       "      <td>20</td>\n",
       "      <td>20</td>\n",
       "      <td>TractorPlough</td>\n",
       "      <td>2022-07-12</td>\n",
       "      <td>3</td>\n",
       "      <td>Manual_PuddledRandom</td>\n",
       "      <td>2022-06-28</td>\n",
       "      <td>...</td>\n",
       "      <td>hand</td>\n",
       "      <td>2022-11-09</td>\n",
       "      <td>100.0</td>\n",
       "      <td>2022-12-10</td>\n",
       "      <td>hand</td>\n",
       "      <td>25</td>\n",
       "      <td>10</td>\n",
       "      <td>plowed_in_soil</td>\n",
       "      <td>0.227273</td>\n",
       "      <td>400</td>\n",
       "    </tr>\n",
       "    <tr>\n",
       "      <th>3869</th>\n",
       "      <td>ID_KEPOQDTCZC6S</td>\n",
       "      <td>Jamui</td>\n",
       "      <td>Jamui</td>\n",
       "      <td>4</td>\n",
       "      <td>4</td>\n",
       "      <td>TractorPlough</td>\n",
       "      <td>2022-07-24</td>\n",
       "      <td>4</td>\n",
       "      <td>Manual_PuddledRandom</td>\n",
       "      <td>2022-06-25</td>\n",
       "      <td>...</td>\n",
       "      <td>hand</td>\n",
       "      <td>2022-11-17</td>\n",
       "      <td>300.0</td>\n",
       "      <td>2022-12-29</td>\n",
       "      <td>machine</td>\n",
       "      <td>27</td>\n",
       "      <td>10</td>\n",
       "      <td>plowed_in_soil</td>\n",
       "      <td>0.136364</td>\n",
       "      <td>238</td>\n",
       "    </tr>\n",
       "  </tbody>\n",
       "</table>\n",
       "<p>3870 rows × 44 columns</p>\n",
       "</div>"
      ],
      "text/plain": [
       "                   ID  District      Block  CultLand  CropCultLand  \\\n",
       "0     ID_GTFAC7PEVWQ9   Nalanda  Noorsarai        45            40   \n",
       "1     ID_TK40ARLSPOKS   Nalanda     Rajgir        26            26   \n",
       "2     ID_1FJY2CRIMLZZ      Gaya      Gurua        10            10   \n",
       "3     ID_I3IPXS4DB7NE      Gaya      Gurua        15            15   \n",
       "4     ID_4T8YQWXWHB4A   Nalanda  Noorsarai        60            60   \n",
       "...               ...       ...        ...       ...           ...   \n",
       "3865  ID_7ZZQ6R4XB4FK   Nalanda     Rajgir        28            28   \n",
       "3866  ID_PVVDF6LK6FO8  Vaishali      Mahua         5             5   \n",
       "3867  ID_RBYVUPRATVMW   Nalanda  Noorsarai        50            45   \n",
       "3868  ID_ARE9QWENJNJ2     Jamui     Khaira        20            20   \n",
       "3869  ID_KEPOQDTCZC6S     Jamui      Jamui         4             4   \n",
       "\n",
       "                                  LandPreparationMethod CropTillageDate  \\\n",
       "0                  TractorPlough FourWheelTracRotavator      2022-07-20   \n",
       "1     WetTillagePuddling TractorPlough FourWheelTrac...      2022-07-18   \n",
       "2                  TractorPlough FourWheelTracRotavator      2022-06-30   \n",
       "3                  TractorPlough FourWheelTracRotavator      2022-06-16   \n",
       "4                      TractorPlough WetTillagePuddling      2022-07-19   \n",
       "...                                                 ...             ...   \n",
       "3865  WetTillagePuddling TractorPlough FourWheelTrac...      2022-07-02   \n",
       "3866  WetTillagePuddling TractorPlough FourWheelTrac...      2022-07-06   \n",
       "3867                                      TractorPlough      2022-07-07   \n",
       "3868                                      TractorPlough      2022-07-12   \n",
       "3869                                      TractorPlough      2022-07-24   \n",
       "\n",
       "      CropTillageDepth           CropEstMethod RcNursEstDate  ... Harv_method  \\\n",
       "0                    5    Manual_PuddledRandom    2022-06-27  ...     machine   \n",
       "1                    5    Manual_PuddledRandom    2022-06-20  ...        hand   \n",
       "2                    6    Manual_PuddledRandom    2022-06-20  ...        hand   \n",
       "3                    6    Manual_PuddledRandom    2022-06-17  ...        hand   \n",
       "4                    4    Manual_PuddledRandom    2022-06-21  ...     machine   \n",
       "...                ...                     ...           ...  ...         ...   \n",
       "3865                 6  LineSowingAfterTillage    2022-06-29  ...     machine   \n",
       "3866                 5    Manual_PuddledRandom    2022-07-08  ...        hand   \n",
       "3867                 5    Manual_PuddledRandom    2022-06-15  ...        hand   \n",
       "3868                 3    Manual_PuddledRandom    2022-06-28  ...        hand   \n",
       "3869                 4    Manual_PuddledRandom    2022-06-25  ...        hand   \n",
       "\n",
       "       Harv_date Harv_hand_rent Threshing_date  Threshing_method  \\\n",
       "0     2022-11-16            NaN     2022-11-16           machine   \n",
       "1     2022-11-25            3.0     2022-12-24           machine   \n",
       "2     2022-12-12          480.0     2023-01-11           machine   \n",
       "3     2022-12-02          240.0     2022-12-29              hand   \n",
       "4     2022-11-30            NaN     2022-12-02           machine   \n",
       "...          ...            ...            ...               ...   \n",
       "3865  2022-11-29            NaN     2022-12-14           machine   \n",
       "3866  2022-10-10            4.0     2022-11-05              hand   \n",
       "3867  2022-10-20         1200.0     2022-10-30              hand   \n",
       "3868  2022-11-09          100.0     2022-12-10              hand   \n",
       "3869  2022-11-17          300.0     2022-12-29           machine   \n",
       "\n",
       "     Residue_length Residue_perc     Stubble_use      Acre Yield  \n",
       "0                30           40  plowed_in_soil  0.312500   600  \n",
       "1                24           10  plowed_in_soil  0.312500   600  \n",
       "2                30           10  plowed_in_soil  0.148148   225  \n",
       "3                26           10  plowed_in_soil  0.222222   468  \n",
       "4                24           40  plowed_in_soil  0.468750   550  \n",
       "...             ...          ...             ...       ...   ...  \n",
       "3865             25           40  plowed_in_soil  0.375000   720  \n",
       "3866             30           10  plowed_in_soil  0.136364   250  \n",
       "3867             25           10  plowed_in_soil  0.375000   600  \n",
       "3868             25           10  plowed_in_soil  0.227273   400  \n",
       "3869             27           10  plowed_in_soil  0.136364   238  \n",
       "\n",
       "[3870 rows x 44 columns]"
      ]
     },
     "execution_count": 2,
     "metadata": {},
     "output_type": "execute_result"
    }
   ],
   "source": [
    "path = \"C:/Users/pc/Desktop/1/zindi/third project/digital-green-crop-yield-estimate-challenge20230912-4562-1bbmstk\"\n",
    "\n",
    "train = pd.read_csv(path + \"/train.csv\")\n",
    "train"
   ]
  },
  {
   "cell_type": "code",
   "execution_count": 3,
   "id": "1f3cf8a7",
   "metadata": {},
   "outputs": [
    {
     "data": {
      "text/plain": [
       "Index(['ID', 'District', 'Block', 'CultLand', 'CropCultLand',\n",
       "       'LandPreparationMethod', 'CropTillageDate', 'CropTillageDepth',\n",
       "       'CropEstMethod', 'RcNursEstDate', 'SeedingSowingTransplanting',\n",
       "       'SeedlingsPerPit', 'NursDetFactor', 'TransDetFactor',\n",
       "       'TransplantingIrrigationHours', 'TransplantingIrrigationSource',\n",
       "       'TransplantingIrrigationPowerSource', 'TransIrriCost', 'StandingWater',\n",
       "       'OrgFertilizers', 'Ganaura', 'CropOrgFYM', 'PCropSolidOrgFertAppMethod',\n",
       "       'NoFertilizerAppln', 'CropbasalFerts', 'BasalDAP', 'BasalUrea',\n",
       "       'MineralFertAppMethod', 'FirstTopDressFert', '1tdUrea', '1appDaysUrea',\n",
       "       '2tdUrea', '2appDaysUrea', 'MineralFertAppMethod.1', 'Harv_method',\n",
       "       'Harv_date', 'Harv_hand_rent', 'Threshing_date', 'Threshing_method',\n",
       "       'Residue_length', 'Residue_perc', 'Stubble_use', 'Acre', 'Yield'],\n",
       "      dtype='object')"
      ]
     },
     "execution_count": 3,
     "metadata": {},
     "output_type": "execute_result"
    }
   ],
   "source": [
    "train.columns"
   ]
  },
  {
   "cell_type": "code",
   "execution_count": 4,
   "id": "4be29c9a",
   "metadata": {},
   "outputs": [
    {
     "name": "stdout",
     "output_type": "stream",
     "text": [
      "<class 'pandas.core.frame.DataFrame'>\n",
      "RangeIndex: 3870 entries, 0 to 3869\n",
      "Data columns (total 44 columns):\n",
      " #   Column                              Non-Null Count  Dtype  \n",
      "---  ------                              --------------  -----  \n",
      " 0   ID                                  3870 non-null   object \n",
      " 1   District                            3870 non-null   object \n",
      " 2   Block                               3870 non-null   object \n",
      " 3   CultLand                            3870 non-null   int64  \n",
      " 4   CropCultLand                        3870 non-null   int64  \n",
      " 5   LandPreparationMethod               3870 non-null   object \n",
      " 6   CropTillageDate                     3870 non-null   object \n",
      " 7   CropTillageDepth                    3870 non-null   int64  \n",
      " 8   CropEstMethod                       3870 non-null   object \n",
      " 9   RcNursEstDate                       3787 non-null   object \n",
      " 10  SeedingSowingTransplanting          3870 non-null   object \n",
      " 11  SeedlingsPerPit                     3581 non-null   float64\n",
      " 12  NursDetFactor                       3581 non-null   object \n",
      " 13  TransDetFactor                      3581 non-null   object \n",
      " 14  TransplantingIrrigationHours        3677 non-null   float64\n",
      " 15  TransplantingIrrigationSource       3755 non-null   object \n",
      " 16  TransplantingIrrigationPowerSource  3367 non-null   object \n",
      " 17  TransIrriCost                       2988 non-null   float64\n",
      " 18  StandingWater                       3632 non-null   float64\n",
      " 19  OrgFertilizers                      2535 non-null   object \n",
      " 20  Ganaura                             1453 non-null   float64\n",
      " 21  CropOrgFYM                          1196 non-null   float64\n",
      " 22  PCropSolidOrgFertAppMethod          2533 non-null   object \n",
      " 23  NoFertilizerAppln                   3870 non-null   int64  \n",
      " 24  CropbasalFerts                      3682 non-null   object \n",
      " 25  BasalDAP                            3327 non-null   float64\n",
      " 26  BasalUrea                           2166 non-null   float64\n",
      " 27  MineralFertAppMethod                3870 non-null   object \n",
      " 28  FirstTopDressFert                   3385 non-null   object \n",
      " 29  1tdUrea                             3314 non-null   float64\n",
      " 30  1appDaysUrea                        3314 non-null   float64\n",
      " 31  2tdUrea                             1176 non-null   float64\n",
      " 32  2appDaysUrea                        1170 non-null   float64\n",
      " 33  MineralFertAppMethod.1              3389 non-null   object \n",
      " 34  Harv_method                         3870 non-null   object \n",
      " 35  Harv_date                           3870 non-null   object \n",
      " 36  Harv_hand_rent                      3618 non-null   float64\n",
      " 37  Threshing_date                      3870 non-null   object \n",
      " 38  Threshing_method                    3870 non-null   object \n",
      " 39  Residue_length                      3870 non-null   int64  \n",
      " 40  Residue_perc                        3870 non-null   int64  \n",
      " 41  Stubble_use                         3870 non-null   object \n",
      " 42  Acre                                3870 non-null   float64\n",
      " 43  Yield                               3870 non-null   int64  \n",
      "dtypes: float64(14), int64(7), object(23)\n",
      "memory usage: 1.3+ MB\n"
     ]
    }
   ],
   "source": [
    "train.info()"
   ]
  },
  {
   "cell_type": "code",
   "execution_count": 5,
   "id": "7f0713e6",
   "metadata": {},
   "outputs": [],
   "source": [
    "date_col=[\"Threshing_date\", \"RcNursEstDate\", \"Harv_date\", \"CropTillageDate\", \"RcNursEstDate\", \"SeedingSowingTransplanting\"]\n",
    "for col in date_col:\n",
    "    train[col]= pd.to_datetime(train[col])"
   ]
  },
  {
   "cell_type": "code",
   "execution_count": 6,
   "id": "ed83c7b7",
   "metadata": {},
   "outputs": [
    {
     "name": "stdout",
     "output_type": "stream",
     "text": [
      "<class 'pandas.core.frame.DataFrame'>\n",
      "RangeIndex: 3870 entries, 0 to 3869\n",
      "Data columns (total 44 columns):\n",
      " #   Column                              Non-Null Count  Dtype         \n",
      "---  ------                              --------------  -----         \n",
      " 0   ID                                  3870 non-null   object        \n",
      " 1   District                            3870 non-null   object        \n",
      " 2   Block                               3870 non-null   object        \n",
      " 3   CultLand                            3870 non-null   int64         \n",
      " 4   CropCultLand                        3870 non-null   int64         \n",
      " 5   LandPreparationMethod               3870 non-null   object        \n",
      " 6   CropTillageDate                     3870 non-null   datetime64[ns]\n",
      " 7   CropTillageDepth                    3870 non-null   int64         \n",
      " 8   CropEstMethod                       3870 non-null   object        \n",
      " 9   RcNursEstDate                       3787 non-null   datetime64[ns]\n",
      " 10  SeedingSowingTransplanting          3870 non-null   datetime64[ns]\n",
      " 11  SeedlingsPerPit                     3581 non-null   float64       \n",
      " 12  NursDetFactor                       3581 non-null   object        \n",
      " 13  TransDetFactor                      3581 non-null   object        \n",
      " 14  TransplantingIrrigationHours        3677 non-null   float64       \n",
      " 15  TransplantingIrrigationSource       3755 non-null   object        \n",
      " 16  TransplantingIrrigationPowerSource  3367 non-null   object        \n",
      " 17  TransIrriCost                       2988 non-null   float64       \n",
      " 18  StandingWater                       3632 non-null   float64       \n",
      " 19  OrgFertilizers                      2535 non-null   object        \n",
      " 20  Ganaura                             1453 non-null   float64       \n",
      " 21  CropOrgFYM                          1196 non-null   float64       \n",
      " 22  PCropSolidOrgFertAppMethod          2533 non-null   object        \n",
      " 23  NoFertilizerAppln                   3870 non-null   int64         \n",
      " 24  CropbasalFerts                      3682 non-null   object        \n",
      " 25  BasalDAP                            3327 non-null   float64       \n",
      " 26  BasalUrea                           2166 non-null   float64       \n",
      " 27  MineralFertAppMethod                3870 non-null   object        \n",
      " 28  FirstTopDressFert                   3385 non-null   object        \n",
      " 29  1tdUrea                             3314 non-null   float64       \n",
      " 30  1appDaysUrea                        3314 non-null   float64       \n",
      " 31  2tdUrea                             1176 non-null   float64       \n",
      " 32  2appDaysUrea                        1170 non-null   float64       \n",
      " 33  MineralFertAppMethod.1              3389 non-null   object        \n",
      " 34  Harv_method                         3870 non-null   object        \n",
      " 35  Harv_date                           3870 non-null   datetime64[ns]\n",
      " 36  Harv_hand_rent                      3618 non-null   float64       \n",
      " 37  Threshing_date                      3870 non-null   datetime64[ns]\n",
      " 38  Threshing_method                    3870 non-null   object        \n",
      " 39  Residue_length                      3870 non-null   int64         \n",
      " 40  Residue_perc                        3870 non-null   int64         \n",
      " 41  Stubble_use                         3870 non-null   object        \n",
      " 42  Acre                                3870 non-null   float64       \n",
      " 43  Yield                               3870 non-null   int64         \n",
      "dtypes: datetime64[ns](5), float64(14), int64(7), object(18)\n",
      "memory usage: 1.3+ MB\n"
     ]
    }
   ],
   "source": [
    "train.info()"
   ]
  },
  {
   "cell_type": "code",
   "execution_count": 7,
   "id": "f7f4409e",
   "metadata": {},
   "outputs": [],
   "source": [
    "# Feature extraction: Extract year, month, and day as separate features\n",
    "for col in date_col:\n",
    "    train[col + '_Year'] = train[col].dt.year\n",
    "    train[col + '_Month'] = train[col].dt.month\n",
    "    train[col + '_Day'] = train[col].dt.day\n",
    "\n",
    "# Time intervals: Calculate time intervals between key dates\n",
    "train['Time_Between_Tillage_Est'] = (train['RcNursEstDate'] - train['CropTillageDate']).dt.days\n",
    "train['Time_Between_Sowing_Harvest'] = (train['Harv_date'] - train['SeedingSowingTransplanting']).dt.days\n",
    "\n",
    "# Cyclical encoding: Encode month as a cyclical feature (sine and cosine)\n",
    "train['Harv_date_Month_Sin'] = np.sin(2 * np.pi * train['Harv_date'].dt.month / 12)\n",
    "train['Harv_date_Month_Cos'] = np.cos(2 * np.pi * train['Harv_date'].dt.month / 12)\n"
   ]
  },
  {
   "cell_type": "code",
   "execution_count": null,
   "id": "d869cbbc",
   "metadata": {},
   "outputs": [],
   "source": []
  },
  {
   "cell_type": "code",
   "execution_count": 8,
   "id": "8e8c8529",
   "metadata": {},
   "outputs": [],
   "source": [
    "# Lag features: Create lag features for selected date columns\n",
    "lag_columns = ['CropTillageDate', 'Harv_date']\n",
    "lag_periods = [1, 2]  # Define the number of periods to lag (e.g., 1 period = 1 year)\n",
    "for col in lag_columns:\n",
    "    for period in lag_periods:\n",
    "        train[col + f'_Lag{period}'] = train[col] - pd.DateOffset(years=period)"
   ]
  },
  {
   "cell_type": "code",
   "execution_count": null,
   "id": "700f496b",
   "metadata": {},
   "outputs": [],
   "source": []
  },
  {
   "cell_type": "code",
   "execution_count": 9,
   "id": "01bae395",
   "metadata": {},
   "outputs": [],
   "source": [
    "# Date difference features: Calculate the time elapsed since a specific date\n",
    "train['TimeSince_Tillage'] = (train['Harv_date'] - train['CropTillageDate']).dt.days\n"
   ]
  },
  {
   "cell_type": "code",
   "execution_count": 10,
   "id": "84adb7c3",
   "metadata": {},
   "outputs": [
    {
     "name": "stdout",
     "output_type": "stream",
     "text": [
      "<class 'pandas.core.frame.DataFrame'>\n",
      "RangeIndex: 3870 entries, 0 to 3869\n",
      "Data columns (total 68 columns):\n",
      " #   Column                              Non-Null Count  Dtype         \n",
      "---  ------                              --------------  -----         \n",
      " 0   ID                                  3870 non-null   object        \n",
      " 1   District                            3870 non-null   object        \n",
      " 2   Block                               3870 non-null   object        \n",
      " 3   CultLand                            3870 non-null   int64         \n",
      " 4   CropCultLand                        3870 non-null   int64         \n",
      " 5   LandPreparationMethod               3870 non-null   object        \n",
      " 6   CropTillageDate                     3870 non-null   datetime64[ns]\n",
      " 7   CropTillageDepth                    3870 non-null   int64         \n",
      " 8   CropEstMethod                       3870 non-null   object        \n",
      " 9   RcNursEstDate                       3787 non-null   datetime64[ns]\n",
      " 10  SeedingSowingTransplanting          3870 non-null   datetime64[ns]\n",
      " 11  SeedlingsPerPit                     3581 non-null   float64       \n",
      " 12  NursDetFactor                       3581 non-null   object        \n",
      " 13  TransDetFactor                      3581 non-null   object        \n",
      " 14  TransplantingIrrigationHours        3677 non-null   float64       \n",
      " 15  TransplantingIrrigationSource       3755 non-null   object        \n",
      " 16  TransplantingIrrigationPowerSource  3367 non-null   object        \n",
      " 17  TransIrriCost                       2988 non-null   float64       \n",
      " 18  StandingWater                       3632 non-null   float64       \n",
      " 19  OrgFertilizers                      2535 non-null   object        \n",
      " 20  Ganaura                             1453 non-null   float64       \n",
      " 21  CropOrgFYM                          1196 non-null   float64       \n",
      " 22  PCropSolidOrgFertAppMethod          2533 non-null   object        \n",
      " 23  NoFertilizerAppln                   3870 non-null   int64         \n",
      " 24  CropbasalFerts                      3682 non-null   object        \n",
      " 25  BasalDAP                            3327 non-null   float64       \n",
      " 26  BasalUrea                           2166 non-null   float64       \n",
      " 27  MineralFertAppMethod                3870 non-null   object        \n",
      " 28  FirstTopDressFert                   3385 non-null   object        \n",
      " 29  1tdUrea                             3314 non-null   float64       \n",
      " 30  1appDaysUrea                        3314 non-null   float64       \n",
      " 31  2tdUrea                             1176 non-null   float64       \n",
      " 32  2appDaysUrea                        1170 non-null   float64       \n",
      " 33  MineralFertAppMethod.1              3389 non-null   object        \n",
      " 34  Harv_method                         3870 non-null   object        \n",
      " 35  Harv_date                           3870 non-null   datetime64[ns]\n",
      " 36  Harv_hand_rent                      3618 non-null   float64       \n",
      " 37  Threshing_date                      3870 non-null   datetime64[ns]\n",
      " 38  Threshing_method                    3870 non-null   object        \n",
      " 39  Residue_length                      3870 non-null   int64         \n",
      " 40  Residue_perc                        3870 non-null   int64         \n",
      " 41  Stubble_use                         3870 non-null   object        \n",
      " 42  Acre                                3870 non-null   float64       \n",
      " 43  Yield                               3870 non-null   int64         \n",
      " 44  Threshing_date_Year                 3870 non-null   int64         \n",
      " 45  Threshing_date_Month                3870 non-null   int64         \n",
      " 46  Threshing_date_Day                  3870 non-null   int64         \n",
      " 47  RcNursEstDate_Year                  3787 non-null   float64       \n",
      " 48  RcNursEstDate_Month                 3787 non-null   float64       \n",
      " 49  RcNursEstDate_Day                   3787 non-null   float64       \n",
      " 50  Harv_date_Year                      3870 non-null   int64         \n",
      " 51  Harv_date_Month                     3870 non-null   int64         \n",
      " 52  Harv_date_Day                       3870 non-null   int64         \n",
      " 53  CropTillageDate_Year                3870 non-null   int64         \n",
      " 54  CropTillageDate_Month               3870 non-null   int64         \n",
      " 55  CropTillageDate_Day                 3870 non-null   int64         \n",
      " 56  SeedingSowingTransplanting_Year     3870 non-null   int64         \n",
      " 57  SeedingSowingTransplanting_Month    3870 non-null   int64         \n",
      " 58  SeedingSowingTransplanting_Day      3870 non-null   int64         \n",
      " 59  Time_Between_Tillage_Est            3787 non-null   float64       \n",
      " 60  Time_Between_Sowing_Harvest         3870 non-null   int64         \n",
      " 61  Harv_date_Month_Sin                 3870 non-null   float64       \n",
      " 62  Harv_date_Month_Cos                 3870 non-null   float64       \n",
      " 63  CropTillageDate_Lag1                3870 non-null   datetime64[ns]\n",
      " 64  CropTillageDate_Lag2                3870 non-null   datetime64[ns]\n",
      " 65  Harv_date_Lag1                      3870 non-null   datetime64[ns]\n",
      " 66  Harv_date_Lag2                      3870 non-null   datetime64[ns]\n",
      " 67  TimeSince_Tillage                   3870 non-null   int64         \n",
      "dtypes: datetime64[ns](9), float64(20), int64(21), object(18)\n",
      "memory usage: 2.0+ MB\n"
     ]
    }
   ],
   "source": [
    "train.info()"
   ]
  },
  {
   "cell_type": "code",
   "execution_count": null,
   "id": "11541536",
   "metadata": {},
   "outputs": [],
   "source": []
  },
  {
   "cell_type": "code",
   "execution_count": 11,
   "id": "8070f95e",
   "metadata": {},
   "outputs": [
    {
     "data": {
      "text/plain": [
       "Index(['Ganaura', 'CropOrgFYM', '2tdUrea', '2appDaysUrea'], dtype='object')"
      ]
     },
     "execution_count": 11,
     "metadata": {},
     "output_type": "execute_result"
    }
   ],
   "source": [
    "train.isna().sum()\n",
    "missing_value=train.isna().sum() / train.shape[0] * 100\n",
    "missing_value[missing_value>50].index"
   ]
  },
  {
   "cell_type": "code",
   "execution_count": 12,
   "id": "8e79a222",
   "metadata": {},
   "outputs": [],
   "source": [
    "# drop all columns with more than 50% missing values\n",
    "df=train.drop(columns=[\"ID\",'Ganaura', 'CropOrgFYM', '2tdUrea', '2appDaysUrea'])"
   ]
  },
  {
   "cell_type": "code",
   "execution_count": null,
   "id": "3f9d75f2",
   "metadata": {},
   "outputs": [],
   "source": []
  },
  {
   "cell_type": "code",
   "execution_count": 13,
   "id": "4db25b21",
   "metadata": {},
   "outputs": [],
   "source": [
    "cat_variables= [x for x in df.columns if df[x].nunique()<=100 and df[x].dtype==\"object\"]\n",
    "num_variables = [x for x in df.columns if df[x].dtype in [ \"int\", \"float\"]]"
   ]
  },
  {
   "cell_type": "code",
   "execution_count": 14,
   "id": "6ae793ee",
   "metadata": {},
   "outputs": [],
   "source": [
    "e=cat_variables\n",
    "e.extend(num_variables)"
   ]
  },
  {
   "cell_type": "code",
   "execution_count": 15,
   "id": "cdfad6b3",
   "metadata": {},
   "outputs": [],
   "source": [
    "df2=df[e]"
   ]
  },
  {
   "cell_type": "code",
   "execution_count": 16,
   "id": "af2585f4",
   "metadata": {},
   "outputs": [
    {
     "data": {
      "text/plain": [
       "(3870, 31)"
      ]
     },
     "execution_count": 16,
     "metadata": {},
     "output_type": "execute_result"
    }
   ],
   "source": [
    "df2.shape"
   ]
  },
  {
   "cell_type": "code",
   "execution_count": 17,
   "id": "adc4908d",
   "metadata": {},
   "outputs": [
    {
     "data": {
      "text/plain": [
       "dtype('float64')"
      ]
     },
     "execution_count": 17,
     "metadata": {},
     "output_type": "execute_result"
    }
   ],
   "source": [
    "df2[\"1tdUrea\"].dtypes"
   ]
  },
  {
   "cell_type": "code",
   "execution_count": null,
   "id": "0fca164d",
   "metadata": {},
   "outputs": [],
   "source": []
  },
  {
   "cell_type": "code",
   "execution_count": 18,
   "id": "232f6b00",
   "metadata": {},
   "outputs": [
    {
     "data": {
      "text/plain": [
       "District                                 0\n",
       "Block                                    0\n",
       "LandPreparationMethod                    0\n",
       "CropEstMethod                            0\n",
       "TransplantingIrrigationSource          115\n",
       "TransplantingIrrigationPowerSource     503\n",
       "OrgFertilizers                        1335\n",
       "PCropSolidOrgFertAppMethod            1337\n",
       "CropbasalFerts                         188\n",
       "MineralFertAppMethod                     0\n",
       "FirstTopDressFert                      485\n",
       "MineralFertAppMethod.1                 481\n",
       "Harv_method                              0\n",
       "Threshing_method                         0\n",
       "Stubble_use                              0\n",
       "SeedlingsPerPit                        289\n",
       "TransplantingIrrigationHours           193\n",
       "TransIrriCost                          882\n",
       "StandingWater                          238\n",
       "BasalDAP                               543\n",
       "BasalUrea                             1704\n",
       "1tdUrea                                556\n",
       "1appDaysUrea                           556\n",
       "Harv_hand_rent                         252\n",
       "Acre                                     0\n",
       "RcNursEstDate_Year                      83\n",
       "RcNursEstDate_Month                     83\n",
       "RcNursEstDate_Day                       83\n",
       "Time_Between_Tillage_Est                83\n",
       "Harv_date_Month_Sin                      0\n",
       "Harv_date_Month_Cos                      0\n",
       "dtype: int64"
      ]
     },
     "execution_count": 18,
     "metadata": {},
     "output_type": "execute_result"
    }
   ],
   "source": [
    "df2.isna().sum()"
   ]
  },
  {
   "cell_type": "code",
   "execution_count": 19,
   "id": "c053fac0",
   "metadata": {},
   "outputs": [
    {
     "data": {
      "text/plain": [
       "dtype('O')"
      ]
     },
     "execution_count": 19,
     "metadata": {},
     "output_type": "execute_result"
    }
   ],
   "source": [
    "df2[\"PCropSolidOrgFertAppMethod\"].dtype"
   ]
  },
  {
   "cell_type": "code",
   "execution_count": 20,
   "id": "43bf9f78",
   "metadata": {},
   "outputs": [],
   "source": [
    "# Step 2: Identify missing values in the column\n",
    "missing_values = df2['TransplantingIrrigationSource'].isnull()\n",
    "\n",
    "# Step 3: Randomly select a value for each missing value\n",
    "random_values = np.random.choice(df2['TransplantingIrrigationSource'].dropna(), size=sum(missing_values), replace=True)\n",
    "\n",
    "# Step 4: Fill missing values with the randomly selected values\n",
    "df2.loc[missing_values, 'TransplantingIrrigationSource'] = random_values"
   ]
  },
  {
   "cell_type": "code",
   "execution_count": 21,
   "id": "287444c0",
   "metadata": {},
   "outputs": [],
   "source": [
    "# Step 2: Identify missing values in the column\n",
    "missing_values = df2['MineralFertAppMethod.1'].isnull()\n",
    "\n",
    "# Step 3: Randomly select a value for each missing value\n",
    "random_values = np.random.choice(df2['MineralFertAppMethod.1'].dropna(), size=sum(missing_values), replace=True)\n",
    "\n",
    "# Step 4: Fill missing values with the randomly selected values\n",
    "df2.loc[missing_values, 'MineralFertAppMethod.1'] = random_values"
   ]
  },
  {
   "cell_type": "code",
   "execution_count": 22,
   "id": "e0fcccd7",
   "metadata": {},
   "outputs": [],
   "source": [
    "# Step 2: Identify missing values in the column\n",
    "missing_values = df2['PCropSolidOrgFertAppMethod'].isnull()\n",
    "\n",
    "# Step 3: Randomly select a value for each missing value\n",
    "random_values = np.random.choice(df2['PCropSolidOrgFertAppMethod'].dropna(), size=sum(missing_values), replace=True)\n",
    "\n",
    "# Step 4: Fill missing values with the randomly selected values\n",
    "df2.loc[missing_values, 'PCropSolidOrgFertAppMethod'] = random_values"
   ]
  },
  {
   "cell_type": "code",
   "execution_count": 23,
   "id": "612d7a74",
   "metadata": {},
   "outputs": [],
   "source": [
    "# Step 2: Identify missing values in the column\n",
    "missing_values = df2['FirstTopDressFert'].isnull()\n",
    "\n",
    "# Step 3: Randomly select a value for each missing value\n",
    "random_values = np.random.choice(df2['FirstTopDressFert'].dropna(), size=sum(missing_values), replace=True)\n",
    "\n",
    "# Step 4: Fill missing values with the randomly selected values\n",
    "df2.loc[missing_values, 'FirstTopDressFert'] = random_values"
   ]
  },
  {
   "cell_type": "code",
   "execution_count": 24,
   "id": "9ea7f597",
   "metadata": {},
   "outputs": [],
   "source": [
    "# Step 2: Identify missing values in the column\n",
    "missing_values = df2['CropbasalFerts'].isnull()\n",
    "\n",
    "# Step 3: Randomly select a value for each missing value\n",
    "random_values = np.random.choice(df2['CropbasalFerts'].dropna(), size=sum(missing_values), replace=True)\n",
    "\n",
    "# Step 4: Fill missing values with the randomly selected values\n",
    "df2.loc[missing_values, 'CropbasalFerts'] = random_values"
   ]
  },
  {
   "cell_type": "code",
   "execution_count": 25,
   "id": "ffb9d643",
   "metadata": {},
   "outputs": [],
   "source": [
    "# Step 2: Identify missing values in the column\n",
    "missing_values = df2['TransplantingIrrigationPowerSource'].isnull()\n",
    "\n",
    "# Step 3: Randomly select a value for each missing value\n",
    "random_values = np.random.choice(df2['TransplantingIrrigationPowerSource'].dropna(), size=sum(missing_values), replace=True)\n",
    "\n",
    "# Step 4: Fill missing values with the randomly selected values\n",
    "df2.loc[missing_values, 'TransplantingIrrigationPowerSource'] = random_values"
   ]
  },
  {
   "cell_type": "code",
   "execution_count": 26,
   "id": "0abad61f",
   "metadata": {},
   "outputs": [],
   "source": [
    "# Step 2: Identify missing values in the column\n",
    "missing_values = df2['OrgFertilizers'].isnull()\n",
    "\n",
    "# Step 3: Randomly select a value for each missing value\n",
    "random_values = np.random.choice(df2['OrgFertilizers'].dropna(), size=sum(missing_values), replace=True)\n",
    "\n",
    "# Step 4: Fill missing values with the randomly selected values\n",
    "df2.loc[missing_values, 'OrgFertilizers'] = random_values"
   ]
  },
  {
   "cell_type": "code",
   "execution_count": 27,
   "id": "4d701da1",
   "metadata": {},
   "outputs": [],
   "source": [
    "# Step 2: Identify missing values in the column\n",
    "missing_values = df2['CropbasalFerts'].isnull()\n",
    "\n",
    "# Step 3: Randomly select a value for each missing value\n",
    "random_values = np.random.choice(df2['CropbasalFerts'].dropna(), size=sum(missing_values), replace=True)\n",
    "\n",
    "# Step 4: Fill missing values with the randomly selected values\n",
    "df2.loc[missing_values, 'CropbasalFerts'] = random_values"
   ]
  },
  {
   "cell_type": "code",
   "execution_count": null,
   "id": "7fde92cf",
   "metadata": {},
   "outputs": [],
   "source": []
  },
  {
   "cell_type": "code",
   "execution_count": null,
   "id": "73072954",
   "metadata": {},
   "outputs": [],
   "source": []
  },
  {
   "cell_type": "code",
   "execution_count": 28,
   "id": "ae596353",
   "metadata": {},
   "outputs": [],
   "source": [
    "\n",
    "\n",
    "# Step 2: Identify missing values in the numeric column\n",
    "missing_values = df2['SeedlingsPerPit'].isnull()\n",
    "\n",
    "# Step 3: Generate random numbers within the range of existing values\n",
    "mean_value = df2['SeedlingsPerPit'].mean()\n",
    "std_dev = df2['SeedlingsPerPit'].std()\n",
    "\n",
    "# Convert low and high to the same data type as the column\n",
    "low_value = df2['SeedlingsPerPit'].min()\n",
    "high_value = df2['SeedlingsPerPit'].max()\n",
    "\n",
    "random_values = np.random.normal(loc=mean_value, scale=std_dev, size=sum(missing_values))\n",
    "\n",
    "# Clip the random values to the range of the existing values\n",
    "random_values = np.clip(random_values, low_value, high_value)\n",
    "\n",
    "# Step 4: Fill missing values with the randomly generated numbers\n",
    "df2.loc[missing_values, 'SeedlingsPerPit'] = random_values\n"
   ]
  },
  {
   "cell_type": "code",
   "execution_count": 29,
   "id": "33f7688d",
   "metadata": {},
   "outputs": [],
   "source": [
    "\n",
    "# Step 2: Identify missing values in the numeric column\n",
    "missing_values = df2['TransplantingIrrigationHours'].isnull()\n",
    "\n",
    "# Step 3: Generate random numbers within the range of existing values\n",
    "mean_value = df2['TransplantingIrrigationHours'].mean()\n",
    "std_dev = df2['TransplantingIrrigationHours'].std()\n",
    "\n",
    "# Convert low and high to the same data type as the column\n",
    "low_value = df2['TransplantingIrrigationHours'].min()\n",
    "high_value = df2['TransplantingIrrigationHours'].max()\n",
    "\n",
    "random_values = np.random.normal(loc=mean_value, scale=std_dev, size=sum(missing_values))\n",
    "\n",
    "# Clip the random values to the range of the existing values\n",
    "random_values = np.clip(random_values, low_value, high_value)\n",
    "\n",
    "# Step 4: Fill missing values with the randomly generated numbers\n",
    "df2.loc[missing_values, 'TransplantingIrrigationHours'] = random_values\n"
   ]
  },
  {
   "cell_type": "code",
   "execution_count": 30,
   "id": "bf08b3e1",
   "metadata": {},
   "outputs": [],
   "source": [
    "\n",
    "\n",
    "# Step 2: Identify missing values in the numeric column\n",
    "missing_values = df2['TransIrriCost'].isnull()\n",
    "\n",
    "# Step 3: Generate random numbers within the range of existing values\n",
    "mean_value = df2['TransIrriCost'].mean()\n",
    "std_dev = df2['TransIrriCost'].std()\n",
    "\n",
    "# Convert low and high to the same data type as the column\n",
    "low_value = df2['TransIrriCost'].min()\n",
    "high_value = df2['TransIrriCost'].max()\n",
    "\n",
    "random_values = np.random.normal(loc=mean_value, scale=std_dev, size=sum(missing_values))\n",
    "\n",
    "# Clip the random values to the range of the existing values\n",
    "random_values = np.clip(random_values, low_value, high_value)\n",
    "\n",
    "# Step 4: Fill missing values with the randomly generated numbers\n",
    "df2.loc[missing_values, 'TransIrriCost'] = random_values\n"
   ]
  },
  {
   "cell_type": "code",
   "execution_count": 31,
   "id": "3517d86c",
   "metadata": {},
   "outputs": [],
   "source": [
    "\n",
    "# Step 2: Identify missing values in the numeric column\n",
    "missing_values = df2['StandingWater'].isnull()\n",
    "\n",
    "# Step 3: Generate random numbers within the range of existing values\n",
    "mean_value = df2['StandingWater'].mean()\n",
    "std_dev = df2['StandingWater'].std()\n",
    "\n",
    "# Convert low and high to the same data type as the column\n",
    "low_value = df2['StandingWater'].min()\n",
    "high_value = df2['StandingWater'].max()\n",
    "\n",
    "random_values = np.random.normal(loc=mean_value, scale=std_dev, size=sum(missing_values))\n",
    "\n",
    "# Clip the random values to the range of the existing values\n",
    "random_values = np.clip(random_values, low_value, high_value)\n",
    "\n",
    "# Step 4: Fill missing values with the randomly generated numbers\n",
    "df2.loc[missing_values, 'StandingWater'] = random_values\n"
   ]
  },
  {
   "cell_type": "code",
   "execution_count": 32,
   "id": "d1984126",
   "metadata": {},
   "outputs": [],
   "source": [
    "# Step 2: Identify missing values in the numeric column\n",
    "missing_values = df2['BasalDAP'].isnull()\n",
    "\n",
    "# Step 3: Generate random numbers within the range of existing values\n",
    "mean_value = df2['BasalDAP'].mean()\n",
    "std_dev = df2['BasalDAP'].std()\n",
    "\n",
    "# Convert low and high to the same data type as the column\n",
    "low_value = df2['BasalDAP'].min()\n",
    "high_value = df2['BasalDAP'].max()\n",
    "\n",
    "random_values = np.random.normal(loc=mean_value, scale=std_dev, size=sum(missing_values))\n",
    "\n",
    "# Clip the random values to the range of the existing values\n",
    "random_values = np.clip(random_values, low_value, high_value)\n",
    "\n",
    "# Step 4: Fill missing values with the randomly generated numbers\n",
    "df2.loc[missing_values, 'BasalDAP'] = random_values\n"
   ]
  },
  {
   "cell_type": "code",
   "execution_count": 33,
   "id": "a5754a4a",
   "metadata": {},
   "outputs": [],
   "source": [
    "# Step 2: Identify missing values in the numeric column\n",
    "missing_values = df2['BasalUrea'].isnull()\n",
    "\n",
    "# Step 3: Generate random numbers within the range of existing values\n",
    "mean_value = df2['BasalUrea'].mean()\n",
    "std_dev = df2['BasalUrea'].std()\n",
    "\n",
    "# Convert low and high to the same data type as the column\n",
    "low_value = df2['BasalUrea'].min()\n",
    "high_value = df2['BasalUrea'].max()\n",
    "\n",
    "random_values = np.random.normal(loc=mean_value, scale=std_dev, size=sum(missing_values))\n",
    "\n",
    "# Clip the random values to the range of the existing values\n",
    "random_values = np.clip(random_values, low_value, high_value)\n",
    "\n",
    "# Step 4: Fill missing values with the randomly generated numbers\n",
    "df2.loc[missing_values, 'BasalUrea'] = random_values\n"
   ]
  },
  {
   "cell_type": "code",
   "execution_count": 34,
   "id": "8444cf73",
   "metadata": {},
   "outputs": [],
   "source": [
    "\n",
    "# Step 2: Identify missing values in the numeric column\n",
    "missing_values = df2['1appDaysUrea'].isnull()\n",
    "\n",
    "# Step 3: Generate random numbers within the range of existing values\n",
    "mean_value = df2['1appDaysUrea'].mean()\n",
    "std_dev = df2['1appDaysUrea'].std()\n",
    "\n",
    "# Convert low and high to the same data type as the column\n",
    "low_value = df2['1appDaysUrea'].min()\n",
    "high_value = df2['1appDaysUrea'].max()\n",
    "\n",
    "random_values = np.random.normal(loc=mean_value, scale=std_dev, size=sum(missing_values))\n",
    "\n",
    "# Clip the random values to the range of the existing values\n",
    "random_values = np.clip(random_values, low_value, high_value)\n",
    "\n",
    "# Step 4: Fill missing values with the randomly generated numbers\n",
    "df2.loc[missing_values, '1appDaysUrea'] = random_values\n"
   ]
  },
  {
   "cell_type": "code",
   "execution_count": 35,
   "id": "65a517ac",
   "metadata": {},
   "outputs": [],
   "source": [
    "# Step 2: Identify missing values in the numeric column\n",
    "missing_values = df2['Harv_hand_rent'].isnull()\n",
    "\n",
    "# Step 3: Generate random numbers within the range of existing values\n",
    "mean_value = df2['Harv_hand_rent'].mean()\n",
    "std_dev = df2['Harv_hand_rent'].std()\n",
    "\n",
    "# Convert low and high to the same data type as the column\n",
    "low_value = df2['Harv_hand_rent'].min()\n",
    "high_value = df2['Harv_hand_rent'].max()\n",
    "\n",
    "random_values = np.random.normal(loc=mean_value, scale=std_dev, size=sum(missing_values))\n",
    "\n",
    "# Clip the random values to the range of the existing values\n",
    "random_values = np.clip(random_values, low_value, high_value)\n",
    "\n",
    "# Step 4: Fill missing values with the randomly generated numbers\n",
    "df2.loc[missing_values, 'Harv_hand_rent'] = random_values\n"
   ]
  },
  {
   "cell_type": "code",
   "execution_count": 36,
   "id": "91aa4b01",
   "metadata": {},
   "outputs": [],
   "source": [
    "# Step 2: Identify missing values in the numeric column\n",
    "missing_values = df2['RcNursEstDate_Year'].isnull()\n",
    "\n",
    "# Step 3: Generate random numbers within the range of existing values\n",
    "mean_value = df2['RcNursEstDate_Year'].mean()\n",
    "std_dev = df2['RcNursEstDate_Year'].std()\n",
    "\n",
    "# Convert low and high to the same data type as the column\n",
    "low_value = df2['RcNursEstDate_Year'].min()\n",
    "high_value = df2['RcNursEstDate_Year'].max()\n",
    "\n",
    "random_values = np.random.normal(loc=mean_value, scale=std_dev, size=sum(missing_values))\n",
    "\n",
    "# Clip the random values to the range of the existing values\n",
    "random_values = np.clip(random_values, low_value, high_value)\n",
    "\n",
    "# Step 4: Fill missing values with the randomly generated numbers\n",
    "df2.loc[missing_values, 'RcNursEstDate_Year'] = random_values\n"
   ]
  },
  {
   "cell_type": "code",
   "execution_count": 37,
   "id": "2676d1af",
   "metadata": {},
   "outputs": [],
   "source": [
    "# Step 2: Identify missing values in the numeric column\n",
    "missing_values = df2['RcNursEstDate_Month'].isnull()\n",
    "\n",
    "# Step 3: Generate random numbers within the range of existing values\n",
    "mean_value = df2['RcNursEstDate_Month'].mean()\n",
    "std_dev = df2['RcNursEstDate_Month'].std()\n",
    "\n",
    "# Convert low and high to the same data type as the column\n",
    "low_value = df2['RcNursEstDate_Month'].min()\n",
    "high_value = df2['RcNursEstDate_Month'].max()\n",
    "\n",
    "random_values = np.random.normal(loc=mean_value, scale=std_dev, size=sum(missing_values))\n",
    "\n",
    "# Clip the random values to the range of the existing values\n",
    "random_values = np.clip(random_values, low_value, high_value)\n",
    "\n",
    "# Step 4: Fill missing values with the randomly generated numbers\n",
    "df2.loc[missing_values, 'RcNursEstDate_Month'] = random_values\n"
   ]
  },
  {
   "cell_type": "code",
   "execution_count": 38,
   "id": "fbb02ada",
   "metadata": {},
   "outputs": [],
   "source": [
    "# Step 2: Identify missing values in the numeric column\n",
    "missing_values = df2['Time_Between_Tillage_Est'].isnull()\n",
    "\n",
    "# Step 3: Generate random numbers within the range of existing values\n",
    "mean_value = df2['Time_Between_Tillage_Est'].mean()\n",
    "std_dev = df2['Time_Between_Tillage_Est'].std()\n",
    "\n",
    "# Convert low and high to the same data type as the column\n",
    "low_value = df2['Time_Between_Tillage_Est'].min()\n",
    "high_value = df2['Time_Between_Tillage_Est'].max()\n",
    "\n",
    "random_values = np.random.normal(loc=mean_value, scale=std_dev, size=sum(missing_values))\n",
    "\n",
    "# Clip the random values to the range of the existing values\n",
    "random_values = np.clip(random_values, low_value, high_value)\n",
    "\n",
    "# Step 4: Fill missing values with the randomly generated numbers\n",
    "df2.loc[missing_values, 'Time_Between_Tillage_Est'] = random_values\n"
   ]
  },
  {
   "cell_type": "code",
   "execution_count": 39,
   "id": "0fa0f724",
   "metadata": {},
   "outputs": [],
   "source": [
    "# Step 2: Identify missing values in the numeric column\n",
    "missing_values = df2['RcNursEstDate_Day'].isnull()\n",
    "\n",
    "# Step 3: Generate random numbers within the range of existing values\n",
    "mean_value = df2['RcNursEstDate_Day'].mean()\n",
    "std_dev = df2['RcNursEstDate_Day'].std()\n",
    "\n",
    "# Convert low and high to the same data type as the column\n",
    "low_value = df2['RcNursEstDate_Day'].min()\n",
    "high_value = df2['RcNursEstDate_Day'].max()\n",
    "\n",
    "random_values = np.random.normal(loc=mean_value, scale=std_dev, size=sum(missing_values))\n",
    "\n",
    "# Clip the random values to the range of the existing values\n",
    "random_values = np.clip(random_values, low_value, high_value)\n",
    "\n",
    "# Step 4: Fill missing values with the randomly generated numbers\n",
    "df2.loc[missing_values, 'RcNursEstDate_Day'] = random_values\n"
   ]
  },
  {
   "cell_type": "code",
   "execution_count": null,
   "id": "9235c5b2",
   "metadata": {},
   "outputs": [],
   "source": []
  },
  {
   "cell_type": "code",
   "execution_count": null,
   "id": "605ad1f9",
   "metadata": {},
   "outputs": [],
   "source": []
  },
  {
   "cell_type": "code",
   "execution_count": 40,
   "id": "c98a60f3",
   "metadata": {},
   "outputs": [],
   "source": [
    "# Step 2: Identify missing values in the numeric column\n",
    "missing_values = df2['1tdUrea'].isnull()\n",
    "\n",
    "# Step 3: Generate random numbers within the range of existing values\n",
    "mean_value = df2['1tdUrea'].mean()\n",
    "std_dev = df2['1tdUrea'].std()\n",
    "\n",
    "# Convert low and high to the same data type as the column\n",
    "low_value = df2['1tdUrea'].min()\n",
    "high_value = df2['1tdUrea'].max()\n",
    "\n",
    "random_values = np.random.normal(loc=mean_value, scale=std_dev, size=sum(missing_values))\n",
    "\n",
    "# Clip the random values to the range of the existing values\n",
    "random_values = np.clip(random_values, low_value, high_value)\n",
    "\n",
    "# Step 4: Fill missing values with the randomly generated numbers\n",
    "df2.loc[missing_values, '1tdUrea'] = random_values\n"
   ]
  },
  {
   "cell_type": "code",
   "execution_count": 41,
   "id": "ba0d244d",
   "metadata": {},
   "outputs": [],
   "source": [
    "cat_col=df2.select_dtypes(\"object\").columns"
   ]
  },
  {
   "cell_type": "code",
   "execution_count": 42,
   "id": "08112d80",
   "metadata": {},
   "outputs": [],
   "source": [
    "f=pd.get_dummies(df2, columns=cat_col, drop_first=True)"
   ]
  },
  {
   "cell_type": "code",
   "execution_count": 43,
   "id": "71be3d29",
   "metadata": {},
   "outputs": [],
   "source": [
    "import warnings\n",
    "warnings.filterwarnings(\"ignore\")"
   ]
  },
  {
   "cell_type": "code",
   "execution_count": 44,
   "id": "ee17db60",
   "metadata": {},
   "outputs": [],
   "source": [
    "lb = LabelEncoder()\n",
    "df2.loc[:, \"District\"] = lb.fit_transform(df2[\"District\"])\n",
    "df2.loc[:, \"Block\"] = lb.fit_transform(df2[\"Block\"])\n",
    "df2.loc[:, \"LandPreparationMethod\"] = lb.fit_transform(df2[\"LandPreparationMethod\"])\n",
    "df2.loc[:, \"CropEstMethod\"] = lb.fit_transform(df2[\"CropEstMethod\"])\n",
    "df2.loc[:, \"TransplantingIrrigationSource\"] = lb.fit_transform(df2[\"TransplantingIrrigationSource\"])\n",
    "df2.loc[:, \"TransplantingIrrigationPowerSource\"] = lb.fit_transform(df2[\"TransplantingIrrigationPowerSource\"])\n",
    "df2.loc[:, \"OrgFertilizers\"] = lb.fit_transform(df2[\"OrgFertilizers\"])\n",
    "df2.loc[:, \"PCropSolidOrgFertAppMethod\"] = lb.fit_transform(df2[\"PCropSolidOrgFertAppMethod\"])\n",
    "df2.loc[:, \"CropbasalFerts\"] = lb.fit_transform(df2[\"CropbasalFerts\"])\n",
    "df2.loc[:, \"MineralFertAppMethod\"] = lb.fit_transform(df2[\"MineralFertAppMethod\"])\n",
    "df2.loc[:, \"FirstTopDressFert\"] = lb.fit_transform(df2[\"FirstTopDressFert\"])\n",
    "df2.loc[:, \"MineralFertAppMethod\"] = lb.fit_transform(df2[\"MineralFertAppMethod\"])\n",
    "df2.loc[:, \"Harv_method\"] = lb.fit_transform(df2[\"Harv_method\"])\n",
    "df2.loc[:, \"Threshing_method\"] = lb.fit_transform(df2[\"Threshing_method\"])\n",
    "df2.loc[:, \"Stubble_use\"] = lb.fit_transform(df2[\"Stubble_use\"])\n",
    "df2.loc[:, \"MineralFertAppMethod.1\"] = lb.fit_transform(df2[\"MineralFertAppMethod.1\"])"
   ]
  },
  {
   "cell_type": "code",
   "execution_count": null,
   "id": "5831153b",
   "metadata": {},
   "outputs": [],
   "source": []
  },
  {
   "cell_type": "code",
   "execution_count": 45,
   "id": "fcc884b4",
   "metadata": {},
   "outputs": [],
   "source": [
    "st = StandardScaler()\n",
    "X=st.fit_transform(f) # feature\n",
    "y=df.Yield.values # target"
   ]
  },
  {
   "cell_type": "code",
   "execution_count": 46,
   "id": "3af4ff47",
   "metadata": {},
   "outputs": [],
   "source": [
    "train_x, val_x, train_y, val_y = train_test_split(X, y, test_size=0.3, random_state=42)"
   ]
  },
  {
   "cell_type": "code",
   "execution_count": 47,
   "id": "a6c17f8d",
   "metadata": {},
   "outputs": [],
   "source": [
    "lr = LinearRegression()\n",
    "model1 = lr.fit(train_x, train_y)"
   ]
  },
  {
   "cell_type": "code",
   "execution_count": 48,
   "id": "94bbc2cf",
   "metadata": {},
   "outputs": [
    {
     "data": {
      "text/plain": [
       "-3.914268401874077e+25"
      ]
     },
     "execution_count": 48,
     "metadata": {},
     "output_type": "execute_result"
    }
   ],
   "source": [
    "eval_ = model1.predict(val_x)\n",
    "r2_score(val_y, eval_)"
   ]
  },
  {
   "cell_type": "code",
   "execution_count": null,
   "id": "5a69e88e",
   "metadata": {},
   "outputs": [],
   "source": []
  },
  {
   "cell_type": "code",
   "execution_count": 49,
   "id": "6e51ce68",
   "metadata": {},
   "outputs": [],
   "source": [
    "rf = RandomForestRegressor()\n",
    "model2 = rf.fit(train_x, train_y)"
   ]
  },
  {
   "cell_type": "code",
   "execution_count": 50,
   "id": "9d67cf93",
   "metadata": {},
   "outputs": [
    {
     "data": {
      "text/plain": [
       "0.30628699360163325"
      ]
     },
     "execution_count": 50,
     "metadata": {},
     "output_type": "execute_result"
    }
   ],
   "source": [
    "eval_ = model2.predict(val_x)\n",
    "r2_score(val_y, eval_)"
   ]
  },
  {
   "cell_type": "code",
   "execution_count": 51,
   "id": "424163b0",
   "metadata": {},
   "outputs": [
    {
     "data": {
      "text/plain": [
       "139.20755629383535"
      ]
     },
     "execution_count": 51,
     "metadata": {},
     "output_type": "execute_result"
    }
   ],
   "source": [
    "mean_absolute_error(val_y, eval_)"
   ]
  },
  {
   "cell_type": "code",
   "execution_count": 52,
   "id": "7a922411",
   "metadata": {},
   "outputs": [
    {
     "data": {
      "text/plain": [
       "array([498.21, 464.74, 413.6 , ..., 615.45, 382.43, 577.32])"
      ]
     },
     "execution_count": 52,
     "metadata": {},
     "output_type": "execute_result"
    }
   ],
   "source": [
    "eval_"
   ]
  },
  {
   "cell_type": "code",
   "execution_count": 53,
   "id": "42a4cf7c",
   "metadata": {},
   "outputs": [
    {
     "data": {
      "text/plain": [
       "array([650, 560, 400, ..., 400, 425, 650], dtype=int64)"
      ]
     },
     "execution_count": 53,
     "metadata": {},
     "output_type": "execute_result"
    }
   ],
   "source": [
    "val_y"
   ]
  },
  {
   "cell_type": "code",
   "execution_count": 166,
   "id": "bab642ed",
   "metadata": {},
   "outputs": [],
   "source": [
    "from  lazypredict.Supervised import LazyRegressor"
   ]
  },
  {
   "cell_type": "code",
   "execution_count": 168,
   "id": "0f8897cc",
   "metadata": {},
   "outputs": [
    {
     "ename": "TypeError",
     "evalue": "fit() missing 2 required positional arguments: 'y_train' and 'y_test'",
     "output_type": "error",
     "traceback": [
      "\u001b[1;31m---------------------------------------------------------------------------\u001b[0m",
      "\u001b[1;31mTypeError\u001b[0m                                 Traceback (most recent call last)",
      "\u001b[1;32m~\\AppData\\Local\\Temp\\ipykernel_10884\\1647308617.py\u001b[0m in \u001b[0;36m<module>\u001b[1;34m\u001b[0m\n\u001b[0;32m      1\u001b[0m \u001b[0mc\u001b[0m\u001b[1;33m=\u001b[0m\u001b[0mLazyRegressor\u001b[0m\u001b[1;33m(\u001b[0m\u001b[1;33m)\u001b[0m\u001b[1;33m\u001b[0m\u001b[1;33m\u001b[0m\u001b[0m\n\u001b[1;32m----> 2\u001b[1;33m \u001b[0mm\u001b[0m\u001b[1;33m,\u001b[0m\u001b[0mp\u001b[0m\u001b[1;33m,\u001b[0m\u001b[0mr\u001b[0m\u001b[1;33m,\u001b[0m\u001b[0mt\u001b[0m\u001b[1;33m=\u001b[0m\u001b[0mc\u001b[0m\u001b[1;33m.\u001b[0m\u001b[0mfit\u001b[0m\u001b[1;33m(\u001b[0m\u001b[0mtrain_x\u001b[0m\u001b[1;33m,\u001b[0m \u001b[0mtrain_y\u001b[0m\u001b[1;33m)\u001b[0m\u001b[1;33m\u001b[0m\u001b[1;33m\u001b[0m\u001b[0m\n\u001b[0m",
      "\u001b[1;31mTypeError\u001b[0m: fit() missing 2 required positional arguments: 'y_train' and 'y_test'"
     ]
    }
   ],
   "source": [
    "c=LazyRegressor()\n",
    "m,p,r,t=c.fit(train_x, train_y)"
   ]
  },
  {
   "cell_type": "code",
   "execution_count": null,
   "id": "d0a6199f",
   "metadata": {},
   "outputs": [],
   "source": []
  },
  {
   "cell_type": "code",
   "execution_count": null,
   "id": "c55df538",
   "metadata": {},
   "outputs": [],
   "source": []
  },
  {
   "cell_type": "code",
   "execution_count": null,
   "id": "2dc1ea07",
   "metadata": {},
   "outputs": [],
   "source": []
  },
  {
   "cell_type": "code",
   "execution_count": null,
   "id": "788967a5",
   "metadata": {},
   "outputs": [],
   "source": []
  },
  {
   "cell_type": "code",
   "execution_count": null,
   "id": "68908349",
   "metadata": {},
   "outputs": [],
   "source": []
  },
  {
   "cell_type": "code",
   "execution_count": null,
   "id": "976f9afa",
   "metadata": {},
   "outputs": [],
   "source": []
  },
  {
   "cell_type": "markdown",
   "id": "3eefdb0d",
   "metadata": {},
   "source": [
    "The decision to fill missing values with random numbers within the range of existing values or with the mean/median values depends on the nature of your data and the problem you are trying to solve. Let's consider the pros and cons of each approach:\n",
    "\n",
    "**Filling with Mean/Median:**\n",
    "\n",
    "*Pros:*\n",
    "1. Simple and straightforward.\n",
    "2. Does not introduce new random variations.\n",
    "3. Preserves the central tendency of the data.\n",
    "\n",
    "*Cons:*\n",
    "1. May not capture the distributional characteristics of the data if it is not normally distributed.\n",
    "2. Can result in less realistic values, especially if the data has outliers.\n",
    "\n",
    "**Filling with Random Numbers within Range:**\n",
    "\n",
    "*Pros:*\n",
    "1. Introduces variability that may better reflect the distribution of the data.\n",
    "2. Can provide more realistic values when the data has a non-normal distribution.\n",
    "3. Preserves the range of values in the column.\n",
    "\n",
    "*Cons:*\n",
    "1. May introduce randomness that doesn't accurately represent the underlying data distribution.\n",
    "2. The generated values might not align with the specific patterns or relationships in your data.\n",
    "\n",
    "**Which Approach to Choose:**\n",
    "\n",
    "1. **If data is approximately normally distributed:**\n",
    "   - Filling with mean or median may be suitable, as it preserves the central tendency.\n",
    "\n",
    "2. **If data has a skewed distribution or outliers:**\n",
    "   - Filling with random numbers within the range may provide more realistic values, especially if you want to preserve the overall shape of the distribution.\n",
    "\n",
    "3. **Consider the nature of your analysis:**\n",
    "   - If you need more realistic values to maintain the characteristics of your data, using random numbers within the range might be beneficial.\n",
    "\n",
    "In summary, there is no one-size-fits-all solution, and the choice depends on the characteristics of your data and the goals of your analysis. It's often a good idea to try different methods and assess their impact on your specific use case."
   ]
  },
  {
   "cell_type": "code",
   "execution_count": null,
   "id": "60a608fe",
   "metadata": {},
   "outputs": [],
   "source": []
  },
  {
   "cell_type": "code",
   "execution_count": null,
   "id": "0e60f0d1",
   "metadata": {},
   "outputs": [],
   "source": []
  },
  {
   "cell_type": "code",
   "execution_count": null,
   "id": "f62ce69f",
   "metadata": {},
   "outputs": [],
   "source": []
  },
  {
   "cell_type": "code",
   "execution_count": null,
   "id": "8db26a8c",
   "metadata": {},
   "outputs": [],
   "source": []
  },
  {
   "cell_type": "code",
   "execution_count": null,
   "id": "79e43e93",
   "metadata": {},
   "outputs": [],
   "source": []
  },
  {
   "cell_type": "code",
   "execution_count": 157,
   "id": "fa697aad",
   "metadata": {},
   "outputs": [
    {
     "ename": "TypeError",
     "evalue": "arg must be a list, tuple, 1-d array, or Series",
     "output_type": "error",
     "traceback": [
      "\u001b[1;31m---------------------------------------------------------------------------\u001b[0m",
      "\u001b[1;31mTypeError\u001b[0m                                 Traceback (most recent call last)",
      "\u001b[1;32m~\\AppData\\Local\\Temp\\ipykernel_12584\\2756959749.py\u001b[0m in \u001b[0;36m<module>\u001b[1;34m\u001b[0m\n\u001b[0;32m      6\u001b[0m \u001b[1;33m\u001b[0m\u001b[0m\n\u001b[0;32m      7\u001b[0m \u001b[1;31m# Convert '1tdUrea' column to numeric\u001b[0m\u001b[1;33m\u001b[0m\u001b[1;33m\u001b[0m\u001b[0m\n\u001b[1;32m----> 8\u001b[1;33m \u001b[0mdf2\u001b[0m\u001b[1;33m[\u001b[0m\u001b[1;34m'1tdUrea'\u001b[0m\u001b[1;33m]\u001b[0m \u001b[1;33m=\u001b[0m \u001b[0mpd\u001b[0m\u001b[1;33m.\u001b[0m\u001b[0mto_numeric\u001b[0m\u001b[1;33m(\u001b[0m\u001b[0mdf2\u001b[0m\u001b[1;33m[\u001b[0m\u001b[1;34m'1tdUrea'\u001b[0m\u001b[1;33m]\u001b[0m\u001b[1;33m,\u001b[0m \u001b[0merrors\u001b[0m\u001b[1;33m=\u001b[0m\u001b[1;34m'coerce'\u001b[0m\u001b[1;33m)\u001b[0m\u001b[1;33m\u001b[0m\u001b[1;33m\u001b[0m\u001b[0m\n\u001b[0m\u001b[0;32m      9\u001b[0m \u001b[1;33m\u001b[0m\u001b[0m\n\u001b[0;32m     10\u001b[0m \u001b[1;31m# Identify missing values in the numeric column\u001b[0m\u001b[1;33m\u001b[0m\u001b[1;33m\u001b[0m\u001b[0m\n",
      "\u001b[1;32m~\\anaconda3\\lib\\site-packages\\pandas\\core\\tools\\numeric.py\u001b[0m in \u001b[0;36mto_numeric\u001b[1;34m(arg, errors, downcast)\u001b[0m\n\u001b[0;32m    162\u001b[0m         \u001b[0mvalues\u001b[0m \u001b[1;33m=\u001b[0m \u001b[0mnp\u001b[0m\u001b[1;33m.\u001b[0m\u001b[0marray\u001b[0m\u001b[1;33m(\u001b[0m\u001b[1;33m[\u001b[0m\u001b[0marg\u001b[0m\u001b[1;33m]\u001b[0m\u001b[1;33m,\u001b[0m \u001b[0mdtype\u001b[0m\u001b[1;33m=\u001b[0m\u001b[1;34m\"O\"\u001b[0m\u001b[1;33m)\u001b[0m\u001b[1;33m\u001b[0m\u001b[1;33m\u001b[0m\u001b[0m\n\u001b[0;32m    163\u001b[0m     \u001b[1;32melif\u001b[0m \u001b[0mgetattr\u001b[0m\u001b[1;33m(\u001b[0m\u001b[0marg\u001b[0m\u001b[1;33m,\u001b[0m \u001b[1;34m\"ndim\"\u001b[0m\u001b[1;33m,\u001b[0m \u001b[1;36m1\u001b[0m\u001b[1;33m)\u001b[0m \u001b[1;33m>\u001b[0m \u001b[1;36m1\u001b[0m\u001b[1;33m:\u001b[0m\u001b[1;33m\u001b[0m\u001b[1;33m\u001b[0m\u001b[0m\n\u001b[1;32m--> 164\u001b[1;33m         \u001b[1;32mraise\u001b[0m \u001b[0mTypeError\u001b[0m\u001b[1;33m(\u001b[0m\u001b[1;34m\"arg must be a list, tuple, 1-d array, or Series\"\u001b[0m\u001b[1;33m)\u001b[0m\u001b[1;33m\u001b[0m\u001b[1;33m\u001b[0m\u001b[0m\n\u001b[0m\u001b[0;32m    165\u001b[0m     \u001b[1;32melse\u001b[0m\u001b[1;33m:\u001b[0m\u001b[1;33m\u001b[0m\u001b[1;33m\u001b[0m\u001b[0m\n\u001b[0;32m    166\u001b[0m         \u001b[0mvalues\u001b[0m \u001b[1;33m=\u001b[0m \u001b[0marg\u001b[0m\u001b[1;33m\u001b[0m\u001b[1;33m\u001b[0m\u001b[0m\n",
      "\u001b[1;31mTypeError\u001b[0m: arg must be a list, tuple, 1-d array, or Series"
     ]
    }
   ],
   "source": [
    "import pandas as pd\n",
    "import numpy as np\n",
    "\n",
    "# Assuming you have a DataFrame named df2 and a numeric column named '1tdUrea'\n",
    "# with missing values represented as NaN\n",
    "\n",
    "# Convert '1tdUrea' column to numeric\n",
    "df2['1tdUrea'] = pd.to_numeric(df2['1tdUrea'], errors='coerce')\n",
    "\n",
    "# Identify missing values in the numeric column\n",
    "missing_values = df2['1tdUrea'].isnull()\n",
    "\n",
    "# Print and inspect the missing_values Series\n",
    "print(\"Missing Values Series:\")\n",
    "print(missing_values)\n",
    "\n",
    "# Generate random numbers within the range of existing values\n",
    "mean_value = df2['1tdUrea'].mean()\n",
    "std_dev = df2['1tdUrea'].std()\n",
    "\n",
    "# Convert low and high to the same data type as the column\n",
    "low_value = df2['1tdUrea'].min().astype(float)\n",
    "high_value = df2['1tdUrea'].max().astype(float)\n",
    "\n",
    "# Print additional information for debugging\n",
    "print(\"Mean Value:\", mean_value)\n",
    "print(\"Standard Deviation:\", std_dev)\n",
    "print(\"Low Value:\", low_value)\n",
    "print(\"High Value:\", high_value)\n",
    "\n",
    "# Fill missing values only if there are any missing values\n",
    "if missing_values.any():\n",
    "    random_values = np.random.normal(loc=mean_value, scale=std_dev, size=sum(missing_values))\n",
    "    random_values = np.clip(random_values, low_value, high_value)\n",
    "    df2.loc[missing_values, '1tdUrea'] = random_values\n",
    "\n",
    "# Verify the changes\n",
    "print(df2.head())\n"
   ]
  },
  {
   "cell_type": "code",
   "execution_count": null,
   "id": "c5189c15",
   "metadata": {},
   "outputs": [],
   "source": []
  },
  {
   "cell_type": "code",
   "execution_count": null,
   "id": "73d88d55",
   "metadata": {},
   "outputs": [],
   "source": []
  },
  {
   "cell_type": "code",
   "execution_count": null,
   "id": "e5828b63",
   "metadata": {},
   "outputs": [],
   "source": []
  },
  {
   "cell_type": "code",
   "execution_count": null,
   "id": "e4cd8b70",
   "metadata": {},
   "outputs": [],
   "source": []
  }
 ],
 "metadata": {
  "kernelspec": {
   "display_name": "Python 3 (ipykernel)",
   "language": "python",
   "name": "python3"
  },
  "language_info": {
   "codemirror_mode": {
    "name": "ipython",
    "version": 3
   },
   "file_extension": ".py",
   "mimetype": "text/x-python",
   "name": "python",
   "nbconvert_exporter": "python",
   "pygments_lexer": "ipython3",
   "version": "3.9.13"
  }
 },
 "nbformat": 4,
 "nbformat_minor": 5
}
