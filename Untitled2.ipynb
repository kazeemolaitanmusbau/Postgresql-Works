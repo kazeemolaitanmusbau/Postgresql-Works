{
 "cells": [
  {
   "cell_type": "code",
   "execution_count": 1,
   "id": "5aa79d05",
   "metadata": {},
   "outputs": [],
   "source": [
    "import numpy as np\n",
    "import pandas as pd\n",
    "import matplotlib.pyplot as plt\n",
    "import seaborn as sns"
   ]
  },
  {
   "cell_type": "markdown",
   "id": "6ee89c9e",
   "metadata": {},
   "source": [
    "# Data Accessing"
   ]
  },
  {
   "cell_type": "code",
   "execution_count": 4,
   "id": "dbab0004",
   "metadata": {},
   "outputs": [],
   "source": [
    "# import the dataset into dataframe\n",
    "path = \"C:/Users/pc/Desktop/1/my project/Done/titanic/\"\n",
    "train = pd.read_csv(path + \"train.csv\")\n",
    "test = pd.read_csv(path + \"test.csv\")"
   ]
  },
  {
   "cell_type": "code",
   "execution_count": null,
   "id": "df658643",
   "metadata": {},
   "outputs": [],
   "source": []
  }
 ],
 "metadata": {
  "kernelspec": {
   "display_name": "Python 3 (ipykernel)",
   "language": "python",
   "name": "python3"
  },
  "language_info": {
   "codemirror_mode": {
    "name": "ipython",
    "version": 3
   },
   "file_extension": ".py",
   "mimetype": "text/x-python",
   "name": "python",
   "nbconvert_exporter": "python",
   "pygments_lexer": "ipython3",
   "version": "3.9.13"
  }
 },
 "nbformat": 4,
 "nbformat_minor": 5
}
