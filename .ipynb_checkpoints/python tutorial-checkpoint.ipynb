{
 "cells": [
  {
   "cell_type": "code",
   "execution_count": 1,
   "id": "a0adc2bb",
   "metadata": {},
   "outputs": [
    {
     "name": "stdout",
     "output_type": "stream",
     "text": [
      "Hello World!\n"
     ]
    }
   ],
   "source": [
    "print(\"Hello World!\")"
   ]
  },
  {
   "cell_type": "markdown",
   "id": "ff11c48b",
   "metadata": {},
   "source": [
    "# Variable and Identifier\n",
    "\n",
    "- variable is an object that can hold any value and occupy on computer's memory\n",
    "- Identifier is used to identify variable"
   ]
  },
  {
   "cell_type": "code",
   "execution_count": 2,
   "id": "5c3ec2f9",
   "metadata": {},
   "outputs": [
    {
     "name": "stdout",
     "output_type": "stream",
     "text": [
      "olaitan\n"
     ]
    }
   ],
   "source": [
    "name = \"olaitan\"\n",
    "print(name)"
   ]
  },
  {
   "cell_type": "markdown",
   "id": "c54e8cf0",
   "metadata": {},
   "source": [
    "# Rules For naming Variable\n",
    "- Variable name can not start with numbere, though number can find any else\n",
    "- Variable can not contain any special character except underscore\n",
    "- Variable can not be join with space, use underscore instead"
   ]
  },
  {
   "cell_type": "code",
   "execution_count": null,
   "id": "db2f8d8d",
   "metadata": {},
   "outputs": [],
   "source": [
    "1name = \"olaitan\" # invalid\n",
    "name1 = \"olaitan\"  # valid\n",
    "name$^* = \"olaitan\" # invalid\n",
    "name_ = \"olaitan\" # valid\n",
    "first name = \"olaitan\" # invalid\n",
    "first_name = \"olaitan\" # valid"
   ]
  },
  {
   "cell_type": "code",
   "execution_count": 6,
   "id": "5e77a754",
   "metadata": {},
   "outputs": [
    {
     "name": "stdout",
     "output_type": "stream",
     "text": [
      "Hello everyone, My name is  olaitan james sancho and i am  12 years old, from  lagos state\n"
     ]
    }
   ],
   "source": [
    "full_name =\"olaitan james sancho\"\n",
    "age = 12\n",
    "address = \"lagos\"\n",
    "print(\"Hello everyone, My name is \", full_name, \"and i am \", age, \"years old, from \", address, \"state\")"
   ]
  },
  {
   "cell_type": "markdown",
   "id": "75502cdf",
   "metadata": {},
   "source": [
    "# Operator in Pytbon\n",
    "\n",
    "1. Arithmetic\n",
    "2. Assignment\n",
    "3. Comparison\n",
    "4. Identity\n",
    "5. Membership\n",
    "7. Logical\n",
    "8. bitwise"
   ]
  },
  {
   "cell_type": "code",
   "execution_count": null,
   "id": "088900fe",
   "metadata": {},
   "outputs": [],
   "source": []
  },
  {
   "cell_type": "markdown",
   "id": "b2b57cf0",
   "metadata": {},
   "source": [
    "# Arithmetic\n",
    "oprand and operator"
   ]
  },
  {
   "cell_type": "code",
   "execution_count": 7,
   "id": "5069c318",
   "metadata": {},
   "outputs": [
    {
     "name": "stdout",
     "output_type": "stream",
     "text": [
      "12\n"
     ]
    }
   ],
   "source": [
    "#Addition(+)\n",
    "a = 5\n",
    "b = 7\n",
    "c = a + b\n",
    "print(c)"
   ]
  },
  {
   "cell_type": "code",
   "execution_count": 8,
   "id": "24792f7d",
   "metadata": {},
   "outputs": [
    {
     "name": "stdout",
     "output_type": "stream",
     "text": [
      "-2\n"
     ]
    }
   ],
   "source": [
    "#subtraction(-)\n",
    "a = 5\n",
    "b = 7\n",
    "c = a - b\n",
    "print(c)"
   ]
  },
  {
   "cell_type": "code",
   "execution_count": 9,
   "id": "ece9e6ee",
   "metadata": {},
   "outputs": [
    {
     "name": "stdout",
     "output_type": "stream",
     "text": [
      "35\n"
     ]
    }
   ],
   "source": [
    "#multiplication(*)\n",
    "a = 5\n",
    "b = 7\n",
    "c = a * b\n",
    "print(c)"
   ]
  },
  {
   "cell_type": "code",
   "execution_count": 10,
   "id": "78a15d4e",
   "metadata": {},
   "outputs": [
    {
     "name": "stdout",
     "output_type": "stream",
     "text": [
      "0.7142857142857143\n"
     ]
    }
   ],
   "source": [
    "#division(/)\n",
    "a = 5\n",
    "b = 7\n",
    "c = a / b\n",
    "print(c)"
   ]
  },
  {
   "cell_type": "code",
   "execution_count": 11,
   "id": "e84aa08e",
   "metadata": {},
   "outputs": [
    {
     "name": "stdout",
     "output_type": "stream",
     "text": [
      "4\n"
     ]
    }
   ],
   "source": [
    "#modulus(%)\n",
    "a = 9\n",
    "b = 5\n",
    "c = a % b\n",
    "print(c)"
   ]
  },
  {
   "cell_type": "markdown",
   "id": "b50cac55",
   "metadata": {},
   "source": [
    "# Assignment"
   ]
  },
  {
   "cell_type": "code",
   "execution_count": null,
   "id": "892b01f1",
   "metadata": {},
   "outputs": [],
   "source": [
    "# equl sign=\n",
    "name = \"olaitan\""
   ]
  },
  {
   "cell_type": "code",
   "execution_count": 13,
   "id": "35384fe4",
   "metadata": {},
   "outputs": [
    {
     "name": "stdout",
     "output_type": "stream",
     "text": [
      "10\n"
     ]
    }
   ],
   "source": [
    "# inccreament (+1)\n",
    "a=9\n",
    "a +=1\n",
    "print(a)"
   ]
  },
  {
   "cell_type": "code",
   "execution_count": 15,
   "id": "6eb65698",
   "metadata": {},
   "outputs": [
    {
     "name": "stdout",
     "output_type": "stream",
     "text": [
      "8\n"
     ]
    }
   ],
   "source": [
    "# decreament (-1)\n",
    "a=9\n",
    "a -=1\n",
    "print(a)"
   ]
  },
  {
   "cell_type": "markdown",
   "id": "cf2640df",
   "metadata": {},
   "source": [
    "# comparision\n",
    "is used to compear two or more vairables and it boolean result"
   ]
  },
  {
   "cell_type": "code",
   "execution_count": 18,
   "id": "f6f28a83",
   "metadata": {},
   "outputs": [
    {
     "data": {
      "text/plain": [
       "True"
      ]
     },
     "execution_count": 18,
     "metadata": {},
     "output_type": "execute_result"
    }
   ],
   "source": [
    "# equal to (==)\n",
    "a = 5\n",
    "b = 5\n",
    "a==b"
   ]
  },
  {
   "cell_type": "code",
   "execution_count": 20,
   "id": "73c654ee",
   "metadata": {},
   "outputs": [
    {
     "data": {
      "text/plain": [
       "True"
      ]
     },
     "execution_count": 20,
     "metadata": {},
     "output_type": "execute_result"
    }
   ],
   "source": [
    "# not equal to (!=)\n",
    "a = 5\n",
    "b = 8\n",
    "a!=b"
   ]
  },
  {
   "cell_type": "code",
   "execution_count": 21,
   "id": "64bbcf0b",
   "metadata": {},
   "outputs": [
    {
     "data": {
      "text/plain": [
       "False"
      ]
     },
     "execution_count": 21,
     "metadata": {},
     "output_type": "execute_result"
    }
   ],
   "source": [
    "# greater than(>)\n",
    "a = 5\n",
    "b = 8\n",
    "a>b"
   ]
  },
  {
   "cell_type": "code",
   "execution_count": 23,
   "id": "c172566c",
   "metadata": {},
   "outputs": [
    {
     "data": {
      "text/plain": [
       "True"
      ]
     },
     "execution_count": 23,
     "metadata": {},
     "output_type": "execute_result"
    }
   ],
   "source": [
    "# greater than or equal(>=)\n",
    "a = 5\n",
    "b = 5\n",
    "a>=b"
   ]
  },
  {
   "cell_type": "code",
   "execution_count": 24,
   "id": "434517ee",
   "metadata": {},
   "outputs": [
    {
     "data": {
      "text/plain": [
       "True"
      ]
     },
     "execution_count": 24,
     "metadata": {},
     "output_type": "execute_result"
    }
   ],
   "source": [
    "# less than (<)\n",
    "a = 5\n",
    "b = 8\n",
    "a<b"
   ]
  },
  {
   "cell_type": "code",
   "execution_count": 25,
   "id": "ad1a0a70",
   "metadata": {},
   "outputs": [
    {
     "data": {
      "text/plain": [
       "True"
      ]
     },
     "execution_count": 25,
     "metadata": {},
     "output_type": "execute_result"
    }
   ],
   "source": [
    "# less than (<=)\n",
    "a = 5\n",
    "b = 8\n",
    "a<=b"
   ]
  },
  {
   "cell_type": "markdown",
   "id": "62761fe0",
   "metadata": {},
   "source": [
    "# Identity\n",
    "in/ not in"
   ]
  },
  {
   "cell_type": "code",
   "execution_count": 27,
   "id": "819c07a4",
   "metadata": {},
   "outputs": [
    {
     "data": {
      "text/plain": [
       "True"
      ]
     },
     "execution_count": 27,
     "metadata": {},
     "output_type": "execute_result"
    }
   ],
   "source": [
    "name = \"olaitan\"\n",
    "\"o\" in name"
   ]
  },
  {
   "cell_type": "code",
   "execution_count": 28,
   "id": "24f6b9a3",
   "metadata": {},
   "outputs": [
    {
     "data": {
      "text/plain": [
       "False"
      ]
     },
     "execution_count": 28,
     "metadata": {},
     "output_type": "execute_result"
    }
   ],
   "source": [
    "name = \"olaitan\"\n",
    "\"o\" not in name"
   ]
  },
  {
   "cell_type": "code",
   "execution_count": null,
   "id": "fe9d10e8",
   "metadata": {},
   "outputs": [],
   "source": [
    "# Membership\n",
    "is/ is not"
   ]
  },
  {
   "cell_type": "code",
   "execution_count": 29,
   "id": "5a2c606c",
   "metadata": {},
   "outputs": [
    {
     "name": "stderr",
     "output_type": "stream",
     "text": [
      "<>:1: SyntaxWarning: \"is\" with a literal. Did you mean \"==\"?\n",
      "<>:1: SyntaxWarning: \"is\" with a literal. Did you mean \"==\"?\n",
      "C:\\Users\\pc\\AppData\\Local\\Temp\\ipykernel_11440\\564785565.py:1: SyntaxWarning: \"is\" with a literal. Did you mean \"==\"?\n",
      "  2 is 2\n"
     ]
    },
    {
     "data": {
      "text/plain": [
       "True"
      ]
     },
     "execution_count": 29,
     "metadata": {},
     "output_type": "execute_result"
    }
   ],
   "source": [
    "2 is 2"
   ]
  },
  {
   "cell_type": "code",
   "execution_count": 30,
   "id": "786db27c",
   "metadata": {},
   "outputs": [
    {
     "name": "stderr",
     "output_type": "stream",
     "text": [
      "<>:1: SyntaxWarning: \"is not\" with a literal. Did you mean \"!=\"?\n",
      "<>:1: SyntaxWarning: \"is not\" with a literal. Did you mean \"!=\"?\n",
      "C:\\Users\\pc\\AppData\\Local\\Temp\\ipykernel_11440\\3997639733.py:1: SyntaxWarning: \"is not\" with a literal. Did you mean \"!=\"?\n",
      "  2 is not 2\n"
     ]
    },
    {
     "data": {
      "text/plain": [
       "False"
      ]
     },
     "execution_count": 30,
     "metadata": {},
     "output_type": "execute_result"
    }
   ],
   "source": [
    "2 is not 2"
   ]
  },
  {
   "cell_type": "markdown",
   "id": "7ec3ea4e",
   "metadata": {},
   "source": [
    "# Logical Operator\n",
    "and/ or"
   ]
  },
  {
   "cell_type": "code",
   "execution_count": 35,
   "id": "9575588f",
   "metadata": {},
   "outputs": [
    {
     "data": {
      "text/plain": [
       "True"
      ]
     },
     "execution_count": 35,
     "metadata": {},
     "output_type": "execute_result"
    }
   ],
   "source": [
    "# or will return true if all or one of all the conditions is true\n",
    "a = 19\n",
    "b = 17\n",
    "c = 10\n",
    "(a>b) or (b<c)"
   ]
  },
  {
   "cell_type": "code",
   "execution_count": 36,
   "id": "7ecb982d",
   "metadata": {},
   "outputs": [
    {
     "data": {
      "text/plain": [
       "False"
      ]
     },
     "execution_count": 36,
     "metadata": {},
     "output_type": "execute_result"
    }
   ],
   "source": [
    "# and will return true only if  all the conditions are true\n",
    "a = 19\n",
    "b = 17\n",
    "c = 10\n",
    "(a>b) and (b<c)"
   ]
  },
  {
   "cell_type": "code",
   "execution_count": null,
   "id": "f671cd23",
   "metadata": {},
   "outputs": [],
   "source": [
    "input"
   ]
  },
  {
   "cell_type": "code",
   "execution_count": null,
   "id": "08f2cef1",
   "metadata": {},
   "outputs": [],
   "source": []
  },
  {
   "cell_type": "code",
   "execution_count": null,
   "id": "123364a7",
   "metadata": {},
   "outputs": [],
   "source": [
    "str"
   ]
  },
  {
   "cell_type": "code",
   "execution_count": null,
   "id": "c76545db",
   "metadata": {},
   "outputs": [],
   "source": [
    "777   "
   ]
  },
  {
   "cell_type": "code",
   "execution_count": null,
   "id": "ec4620a7",
   "metadata": {},
   "outputs": [],
   "source": [
    "full_name = input(\"please enter your full name \")\n",
    "age = input(\"How are you? \")\n",
    "address = input(\"please enter your location \")\n",
    "print(\"Hello everyone, My name is \", full_name, \"and i am \", age, \"years old, from \", address, \"state\")"
   ]
  },
  {
   "cell_type": "code",
   "execution_count": 42,
   "id": "8b49f481",
   "metadata": {},
   "outputs": [
    {
     "name": "stdout",
     "output_type": "stream",
     "text": [
      "enter the first number 6\n",
      "enter the second number 7\n",
      "the sum of the numbers enter is  13\n"
     ]
    }
   ],
   "source": [
    "num1 = int (     input(\"enter the first number \")       )\n",
    "num2 = int ( input(\"enter the second number \") )\n",
    "total = num1 + num2\n",
    "print(\"the sum of the numbers enter is \", total)"
   ]
  },
  {
   "cell_type": "code",
   "execution_count": 41,
   "id": "3aa8f3e3",
   "metadata": {},
   "outputs": [
    {
     "data": {
      "text/plain": [
       "'olaitan'"
      ]
     },
     "execution_count": 41,
     "metadata": {},
     "output_type": "execute_result"
    }
   ],
   "source": [
    "\"ola\" + \"itan\""
   ]
  },
  {
   "cell_type": "markdown",
   "id": "36eab7be",
   "metadata": {},
   "source": [
    "# Data type in Python\n",
    "\n",
    "1. immutable: they are datatype that can not be modify after declearation\n",
    "    a. number\n",
    "    b. string\n",
    "    c. tuple\n",
    "    d. set   \n",
    "2. mutable: they are datatype that can be modify after declearation\n",
    "    a. list\n",
    "    b. dictionary"
   ]
  },
  {
   "cell_type": "code",
   "execution_count": null,
   "id": "3556f855",
   "metadata": {},
   "outputs": [],
   "source": [
    "# number"
   ]
  },
  {
   "cell_type": "code",
   "execution_count": null,
   "id": "83ec55d5",
   "metadata": {},
   "outputs": [],
   "source": [
    "num1 = 8839 # int\n",
    "num2 = 3883.88 # float\n",
    "num3 = 3 + 7j # complet"
   ]
  },
  {
   "cell_type": "code",
   "execution_count": null,
   "id": "5cf67405",
   "metadata": {},
   "outputs": [],
   "source": [
    "# "
   ]
  },
  {
   "cell_type": "code",
   "execution_count": null,
   "id": "5e892e93",
   "metadata": {},
   "outputs": [],
   "source": []
  },
  {
   "cell_type": "code",
   "execution_count": null,
   "id": "e6f50f6b",
   "metadata": {},
   "outputs": [],
   "source": []
  },
  {
   "cell_type": "code",
   "execution_count": null,
   "id": "f6db2a10",
   "metadata": {},
   "outputs": [],
   "source": []
  },
  {
   "cell_type": "code",
   "execution_count": null,
   "id": "35351fc4",
   "metadata": {},
   "outputs": [],
   "source": []
  },
  {
   "cell_type": "code",
   "execution_count": null,
   "id": "a0062481",
   "metadata": {},
   "outputs": [],
   "source": []
  },
  {
   "cell_type": "code",
   "execution_count": null,
   "id": "4b5e24de",
   "metadata": {},
   "outputs": [],
   "source": []
  },
  {
   "cell_type": "code",
   "execution_count": null,
   "id": "1f39568a",
   "metadata": {},
   "outputs": [],
   "source": []
  },
  {
   "cell_type": "code",
   "execution_count": null,
   "id": "b5601a14",
   "metadata": {},
   "outputs": [],
   "source": []
  },
  {
   "cell_type": "code",
   "execution_count": null,
   "id": "69de760f",
   "metadata": {},
   "outputs": [],
   "source": []
  },
  {
   "cell_type": "code",
   "execution_count": null,
   "id": "d85e3879",
   "metadata": {},
   "outputs": [],
   "source": []
  },
  {
   "cell_type": "code",
   "execution_count": null,
   "id": "65f21ff0",
   "metadata": {},
   "outputs": [],
   "source": []
  },
  {
   "cell_type": "code",
   "execution_count": null,
   "id": "511d267b",
   "metadata": {},
   "outputs": [],
   "source": []
  },
  {
   "cell_type": "code",
   "execution_count": null,
   "id": "474ea01c",
   "metadata": {},
   "outputs": [],
   "source": []
  },
  {
   "cell_type": "code",
   "execution_count": null,
   "id": "ba3988eb",
   "metadata": {},
   "outputs": [],
   "source": []
  },
  {
   "cell_type": "code",
   "execution_count": null,
   "id": "d0f5054b",
   "metadata": {},
   "outputs": [],
   "source": []
  },
  {
   "cell_type": "code",
   "execution_count": null,
   "id": "49aa1905",
   "metadata": {},
   "outputs": [],
   "source": []
  },
  {
   "cell_type": "markdown",
   "id": "9b252e9a",
   "metadata": {},
   "source": [
    "i am learning python for the first time, i was told it going to be fun"
   ]
  },
  {
   "cell_type": "code",
   "execution_count": 1,
   "id": "00a346f7",
   "metadata": {},
   "outputs": [
    {
     "name": "stdout",
     "output_type": "stream",
     "text": [
      "python is one of the most popular programming language\n"
     ]
    }
   ],
   "source": [
    "# lets learn python command\n",
    "print(\"python is one of the most popular programming language\")"
   ]
  },
  {
   "cell_type": "markdown",
   "id": "971ad28c",
   "metadata": {},
   "source": [
    "# Variable and identifier in python\n",
    "variable is an object that can hold any values saved on computer memory\n",
    "identifier is used to identify variable"
   ]
  },
  {
   "cell_type": "code",
   "execution_count": 3,
   "id": "62a4fe99",
   "metadata": {},
   "outputs": [
    {
     "name": "stdout",
     "output_type": "stream",
     "text": [
      "Julius\n"
     ]
    }
   ],
   "source": [
    "name = \"Julius\"\n",
    "print(name)"
   ]
  },
  {
   "cell_type": "markdown",
   "id": "49c57c56",
   "metadata": {},
   "source": [
    "# Rules for naming an identifier\n",
    "1. variable name can not start with number, though number can be find any where else\n",
    "2. any special characters can not use in variable name except underscore\n",
    "3. white can not be used to join variable names, instead use underscore"
   ]
  },
  {
   "cell_type": "code",
   "execution_count": 4,
   "id": "8f53f621",
   "metadata": {},
   "outputs": [
    {
     "ename": "SyntaxError",
     "evalue": "invalid syntax (1611679337.py, line 1)",
     "output_type": "error",
     "traceback": [
      "\u001b[1;36m  File \u001b[1;32m\"C:\\Users\\pc\\AppData\\Local\\Temp\\ipykernel_2432\\1611679337.py\"\u001b[1;36m, line \u001b[1;32m1\u001b[0m\n\u001b[1;33m    1name = \"julius\"\u001b[0m\n\u001b[1;37m     ^\u001b[0m\n\u001b[1;31mSyntaxError\u001b[0m\u001b[1;31m:\u001b[0m invalid syntax\n"
     ]
    }
   ],
   "source": [
    "1name = \"julius\""
   ]
  },
  {
   "cell_type": "code",
   "execution_count": 5,
   "id": "23da4329",
   "metadata": {},
   "outputs": [],
   "source": [
    "name1 = \"julius\""
   ]
  },
  {
   "cell_type": "code",
   "execution_count": 6,
   "id": "dde1516b",
   "metadata": {},
   "outputs": [
    {
     "ename": "SyntaxError",
     "evalue": "invalid syntax (1127573890.py, line 1)",
     "output_type": "error",
     "traceback": [
      "\u001b[1;36m  File \u001b[1;32m\"C:\\Users\\pc\\AppData\\Local\\Temp\\ipykernel_2432\\1127573890.py\"\u001b[1;36m, line \u001b[1;32m1\u001b[0m\n\u001b[1;33m    number% = 272\u001b[0m\n\u001b[1;37m            ^\u001b[0m\n\u001b[1;31mSyntaxError\u001b[0m\u001b[1;31m:\u001b[0m invalid syntax\n"
     ]
    }
   ],
   "source": [
    "number% = 272"
   ]
  },
  {
   "cell_type": "code",
   "execution_count": 7,
   "id": "d5625543",
   "metadata": {},
   "outputs": [],
   "source": [
    "number_one = 764"
   ]
  },
  {
   "cell_type": "code",
   "execution_count": 9,
   "id": "bf30a0c9",
   "metadata": {},
   "outputs": [],
   "source": [
    "first_name = \"julius\""
   ]
  },
  {
   "cell_type": "code",
   "execution_count": null,
   "id": "afdef902",
   "metadata": {},
   "outputs": [],
   "source": []
  },
  {
   "cell_type": "code",
   "execution_count": null,
   "id": "c9860eea",
   "metadata": {},
   "outputs": [],
   "source": []
  },
  {
   "cell_type": "code",
   "execution_count": null,
   "id": "364d24b9",
   "metadata": {},
   "outputs": [],
   "source": []
  },
  {
   "cell_type": "code",
   "execution_count": null,
   "id": "dc1b75f9",
   "metadata": {},
   "outputs": [],
   "source": []
  },
  {
   "cell_type": "code",
   "execution_count": null,
   "id": "5199f40e",
   "metadata": {},
   "outputs": [],
   "source": []
  },
  {
   "cell_type": "code",
   "execution_count": null,
   "id": "623b7887",
   "metadata": {},
   "outputs": [],
   "source": []
  },
  {
   "cell_type": "code",
   "execution_count": null,
   "id": "0a89a4d2",
   "metadata": {},
   "outputs": [],
   "source": []
  },
  {
   "cell_type": "code",
   "execution_count": null,
   "id": "5cb386fb",
   "metadata": {},
   "outputs": [],
   "source": []
  },
  {
   "cell_type": "markdown",
   "id": "8e5d0052",
   "metadata": {},
   "source": [
    "# Introduction to jupyter Notebook\n",
    "\n",
    "you don't have to stress yourself in **creating** body, just write what you want `write`\n",
    "\n",
    "## Python is fun\n",
    "\n",
    "###### smallest header\n",
    "\n",
    "## Order list\n",
    "1. Point One\n",
    "2. Point Two\n",
    "3. Point Three\n",
    "\n",
    "\n",
    "## Unorder List\n",
    "- Point One\n",
    "- Point Two\n",
    "- Point three\n",
    "\n",
    "\n"
   ]
  },
  {
   "cell_type": "code",
   "execution_count": 3,
   "id": "637a7ccd",
   "metadata": {},
   "outputs": [
    {
     "name": "stdout",
     "output_type": "stream",
     "text": [
      "Hello World,  python is awesome\n"
     ]
    }
   ],
   "source": [
    "# am about to write my first python code\n",
    "print(\"Hello World,  python is awesome\")"
   ]
  },
  {
   "cell_type": "markdown",
   "id": "e0046c07",
   "metadata": {},
   "source": [
    "# Variable and identifier\n",
    "- A variable is an object that occupy space on compputer memory\n",
    "- Identifier is used to identify variable\n",
    "\n",
    "\n",
    "## Rules For Naming Variable\n",
    "\n",
    "- A variable name can not start with a number, though it can be find anywhere else\n",
    "- A variable name can not contain any special character(s) except underscore\n",
    "- A variable name can not be join with space, Use underscore instead.\n",
    "- A variable can not be name with pyton reserved key words"
   ]
  },
  {
   "cell_type": "code",
   "execution_count": null,
   "id": "7a9de3a5",
   "metadata": {},
   "outputs": [],
   "source": [
    "# state your fullname, age and your name of your school, then introduce youreself to the screen"
   ]
  },
  {
   "cell_type": "code",
   "execution_count": 2,
   "id": "cc6fbb25",
   "metadata": {},
   "outputs": [
    {
     "name": "stdout",
     "output_type": "stream",
     "text": [
      "Hello everyone, my fullname is olaitan kazeem i am 12 year olds and the name of my school is  LASOP\n"
     ]
    }
   ],
   "source": [
    "first_name = \"olaitan\"\n",
    "last_name = \"kazeem\"\n",
    "age = 12\n",
    "school = \"LASOP\"\n",
    "\n",
    "print(\"Hello everyone, my fullname is\" , first_name, last_name, \"i am\" , age, \n",
    "     \"year olds and the name of my school is \", school)"
   ]
  },
  {
   "cell_type": "code",
   "execution_count": 3,
   "id": "e8e9d293",
   "metadata": {},
   "outputs": [
    {
     "name": "stdout",
     "output_type": "stream",
     "text": [
      "please enter your first name James\n",
      "please enter your last name Sancho\n",
      "please enter your age 45\n",
      "What is the name of your school  Fut Minna\n",
      "Hello everyone, my fullname is James Sancho i am 45 year olds and the name of my school is  Fut Minna\n"
     ]
    }
   ],
   "source": [
    "first_name = input(\"please enter your first name \")\n",
    "last_name = input(\"please enter your last name \")\n",
    "age = input(\"please enter your age \")\n",
    "school = input(\"What is the name of your school  \")\n",
    "\n",
    "print(\"Hello everyone, my fullname is\" , first_name, last_name, \"i am\" , age, \n",
    "     \"year olds and the name of my school is \", school)"
   ]
  },
  {
   "cell_type": "code",
   "execution_count": 4,
   "id": "3cbdf377",
   "metadata": {},
   "outputs": [
    {
     "name": "stdout",
     "output_type": "stream",
     "text": [
      "please enter your first name k\n",
      "please enter your last name i\n",
      "please enter your age y\n",
      "What is the name of your school  g\n",
      "Hello everyone, my fullname is k i i am y year olds and the name of my school is  g\n"
     ]
    }
   ],
   "source": [
    "first_name = input(\"please enter your first name \")\n",
    "last_name = input(\"please enter your last name \")\n",
    "age = input(\"please enter your age \")\n",
    "school = input(\"What is the name of your school  \")\n",
    "\n",
    "print(\"Hello everyone, my fullname is\" , first_name, last_name, \"i am\" , age, \n",
    "     \"year olds and the name of my school is \", school)"
   ]
  },
  {
   "cell_type": "code",
   "execution_count": null,
   "id": "9cbfbd5e",
   "metadata": {},
   "outputs": [],
   "source": []
  },
  {
   "cell_type": "code",
   "execution_count": null,
   "id": "9da99831",
   "metadata": {},
   "outputs": [],
   "source": []
  },
  {
   "cell_type": "markdown",
   "id": "27414b04",
   "metadata": {},
   "source": [
    "# Operator in Python\n",
    "Operator are used to manipulate operand\n",
    "operand can be object or variable\n",
    "\n",
    "1. Arithmetic\n",
    "2. Assignment\n",
    "3. Comparison\n",
    "4. Identity\n",
    "5. Membership\n",
    "6. Logical \n",
    "7. Bitwise"
   ]
  },
  {
   "cell_type": "markdown",
   "id": "7a0a4f63",
   "metadata": {},
   "source": [
    "# 1. Arithmetic"
   ]
  },
  {
   "cell_type": "code",
   "execution_count": 2,
   "id": "060e0d83",
   "metadata": {},
   "outputs": [
    {
     "name": "stdout",
     "output_type": "stream",
     "text": [
      "25\n"
     ]
    }
   ],
   "source": [
    "# Addition\n",
    "num1 = 10\n",
    "num2 = 15\n",
    "total = num1 + num2\n",
    "print(total)"
   ]
  },
  {
   "cell_type": "code",
   "execution_count": 3,
   "id": "4867bea3",
   "metadata": {},
   "outputs": [
    {
     "name": "stdout",
     "output_type": "stream",
     "text": [
      "-5\n"
     ]
    }
   ],
   "source": [
    "# subtaction\n",
    "num1 = 10\n",
    "num2 = 15\n",
    "total = num1 - num2\n",
    "print(total)"
   ]
  },
  {
   "cell_type": "code",
   "execution_count": 4,
   "id": "3e146660",
   "metadata": {},
   "outputs": [
    {
     "name": "stdout",
     "output_type": "stream",
     "text": [
      "0.6666666666666666\n"
     ]
    }
   ],
   "source": [
    "# division\n",
    "num1 = 10\n",
    "num2 = 15\n",
    "total = num1 / num2\n",
    "print(total)"
   ]
  },
  {
   "cell_type": "code",
   "execution_count": 5,
   "id": "182c44d9",
   "metadata": {},
   "outputs": [
    {
     "name": "stdout",
     "output_type": "stream",
     "text": [
      "150\n"
     ]
    }
   ],
   "source": [
    "# multiplication\n",
    "num1 = 10\n",
    "num2 = 15\n",
    "total = num1 * num2\n",
    "print(total)"
   ]
  },
  {
   "cell_type": "code",
   "execution_count": 6,
   "id": "8b67cedf",
   "metadata": {},
   "outputs": [
    {
     "name": "stdout",
     "output_type": "stream",
     "text": [
      "1000000000000000\n"
     ]
    }
   ],
   "source": [
    "# power\n",
    "num1 = 10\n",
    "num2 = 15\n",
    "total = num1 ** num2\n",
    "print(total)"
   ]
  },
  {
   "cell_type": "code",
   "execution_count": 7,
   "id": "00b8d146",
   "metadata": {},
   "outputs": [
    {
     "name": "stdout",
     "output_type": "stream",
     "text": [
      "5\n"
     ]
    }
   ],
   "source": [
    "# modulus\n",
    "num1 = 10\n",
    "num2 = 15\n",
    "total = num2 % num1\n",
    "print(total)"
   ]
  },
  {
   "cell_type": "markdown",
   "id": "0bf46c7a",
   "metadata": {},
   "source": [
    "# Assignment Operator"
   ]
  },
  {
   "cell_type": "code",
   "execution_count": null,
   "id": "aebe2a68",
   "metadata": {},
   "outputs": [],
   "source": [
    "# Equality sign\n",
    "name = \"olaitan\""
   ]
  },
  {
   "cell_type": "code",
   "execution_count": 9,
   "id": "646cee4f",
   "metadata": {},
   "outputs": [
    {
     "name": "stdout",
     "output_type": "stream",
     "text": [
      "6\n"
     ]
    }
   ],
   "source": [
    "# increments \n",
    "a = 4\n",
    "a+=2 # increase the value of a by two\n",
    "print(a)"
   ]
  },
  {
   "cell_type": "code",
   "execution_count": 10,
   "id": "c82a70cd",
   "metadata": {},
   "outputs": [
    {
     "name": "stdout",
     "output_type": "stream",
     "text": [
      "2\n"
     ]
    }
   ],
   "source": [
    "# decrements \n",
    "a = 4\n",
    "a-=2 # increase the value of a by two\n",
    "print(a)"
   ]
  },
  {
   "cell_type": "markdown",
   "id": "1988dc97",
   "metadata": {},
   "source": [
    "# 3. Comparison Operator;\n",
    "it will return boolean result: (True or False)"
   ]
  },
  {
   "cell_type": "code",
   "execution_count": null,
   "id": "cb880c2d",
   "metadata": {},
   "outputs": [],
   "source": []
  },
  {
   "cell_type": "code",
   "execution_count": 12,
   "id": "757750fc",
   "metadata": {},
   "outputs": [
    {
     "name": "stdout",
     "output_type": "stream",
     "text": [
      "False\n"
     ]
    }
   ],
   "source": [
    "# grater than\n",
    "num1 = 5\n",
    "num2 = 7\n",
    "print(num1 > num2)"
   ]
  },
  {
   "cell_type": "code",
   "execution_count": 13,
   "id": "efb98976",
   "metadata": {},
   "outputs": [
    {
     "name": "stdout",
     "output_type": "stream",
     "text": [
      "True\n"
     ]
    }
   ],
   "source": [
    "# less than\n",
    "num1 = 5\n",
    "num2 = 7\n",
    "print(num1 < num2)"
   ]
  },
  {
   "cell_type": "code",
   "execution_count": 15,
   "id": "ab0f9a49",
   "metadata": {},
   "outputs": [
    {
     "name": "stdout",
     "output_type": "stream",
     "text": [
      "True\n"
     ]
    }
   ],
   "source": [
    "# grater than or equal to\n",
    "num1 = 5\n",
    "num2 = 5\n",
    "print(num1 >= num2)"
   ]
  },
  {
   "cell_type": "code",
   "execution_count": 18,
   "id": "8b37c347",
   "metadata": {},
   "outputs": [
    {
     "name": "stdout",
     "output_type": "stream",
     "text": [
      "False\n"
     ]
    }
   ],
   "source": [
    "# less than or equal to\n",
    "num1 = 8\n",
    "num2 = 5\n",
    "print(num1 <= num2)"
   ]
  },
  {
   "cell_type": "code",
   "execution_count": 20,
   "id": "fa1f13b5",
   "metadata": {},
   "outputs": [
    {
     "name": "stdout",
     "output_type": "stream",
     "text": [
      "False\n"
     ]
    }
   ],
   "source": [
    "#==\n",
    "num1 = 9\n",
    "num2 = 5\n",
    "print(num1 == num2)"
   ]
  },
  {
   "cell_type": "markdown",
   "id": "164e1333",
   "metadata": {},
   "source": [
    "# Identity Operator\n",
    "it also return boolean result\n",
    "\n",
    "in, not in"
   ]
  },
  {
   "cell_type": "code",
   "execution_count": 22,
   "id": "e1af73e1",
   "metadata": {},
   "outputs": [
    {
     "data": {
      "text/plain": [
       "False"
      ]
     },
     "execution_count": 22,
     "metadata": {},
     "output_type": "execute_result"
    }
   ],
   "source": [
    "name = \"olaitan\"\n",
    "\"O\" in name"
   ]
  },
  {
   "cell_type": "code",
   "execution_count": 23,
   "id": "9e70fc81",
   "metadata": {},
   "outputs": [
    {
     "data": {
      "text/plain": [
       "True"
      ]
     },
     "execution_count": 23,
     "metadata": {},
     "output_type": "execute_result"
    }
   ],
   "source": [
    "name = \"olaitan\"\n",
    "\"O\" not in name"
   ]
  },
  {
   "cell_type": "markdown",
   "id": "d10d5768",
   "metadata": {},
   "source": [
    "# Membership Operator\n",
    "also return boolean result\n",
    "\n",
    "- is, is not"
   ]
  },
  {
   "cell_type": "code",
   "execution_count": 25,
   "id": "a592fa24",
   "metadata": {},
   "outputs": [
    {
     "data": {
      "text/plain": [
       "True"
      ]
     },
     "execution_count": 25,
     "metadata": {},
     "output_type": "execute_result"
    }
   ],
   "source": [
    "name = \"olaitan\"\n",
    "name2 = \"olaitan\"\n",
    "name1 = \"kazeem\"\n",
    "name is name2"
   ]
  },
  {
   "cell_type": "code",
   "execution_count": 26,
   "id": "e5ad41e9",
   "metadata": {},
   "outputs": [
    {
     "data": {
      "text/plain": [
       "False"
      ]
     },
     "execution_count": 26,
     "metadata": {},
     "output_type": "execute_result"
    }
   ],
   "source": [
    "name is not name2"
   ]
  },
  {
   "cell_type": "code",
   "execution_count": null,
   "id": "5aa11ac9",
   "metadata": {},
   "outputs": [],
   "source": [
    "# Logical Operator\n",
    "it also return boolean result\n",
    "or, And"
   ]
  },
  {
   "cell_type": "code",
   "execution_count": 28,
   "id": "7bbabad3",
   "metadata": {},
   "outputs": [
    {
     "data": {
      "text/plain": [
       "True"
      ]
     },
     "execution_count": 28,
     "metadata": {},
     "output_type": "execute_result"
    }
   ],
   "source": [
    "num1 = 6\n",
    "num2 = 7\n",
    "num3 = 10\n",
    "(num1)> (num2) or (num3 > num2) # or returning true because one condition is true"
   ]
  },
  {
   "cell_type": "code",
   "execution_count": 29,
   "id": "8a739f11",
   "metadata": {},
   "outputs": [
    {
     "data": {
      "text/plain": [
       "False"
      ]
     },
     "execution_count": 29,
     "metadata": {},
     "output_type": "execute_result"
    }
   ],
   "source": [
    "(num1)> (num2) and (num3 > num2) # or returning true because one condition is true"
   ]
  },
  {
   "cell_type": "markdown",
   "id": "0d54974f",
   "metadata": {},
   "source": [
    "# Bitwise\n",
    "\n",
    "| &"
   ]
  },
  {
   "cell_type": "code",
   "execution_count": 35,
   "id": "d0449120",
   "metadata": {},
   "outputs": [
    {
     "data": {
      "text/plain": [
       "False"
      ]
     },
     "execution_count": 35,
     "metadata": {},
     "output_type": "execute_result"
    }
   ],
   "source": [
    "num1 = 6\n",
    "num2 = 7\n",
    "num3 = 10\n",
    "((num1)> (num2)) & ((num3 > num2)) # or returning true because one condition is true"
   ]
  },
  {
   "cell_type": "code",
   "execution_count": 37,
   "id": "4b59df46",
   "metadata": {},
   "outputs": [
    {
     "data": {
      "text/plain": [
       "True"
      ]
     },
     "execution_count": 37,
     "metadata": {},
     "output_type": "execute_result"
    }
   ],
   "source": [
    "num1 = 6\n",
    "num2 = 7\n",
    "num3 = 10\n",
    "((num1)> (num2)) | ((num3 > num2) )# or returning true because one condition is true"
   ]
  },
  {
   "cell_type": "code",
   "execution_count": null,
   "id": "dbb98030",
   "metadata": {},
   "outputs": [],
   "source": [
    "# mutable data type: this is data type that can be modify after defination\n",
    "1. list \n",
    "2. dictionary\n",
    "\n",
    "## immutable data type: this is data type that can not be modify after defination\n",
    "1. string\n",
    "2. number\n",
    "3. tuple\n",
    "4. set"
   ]
  },
  {
   "cell_type": "markdown",
   "id": "d6e28e81",
   "metadata": {},
   "source": [
    "# Number "
   ]
  },
  {
   "cell_type": "code",
   "execution_count": 3,
   "id": "47e3e011",
   "metadata": {},
   "outputs": [],
   "source": [
    "a = 23 # int\n",
    "b = 23.7 # float\n",
    "c = 2 + 7j # complex"
   ]
  },
  {
   "cell_type": "code",
   "execution_count": null,
   "id": "b53e6cbb",
   "metadata": {},
   "outputs": [],
   "source": []
  },
  {
   "cell_type": "markdown",
   "id": "7ebaf459",
   "metadata": {},
   "source": [
    "# String Datatype\n",
    "they are sequence of characters inside quote"
   ]
  },
  {
   "cell_type": "code",
   "execution_count": 1,
   "id": "86b9203c",
   "metadata": {},
   "outputs": [],
   "source": [
    "name = \"olaitan\"\n",
    "name = 'olaitan'\n",
    "introduction = \"\"\"  this is\n",
    "                 introduction to \n",
    "                 python \"\"\""
   ]
  },
  {
   "cell_type": "code",
   "execution_count": 2,
   "id": "17a15aba",
   "metadata": {},
   "outputs": [
    {
     "data": {
      "text/plain": [
       "str"
      ]
     },
     "execution_count": 2,
     "metadata": {},
     "output_type": "execute_result"
    }
   ],
   "source": [
    "type(name)"
   ]
  },
  {
   "cell_type": "code",
   "execution_count": 4,
   "id": "514ea605",
   "metadata": {},
   "outputs": [
    {
     "data": {
      "text/plain": [
       "int"
      ]
     },
     "execution_count": 4,
     "metadata": {},
     "output_type": "execute_result"
    }
   ],
   "source": [
    "type(a)"
   ]
  },
  {
   "cell_type": "markdown",
   "id": "76123624",
   "metadata": {},
   "source": [
    "# index and slicing\n",
    "idexing is just a way of return a character at a given position"
   ]
  },
  {
   "cell_type": "code",
   "execution_count": 7,
   "id": "6129463d",
   "metadata": {},
   "outputs": [],
   "source": [
    "introduction = \"\"\"this is introduction to python\"\"\""
   ]
  },
  {
   "cell_type": "code",
   "execution_count": 8,
   "id": "fd534327",
   "metadata": {},
   "outputs": [],
   "source": [
    "# any datatype in python has zero base index"
   ]
  },
  {
   "cell_type": "code",
   "execution_count": 9,
   "id": "610d4ebc",
   "metadata": {},
   "outputs": [
    {
     "data": {
      "text/plain": [
       "'t'"
      ]
     },
     "execution_count": 9,
     "metadata": {},
     "output_type": "execute_result"
    }
   ],
   "source": [
    "# return the first character from the introduction variable\n",
    "introduction[0]   # forward indexing "
   ]
  },
  {
   "cell_type": "code",
   "execution_count": 10,
   "id": "34731271",
   "metadata": {},
   "outputs": [
    {
     "data": {
      "text/plain": [
       "'u'"
      ]
     },
     "execution_count": 10,
     "metadata": {},
     "output_type": "execute_result"
    }
   ],
   "source": [
    "# return u from the introduction variable\n",
    "introduction[14]  # forward indexing"
   ]
  },
  {
   "cell_type": "code",
   "execution_count": 11,
   "id": "91f0f955",
   "metadata": {},
   "outputs": [
    {
     "data": {
      "text/plain": [
       "'y'"
      ]
     },
     "execution_count": 11,
     "metadata": {},
     "output_type": "execute_result"
    }
   ],
   "source": [
    "# using backward indexing return  y from the introduction\n",
    "introduction[-5]"
   ]
  },
  {
   "cell_type": "markdown",
   "id": "ae1cd092",
   "metadata": {},
   "source": [
    "# slicing will return set of characters within range\n",
    "\n",
    "[idexNO: postionNO: stepskip]"
   ]
  },
  {
   "cell_type": "code",
   "execution_count": 14,
   "id": "97ce5532",
   "metadata": {},
   "outputs": [
    {
     "data": {
      "text/plain": [
       "'introduction'"
      ]
     },
     "execution_count": 14,
     "metadata": {},
     "output_type": "execute_result"
    }
   ],
   "source": [
    "introduction = \"\"\"this is introduction to python\"\"\"\n",
    "\n",
    "# return introduction from the variable above\n",
    "introduction[8:20]"
   ]
  },
  {
   "cell_type": "code",
   "execution_count": 17,
   "id": "2d5d9af8",
   "metadata": {},
   "outputs": [
    {
     "data": {
      "text/plain": [
       "'ti sit'"
      ]
     },
     "execution_count": 17,
     "metadata": {},
     "output_type": "execute_result"
    }
   ],
   "source": [
    "# return \"ti sit\" from the variable above\n",
    "introduction[0:11: 2]"
   ]
  },
  {
   "cell_type": "code",
   "execution_count": 24,
   "id": "3e6bb622",
   "metadata": {},
   "outputs": [
    {
     "data": {
      "text/plain": [
       "'tdtn'"
      ]
     },
     "execution_count": 24,
     "metadata": {},
     "output_type": "execute_result"
    }
   ],
   "source": [
    "# tdtn\n",
    "introduction[10:22:3]"
   ]
  },
  {
   "cell_type": "code",
   "execution_count": null,
   "id": "9ee9fc18",
   "metadata": {},
   "outputs": [],
   "source": [
    "pip install jupytertheme"
   ]
  },
  {
   "cell_type": "code",
   "execution_count": null,
   "id": "cedf1bb0",
   "metadata": {},
   "outputs": [],
   "source": []
  },
  {
   "cell_type": "code",
   "execution_count": null,
   "id": "c2339cfc",
   "metadata": {},
   "outputs": [],
   "source": []
  },
  {
   "cell_type": "code",
   "execution_count": null,
   "id": "ba9f5e64",
   "metadata": {},
   "outputs": [],
   "source": []
  },
  {
   "cell_type": "code",
   "execution_count": null,
   "id": "aa0009d9",
   "metadata": {},
   "outputs": [],
   "source": []
  },
  {
   "cell_type": "code",
   "execution_count": 8,
   "id": "759e2766",
   "metadata": {},
   "outputs": [
    {
     "name": "stdout",
     "output_type": "stream",
     "text": [
      "enter the first number 7\n",
      "enter the second number 9\n",
      "the summation of the two number entered is  16\n"
     ]
    }
   ],
   "source": [
    "num1 = int (    input(\"enter the first number \")    )\n",
    "num2 = int (input(\"enter the second number \"))\n",
    "total = num1 + num2\n",
    "print(\"the summation of the two number entered is \", total)"
   ]
  },
  {
   "cell_type": "code",
   "execution_count": null,
   "id": "c2567a1c",
   "metadata": {},
   "outputs": [],
   "source": [
    "int\n",
    "float\n",
    "str\n",
    "complex"
   ]
  },
  {
   "cell_type": "code",
   "execution_count": 2,
   "id": "a1919fa0",
   "metadata": {},
   "outputs": [],
   "source": [
    "w = \"12\""
   ]
  },
  {
   "cell_type": "code",
   "execution_count": 3,
   "id": "2e488a03",
   "metadata": {},
   "outputs": [
    {
     "data": {
      "text/plain": [
       "str"
      ]
     },
     "execution_count": 3,
     "metadata": {},
     "output_type": "execute_result"
    }
   ],
   "source": [
    "type(w)"
   ]
  },
  {
   "cell_type": "code",
   "execution_count": 5,
   "id": "fef26460",
   "metadata": {},
   "outputs": [],
   "source": [
    "w= int(w)"
   ]
  },
  {
   "cell_type": "code",
   "execution_count": 6,
   "id": "8cdcb38d",
   "metadata": {},
   "outputs": [
    {
     "data": {
      "text/plain": [
       "int"
      ]
     },
     "execution_count": 6,
     "metadata": {},
     "output_type": "execute_result"
    }
   ],
   "source": [
    "type(w)"
   ]
  },
  {
   "cell_type": "code",
   "execution_count": 9,
   "id": "80a29143",
   "metadata": {},
   "outputs": [
    {
     "name": "stdout",
     "output_type": "stream",
     "text": [
      "please enter you born year 2000\n",
      "Your current Age is  23\n"
     ]
    }
   ],
   "source": [
    "# write python script that can ask users for their born year, then return the current age of such user\n",
    "born_year = int (input(\"please enter you born year \"))\n",
    "age = 2023 -born_year\n",
    "print(\"Your current Age is \", age)"
   ]
  },
  {
   "cell_type": "markdown",
   "id": "4e99253e",
   "metadata": {},
   "source": [
    "# Operators In Python\n",
    " In python Operators are used to manipulate Operand\n",
    "\n",
    "1. Arithmentic\n",
    "2. Assignment\n",
    "3. Comparision\n",
    "4. Membership\n",
    "5. Identity \n",
    "6. Logical \n",
    "7. Bitwise \n"
   ]
  },
  {
   "cell_type": "markdown",
   "id": "424067c6",
   "metadata": {},
   "source": [
    "# Arithmetic"
   ]
  },
  {
   "cell_type": "code",
   "execution_count": 11,
   "id": "408349ff",
   "metadata": {},
   "outputs": [
    {
     "name": "stdout",
     "output_type": "stream",
     "text": [
      "10\n"
     ]
    }
   ],
   "source": [
    "# Addition\n",
    "a = 3\n",
    "b = 7\n",
    "total = a + b\n",
    "print(total)"
   ]
  },
  {
   "cell_type": "code",
   "execution_count": 12,
   "id": "ff8976f5",
   "metadata": {},
   "outputs": [
    {
     "name": "stdout",
     "output_type": "stream",
     "text": [
      "-4\n"
     ]
    }
   ],
   "source": [
    "# subtraction\n",
    "a = 3\n",
    "b = 7\n",
    "total = a - b\n",
    "print(total)"
   ]
  },
  {
   "cell_type": "code",
   "execution_count": 13,
   "id": "749ff37e",
   "metadata": {},
   "outputs": [
    {
     "name": "stdout",
     "output_type": "stream",
     "text": [
      "3.3333333333333335\n"
     ]
    }
   ],
   "source": [
    "# division\n",
    "a = 10\n",
    "b = 3\n",
    "total = a / b\n",
    "print(total)"
   ]
  },
  {
   "cell_type": "code",
   "execution_count": 14,
   "id": "613a5da8",
   "metadata": {},
   "outputs": [
    {
     "name": "stdout",
     "output_type": "stream",
     "text": [
      "30\n"
     ]
    }
   ],
   "source": [
    "# multiplication\n",
    "a = 10\n",
    "b = 3\n",
    "total = a * b\n",
    "print(total)"
   ]
  },
  {
   "cell_type": "code",
   "execution_count": 15,
   "id": "d331a0cf",
   "metadata": {},
   "outputs": [
    {
     "name": "stdout",
     "output_type": "stream",
     "text": [
      "1000\n"
     ]
    }
   ],
   "source": [
    "# power\n",
    "a = 10\n",
    "b = 3\n",
    "total = a ** b\n",
    "print(total)"
   ]
  },
  {
   "cell_type": "code",
   "execution_count": 17,
   "id": "24bde201",
   "metadata": {},
   "outputs": [
    {
     "name": "stdout",
     "output_type": "stream",
     "text": [
      "0\n"
     ]
    }
   ],
   "source": [
    "# modulus\n",
    "a = 10\n",
    "b = 2\n",
    "total = a  %    b\n",
    "print(total)"
   ]
  },
  {
   "cell_type": "markdown",
   "id": "bc37d574",
   "metadata": {},
   "source": [
    "# Assignment Operator"
   ]
  },
  {
   "cell_type": "code",
   "execution_count": 18,
   "id": "0a5ba1cf",
   "metadata": {},
   "outputs": [],
   "source": [
    "# eual sign\n",
    "name = \"olaitan\""
   ]
  },
  {
   "cell_type": "code",
   "execution_count": 19,
   "id": "983faf8b",
   "metadata": {},
   "outputs": [
    {
     "name": "stdout",
     "output_type": "stream",
     "text": [
      "6\n"
     ]
    }
   ],
   "source": [
    "# increament\n",
    "a = 4\n",
    "a+=2 # increase the values of a with 2\n",
    "print(a)"
   ]
  },
  {
   "cell_type": "code",
   "execution_count": 22,
   "id": "d2c050aa",
   "metadata": {},
   "outputs": [
    {
     "name": "stdout",
     "output_type": "stream",
     "text": [
      "0\n"
     ]
    }
   ],
   "source": [
    "# decreament\n",
    "a = 4\n",
    "a-=2 # increase the values of a with 2\n",
    "print(a)"
   ]
  },
  {
   "cell_type": "markdown",
   "id": "a2b5d1a8",
   "metadata": {},
   "source": [
    "# Comparision Operator\n",
    "it will return boolean result: True or False"
   ]
  },
  {
   "cell_type": "code",
   "execution_count": 23,
   "id": "9743a41f",
   "metadata": {},
   "outputs": [
    {
     "data": {
      "text/plain": [
       "False"
      ]
     },
     "execution_count": 23,
     "metadata": {},
     "output_type": "execute_result"
    }
   ],
   "source": [
    "# >\n",
    "a =10\n",
    "b= 15\n",
    "a > b"
   ]
  },
  {
   "cell_type": "code",
   "execution_count": 25,
   "id": "ca1fed5a",
   "metadata": {},
   "outputs": [
    {
     "data": {
      "text/plain": [
       "True"
      ]
     },
     "execution_count": 25,
     "metadata": {},
     "output_type": "execute_result"
    }
   ],
   "source": [
    "# >=\n",
    "a =10\n",
    "b= 10\n",
    "a >= b"
   ]
  },
  {
   "cell_type": "code",
   "execution_count": 26,
   "id": "0eb60ef7",
   "metadata": {},
   "outputs": [
    {
     "data": {
      "text/plain": [
       "True"
      ]
     },
     "execution_count": 26,
     "metadata": {},
     "output_type": "execute_result"
    }
   ],
   "source": [
    "# <\n",
    "a =10\n",
    "b= 15\n",
    "a < b"
   ]
  },
  {
   "cell_type": "code",
   "execution_count": 27,
   "id": "9714c8de",
   "metadata": {},
   "outputs": [
    {
     "data": {
      "text/plain": [
       "True"
      ]
     },
     "execution_count": 27,
     "metadata": {},
     "output_type": "execute_result"
    }
   ],
   "source": [
    "# <=\n",
    "a =10\n",
    "b= 15\n",
    "a <= b"
   ]
  },
  {
   "cell_type": "code",
   "execution_count": 29,
   "id": "026a4792",
   "metadata": {},
   "outputs": [
    {
     "data": {
      "text/plain": [
       "True"
      ]
     },
     "execution_count": 29,
     "metadata": {},
     "output_type": "execute_result"
    }
   ],
   "source": [
    "# ==\n",
    "a =15\n",
    "b= 15\n",
    "a == b"
   ]
  },
  {
   "cell_type": "code",
   "execution_count": 35,
   "id": "f63e6f5e",
   "metadata": {},
   "outputs": [
    {
     "data": {
      "text/plain": [
       "False"
      ]
     },
     "execution_count": 35,
     "metadata": {},
     "output_type": "execute_result"
    }
   ],
   "source": [
    "# ==\n",
    "a =15\n",
    "b= 15\n",
    "a != b"
   ]
  },
  {
   "cell_type": "markdown",
   "id": "8efe0759",
   "metadata": {},
   "source": [
    "# MemberShip\n",
    "it also return a boolean result\n",
    "\n",
    "is, is not"
   ]
  },
  {
   "cell_type": "code",
   "execution_count": 30,
   "id": "f8e1b379",
   "metadata": {},
   "outputs": [
    {
     "data": {
      "text/plain": [
       "False"
      ]
     },
     "execution_count": 30,
     "metadata": {},
     "output_type": "execute_result"
    }
   ],
   "source": [
    "name = \"olaitan\"\n",
    "name2 = \"Olaitan\"\n",
    "name is name2"
   ]
  },
  {
   "cell_type": "code",
   "execution_count": 31,
   "id": "edb44506",
   "metadata": {},
   "outputs": [
    {
     "data": {
      "text/plain": [
       "True"
      ]
     },
     "execution_count": 31,
     "metadata": {},
     "output_type": "execute_result"
    }
   ],
   "source": [
    "name is not name2"
   ]
  },
  {
   "cell_type": "markdown",
   "id": "83efc00d",
   "metadata": {},
   "source": [
    "# Identity\n",
    "it also return boolean result\n",
    "in, not in"
   ]
  },
  {
   "cell_type": "code",
   "execution_count": 32,
   "id": "d114ff1b",
   "metadata": {},
   "outputs": [
    {
     "data": {
      "text/plain": [
       "False"
      ]
     },
     "execution_count": 32,
     "metadata": {},
     "output_type": "execute_result"
    }
   ],
   "source": [
    "name = \"olaitan\"\n",
    "\"O\" in name"
   ]
  },
  {
   "cell_type": "code",
   "execution_count": 34,
   "id": "4ed9134d",
   "metadata": {},
   "outputs": [
    {
     "data": {
      "text/plain": [
       "True"
      ]
     },
     "execution_count": 34,
     "metadata": {},
     "output_type": "execute_result"
    }
   ],
   "source": [
    "\"O\" not in name"
   ]
  },
  {
   "cell_type": "code",
   "execution_count": null,
   "id": "98a4e5bb",
   "metadata": {},
   "outputs": [],
   "source": [
    "# Logical Operator\n",
    "it also return boolean result\n",
    "- and or"
   ]
  },
  {
   "cell_type": "code",
   "execution_count": 36,
   "id": "0e4e8c79",
   "metadata": {},
   "outputs": [
    {
     "data": {
      "text/plain": [
       "True"
      ]
     },
     "execution_count": 36,
     "metadata": {},
     "output_type": "execute_result"
    }
   ],
   "source": [
    "a = 6\n",
    "b = 8\n",
    "c = 19\n",
    "(a> b) or (a<c)"
   ]
  },
  {
   "cell_type": "code",
   "execution_count": 37,
   "id": "4de73683",
   "metadata": {},
   "outputs": [
    {
     "data": {
      "text/plain": [
       "False"
      ]
     },
     "execution_count": 37,
     "metadata": {},
     "output_type": "execute_result"
    }
   ],
   "source": [
    "(a> b) and (a<c)"
   ]
  },
  {
   "cell_type": "markdown",
   "id": "23cc0420",
   "metadata": {},
   "source": [
    "# Bitwise\n",
    "| and &"
   ]
  },
  {
   "cell_type": "code",
   "execution_count": 38,
   "id": "fd061914",
   "metadata": {},
   "outputs": [
    {
     "data": {
      "text/plain": [
       "True"
      ]
     },
     "execution_count": 38,
     "metadata": {},
     "output_type": "execute_result"
    }
   ],
   "source": [
    "a = 6\n",
    "b = 8\n",
    "c = 19\n",
    "((a> b))  |  ((a<c))"
   ]
  },
  {
   "cell_type": "code",
   "execution_count": 39,
   "id": "459c336f",
   "metadata": {},
   "outputs": [
    {
     "data": {
      "text/plain": [
       "False"
      ]
     },
     "execution_count": 39,
     "metadata": {},
     "output_type": "execute_result"
    }
   ],
   "source": [
    "a = 6\n",
    "b = 8\n",
    "c = 19\n",
    "((a> b))  &  ((a<c))"
   ]
  },
  {
   "cell_type": "code",
   "execution_count": null,
   "id": "e7119d9c",
   "metadata": {},
   "outputs": [],
   "source": []
  },
  {
   "cell_type": "code",
   "execution_count": null,
   "id": "8430a194",
   "metadata": {},
   "outputs": [],
   "source": []
  },
  {
   "cell_type": "code",
   "execution_count": null,
   "id": "1be322e2",
   "metadata": {},
   "outputs": [],
   "source": []
  },
  {
   "cell_type": "code",
   "execution_count": null,
   "id": "add697cd",
   "metadata": {},
   "outputs": [],
   "source": []
  },
  {
   "cell_type": "code",
   "execution_count": null,
   "id": "772f2789",
   "metadata": {},
   "outputs": [],
   "source": []
  },
  {
   "cell_type": "code",
   "execution_count": null,
   "id": "0316f5bb",
   "metadata": {},
   "outputs": [],
   "source": []
  },
  {
   "cell_type": "code",
   "execution_count": null,
   "id": "72c0959d",
   "metadata": {},
   "outputs": [],
   "source": []
  },
  {
   "cell_type": "markdown",
   "id": "dc3b0e73",
   "metadata": {},
   "source": [
    "\n",
    "\n",
    "1. What are the rules for naming a variable in Python?\n",
    "2. Can a variable start with a number in Python?\n",
    "3. Is Python case-sensitive when it comes to variable names?\n",
    "4. Are keywords allowed as variable names in Python?\n",
    "5. What is the purpose of using underscores (_) in variable names?\n",
    "6. How do you choose a meaningful and descriptive variable name in Python?\n",
    "7. Can a variable name contain spaces?\n",
    "8. Explain the concept of snake_case and CamelCase in Python variable naming.\n",
    "9. What is the significance of the 'self' variable in Python classes?\n",
    "10. Why is it important to choose a variable name that reflects its purpose?\n",
    "\n",
    "11. Differentiate between the '==' and 'is' operators in Python.\n",
    "12. Explain the use of the '+=', '-=', '*=', and '/=' operators in Python.\n",
    "13. What is the purpose of the '%' operator in Python?\n",
    "14. How does the '//' operator differ from the '/' operator?\n",
    "15. What is the difference between 'and' and 'or' logical operators in Python?\n",
    "16. Explain the purpose of the 'not' operator in Python.\n",
    "17. How does the 'in' operator work in Python?\n",
    "18. What is the ternary operator in Python, and how is it used?\n",
    "19. Discuss the role of the bitwise operators (&, |, ^, ~) in Python.\n",
    "20. Can you explain the difference between '==' and '!=' operators in Python?"
   ]
  },
  {
   "cell_type": "code",
   "execution_count": null,
   "id": "fd9c2567",
   "metadata": {},
   "outputs": [],
   "source": []
  },
  {
   "cell_type": "code",
   "execution_count": null,
   "id": "33b76def",
   "metadata": {},
   "outputs": [],
   "source": []
  },
  {
   "cell_type": "code",
   "execution_count": null,
   "id": "7d5fc661",
   "metadata": {},
   "outputs": [],
   "source": []
  },
  {
   "cell_type": "markdown",
   "id": "2a1825b0",
   "metadata": {},
   "source": [
    "# Data Type In Python\n",
    "Mutable: they are kind of datatype that can be modify after declaration\n",
    "1. list: (sequence type)\n",
    "2. dictionary: (mappping type)\n",
    "\n",
    "Immutable: they are kind of datatype that can not be modify after declaration\n",
    "1. number: float, int  \n",
    "2. str   (sequence type)\n",
    "3. tuple  (sequence type)\n",
    "4. set   (set type )"
   ]
  },
  {
   "cell_type": "markdown",
   "id": "1f450bd0",
   "metadata": {},
   "source": [
    "# Number "
   ]
  },
  {
   "cell_type": "code",
   "execution_count": null,
   "id": "5236a1f5",
   "metadata": {},
   "outputs": [],
   "source": [
    "a = 12 # int\n",
    "b = 12.5 # float"
   ]
  },
  {
   "cell_type": "markdown",
   "id": "6eaf8c7c",
   "metadata": {},
   "source": [
    "# Str\n",
    "Str is a sequence of characters joined together"
   ]
  },
  {
   "cell_type": "code",
   "execution_count": null,
   "id": "3ca0b480",
   "metadata": {},
   "outputs": [],
   "source": [
    "name = 'olaitan'\n",
    "name1 = \"olaitan\"\n",
    "introudtion = \"\"\"this \n",
    "                is \n",
    "                introduction \n",
    "                to python\"\"\""
   ]
  },
  {
   "cell_type": "markdown",
   "id": "b41ab1d5",
   "metadata": {},
   "source": [
    "# Indexing and Slicing\n",
    "- indexing is the process of fetching out a character from str or any other datatype in a position\n",
    "- slicing is the process of fetching out character(s) from str or any other datatype within range of positions\n",
    "\n",
    "## Note\n",
    "Data type in python has zero base index"
   ]
  },
  {
   "cell_type": "code",
   "execution_count": null,
   "id": "829399d7",
   "metadata": {},
   "outputs": [],
   "source": []
  },
  {
   "cell_type": "code",
   "execution_count": 1,
   "id": "94aba82a",
   "metadata": {},
   "outputs": [
    {
     "data": {
      "text/plain": [
       "'t'"
      ]
     },
     "execution_count": 1,
     "metadata": {},
     "output_type": "execute_result"
    }
   ],
   "source": [
    "introudtion = \"\"\"this is introduction to python\"\"\"\n",
    "# return the first t from the variable above\n",
    "introudtion[0]"
   ]
  },
  {
   "cell_type": "code",
   "execution_count": 2,
   "id": "3dc487f4",
   "metadata": {},
   "outputs": [
    {
     "data": {
      "text/plain": [
       "'t'"
      ]
     },
     "execution_count": 2,
     "metadata": {},
     "output_type": "execute_result"
    }
   ],
   "source": [
    "# return the second t from the variable above\n",
    "introudtion[10]"
   ]
  },
  {
   "cell_type": "code",
   "execution_count": 4,
   "id": "ce6f3c69",
   "metadata": {},
   "outputs": [
    {
     "data": {
      "text/plain": [
       "'o'"
      ]
     },
     "execution_count": 4,
     "metadata": {},
     "output_type": "execute_result"
    }
   ],
   "source": [
    "# return the second o from the variable above\n",
    "introudtion[18] # forward indexing"
   ]
  },
  {
   "cell_type": "code",
   "execution_count": 5,
   "id": "b3ef69ee",
   "metadata": {},
   "outputs": [
    {
     "data": {
      "text/plain": [
       "'i'"
      ]
     },
     "execution_count": 5,
     "metadata": {},
     "output_type": "execute_result"
    }
   ],
   "source": [
    "introudtion = \"\"\"this is introduction to python\"\"\"\n",
    "#return the first third i from the variable above usinf backward indexing\n",
    "introudtion[-22]"
   ]
  },
  {
   "cell_type": "code",
   "execution_count": null,
   "id": "5110fe6f",
   "metadata": {},
   "outputs": [],
   "source": [
    "# using backward indexing return y from the varibble above"
   ]
  },
  {
   "cell_type": "code",
   "execution_count": 6,
   "id": "67d71bf4",
   "metadata": {},
   "outputs": [
    {
     "data": {
      "text/plain": [
       "'natialO'"
      ]
     },
     "execution_count": 6,
     "metadata": {},
     "output_type": "execute_result"
    }
   ],
   "source": [
    "# reverse str\n",
    "name = \"Olaitan\"\n",
    "name[::-1]"
   ]
  },
  {
   "cell_type": "code",
   "execution_count": null,
   "id": "c5b1befa",
   "metadata": {},
   "outputs": [],
   "source": [
    "variablename[startpoint:   endpoint:    NOsteps]\n",
    "\n",
    "startpoint: index NO\n",
    "endpoint: posistin No"
   ]
  },
  {
   "cell_type": "code",
   "execution_count": 9,
   "id": "22160ecc",
   "metadata": {},
   "outputs": [
    {
     "data": {
      "text/plain": [
       "'is intro'"
      ]
     },
     "execution_count": 9,
     "metadata": {},
     "output_type": "execute_result"
    }
   ],
   "source": [
    "introudtion = \"\"\"this is introduction to python\"\"\"\n",
    "#  return 'is intro' from the variable above\n",
    "introudtion[5:13]"
   ]
  },
  {
   "cell_type": "code",
   "execution_count": 10,
   "id": "ab94144b",
   "metadata": {},
   "outputs": [
    {
     "data": {
      "text/plain": [
       "'ction to'"
      ]
     },
     "execution_count": 10,
     "metadata": {},
     "output_type": "execute_result"
    }
   ],
   "source": [
    "#  return 'ction to' from the variable above\n",
    "introudtion[15:23]"
   ]
  },
  {
   "cell_type": "code",
   "execution_count": 14,
   "id": "feb65db3",
   "metadata": {},
   "outputs": [
    {
     "data": {
      "text/plain": [
       "'introductio'"
      ]
     },
     "execution_count": 14,
     "metadata": {},
     "output_type": "execute_result"
    }
   ],
   "source": [
    "introudtion = \"\"\"this is introduction to python\"\"\"\n",
    "introudtion[8:19]"
   ]
  },
  {
   "cell_type": "code",
   "execution_count": 15,
   "id": "1f8a7efc",
   "metadata": {},
   "outputs": [
    {
     "data": {
      "text/plain": [
       "'itouto'"
      ]
     },
     "execution_count": 15,
     "metadata": {},
     "output_type": "execute_result"
    }
   ],
   "source": [
    "#  return 'itouto' from the variable above\n",
    "introudtion[8:19:2]"
   ]
  },
  {
   "cell_type": "code",
   "execution_count": 19,
   "id": "1f06e833",
   "metadata": {},
   "outputs": [
    {
     "data": {
      "text/plain": [
       "'s rcn h'"
      ]
     },
     "execution_count": 19,
     "metadata": {},
     "output_type": "execute_result"
    }
   ],
   "source": [
    "introudtion = \"\"\"this is introduction to python\"\"\"\n",
    "#  return 's rcn h' from the variable above\n",
    "introudtion[3:    :4]"
   ]
  },
  {
   "cell_type": "markdown",
   "id": "b0225f91",
   "metadata": {},
   "source": [
    "# Str Method in Python\n",
    "str method is a function that is associated with str object"
   ]
  },
  {
   "cell_type": "code",
   "execution_count": 20,
   "id": "12f4f2e0",
   "metadata": {},
   "outputs": [
    {
     "data": {
      "text/plain": [
       "'    tolu     '"
      ]
     },
     "execution_count": 20,
     "metadata": {},
     "output_type": "execute_result"
    }
   ],
   "source": [
    "name= \"    tolu     \"\n",
    "name"
   ]
  },
  {
   "cell_type": "code",
   "execution_count": null,
   "id": "97702e59",
   "metadata": {},
   "outputs": [],
   "source": [
    "# strip().. remove excessive white space before and after the str"
   ]
  },
  {
   "cell_type": "code",
   "execution_count": 21,
   "id": "e5ae8b4a",
   "metadata": {},
   "outputs": [
    {
     "data": {
      "text/plain": [
       "'tolu'"
      ]
     },
     "execution_count": 21,
     "metadata": {},
     "output_type": "execute_result"
    }
   ],
   "source": [
    "name.strip()"
   ]
  },
  {
   "cell_type": "code",
   "execution_count": 27,
   "id": "67d8eea1",
   "metadata": {},
   "outputs": [
    {
     "data": {
      "text/plain": [
       "'<<<???tolu?????//////'"
      ]
     },
     "execution_count": 27,
     "metadata": {},
     "output_type": "execute_result"
    }
   ],
   "source": [
    "name= \"<<<???tolu?????//////\"\n",
    "name"
   ]
  },
  {
   "cell_type": "code",
   "execution_count": 31,
   "id": "e12b9407",
   "metadata": {},
   "outputs": [
    {
     "data": {
      "text/plain": [
       "'tolu'"
      ]
     },
     "execution_count": 31,
     "metadata": {},
     "output_type": "execute_result"
    }
   ],
   "source": [
    "name.strip(\"/\").strip(\"<\").strip(\"?\")"
   ]
  },
  {
   "cell_type": "code",
   "execution_count": null,
   "id": "1e1cad03",
   "metadata": {},
   "outputs": [],
   "source": [
    "# format"
   ]
  },
  {
   "cell_type": "code",
   "execution_count": 33,
   "id": "55344e49",
   "metadata": {},
   "outputs": [
    {
     "name": "stdout",
     "output_type": "stream",
     "text": [
      "please enter your first name olaitan\n",
      "please enter your last name kazeem\n",
      "please enter your age 12\n",
      "What is the name of your school  lak\n",
      "Hello everyone, my fullname is olaitan kazeem i am 12 year olds and the name of my school is  lak\n"
     ]
    }
   ],
   "source": [
    "first_name = input(\"please enter your first name \")\n",
    "last_name = input(\"please enter your last name \")\n",
    "age = input(\"please enter your age \")\n",
    "school = input(\"What is the name of your school  \")\n",
    "\n",
    "print(\"Hello everyone, my fullname is\" , first_name, last_name, \"i am\" , age, \n",
    "     \"year olds and the name of my school is \", sch)"
   ]
  },
  {
   "cell_type": "code",
   "execution_count": 35,
   "id": "4ea75f65",
   "metadata": {},
   "outputs": [
    {
     "name": "stdout",
     "output_type": "stream",
     "text": [
      "Hello everyone, my fullname is olaitan kazeem i am 12 year olds and the name of my school is lak\n"
     ]
    }
   ],
   "source": [
    "print(\"Hello everyone, my fullname is {} {} i am {} year olds and the name of my school is {}\".format(first_name,last_name, age, school))"
   ]
  },
  {
   "cell_type": "code",
   "execution_count": 37,
   "id": "e32fb339",
   "metadata": {},
   "outputs": [
    {
     "data": {
      "text/plain": [
       "-1"
      ]
     },
     "execution_count": 37,
     "metadata": {},
     "output_type": "execute_result"
    }
   ],
   "source": [
    "# find\n",
    "name = \"kola\"\n",
    "name.find(\"z\")"
   ]
  },
  {
   "cell_type": "code",
   "execution_count": 38,
   "id": "e5956a29",
   "metadata": {},
   "outputs": [
    {
     "data": {
      "text/plain": [
       "True"
      ]
     },
     "execution_count": 38,
     "metadata": {},
     "output_type": "execute_result"
    }
   ],
   "source": [
    "# endswith:: it will return boolean result\n",
    "name = \"Damilare\"\n",
    "name.endswith(\"e\")"
   ]
  },
  {
   "cell_type": "code",
   "execution_count": 41,
   "id": "1593a1bf",
   "metadata": {},
   "outputs": [
    {
     "data": {
      "text/plain": [
       "'i love python because i can build cool artificial intelligent application with it'"
      ]
     },
     "execution_count": 41,
     "metadata": {},
     "output_type": "execute_result"
    }
   ],
   "source": [
    "var = \"i love python because i can build cool AI application with it\" \n",
    "var = var.replace(\"AI\", \"artificial intelligent\")\n",
    "var"
   ]
  },
  {
   "cell_type": "code",
   "execution_count": 43,
   "id": "3e621511",
   "metadata": {},
   "outputs": [],
   "source": [
    "# split\n",
    "\n",
    "h=var.split()"
   ]
  },
  {
   "cell_type": "code",
   "execution_count": 44,
   "id": "94e42095",
   "metadata": {},
   "outputs": [
    {
     "data": {
      "text/plain": [
       "list"
      ]
     },
     "execution_count": 44,
     "metadata": {},
     "output_type": "execute_result"
    }
   ],
   "source": [
    "type(h)"
   ]
  },
  {
   "cell_type": "code",
   "execution_count": 45,
   "id": "c3225978",
   "metadata": {},
   "outputs": [
    {
     "data": {
      "text/plain": [
       "['people', 'from', 'africa', 'are', 'black', 'like', 'tolu']"
      ]
     },
     "execution_count": 45,
     "metadata": {},
     "output_type": "execute_result"
    }
   ],
   "source": [
    "u =\"people>from>africa>are>black>like>tolu\"\n",
    "u.split(\">\")"
   ]
  },
  {
   "cell_type": "code",
   "execution_count": null,
   "id": "80a87ac3",
   "metadata": {},
   "outputs": [],
   "source": []
  },
  {
   "cell_type": "markdown",
   "id": "dad06d2b",
   "metadata": {},
   "source": [
    "# List Datatype\n",
    "mutable\n",
    "sequence dataype\n"
   ]
  },
  {
   "cell_type": "code",
   "execution_count": null,
   "id": "283a67ca",
   "metadata": {},
   "outputs": [],
   "source": [
    "# list \n",
    "list1 = [] # an empty list"
   ]
  },
  {
   "cell_type": "code",
   "execution_count": 57,
   "id": "0eeaa41f",
   "metadata": {},
   "outputs": [],
   "source": [
    "# list with elements\n",
    "list2 = [23, \"kola\", 23.7, 3+7j] # one dimensional list"
   ]
  },
  {
   "cell_type": "code",
   "execution_count": null,
   "id": "327618dc",
   "metadata": {},
   "outputs": [],
   "source": [
    "list3 = [[  2,3,4,6,7,8    ]] # "
   ]
  },
  {
   "cell_type": "code",
   "execution_count": null,
   "id": "683e96f8",
   "metadata": {},
   "outputs": [],
   "source": [
    "# nested list\n",
    "list4 = [2,   5,  [\"goat\", \"cow\", \"rat\"], \"Ada\", \"begger\", 77]"
   ]
  },
  {
   "cell_type": "markdown",
   "id": "94684ec0",
   "metadata": {},
   "source": [
    "# indexing and slicing "
   ]
  },
  {
   "cell_type": "code",
   "execution_count": 59,
   "id": "32de150b",
   "metadata": {},
   "outputs": [],
   "source": [
    "# return 2,\"goat\", \"rat\", begger\n",
    "list4 = [2,   5,  \"goat\", \"cow\", \"rat\", \"Ada\", \"begger\", 77]"
   ]
  },
  {
   "cell_type": "code",
   "execution_count": 61,
   "id": "63dde342",
   "metadata": {},
   "outputs": [
    {
     "data": {
      "text/plain": [
       "[2, 'goat', 'rat', 'begger']"
      ]
     },
     "execution_count": 61,
     "metadata": {},
     "output_type": "execute_result"
    }
   ],
   "source": [
    "list4[0:7:2]"
   ]
  },
  {
   "cell_type": "code",
   "execution_count": 68,
   "id": "32f00511",
   "metadata": {},
   "outputs": [],
   "source": [
    "# return cow\n",
    "list5 = [2,   5,  [\"goat\", \"cow\", \"rat\"], \"Ada\", \"begger\", 77]"
   ]
  },
  {
   "cell_type": "code",
   "execution_count": 70,
   "id": "54cfaf86",
   "metadata": {},
   "outputs": [
    {
     "data": {
      "text/plain": [
       "'cow'"
      ]
     },
     "execution_count": 70,
     "metadata": {},
     "output_type": "execute_result"
    }
   ],
   "source": [
    "list5[2][1]"
   ]
  },
  {
   "cell_type": "code",
   "execution_count": null,
   "id": "1012cc81",
   "metadata": {},
   "outputs": [],
   "source": [
    "list7 = [2,77,8,4,[\"A\", \"B\", \"C\", \"D\"], \"Z\", \"Y\", \"X\"]"
   ]
  },
  {
   "cell_type": "code",
   "execution_count": null,
   "id": "849d617a",
   "metadata": {},
   "outputs": [],
   "source": [
    "# return 77, 8\n",
    "# return \"A\", \"C\"\n",
    "# return \"Y\", \"X\""
   ]
  },
  {
   "cell_type": "markdown",
   "id": "a3a3126b",
   "metadata": {},
   "source": [
    "# list Method"
   ]
  },
  {
   "cell_type": "code",
   "execution_count": 71,
   "id": "0bfc916c",
   "metadata": {},
   "outputs": [
    {
     "name": "stdout",
     "output_type": "stream",
     "text": [
      "[1, 2, 3, 4]\n"
     ]
    }
   ],
   "source": [
    "# append: is used to add new element to the end of list\n",
    "w = [1,2,3]\n",
    "w.append(4)\n",
    "print(w)"
   ]
  },
  {
   "cell_type": "code",
   "execution_count": 72,
   "id": "27e5f885",
   "metadata": {},
   "outputs": [
    {
     "name": "stdout",
     "output_type": "stream",
     "text": [
      "['Ada', 'Ojo', 'Ade', 'Kemi']\n"
     ]
    }
   ],
   "source": [
    "# insert: is used to add new element specified index NO\n",
    "e = [\"Ada\", \"Ade\", \"Kemi\"]\n",
    "e.insert(1, \"Ojo\")\n",
    "print(e)"
   ]
  },
  {
   "cell_type": "code",
   "execution_count": 75,
   "id": "d737a29f",
   "metadata": {},
   "outputs": [
    {
     "name": "stdout",
     "output_type": "stream",
     "text": [
      "['Ada', 'Ade', 'Kemi', 1, 2, 3]\n"
     ]
    }
   ],
   "source": [
    "# extend: is use to add list of new elements to list\n",
    "w = [1,2,3]\n",
    "e = [\"Ada\", \"Ade\", \"Kemi\"]\n",
    "e.extend(w)\n",
    "print(e)"
   ]
  },
  {
   "cell_type": "code",
   "execution_count": 76,
   "id": "9ac496e3",
   "metadata": {},
   "outputs": [],
   "source": [
    "# w = [1,2,3]\n",
    "# e = [\"Ada\", \"Ade\", \"Kemi\"]\n",
    "# e.append(w)\n",
    "# print(e)"
   ]
  },
  {
   "cell_type": "code",
   "execution_count": 77,
   "id": "f763a92d",
   "metadata": {},
   "outputs": [
    {
     "name": "stdout",
     "output_type": "stream",
     "text": [
      "['Ada', 'Kemi', 1, 2, 3]\n"
     ]
    }
   ],
   "source": [
    "# remove\n",
    "e.remove(\"Ade\")\n",
    "print(e)"
   ]
  },
  {
   "cell_type": "code",
   "execution_count": 78,
   "id": "beae1d9a",
   "metadata": {},
   "outputs": [
    {
     "name": "stdout",
     "output_type": "stream",
     "text": [
      "['Ada', 'Kemi', 1, 2]\n"
     ]
    }
   ],
   "source": [
    "# pop: is used to remove last element or element at specified index NO\n",
    "e.pop() # remove element at the end of the list\n",
    "print(e)"
   ]
  },
  {
   "cell_type": "code",
   "execution_count": 79,
   "id": "a6fd03ea",
   "metadata": {},
   "outputs": [
    {
     "name": "stdout",
     "output_type": "stream",
     "text": [
      "['Kemi', 1, 2]\n"
     ]
    }
   ],
   "source": [
    "e.pop(0) # remove element at index zero\n",
    "print(e)"
   ]
  },
  {
   "cell_type": "code",
   "execution_count": 81,
   "id": "bddef6c6",
   "metadata": {},
   "outputs": [
    {
     "name": "stdout",
     "output_type": "stream",
     "text": [
      "[]\n"
     ]
    }
   ],
   "source": [
    "# clear: remove all the elements of the list\n",
    "e.clear()\n",
    "print(e)"
   ]
  },
  {
   "cell_type": "code",
   "execution_count": 82,
   "id": "781daef6",
   "metadata": {},
   "outputs": [
    {
     "ename": "NameError",
     "evalue": "name 'e' is not defined",
     "output_type": "error",
     "traceback": [
      "\u001b[1;31m---------------------------------------------------------------------------\u001b[0m",
      "\u001b[1;31mNameError\u001b[0m                                 Traceback (most recent call last)",
      "\u001b[1;32m~\\AppData\\Local\\Temp\\ipykernel_2708\\718719857.py\u001b[0m in \u001b[0;36m<module>\u001b[1;34m\u001b[0m\n\u001b[0;32m      1\u001b[0m \u001b[1;31m# del is use to delete list or any other datatype\u001b[0m\u001b[1;33m\u001b[0m\u001b[1;33m\u001b[0m\u001b[0m\n\u001b[0;32m      2\u001b[0m \u001b[1;32mdel\u001b[0m \u001b[0me\u001b[0m\u001b[1;33m\u001b[0m\u001b[1;33m\u001b[0m\u001b[0m\n\u001b[1;32m----> 3\u001b[1;33m \u001b[0mprint\u001b[0m\u001b[1;33m(\u001b[0m\u001b[0me\u001b[0m\u001b[1;33m)\u001b[0m\u001b[1;33m\u001b[0m\u001b[1;33m\u001b[0m\u001b[0m\n\u001b[0m",
      "\u001b[1;31mNameError\u001b[0m: name 'e' is not defined"
     ]
    }
   ],
   "source": [
    "# del is use to delete list or any other datatype\n",
    "del e\n",
    "print(e)"
   ]
  },
  {
   "cell_type": "code",
   "execution_count": 84,
   "id": "58698cbe",
   "metadata": {},
   "outputs": [
    {
     "data": {
      "text/plain": [
       "'I>Love>Python'"
      ]
     },
     "execution_count": 84,
     "metadata": {},
     "output_type": "execute_result"
    }
   ],
   "source": [
    "u = ['I', \"Love\", \"Python\"]\n",
    "\" \".join(u)"
   ]
  },
  {
   "cell_type": "code",
   "execution_count": null,
   "id": "b76c9201",
   "metadata": {},
   "outputs": [],
   "source": []
  },
  {
   "cell_type": "code",
   "execution_count": null,
   "id": "34e0eff7",
   "metadata": {},
   "outputs": [],
   "source": []
  },
  {
   "cell_type": "markdown",
   "id": "356f6c06",
   "metadata": {},
   "source": [
    "# Data Modifying in List Datatype"
   ]
  },
  {
   "cell_type": "code",
   "execution_count": 2,
   "id": "8a38cdb6",
   "metadata": {},
   "outputs": [
    {
     "name": "stdout",
     "output_type": "stream",
     "text": [
      "[1, 2, 3, 4, 'five']\n"
     ]
    }
   ],
   "source": [
    "# change the element 5 from the list below to five\n",
    "y = [1, 2,3,4,5]\n",
    "y[-1] = \"five\"\n",
    "print(y)"
   ]
  },
  {
   "cell_type": "code",
   "execution_count": null,
   "id": "6683f126",
   "metadata": {},
   "outputs": [],
   "source": []
  },
  {
   "cell_type": "code",
   "execution_count": null,
   "id": "aba205b3",
   "metadata": {},
   "outputs": [],
   "source": []
  },
  {
   "cell_type": "code",
   "execution_count": null,
   "id": "00c02061",
   "metadata": {},
   "outputs": [],
   "source": []
  },
  {
   "cell_type": "code",
   "execution_count": null,
   "id": "c47bc2aa",
   "metadata": {},
   "outputs": [],
   "source": []
  },
  {
   "cell_type": "code",
   "execution_count": null,
   "id": "2223bf9b",
   "metadata": {},
   "outputs": [],
   "source": []
  },
  {
   "cell_type": "code",
   "execution_count": 5,
   "id": "63853dd3",
   "metadata": {},
   "outputs": [
    {
     "name": "stdout",
     "output_type": "stream",
     "text": [
      "[2, 'five', 'Elephant', 'Horse', 'rat', 'Ada', 'begger', 77]\n"
     ]
    }
   ],
   "source": [
    "# from the list below, modify 5, goat and cow to five, elephant, and horse respectively\n",
    "list4 = [2,   5,  \"goat\", \"cow\", \"rat\", \"Ada\", \"begger\", 77]\n",
    "list4[1:4] = [\"five\", \"Elephant\", \"Horse\"]\n",
    "print(list4)"
   ]
  },
  {
   "cell_type": "code",
   "execution_count": 8,
   "id": "b263fc5d",
   "metadata": {},
   "outputs": [
    {
     "name": "stdout",
     "output_type": "stream",
     "text": [
      "[2, 5, ['goat', 'cow', 'Rabbit'], 'Ada', 'begger', 77]\n"
     ]
    }
   ],
   "source": [
    "# modify rat from the list below to Rabbit\n",
    "list5 = [2,   5,  [\"goat\", \"cow\", \"rat\"], \"Ada\", \"begger\", 77]\n",
    "list5[2][-1] = \"Rabbit\"\n",
    "print(list5)"
   ]
  },
  {
   "cell_type": "code",
   "execution_count": 12,
   "id": "b4165a85",
   "metadata": {},
   "outputs": [
    {
     "name": "stdout",
     "output_type": "stream",
     "text": [
      "[2, 77, 8, 4, ['A', 'B', 'C', 'D'], 'M', 'N', 'X']\n"
     ]
    }
   ],
   "source": [
    "# modify the Z and Y to M and N\n",
    "list7 = [2,77,8,4,[\"A\", \"B\", \"C\", \"D\"], \"Z\", \"Y\", \"X\"]\n",
    "list7[-3:-1] = [\"M\", \"N\"]\n",
    "print(list7)"
   ]
  },
  {
   "cell_type": "markdown",
   "id": "1cc9abee",
   "metadata": {},
   "source": [
    "# Tuple"
   ]
  },
  {
   "cell_type": "code",
   "execution_count": null,
   "id": "a24e8557",
   "metadata": {},
   "outputs": [],
   "source": [
    "tup1 = () # this is an empty tuple"
   ]
  },
  {
   "cell_type": "code",
   "execution_count": 13,
   "id": "62eac086",
   "metadata": {},
   "outputs": [],
   "source": [
    "tup2 = ([1,2,3], 5, \"olaitan\", (8,7,0)) # tuple with different datatype"
   ]
  },
  {
   "cell_type": "code",
   "execution_count": 14,
   "id": "4347ff18",
   "metadata": {},
   "outputs": [
    {
     "data": {
      "text/plain": [
       "tuple"
      ]
     },
     "execution_count": 14,
     "metadata": {},
     "output_type": "execute_result"
    }
   ],
   "source": [
    "type(tup2)"
   ]
  },
  {
   "cell_type": "code",
   "execution_count": 16,
   "id": "cfa181c0",
   "metadata": {},
   "outputs": [
    {
     "ename": "TypeError",
     "evalue": "'tuple' object does not support item assignment",
     "output_type": "error",
     "traceback": [
      "\u001b[1;31m---------------------------------------------------------------------------\u001b[0m",
      "\u001b[1;31mTypeError\u001b[0m                                 Traceback (most recent call last)",
      "\u001b[1;32m~\\AppData\\Local\\Temp\\ipykernel_11636\\1225110608.py\u001b[0m in \u001b[0;36m<module>\u001b[1;34m\u001b[0m\n\u001b[0;32m      1\u001b[0m \u001b[1;31m# from the tuple return 3 and as well return 8\u001b[0m\u001b[1;33m\u001b[0m\u001b[1;33m\u001b[0m\u001b[0m\n\u001b[1;32m----> 2\u001b[1;33m \u001b[0mtup2\u001b[0m\u001b[1;33m[\u001b[0m\u001b[1;36m1\u001b[0m\u001b[1;33m]\u001b[0m \u001b[1;33m=\u001b[0m \u001b[1;34m\"five\"\u001b[0m\u001b[1;33m\u001b[0m\u001b[1;33m\u001b[0m\u001b[0m\n\u001b[0m",
      "\u001b[1;31mTypeError\u001b[0m: 'tuple' object does not support item assignment"
     ]
    }
   ],
   "source": [
    "# from the tuple return 3 and as well return 8\n",
    "tup2[1] = \"five\""
   ]
  },
  {
   "cell_type": "code",
   "execution_count": 18,
   "id": "a507a57f",
   "metadata": {},
   "outputs": [
    {
     "name": "stdout",
     "output_type": "stream",
     "text": [
      "([1, 2, 3], 5, 'olaitan', (3, 7, 0), 'ola', 'james', 'smiths')\n"
     ]
    }
   ],
   "source": [
    "tup3=(\"ola\", \"james\", \"smiths\")\n",
    "y=tup2 + tup3\n",
    "print(y)"
   ]
  },
  {
   "cell_type": "markdown",
   "id": "b3de2662",
   "metadata": {},
   "source": [
    "# Set"
   ]
  },
  {
   "cell_type": "code",
   "execution_count": 28,
   "id": "055388d6",
   "metadata": {},
   "outputs": [
    {
     "name": "stdout",
     "output_type": "stream",
     "text": [
      "[1, 2, 1, 2, 1]\n"
     ]
    }
   ],
   "source": [
    "set1 = {1,2,3,4,5}\n",
    "list1 =[1,2,1,2,1]\n",
    "print(list1)"
   ]
  },
  {
   "cell_type": "code",
   "execution_count": 29,
   "id": "40c6183b",
   "metadata": {},
   "outputs": [
    {
     "name": "stdout",
     "output_type": "stream",
     "text": [
      "{1, 2}\n"
     ]
    }
   ],
   "source": [
    "set1 ={1,2,1,2,1}\n",
    "print(set1)"
   ]
  },
  {
   "cell_type": "markdown",
   "id": "37ad3f90",
   "metadata": {},
   "source": [
    "# dictionary\n",
    "dictionary has a key and value pair relationship"
   ]
  },
  {
   "cell_type": "code",
   "execution_count": 30,
   "id": "781ee2a4",
   "metadata": {},
   "outputs": [],
   "source": [
    "dict1 = {\"Name\":\"Olaitan\", \"Age\":12, \"address\":\"New York\"}"
   ]
  },
  {
   "cell_type": "code",
   "execution_count": 31,
   "id": "eedaea3a",
   "metadata": {},
   "outputs": [
    {
     "data": {
      "text/plain": [
       "dict"
      ]
     },
     "execution_count": 31,
     "metadata": {},
     "output_type": "execute_result"
    }
   ],
   "source": [
    "type(dict1)"
   ]
  },
  {
   "cell_type": "code",
   "execution_count": 32,
   "id": "4becf77b",
   "metadata": {},
   "outputs": [
    {
     "data": {
      "text/plain": [
       "'Olaitan'"
      ]
     },
     "execution_count": 32,
     "metadata": {},
     "output_type": "execute_result"
    }
   ],
   "source": [
    "# fetch out olaitan from the dict above\n",
    "dict1[\"Name\"]"
   ]
  },
  {
   "cell_type": "code",
   "execution_count": 33,
   "id": "27ab1d35",
   "metadata": {},
   "outputs": [
    {
     "data": {
      "text/plain": [
       "12"
      ]
     },
     "execution_count": 33,
     "metadata": {},
     "output_type": "execute_result"
    }
   ],
   "source": [
    "dict1[\"Age\"]"
   ]
  },
  {
   "cell_type": "code",
   "execution_count": 35,
   "id": "aebc2fc9",
   "metadata": {},
   "outputs": [],
   "source": [
    "dict1 = {\"Name\":[\"Olaitan\", \"Smith\",\"Ada\", \"James\"], \"Age\":[12,34,56,23], \n",
    "         \"address\":[\"New York\", \"Olowoira\", \"lekki\", \"Begger\"]}"
   ]
  },
  {
   "cell_type": "code",
   "execution_count": 37,
   "id": "b2d7ae14",
   "metadata": {},
   "outputs": [
    {
     "data": {
      "text/plain": [
       "'Olowoira'"
      ]
     },
     "execution_count": 37,
     "metadata": {},
     "output_type": "execute_result"
    }
   ],
   "source": [
    "# return all the address from the dicts above\n",
    "# return olowoira from the dicts above\n",
    "dict1[\"address\"][1]"
   ]
  },
  {
   "cell_type": "code",
   "execution_count": 39,
   "id": "5ae92471",
   "metadata": {},
   "outputs": [
    {
     "name": "stdout",
     "output_type": "stream",
     "text": [
      "{'Name': ['Olaitan', 'Smith', 'Ada', 'James'], 'Age': [12, 34, 56, 23], 'address': ['New York', 'Olowoira', 'lekki', 'Begger'], 'Salary': [28373, 393773, 2763, 3772]}\n"
     ]
    }
   ],
   "source": [
    "# updating existing dictionary\n",
    "dict1[\"Salary\"]= [28373, 393773, 2763, 3772]\n",
    "print(dict1)"
   ]
  },
  {
   "cell_type": "code",
   "execution_count": null,
   "id": "792cdbec",
   "metadata": {},
   "outputs": [],
   "source": []
  },
  {
   "cell_type": "code",
   "execution_count": 40,
   "id": "dda4e24a",
   "metadata": {},
   "outputs": [
    {
     "name": "stdout",
     "output_type": "stream",
     "text": [
      "{'Age': [12, 34, 56, 23], 'address': ['New York', 'Olowoira', 'lekki', 'Begger'], 'Salary': [28373, 393773, 2763, 3772]}\n"
     ]
    }
   ],
   "source": [
    "dict1.pop(\"Name\")# this will the all Names\n",
    "print(dict1)"
   ]
  },
  {
   "cell_type": "code",
   "execution_count": 42,
   "id": "90209717",
   "metadata": {},
   "outputs": [
    {
     "data": {
      "text/plain": [
       "'lekki'"
      ]
     },
     "execution_count": 42,
     "metadata": {},
     "output_type": "execute_result"
    }
   ],
   "source": [
    "dict1[\"address\"].pop(2)"
   ]
  },
  {
   "cell_type": "code",
   "execution_count": 43,
   "id": "25c13cc4",
   "metadata": {},
   "outputs": [
    {
     "data": {
      "text/plain": [
       "{'Age': [12, 34, 56, 23],\n",
       " 'address': ['New York', 'Olowoira', 'Begger'],\n",
       " 'Salary': [28373, 393773, 2763, 3772]}"
      ]
     },
     "execution_count": 43,
     "metadata": {},
     "output_type": "execute_result"
    }
   ],
   "source": [
    "dict1"
   ]
  },
  {
   "cell_type": "code",
   "execution_count": null,
   "id": "51b44f4f",
   "metadata": {},
   "outputs": [],
   "source": []
  },
  {
   "cell_type": "code",
   "execution_count": null,
   "id": "0baeed3e",
   "metadata": {},
   "outputs": [],
   "source": []
  },
  {
   "cell_type": "code",
   "execution_count": null,
   "id": "211d06aa",
   "metadata": {},
   "outputs": [],
   "source": []
  },
  {
   "cell_type": "markdown",
   "id": "a8e75d8f",
   "metadata": {},
   "source": [
    "### Create a Dictionary of List\n",
    "\n",
    "- create a dictionary with the following information\n",
    "- fruit as key with the following values (apple, banana, orange)\n",
    "- color as key with the following values (red, yellow, orange)\n",
    "- number as key with the following values (1,2,3,4,5)\n",
    "- cities as key with the following values (\"New York\", \"California\", \"New Jersey\")\n",
    "\n",
    "\n",
    "\n",
    "\n",
    "\n",
    "### Practice Questions:\n",
    "1. Access the second element in the \"fruits\" list.\n",
    "2. Retrieve the list of colors from the dictionary.\n",
    "3. Get the last number from the \"numbers\" list.\n",
    "4. Access the third city from the \"cities\" list.\n",
    "5. Change the first element in the \"fruits\" list to \"grape\".\n",
    "6. Add a new color, \"green\", to the list of colors.\n",
    "7. Remove the second element from the \"numbers\" list.\n",
    "8. Check if the key \"animals\" is present in the dictionary.\n",
    "9. Print all keys in the dictionary.\n",
    "10. Slice the \"fruits\" list to get the elements from index 1 to 2.\n",
    "11. Extend the \"fruits\" list by adding [\"grape\", \"watermelon\"] to it.\n",
    "12. Check the length of the \"cities\" list.\n",
    "13. Remove the \"colors\" key and its associated list from the dictionary.\n",
    "14. Create a new key, \"animals\", and assign it a list containing [\"lion\", \"elephant\", \"zebra\"].\n",
    "15. Reverse the order of elements in the \"numbers\" list.\n"
   ]
  },
  {
   "cell_type": "code",
   "execution_count": null,
   "id": "a2711e48",
   "metadata": {},
   "outputs": [],
   "source": []
  },
  {
   "cell_type": "code",
   "execution_count": null,
   "id": "dc1491a6",
   "metadata": {},
   "outputs": [],
   "source": []
  },
  {
   "cell_type": "code",
   "execution_count": null,
   "id": "2056bbc7",
   "metadata": {},
   "outputs": [],
   "source": []
  },
  {
   "cell_type": "code",
   "execution_count": null,
   "id": "1408b5c0",
   "metadata": {},
   "outputs": [],
   "source": []
  },
  {
   "cell_type": "markdown",
   "id": "5684e0e1",
   "metadata": {},
   "source": [
    "# Control Flow in Python\n",
    "\n",
    "- control flow are order at which pyton code is been execute.\n",
    "\n",
    "1. conditional Statement\n",
    "   a. if\n",
    "    b. elif\n",
    "    c. else\n",
    "    \n",
    "2. Loop Statement\n",
    "     a. For loop\n",
    "     b. While loop\n",
    "     \n",
    "3. Loop Control Statement\n",
    "     a. break\n",
    "     b. continue\n",
    "  \n",
    "4. Error Handling Statement\n",
    "     a.try\n",
    "     b. except\n",
    "     c. finally"
   ]
  },
  {
   "cell_type": "code",
   "execution_count": 4,
   "id": "357e69e1",
   "metadata": {},
   "outputs": [
    {
     "name": "stdout",
     "output_type": "stream",
     "text": [
      "we may need to hear from the boss\n"
     ]
    }
   ],
   "source": [
    "a = 6\n",
    "if a <2:\n",
    "    print(\"we are good to go\")    \n",
    "    \n",
    "else:\n",
    "    print(\"we may need to hear from the boss\")\n"
   ]
  },
  {
   "cell_type": "code",
   "execution_count": 5,
   "id": "ae95b413",
   "metadata": {},
   "outputs": [
    {
     "name": "stdout",
     "output_type": "stream",
     "text": [
      "we have to wait because the boss asked to\n"
     ]
    }
   ],
   "source": [
    "b = 3\n",
    "if b>4:\n",
    "    print(\"some set of people has gone\")\n",
    "elif b==7:\n",
    "    print(\"we are still waiting for the orders\")\n",
    "elif b <7:\n",
    "    print(\"we have to wait because the boss asked us to\")\n",
    "else:\n",
    "    print(\"what did you think we do?\")"
   ]
  },
  {
   "cell_type": "code",
   "execution_count": 6,
   "id": "c572fef4",
   "metadata": {},
   "outputs": [
    {
     "name": "stdout",
     "output_type": "stream",
     "text": [
      "1\n",
      "2\n",
      "3\n",
      "4\n",
      "5\n",
      "6\n",
      "7\n",
      "8\n"
     ]
    }
   ],
   "source": [
    "# for \n",
    "lis = [1,2,3,4,5,6,7,8]\n",
    "for element in lis:\n",
    "    print(element)"
   ]
  },
  {
   "cell_type": "code",
   "execution_count": 8,
   "id": "ce2a317a",
   "metadata": {},
   "outputs": [],
   "source": [
    "ages = [1,2,3,4,5,6,7,8,9,10,11,12,13,14,15,16,17,18,19,20]\n",
    "# from the list of ages above, sepetate the odd and the even ages in different list\n",
    "odd_age = []\n",
    "even_age = []\n",
    "\n",
    "for age in ages:\n",
    "    if age%2==0:\n",
    "        even_age.append(age)\n",
    "    else:\n",
    "        odd_age.append(age)"
   ]
  },
  {
   "cell_type": "code",
   "execution_count": 9,
   "id": "d190fe39",
   "metadata": {},
   "outputs": [
    {
     "name": "stdout",
     "output_type": "stream",
     "text": [
      "[1, 3, 5, 7, 9, 11, 13, 15, 17, 19]\n"
     ]
    }
   ],
   "source": [
    "print(odd_age)"
   ]
  },
  {
   "cell_type": "code",
   "execution_count": 10,
   "id": "80744cfb",
   "metadata": {},
   "outputs": [
    {
     "name": "stdout",
     "output_type": "stream",
     "text": [
      "[2, 4, 6, 8, 10, 12, 14, 16, 18, 20]\n"
     ]
    }
   ],
   "source": [
    "print(even_age)"
   ]
  },
  {
   "cell_type": "code",
   "execution_count": 18,
   "id": "acdc4704",
   "metadata": {},
   "outputs": [
    {
     "name": "stdout",
     "output_type": "stream",
     "text": [
      "we are inside while loop 10\n",
      "we are inside while loop 9\n",
      "we are inside while loop 8\n",
      "we are inside while loop 7\n",
      "we are inside while loop 6\n",
      "we are inside while loop 5\n",
      "we are inside while loop 4\n"
     ]
    }
   ],
   "source": [
    "a = 10\n",
    "while a>3:\n",
    "    print(\"we are inside while loop {}\".format(a))\n",
    "    a-=1"
   ]
  },
  {
   "cell_type": "code",
   "execution_count": null,
   "id": "75076d31",
   "metadata": {},
   "outputs": [],
   "source": []
  },
  {
   "cell_type": "code",
   "execution_count": 19,
   "id": "916194a5",
   "metadata": {},
   "outputs": [],
   "source": [
    "ages = [1,2,3,4,5,6,7,8,9,10,11,12,13,14,15,16,17,18,19,20]\n",
    "# from the list of ages above, sepetate the odd and the even ages in different list\n",
    "odd_age = []\n",
    "even_age = []\n",
    "\n",
    "for age in ages:\n",
    "    if age%2==0:\n",
    "        even_age.append(age)\n",
    "    else:\n",
    "        odd_age.append(age)\n",
    "    if age==14:\n",
    "        break"
   ]
  },
  {
   "cell_type": "code",
   "execution_count": 20,
   "id": "6a98c0a4",
   "metadata": {},
   "outputs": [
    {
     "data": {
      "text/plain": [
       "[1, 3, 5, 7, 9, 11, 13]"
      ]
     },
     "execution_count": 20,
     "metadata": {},
     "output_type": "execute_result"
    }
   ],
   "source": [
    "odd_age"
   ]
  },
  {
   "cell_type": "code",
   "execution_count": 21,
   "id": "58376c49",
   "metadata": {},
   "outputs": [
    {
     "data": {
      "text/plain": [
       "[2, 4, 6, 8, 10, 12, 14]"
      ]
     },
     "execution_count": 21,
     "metadata": {},
     "output_type": "execute_result"
    }
   ],
   "source": [
    "even_age"
   ]
  },
  {
   "cell_type": "code",
   "execution_count": 24,
   "id": "6247f1ee",
   "metadata": {},
   "outputs": [],
   "source": [
    "ages = [1,2,3,4,5,6,7,8,9,10,11,12,13,14,15,16,17,18,19,20]\n",
    "# from the list of ages above, sepetate the odd and the even ages in different list\n",
    "odd_age = []\n",
    "even_age = []\n",
    "\n",
    "for age in ages:\n",
    "    if (age==14) or (age==13):\n",
    "        continue\n",
    "        \n",
    "    if age%2==0:\n",
    "        even_age.append(age)\n",
    "    else:\n",
    "        odd_age.append(age)\n",
    "    "
   ]
  },
  {
   "cell_type": "code",
   "execution_count": 25,
   "id": "13c7ef64",
   "metadata": {},
   "outputs": [
    {
     "data": {
      "text/plain": [
       "[1, 3, 5, 7, 9, 11, 15, 17, 19]"
      ]
     },
     "execution_count": 25,
     "metadata": {},
     "output_type": "execute_result"
    }
   ],
   "source": [
    "odd_age"
   ]
  },
  {
   "cell_type": "code",
   "execution_count": 26,
   "id": "e6785e98",
   "metadata": {},
   "outputs": [
    {
     "data": {
      "text/plain": [
       "[2, 4, 6, 8, 10, 12, 16, 18, 20]"
      ]
     },
     "execution_count": 26,
     "metadata": {},
     "output_type": "execute_result"
    }
   ],
   "source": [
    "even_age"
   ]
  },
  {
   "cell_type": "code",
   "execution_count": null,
   "id": "afe3ab91",
   "metadata": {},
   "outputs": [],
   "source": []
  },
  {
   "cell_type": "code",
   "execution_count": null,
   "id": "92b25e26",
   "metadata": {},
   "outputs": [],
   "source": []
  },
  {
   "cell_type": "markdown",
   "id": "e70de490",
   "metadata": {},
   "source": [
    "# Control flow in Python\n",
    "are order at which python code is been execute\n",
    "\n",
    "1. Conditional Statement\n",
    "    a. if \n",
    "    b. elif\n",
    "    c. else\n",
    "   \n",
    " 2. Loop Statement\n",
    "     a. for\n",
    "     b. while     \n",
    " 3. Loop Control Statement\n",
    "     a. break\n",
    "     b. continue\n",
    " 4. Error Handling Statement\n",
    "     a. try\n",
    "     b. except\n",
    "     c. finally\n",
    "     \n",
    "     "
   ]
  },
  {
   "cell_type": "code",
   "execution_count": 3,
   "id": "075b32fd",
   "metadata": {},
   "outputs": [
    {
     "name": "stdout",
     "output_type": "stream",
     "text": [
      "we need to wait till 25th of the month\n"
     ]
    }
   ],
   "source": [
    "# if\n",
    "day = 2\n",
    "if day  ==  25:\n",
    "    print(\"merry christmax\")\n",
    "else:\n",
    "    print(\"we need to wait till 25th of the month\")"
   ]
  },
  {
   "cell_type": "code",
   "execution_count": 8,
   "id": "27ada823",
   "metadata": {},
   "outputs": [
    {
     "name": "stdout",
     "output_type": "stream",
     "text": [
      "merry christmax MR lagbaja\n"
     ]
    }
   ],
   "source": [
    "day = 25\n",
    "gender = \"male\"\n",
    "\n",
    "if (day==25) and (gender==\"female\"):\n",
    "    print(\"merry christmax miss lagbaja\")\n",
    "\n",
    "elif (day==25) and (gender==\"male\"):\n",
    "    print(\"merry christmax MR lagbaja\")\n",
    "    \n",
    "elif (day==25) and (gender==\"male\"):\n",
    "    print(\"Mr lagbaja, you may have wait till 25th  of the month\")\n",
    "    \n",
    "elif (day<25) and (gender==\"female\"):\n",
    "    print(\"Miss lagbaja, you may have wait till 25th  of the month\")\n",
    "    \n",
    "else:\n",
    "    print(\"i need more data\")"
   ]
  },
  {
   "cell_type": "code",
   "execution_count": 9,
   "id": "23f1ebc7",
   "metadata": {},
   "outputs": [
    {
     "name": "stdout",
     "output_type": "stream",
     "text": [
      "merry christmax MR lagbaja\n",
      "Mr lagbaja, you may have to wait till 25th  of the month\n",
      "i need more data\n"
     ]
    }
   ],
   "source": [
    "day = 25\n",
    "gender = \"male\"\n",
    "\n",
    "if (day==25) and (gender==\"female\"):\n",
    "    print(\"merry christmax miss lagbaja\")\n",
    "\n",
    "if (day==25) and (gender==\"male\"):\n",
    "    print(\"merry christmax MR lagbaja\")\n",
    "    \n",
    "if (day==25) and (gender==\"male\"):\n",
    "    print(\"Mr lagbaja, you may have to wait till 25th  of the month\")\n",
    "    \n",
    "if (day<25) and (gender==\"female\"):\n",
    "    print(\"Miss lagbaja, you may have wait till 25th  of the month\")\n",
    "    \n",
    "else:\n",
    "    print(\"i need more data\")"
   ]
  },
  {
   "cell_type": "markdown",
   "id": "e088ee54",
   "metadata": {},
   "source": [
    "# NESTED IF"
   ]
  },
  {
   "cell_type": "code",
   "execution_count": 16,
   "id": "05803638",
   "metadata": {},
   "outputs": [
    {
     "name": "stdout",
     "output_type": "stream",
     "text": [
      "please enter your age to continue 20\n",
      "Do you have pvc YeS\n",
      "enter the year no of your pvc2019\n",
      "please enter inside to cast your vote\n"
     ]
    }
   ],
   "source": [
    "age = int(input(\"please enter your age to continue \"))\n",
    "\n",
    "if age>=18:\n",
    "    pvc = input(\"Do you have pvc \" ).upper()\n",
    "    if pvc==\"YES\":\n",
    "        pvc_Year_no = int(input(\"enter the year no of your pvc\"))\n",
    "        if pvc_Year_no<2010:\n",
    "            print(\"Pvc expired, please visit the nearest office to redo\")\n",
    "        else:\n",
    "            print(\"please enter inside to cast your vote\")\n",
    "    else:\n",
    "        print(\"oh, why, even though you are more the 18?. please go and register for pvc\")\n",
    "\n",
    "else:\n",
    "    print(\"come back when you are 18 \")"
   ]
  },
  {
   "cell_type": "code",
   "execution_count": 18,
   "id": "6c79ca21",
   "metadata": {},
   "outputs": [],
   "source": [
    "pin = \"1111\""
   ]
  },
  {
   "cell_type": "code",
   "execution_count": 19,
   "id": "efd2ee91",
   "metadata": {},
   "outputs": [
    {
     "data": {
      "text/plain": [
       "4"
      ]
     },
     "execution_count": 19,
     "metadata": {},
     "output_type": "execute_result"
    }
   ],
   "source": [
    "len(pin)"
   ]
  },
  {
   "cell_type": "code",
   "execution_count": null,
   "id": "ea762fa2",
   "metadata": {},
   "outputs": [],
   "source": [
    "HARD LABOR TO BEGIN WITH, BUT THEN GLITTERING TALENT TOLD"
   ]
  },
  {
   "cell_type": "code",
   "execution_count": 21,
   "id": "b0b5a345",
   "metadata": {},
   "outputs": [
    {
     "name": "stdout",
     "output_type": "stream",
     "text": [
      "o\n",
      "l\n",
      "a\n",
      "i\n",
      "t\n",
      "a\n",
      "n\n"
     ]
    }
   ],
   "source": [
    "# FOR \n",
    "name = \"olaitan\"\n",
    " ahar in name:\n",
    "    print(char)"
   ]
  },
  {
   "cell_type": "code",
   "execution_count": 25,
   "id": "43ad4876",
   "metadata": {},
   "outputs": [],
   "source": [
    "all_names = [\"olaitan\", \"james\", \"smith\", \"ada\", \"ade\", \"alao\", \"Lukman\", \"richael\", \"moji\", \"kazeem\"]\n",
    "name_with_less_char = []\n",
    "name_with_more_char = []\n",
    "\n",
    "for name in all_names:\n",
    "    if len(name)>5:\n",
    "      name_with_more_char.append(name)  \n",
    "    else:\n",
    "      name_with_less_char.append(name)  \n",
    "        "
   ]
  },
  {
   "cell_type": "code",
   "execution_count": 26,
   "id": "7b452a26",
   "metadata": {},
   "outputs": [
    {
     "name": "stdout",
     "output_type": "stream",
     "text": [
      "[]\n"
     ]
    }
   ],
   "source": [
    "print(name_with_less_char)"
   ]
  },
  {
   "cell_type": "code",
   "execution_count": 27,
   "id": "30b4c771",
   "metadata": {},
   "outputs": [
    {
     "name": "stdout",
     "output_type": "stream",
     "text": [
      "[]\n"
     ]
    }
   ],
   "source": [
    "print(name_with_more_char)"
   ]
  },
  {
   "cell_type": "code",
   "execution_count": 29,
   "id": "388e9621",
   "metadata": {},
   "outputs": [],
   "source": []
  },
  {
   "cell_type": "code",
   "execution_count": 30,
   "id": "05baa470",
   "metadata": {},
   "outputs": [
    {
     "name": "stdout",
     "output_type": "stream",
     "text": [
      "['james', 'smith', 'ada', 'ade', 'alao', 'moji']\n"
     ]
    }
   ],
   "source": [
    "print(name_with_less_char)"
   ]
  },
  {
   "cell_type": "code",
   "execution_count": 31,
   "id": "3dcefe82",
   "metadata": {},
   "outputs": [
    {
     "name": "stdout",
     "output_type": "stream",
     "text": [
      "['olaitan', 'Lukman', 'richael', 'kazeem']\n"
     ]
    }
   ],
   "source": [
    "print(name_with_more_char)"
   ]
  },
  {
   "cell_type": "code",
   "execution_count": null,
   "id": "a51cc734",
   "metadata": {},
   "outputs": [],
   "source": [
    "for i in 5:\n",
    "    print(i)"
   ]
  },
  {
   "cell_type": "code",
   "execution_count": null,
   "id": "3acb9dda",
   "metadata": {},
   "outputs": [],
   "source": [
    "range(start, stop, step)"
   ]
  },
  {
   "cell_type": "code",
   "execution_count": 36,
   "id": "a655b86d",
   "metadata": {},
   "outputs": [
    {
     "name": "stdout",
     "output_type": "stream",
     "text": [
      "0\n",
      "3\n",
      "6\n",
      "9\n",
      "12\n",
      "15\n",
      "18\n"
     ]
    }
   ],
   "source": [
    "for i in range(0, 20, 3):\n",
    "    print(i)"
   ]
  },
  {
   "cell_type": "code",
   "execution_count": 15,
   "id": "73961c1d",
   "metadata": {},
   "outputs": [],
   "source": [
    "ages = range(1, 21)\n",
    "odd_age = []\n",
    "even_age = []"
   ]
  },
  {
   "cell_type": "code",
   "execution_count": 40,
   "id": "9d6163a3",
   "metadata": {},
   "outputs": [],
   "source": [
    "for i in ages:\n",
    "    if i%2 == 0:\n",
    "        even_age.append(i)\n",
    "    else:\n",
    "        odd_age.append(i)"
   ]
  },
  {
   "cell_type": "code",
   "execution_count": 41,
   "id": "5a9d6c6f",
   "metadata": {},
   "outputs": [
    {
     "data": {
      "text/plain": [
       "[1, 3, 5, 7, 9, 11, 13, 15, 17, 19]"
      ]
     },
     "execution_count": 41,
     "metadata": {},
     "output_type": "execute_result"
    }
   ],
   "source": [
    "odd_age"
   ]
  },
  {
   "cell_type": "code",
   "execution_count": 42,
   "id": "440bd4de",
   "metadata": {},
   "outputs": [
    {
     "data": {
      "text/plain": [
       "[2, 4, 6, 8, 10, 12, 14, 16, 18, 20]"
      ]
     },
     "execution_count": 42,
     "metadata": {},
     "output_type": "execute_result"
    }
   ],
   "source": [
    "even_age"
   ]
  },
  {
   "cell_type": "code",
   "execution_count": 16,
   "id": "bd6a2848",
   "metadata": {},
   "outputs": [],
   "source": [
    "for i in ages:\n",
    "    if i%2 == 0:\n",
    "        even_age.append(i)\n",
    "    else:\n",
    "        odd_age.append(i)\n",
    "    if i== 14:\n",
    "        break"
   ]
  },
  {
   "cell_type": "code",
   "execution_count": 17,
   "id": "ddecb2eb",
   "metadata": {},
   "outputs": [
    {
     "data": {
      "text/plain": [
       "[1, 3, 5, 7, 9, 11, 13]"
      ]
     },
     "execution_count": 17,
     "metadata": {},
     "output_type": "execute_result"
    }
   ],
   "source": [
    "odd_age"
   ]
  },
  {
   "cell_type": "code",
   "execution_count": 18,
   "id": "5f9bb66d",
   "metadata": {},
   "outputs": [
    {
     "data": {
      "text/plain": [
       "[2, 4, 6, 8, 10, 12, 14]"
      ]
     },
     "execution_count": 18,
     "metadata": {},
     "output_type": "execute_result"
    }
   ],
   "source": [
    "even_age"
   ]
  },
  {
   "cell_type": "code",
   "execution_count": 44,
   "id": "d821857c",
   "metadata": {},
   "outputs": [
    {
     "name": "stdout",
     "output_type": "stream",
     "text": [
      "we are inside while loop 5\n",
      "we are inside while loop 6\n",
      "we are inside while loop 7\n",
      "we are inside while loop 8\n",
      "we are inside while loop 9\n",
      "we are inside while loop 10\n"
     ]
    }
   ],
   "source": [
    "# while\n",
    "\n",
    "a = 5\n",
    "\n",
    "while a<=10:\n",
    "    print(f\"we are inside while loop {a}\")\n",
    "    a+=1"
   ]
  },
  {
   "cell_type": "code",
   "execution_count": 20,
   "id": "bea0f45e",
   "metadata": {},
   "outputs": [],
   "source": [
    "import random\n",
    "random.seed(7)\n",
    "secret_number =random.randint(1, 100)"
   ]
  },
  {
   "cell_type": "code",
   "execution_count": 21,
   "id": "89ee967a",
   "metadata": {},
   "outputs": [
    {
     "data": {
      "text/plain": [
       "42"
      ]
     },
     "execution_count": 21,
     "metadata": {},
     "output_type": "execute_result"
    }
   ],
   "source": [
    "secret_number"
   ]
  },
  {
   "cell_type": "code",
   "execution_count": 19,
   "id": "56553029",
   "metadata": {},
   "outputs": [
    {
     "name": "stdout",
     "output_type": "stream",
     "text": [
      "guess any number to win xmax chiecken 42\n",
      "Congratulation, you just won yourself a Nigeria chicken\n"
     ]
    }
   ],
   "source": [
    "counter = 0\n",
    "while True:\n",
    "    guess_num = int (input(\"guess any number to win xmax chiecken \"))\n",
    "    if guess_num==secret_number:\n",
    "        print(\"Congratulation, you just won yourself a Nigeria chicken\")\n",
    "        break\n",
    "    else:\n",
    "        print(\"try again next December \")"
   ]
  },
  {
   "cell_type": "code",
   "execution_count": 4,
   "id": "68cf0c24",
   "metadata": {},
   "outputs": [
    {
     "name": "stdout",
     "output_type": "stream",
     "text": [
      "guess any number to win xmax chiecken 56\n",
      "guess any number to win xmax chiecken 45\n",
      "guess any number to win xmax chiecken 23\n",
      "try again some othetime\n"
     ]
    }
   ],
   "source": [
    "counter = 1\n",
    "while True:\n",
    "    if counter<=3:\n",
    "        guess_num = int (input(\"guess any number to win xmax chiecken \"))\n",
    "        if guess_num==secret_number:\n",
    "            print(\"Congratulation, you just won yourself a Nigeria chicken\")\n",
    "            break\n",
    "    else:\n",
    "        print(\"try again some othetime\")\n",
    "        break        \n",
    "    counter+=1\n"
   ]
  },
  {
   "cell_type": "markdown",
   "id": "aa2bbba4",
   "metadata": {},
   "source": [
    "## "
   ]
  },
  {
   "cell_type": "code",
   "execution_count": null,
   "id": "121b84af",
   "metadata": {},
   "outputs": [],
   "source": []
  },
  {
   "cell_type": "code",
   "execution_count": 6,
   "id": "15785efa",
   "metadata": {},
   "outputs": [
    {
     "name": "stdout",
     "output_type": "stream",
     "text": [
      "guess any number to win xmax chiecken 5\n",
      "the guessed is less than the secret number\n",
      "guess any number to win xmax chiecken 89\n",
      "the guessed is greater than the secret number\n",
      "guess any number to win xmax chiecken 34\n",
      "the guessed is less than the secret number\n",
      "guess any number to win xmax chiecken 45\n",
      "the guessed is greater than the secret number\n",
      "guess any number to win xmax chiecken 41\n",
      "the guessed is less than the secret number\n",
      "guess any number to win xmax chiecken 42\n",
      "Congratulation, you just won yourself a Nigeria chicken\n"
     ]
    }
   ],
   "source": [
    "counter = 1\n",
    "while True:\n",
    "        guess_num = int (input(\"guess any number to win xmax chiecken \"))\n",
    "        if guess_num==secret_number:\n",
    "            print(\"Congratulation, you just won yourself a Nigeria chicken\")\n",
    "            break\n",
    "        elif guess_num> secret_number:\n",
    "                print(\"the guessed is greater than the secret number\")\n",
    "        elif guess_num<secret_number:\n",
    "                print(\"the guessed is less than the secret number\")\n",
    "    "
   ]
  },
  {
   "cell_type": "code",
   "execution_count": null,
   "id": "0c32523a",
   "metadata": {},
   "outputs": [],
   "source": []
  },
  {
   "cell_type": "code",
   "execution_count": null,
   "id": "30aef8cc",
   "metadata": {},
   "outputs": [],
   "source": [
    "counter = 1\n",
    "while True:\n",
    "    if counter<=3:\n",
    "        guess_num = int (input(\"guess any number to win xmax chiecken \"))\n",
    "        if guess_num==secret_number:\n",
    "            print(\"Congratulation, you just won yourself a Nigeria chicken\")\n",
    "            break\n",
    "    else:\n",
    "        print(\"try again some othetime\")\n",
    "        break        \n",
    "    counter+=1\n"
   ]
  },
  {
   "cell_type": "code",
   "execution_count": null,
   "id": "e4198235",
   "metadata": {},
   "outputs": [],
   "source": [
    "kkd\n",
    "edjjd\n",
    "dkkd\n",
    "dkkdkdkd"
   ]
  },
  {
   "cell_type": "code",
   "execution_count": null,
   "id": "0bda8071",
   "metadata": {},
   "outputs": [],
   "source": []
  },
  {
   "cell_type": "code",
   "execution_count": 11,
   "id": "efbf3e68",
   "metadata": {},
   "outputs": [
    {
     "name": "stdout",
     "output_type": "stream",
     "text": [
      "guess any number to win xmax chiecken 42\n",
      "please check your try block to fix the error\n",
      "we are trying our better\n"
     ]
    }
   ],
   "source": [
    "try:\n",
    "    while True:\n",
    "        guess_num =int(input(\"guess any number to win xmax chiecken \"))\n",
    "        if guess_num==secret_number:\n",
    "            print(\"Congratulation, you just won yourself a Nigeria chicken\")\n",
    "            break\n",
    "        elif guess_num> secret_number:\n",
    "                print(\"the guessed is greater than the secret number\")\n",
    "        elif guess_num<secret_number:\n",
    "                print(\"the guessed is less than the secret number\")  \n",
    "except:\n",
    "    print(\"please check your try block to fix the error\")\n",
    "    \n",
    "finally:    \n",
    "    print(\"we are trying our better\")"
   ]
  },
  {
   "cell_type": "code",
   "execution_count": 8,
   "id": "71f86cc5",
   "metadata": {},
   "outputs": [
    {
     "name": "stdout",
     "output_type": "stream",
     "text": [
      "guess any number to win xmax chiecken 6\n"
     ]
    },
    {
     "ename": "TypeError",
     "evalue": "'>' not supported between instances of 'str' and 'int'",
     "output_type": "error",
     "traceback": [
      "\u001b[1;31m---------------------------------------------------------------------------\u001b[0m",
      "\u001b[1;31mTypeError\u001b[0m                                 Traceback (most recent call last)",
      "\u001b[1;32m~\\AppData\\Local\\Temp\\ipykernel_4352\\3926423617.py\u001b[0m in \u001b[0;36m<module>\u001b[1;34m\u001b[0m\n\u001b[0;32m      4\u001b[0m             \u001b[0mprint\u001b[0m\u001b[1;33m(\u001b[0m\u001b[1;34m\"Congratulation, you just won yourself a Nigeria chicken\"\u001b[0m\u001b[1;33m)\u001b[0m\u001b[1;33m\u001b[0m\u001b[1;33m\u001b[0m\u001b[0m\n\u001b[0;32m      5\u001b[0m             \u001b[1;32mbreak\u001b[0m\u001b[1;33m\u001b[0m\u001b[1;33m\u001b[0m\u001b[0m\n\u001b[1;32m----> 6\u001b[1;33m         \u001b[1;32melif\u001b[0m \u001b[0mguess_num\u001b[0m\u001b[1;33m>\u001b[0m \u001b[0msecret_number\u001b[0m\u001b[1;33m:\u001b[0m\u001b[1;33m\u001b[0m\u001b[1;33m\u001b[0m\u001b[0m\n\u001b[0m\u001b[0;32m      7\u001b[0m                 \u001b[0mprint\u001b[0m\u001b[1;33m(\u001b[0m\u001b[1;34m\"the guessed is greater than the secret number\"\u001b[0m\u001b[1;33m)\u001b[0m\u001b[1;33m\u001b[0m\u001b[1;33m\u001b[0m\u001b[0m\n\u001b[0;32m      8\u001b[0m         \u001b[1;32melif\u001b[0m \u001b[0mguess_num\u001b[0m\u001b[1;33m<\u001b[0m\u001b[0msecret_number\u001b[0m\u001b[1;33m:\u001b[0m\u001b[1;33m\u001b[0m\u001b[1;33m\u001b[0m\u001b[0m\n",
      "\u001b[1;31mTypeError\u001b[0m: '>' not supported between instances of 'str' and 'int'"
     ]
    }
   ],
   "source": [
    "while True:\n",
    "        guess_num =(input(\"guess any number to win xmax chiecken \"))\n",
    "        if guess_num==secret_number:\n",
    "            print(\"Congratulation, you just won yourself a Nigeria chicken\")\n",
    "            break\n",
    "        elif guess_num> secret_number:\n",
    "                print(\"the guessed is greater than the secret number\")\n",
    "        elif guess_num<secret_number:\n",
    "                print(\"the guessed is less than the secret number\")\n",
    "                \n",
    "print(\"we are trying our best\")"
   ]
  },
  {
   "cell_type": "code",
   "execution_count": null,
   "id": "a8fe4c8f",
   "metadata": {},
   "outputs": [],
   "source": []
  },
  {
   "cell_type": "code",
   "execution_count": 4,
   "id": "dd003066",
   "metadata": {},
   "outputs": [],
   "source": [
    "all_names = [\"olaitan\", \"james\", \"smith\", \"ada\", \"ade\", \n",
    "             \"ayo\", \"ken\", \"tolu\", \"alao\", \"Lukman\", \"richael\", \"moji\", \"kazeem\"]\n",
    "name_with_less_char = []\n",
    "name_with_more_char = []\n",
    "\n",
    "for name in all_names:\n",
    "    if len(name)==3:\n",
    "        continue\n",
    "    if len(name)>5:\n",
    "      name_with_more_char.append(name)  \n",
    "    else:\n",
    "      name_with_less_char.append(name)  \n",
    "        "
   ]
  },
  {
   "cell_type": "code",
   "execution_count": 9,
   "id": "9b80212e",
   "metadata": {},
   "outputs": [
    {
     "data": {
      "text/plain": [
       "['james', 'smith', 'tolu', 'alao', 'moji']"
      ]
     },
     "execution_count": 9,
     "metadata": {},
     "output_type": "execute_result"
    }
   ],
   "source": [
    "name_with_less_char"
   ]
  },
  {
   "cell_type": "code",
   "execution_count": 3,
   "id": "c72e1335",
   "metadata": {},
   "outputs": [
    {
     "data": {
      "text/plain": [
       "['olaitan', 'Lukman', 'richael', 'kazeem']"
      ]
     },
     "execution_count": 3,
     "metadata": {},
     "output_type": "execute_result"
    }
   ],
   "source": [
    "name_with_more_char"
   ]
  },
  {
   "cell_type": "code",
   "execution_count": null,
   "id": "1342ed14",
   "metadata": {},
   "outputs": [],
   "source": []
  },
  {
   "cell_type": "markdown",
   "id": "0b919c8d",
   "metadata": {},
   "source": [
    "# Function\n",
    "\n"
   ]
  },
  {
   "cell_type": "code",
   "execution_count": 12,
   "id": "b27646f8",
   "metadata": {},
   "outputs": [
    {
     "name": "stdout",
     "output_type": "stream",
     "text": [
      "11\n"
     ]
    }
   ],
   "source": [
    "a = 5\n",
    "b =6\n",
    "c = a + b\n",
    "print(c)"
   ]
  },
  {
   "cell_type": "code",
   "execution_count": 13,
   "id": "07f97211",
   "metadata": {},
   "outputs": [],
   "source": [
    "# creating non parameter function\n",
    "\n",
    "def greeting(       ): \n",
    "    print(\"Welcome to Lasop\")"
   ]
  },
  {
   "cell_type": "code",
   "execution_count": null,
   "id": "a37c1c93",
   "metadata": {},
   "outputs": [],
   "source": []
  },
  {
   "cell_type": "code",
   "execution_count": 14,
   "id": "876e588c",
   "metadata": {},
   "outputs": [
    {
     "name": "stdout",
     "output_type": "stream",
     "text": [
      "Welcome to Lasop\n"
     ]
    }
   ],
   "source": [
    "greeting()"
   ]
  },
  {
   "cell_type": "code",
   "execution_count": 15,
   "id": "6a94c6be",
   "metadata": {},
   "outputs": [],
   "source": [
    "# function to add two numbers\n",
    "def add_two_num(  t, o  ):\n",
    "    total = t + o\n",
    "    return total"
   ]
  },
  {
   "cell_type": "code",
   "execution_count": null,
   "id": "ba3cf5bd",
   "metadata": {},
   "outputs": [],
   "source": []
  },
  {
   "cell_type": "code",
   "execution_count": 17,
   "id": "b4512ded",
   "metadata": {},
   "outputs": [
    {
     "data": {
      "text/plain": [
       "87"
      ]
     },
     "execution_count": 17,
     "metadata": {},
     "output_type": "execute_result"
    }
   ],
   "source": [
    "add_two_num(20, 67)"
   ]
  },
  {
   "cell_type": "code",
   "execution_count": 22,
   "id": "b097daf3",
   "metadata": {},
   "outputs": [],
   "source": [
    "def olaitan():\n",
    "    counter = 1\n",
    "    while True:\n",
    "        if counter<=3:\n",
    "            guess_num = int (input(\"guess any number to win xmax chiecken \"))\n",
    "            if guess_num==secret_number:\n",
    "                print(\"Congratulation, you just won yourself a Nigeria chicken\")\n",
    "                break\n",
    "        else:\n",
    "            print(\"try again some othetime\")\n",
    "            break        \n",
    "        counter+=1\n"
   ]
  },
  {
   "cell_type": "code",
   "execution_count": 24,
   "id": "fd81a0b1",
   "metadata": {},
   "outputs": [
    {
     "name": "stdout",
     "output_type": "stream",
     "text": [
      "What are you ordering Today? rice\n",
      "How many plate of rice do you need? 5\n",
      "You are buying 5000 Naira for this order\n"
     ]
    }
   ],
   "source": [
    "type_of_food = input(\"What are you ordering Today? \")\n",
    "if (type_of_food==\"rice\") or (type_of_food==\"jollof rice\"):\n",
    "    plate= int(input(\"How many plate of rice do you need? \"))\n",
    "    price = 1000\n",
    "    total = plate * price\n",
    "    print(f\"You are buying {total} Naira for this order\")"
   ]
  },
  {
   "cell_type": "code",
   "execution_count": null,
   "id": "d49dde30",
   "metadata": {},
   "outputs": [],
   "source": []
  },
  {
   "cell_type": "code",
   "execution_count": null,
   "id": "0e5c81ea",
   "metadata": {},
   "outputs": [],
   "source": [
    "# oop : object Oriented Programm\n",
    "\n"
   ]
  },
  {
   "cell_type": "code",
   "execution_count": 42,
   "id": "1f6b8f2e",
   "metadata": {},
   "outputs": [],
   "source": [
    "class Human:\n",
    "    def __init__(self, name, age):\n",
    "        self.name = name\n",
    "        self.age = age\n",
    "        \n",
    "    def greet(self):\n",
    "        print(f\"my name is {self.name} i am {self.age} years old, i here by welcome you all\")\n",
    "        \n",
    "    def nation(self):\n",
    "        print(\"i am from Nigeria\")"
   ]
  },
  {
   "cell_type": "code",
   "execution_count": 43,
   "id": "10ccbaf4",
   "metadata": {},
   "outputs": [],
   "source": [
    "# create first object from the class\n",
    "first_person = Human('olaitan', 12)"
   ]
  },
  {
   "cell_type": "code",
   "execution_count": 44,
   "id": "077ea11c",
   "metadata": {},
   "outputs": [
    {
     "name": "stdout",
     "output_type": "stream",
     "text": [
      "my name is olaitan i am 12 years old, i here by welcome you all\n"
     ]
    }
   ],
   "source": [
    "# first_person greet person\n",
    "first_person.greet()"
   ]
  },
  {
   "cell_type": "code",
   "execution_count": null,
   "id": "8dfc21bc",
   "metadata": {},
   "outputs": [],
   "source": []
  },
  {
   "cell_type": "code",
   "execution_count": 108,
   "id": "fc6fdad7",
   "metadata": {},
   "outputs": [],
   "source": [
    "class Car:\n",
    "    def __init__(self, maker, model, year):\n",
    "        self.maker = maker\n",
    "        self.model = model\n",
    "        self.year = year\n",
    "        self.engine = False # off mode\n",
    "        self.speed = 0\n",
    "        \n",
    "    def start_engine(self):\n",
    "        if self.engine== False:\n",
    "            print(f\"the {self.maker} {self.model} {self.year} engine started!!!\")\n",
    "            self.engine= True            \n",
    "        else:\n",
    "            print(f\"the {self.maker} {self.model} {self.year} engine already start mode\")\n",
    "            \n",
    "            \n",
    "    def off_engine(self):\n",
    "        if self.engine==True:\n",
    "            print(f\"the {self.maker} {self.model} {self.year} engine is off!!!\")\n",
    "            self.engine= False         \n",
    "        else:\n",
    "            print(f\"the {self.maker} {self.model} {self.year} engine is already on off mode\")\n",
    "            \n",
    "    def accelerate(self, speed):\n",
    "        if self.engine==True:\n",
    "            self.speed+=speed\n",
    "            print(f\"{self.maker} {self.model} {self.year} accelerated to {self.speed} km/h\")\n",
    "            if self.speed> 80:\n",
    "                print(\"You may need to slow down abit\")\n",
    "        else:\n",
    "            print(\"please start the engine first!!!\")\n",
    "            \n",
    "    def brake(self, brake):\n",
    "        if self.speed>0:\n",
    "            self.speed-=brake\n",
    "            print(f\"the {self.maker} {self.model} {self.year} decelerated to {self.speed}\")\n",
    "            \n",
    "    def current_speed(self):\n",
    "        print(f\"the current speed of {self.maker} {self.model} {self.year} {self.speed} km/h\")"
   ]
  },
  {
   "cell_type": "code",
   "execution_count": 109,
   "id": "7e60b3ce",
   "metadata": {},
   "outputs": [],
   "source": [
    "first_car = Car(\"Toyoto\", \"camry\", \"2012\")"
   ]
  },
  {
   "cell_type": "code",
   "execution_count": null,
   "id": "214ffdd1",
   "metadata": {},
   "outputs": [],
   "source": []
  },
  {
   "cell_type": "code",
   "execution_count": 110,
   "id": "e8e22e75",
   "metadata": {},
   "outputs": [
    {
     "name": "stdout",
     "output_type": "stream",
     "text": [
      "the Toyoto camry 2012 engine started!!!\n"
     ]
    }
   ],
   "source": [
    "first_car.start_engine()"
   ]
  },
  {
   "cell_type": "code",
   "execution_count": null,
   "id": "1cf43c04",
   "metadata": {},
   "outputs": [],
   "source": []
  },
  {
   "cell_type": "code",
   "execution_count": 111,
   "id": "444105e4",
   "metadata": {},
   "outputs": [
    {
     "name": "stdout",
     "output_type": "stream",
     "text": [
      "the current speed of Toyoto camry 2012 0 km/h\n"
     ]
    }
   ],
   "source": [
    "first_car.current_speed()"
   ]
  },
  {
   "cell_type": "code",
   "execution_count": null,
   "id": "8c5e7e61",
   "metadata": {},
   "outputs": [],
   "source": []
  },
  {
   "cell_type": "code",
   "execution_count": 112,
   "id": "ec7e710c",
   "metadata": {},
   "outputs": [
    {
     "name": "stdout",
     "output_type": "stream",
     "text": [
      "Toyoto camry 2012 accelerated to 20 km/h\n"
     ]
    }
   ],
   "source": [
    "first_car.accelerate(20)"
   ]
  },
  {
   "cell_type": "code",
   "execution_count": 115,
   "id": "49afe56b",
   "metadata": {},
   "outputs": [
    {
     "name": "stdout",
     "output_type": "stream",
     "text": [
      "the current speed of Toyoto camry 2012 18 km/h\n"
     ]
    }
   ],
   "source": [
    "first_car.current_speed()"
   ]
  },
  {
   "cell_type": "code",
   "execution_count": 114,
   "id": "efafbb3b",
   "metadata": {},
   "outputs": [
    {
     "name": "stdout",
     "output_type": "stream",
     "text": [
      "the Toyoto camry 2012 decelerated to 18\n"
     ]
    }
   ],
   "source": [
    "first_car.brake(2)"
   ]
  },
  {
   "cell_type": "code",
   "execution_count": null,
   "id": "9b4bec53",
   "metadata": {},
   "outputs": [],
   "source": []
  },
  {
   "cell_type": "code",
   "execution_count": 82,
   "id": "36b48181",
   "metadata": {},
   "outputs": [
    {
     "name": "stdout",
     "output_type": "stream",
     "text": [
      "the Toyoto camry 2012 engine started!!!\n"
     ]
    }
   ],
   "source": [
    "first_car.start_engine()"
   ]
  },
  {
   "cell_type": "code",
   "execution_count": null,
   "id": "ea2f95d1",
   "metadata": {},
   "outputs": [],
   "source": []
  },
  {
   "cell_type": "code",
   "execution_count": null,
   "id": "e1fdd5cc",
   "metadata": {},
   "outputs": [],
   "source": []
  },
  {
   "cell_type": "code",
   "execution_count": null,
   "id": "0cc7fe0b",
   "metadata": {},
   "outputs": [],
   "source": []
  },
  {
   "cell_type": "code",
   "execution_count": null,
   "id": "63b0065b",
   "metadata": {},
   "outputs": [],
   "source": [
    "def min_to_sec(min_):\n",
    "    sec = min_ * 60\n",
    "    return sec"
   ]
  },
  {
   "cell_type": "code",
   "execution_count": null,
   "id": "fae9dc9f",
   "metadata": {},
   "outputs": [],
   "source": []
  },
  {
   "cell_type": "code",
   "execution_count": null,
   "id": "16cc0f05",
   "metadata": {},
   "outputs": [],
   "source": []
  },
  {
   "cell_type": "code",
   "execution_count": null,
   "id": "89e4a844",
   "metadata": {},
   "outputs": [],
   "source": []
  },
  {
   "cell_type": "code",
   "execution_count": null,
   "id": "518eccf3",
   "metadata": {},
   "outputs": [],
   "source": []
  },
  {
   "cell_type": "code",
   "execution_count": 23,
   "id": "33e4e701",
   "metadata": {},
   "outputs": [
    {
     "name": "stdout",
     "output_type": "stream",
     "text": [
      "guess any number to win xmax chiecken 56\n",
      "guess any number to win xmax chiecken 34\n",
      "guess any number to win xmax chiecken 42\n",
      "Congratulation, you just won yourself a Nigeria chicken\n"
     ]
    }
   ],
   "source": [
    "olaitan()"
   ]
  },
  {
   "cell_type": "code",
   "execution_count": null,
   "id": "3d8aff90",
   "metadata": {},
   "outputs": [],
   "source": []
  },
  {
   "cell_type": "code",
   "execution_count": null,
   "id": "50de2976",
   "metadata": {},
   "outputs": [],
   "source": [
    "numpy"
   ]
  },
  {
   "cell_type": "code",
   "execution_count": 1,
   "id": "97407d5c",
   "metadata": {},
   "outputs": [],
   "source": [
    "# start by importing the numpy\n",
    "import numpy as np"
   ]
  },
  {
   "cell_type": "code",
   "execution_count": 2,
   "id": "d6a97efa",
   "metadata": {},
   "outputs": [],
   "source": [
    "# create array from a list\n",
    "lis1 = [2,3,4,6,7]\n",
    "arr1 = np.array(lis1)"
   ]
  },
  {
   "cell_type": "code",
   "execution_count": 3,
   "id": "ed401e4b",
   "metadata": {},
   "outputs": [
    {
     "data": {
      "text/plain": [
       "list"
      ]
     },
     "execution_count": 3,
     "metadata": {},
     "output_type": "execute_result"
    }
   ],
   "source": [
    "type(lis1)"
   ]
  },
  {
   "cell_type": "code",
   "execution_count": 4,
   "id": "4adb0b65",
   "metadata": {},
   "outputs": [
    {
     "data": {
      "text/plain": [
       "numpy.ndarray"
      ]
     },
     "execution_count": 4,
     "metadata": {},
     "output_type": "execute_result"
    }
   ],
   "source": [
    "type(arr1)"
   ]
  },
  {
   "cell_type": "code",
   "execution_count": 5,
   "id": "02e4eb39",
   "metadata": {},
   "outputs": [
    {
     "name": "stdout",
     "output_type": "stream",
     "text": [
      "[2 3 4 6 7]\n"
     ]
    }
   ],
   "source": [
    "print(arr1)"
   ]
  },
  {
   "cell_type": "code",
   "execution_count": null,
   "id": "715ac32d",
   "metadata": {},
   "outputs": [],
   "source": []
  },
  {
   "cell_type": "code",
   "execution_count": null,
   "id": "3319e8a8",
   "metadata": {},
   "outputs": [],
   "source": []
  },
  {
   "cell_type": "markdown",
   "id": "2f0fe9c2",
   "metadata": {},
   "source": [
    "# indexing and slicing"
   ]
  },
  {
   "cell_type": "code",
   "execution_count": 2,
   "id": "04b7abc5",
   "metadata": {},
   "outputs": [],
   "source": [
    "# strings are sequence of characters\n",
    "str1 = \"python is fun to learn\""
   ]
  },
  {
   "cell_type": "code",
   "execution_count": 3,
   "id": "42ba19c5",
   "metadata": {},
   "outputs": [
    {
     "data": {
      "text/plain": [
       "'p'"
      ]
     },
     "execution_count": 3,
     "metadata": {},
     "output_type": "execute_result"
    }
   ],
   "source": [
    "# return p from the string above\n",
    "str1[0]"
   ]
  },
  {
   "cell_type": "code",
   "execution_count": 5,
   "id": "743f49ce",
   "metadata": {},
   "outputs": [
    {
     "data": {
      "text/plain": [
       "'i'"
      ]
     },
     "execution_count": 5,
     "metadata": {},
     "output_type": "execute_result"
    }
   ],
   "source": [
    "str1[7]"
   ]
  },
  {
   "cell_type": "code",
   "execution_count": 6,
   "id": "ac19fe5e",
   "metadata": {},
   "outputs": [],
   "source": [
    "str2 =\"all datatype in python has zero base index\""
   ]
  },
  {
   "cell_type": "code",
   "execution_count": 8,
   "id": "576456e0",
   "metadata": {},
   "outputs": [
    {
     "data": {
      "text/plain": [
       "'p'"
      ]
     },
     "execution_count": 8,
     "metadata": {},
     "output_type": "execute_result"
    }
   ],
   "source": [
    "str2[16]"
   ]
  },
  {
   "cell_type": "markdown",
   "id": "927a401c",
   "metadata": {},
   "source": [
    "# String method"
   ]
  },
  {
   "cell_type": "code",
   "execution_count": 12,
   "id": "252a6653",
   "metadata": {},
   "outputs": [
    {
     "data": {
      "text/plain": [
       "'     sojourn   '"
      ]
     },
     "execution_count": 12,
     "metadata": {},
     "output_type": "execute_result"
    }
   ],
   "source": [
    "# strip(). it remove white space or any specified character before and after string \n",
    "str2 = \"     sojourn   \"\n",
    "str2"
   ]
  },
  {
   "cell_type": "code",
   "execution_count": 13,
   "id": "95c6ee61",
   "metadata": {},
   "outputs": [
    {
     "data": {
      "text/plain": [
       "'sojourn'"
      ]
     },
     "execution_count": 13,
     "metadata": {},
     "output_type": "execute_result"
    }
   ],
   "source": [
    "str2.strip()"
   ]
  },
  {
   "cell_type": "code",
   "execution_count": 14,
   "id": "2f3c7939",
   "metadata": {},
   "outputs": [
    {
     "data": {
      "text/plain": [
       "'ALL GOOD ARE GOOD'"
      ]
     },
     "execution_count": 14,
     "metadata": {},
     "output_type": "execute_result"
    }
   ],
   "source": [
    "# upper(): it conver string from lowwer case to upper case\n",
    "str1 = \"all good are good\"\n",
    "str1.upper()"
   ]
  },
  {
   "cell_type": "code",
   "execution_count": 15,
   "id": "3f310cf1",
   "metadata": {},
   "outputs": [
    {
     "data": {
      "text/plain": [
       "'all well that ends well'"
      ]
     },
     "execution_count": 15,
     "metadata": {},
     "output_type": "execute_result"
    }
   ],
   "source": [
    "# lower: convert string from upper to lower case\n",
    "str1 = \"ALL WELL THAT ENDS WELL\"\n",
    "str1.lower()"
   ]
  },
  {
   "cell_type": "markdown",
   "id": "53e5071b",
   "metadata": {},
   "source": [
    "# list Datatype\n",
    "lists are container used to stored data of different datatype"
   ]
  },
  {
   "cell_type": "code",
   "execution_count": null,
   "id": "52fe91e0",
   "metadata": {},
   "outputs": [],
   "source": [
    "lis1 = [] # an empty list"
   ]
  },
  {
   "cell_type": "code",
   "execution_count": null,
   "id": "1b3a14d0",
   "metadata": {},
   "outputs": [],
   "source": [
    "lis2 = [1,2,3,\"ten\", \"tewlve\", \"thirteen\", True] # list with element"
   ]
  },
  {
   "cell_type": "markdown",
   "id": "effdd3c4",
   "metadata": {},
   "source": [
    "# list indexing"
   ]
  },
  {
   "cell_type": "code",
   "execution_count": 16,
   "id": "94a89fdf",
   "metadata": {},
   "outputs": [
    {
     "data": {
      "text/plain": [
       "'ten'"
      ]
     },
     "execution_count": 16,
     "metadata": {},
     "output_type": "execute_result"
    }
   ],
   "source": [
    "# display ten from the list below\n",
    "lis2 = [1,2,3,\"ten\", \"tewlve\", \"thirteen\", True] # list with element\n",
    "lis2[3]"
   ]
  },
  {
   "cell_type": "code",
   "execution_count": 17,
   "id": "40c9b4ad",
   "metadata": {},
   "outputs": [
    {
     "data": {
      "text/plain": [
       "True"
      ]
     },
     "execution_count": 17,
     "metadata": {},
     "output_type": "execute_result"
    }
   ],
   "source": [
    "# retur True from the list above\n",
    "lis2[6]"
   ]
  },
  {
   "cell_type": "markdown",
   "id": "8e855da1",
   "metadata": {},
   "source": [
    "# List Method"
   ]
  },
  {
   "cell_type": "code",
   "execution_count": 21,
   "id": "1b0a7b9d",
   "metadata": {},
   "outputs": [
    {
     "data": {
      "text/plain": [
       "'i am learning python'"
      ]
     },
     "execution_count": 21,
     "metadata": {},
     "output_type": "execute_result"
    }
   ],
   "source": [
    "# join(): used to split element of string into text\n",
    "list1 = [\"i\", \"am\", \"learning\", \"python\"]\n",
    "\" \".join(list1)"
   ]
  },
  {
   "cell_type": "code",
   "execution_count": 22,
   "id": "a466fa52",
   "metadata": {},
   "outputs": [
    {
     "data": {
      "text/plain": [
       "'learning'"
      ]
     },
     "execution_count": 22,
     "metadata": {},
     "output_type": "execute_result"
    }
   ],
   "source": [
    "# pop: used to remove element from list\n",
    "list1.pop(2)"
   ]
  },
  {
   "cell_type": "code",
   "execution_count": 23,
   "id": "6fd76cec",
   "metadata": {},
   "outputs": [
    {
     "data": {
      "text/plain": [
       "['i', 'am', 'python']"
      ]
     },
     "execution_count": 23,
     "metadata": {},
     "output_type": "execute_result"
    }
   ],
   "source": [
    "list1"
   ]
  },
  {
   "cell_type": "code",
   "execution_count": 24,
   "id": "867e9321",
   "metadata": {},
   "outputs": [],
   "source": [
    "# append(): used to add element to a list\n",
    "list1.append(\"and javat\")"
   ]
  },
  {
   "cell_type": "code",
   "execution_count": 25,
   "id": "ef6c172a",
   "metadata": {},
   "outputs": [
    {
     "data": {
      "text/plain": [
       "['i', 'am', 'python', 'and javat']"
      ]
     },
     "execution_count": 25,
     "metadata": {},
     "output_type": "execute_result"
    }
   ],
   "source": [
    "list1"
   ]
  },
  {
   "cell_type": "code",
   "execution_count": 26,
   "id": "9ac37793",
   "metadata": {},
   "outputs": [],
   "source": [
    "# dictionary: it has key and values pair relationship\n",
    "\n",
    "dict1 = {\"name\":\"olaitan\", \"age\":12, \"address\": \"olowoira\"}"
   ]
  },
  {
   "cell_type": "code",
   "execution_count": 27,
   "id": "b15e33f7",
   "metadata": {},
   "outputs": [
    {
     "data": {
      "text/plain": [
       "'olaitan'"
      ]
     },
     "execution_count": 27,
     "metadata": {},
     "output_type": "execute_result"
    }
   ],
   "source": [
    "# print olaitan from the dict1 above\n",
    "dict1[\"name\"]"
   ]
  },
  {
   "cell_type": "code",
   "execution_count": 29,
   "id": "88f84279",
   "metadata": {},
   "outputs": [
    {
     "name": "stdout",
     "output_type": "stream",
     "text": [
      "12\n"
     ]
    }
   ],
   "source": [
    "print(dict1[\"age\"])"
   ]
  },
  {
   "cell_type": "code",
   "execution_count": 30,
   "id": "96daec27",
   "metadata": {},
   "outputs": [
    {
     "data": {
      "text/plain": [
       "12"
      ]
     },
     "execution_count": 30,
     "metadata": {},
     "output_type": "execute_result"
    }
   ],
   "source": [
    "#Pop(): is used to removed element of dictionary\n",
    "dict1.pop(\"age\")"
   ]
  },
  {
   "cell_type": "code",
   "execution_count": 31,
   "id": "951ee22d",
   "metadata": {},
   "outputs": [
    {
     "data": {
      "text/plain": [
       "{'name': 'olaitan', 'address': 'olowoira'}"
      ]
     },
     "execution_count": 31,
     "metadata": {},
     "output_type": "execute_result"
    }
   ],
   "source": [
    "dict1"
   ]
  },
  {
   "cell_type": "code",
   "execution_count": 32,
   "id": "c1377ecf",
   "metadata": {},
   "outputs": [
    {
     "data": {
      "text/plain": [
       "{'name': 'olaitan', 'address': 'olowoira', 'salary': 38773}"
      ]
     },
     "execution_count": 32,
     "metadata": {},
     "output_type": "execute_result"
    }
   ],
   "source": [
    "# adding element to dictionary\n",
    "dict1[\"salary\"]= 38773\n",
    "dict1"
   ]
  },
  {
   "cell_type": "markdown",
   "id": "e4570dc0",
   "metadata": {},
   "source": [
    "# control flow in python\n",
    "1. conditional statement\n",
    "    - if\n",
    "    - else\n",
    "    - elif\n",
    "2. Loop statement\n",
    "    - for\n",
    "    - while\n",
    "3. Loop control\n",
    "    - break\n",
    "    - continue\n",
    " 4. error handling\n",
    "     - try\n",
    "     - except"
   ]
  },
  {
   "cell_type": "code",
   "execution_count": 35,
   "id": "2de52fbd",
   "metadata": {},
   "outputs": [
    {
     "name": "stdout",
     "output_type": "stream",
     "text": [
      "we may need to wait\n"
     ]
    }
   ],
   "source": [
    "a=5\n",
    "if a < 2:\n",
    "    print(\"we are good to go\")\n",
    "else:\n",
    "    print(\"we may need to wait\")"
   ]
  },
  {
   "cell_type": "code",
   "execution_count": 38,
   "id": "e210094d",
   "metadata": {},
   "outputs": [
    {
     "name": "stdout",
     "output_type": "stream",
     "text": [
      "today heat may be tough\n"
     ]
    }
   ],
   "source": [
    "a= 10\n",
    "b = 88\n",
    "if a> 10:\n",
    "    print(\"rain is not falling\")\n",
    "elif b ==  8:\n",
    "    print(\"rain is falling\")\n",
    "else:\n",
    "    print(\"today heat may be tough\")"
   ]
  },
  {
   "cell_type": "code",
   "execution_count": 40,
   "id": "865c49df",
   "metadata": {},
   "outputs": [
    {
     "name": "stdout",
     "output_type": "stream",
     "text": [
      "o\n",
      "l\n",
      "a\n",
      "i\n",
      "t\n",
      "a\n",
      "n\n"
     ]
    }
   ],
   "source": [
    "# for loop\n",
    "for i in \"olaitan\":\n",
    "    print(i)"
   ]
  },
  {
   "cell_type": "code",
   "execution_count": 41,
   "id": "5355913b",
   "metadata": {},
   "outputs": [],
   "source": [
    "name_char = []\n",
    "for i in \"olaitan\":\n",
    "    name_char.append(i)"
   ]
  },
  {
   "cell_type": "code",
   "execution_count": 42,
   "id": "f21fa3c6",
   "metadata": {},
   "outputs": [
    {
     "data": {
      "text/plain": [
       "['o', 'l', 'a', 'i', 't', 'a', 'n']"
      ]
     },
     "execution_count": 42,
     "metadata": {},
     "output_type": "execute_result"
    }
   ],
   "source": [
    "name_char"
   ]
  },
  {
   "cell_type": "code",
   "execution_count": 44,
   "id": "42ff47fb",
   "metadata": {},
   "outputs": [
    {
     "data": {
      "text/plain": [
       "['o', 'l', 'a', 'i']"
      ]
     },
     "execution_count": 44,
     "metadata": {},
     "output_type": "execute_result"
    }
   ],
   "source": [
    "name_char = []\n",
    "for char in \"olaitan\":\n",
    "    name_char.append(char)\n",
    "    if char==\"i\":\n",
    "        break\n",
    "name_char"
   ]
  },
  {
   "cell_type": "code",
   "execution_count": 1,
   "id": "656762c8",
   "metadata": {},
   "outputs": [
    {
     "data": {
      "text/plain": [
       "['o', 'l', 'a', 't', 'a', 'n']"
      ]
     },
     "execution_count": 1,
     "metadata": {},
     "output_type": "execute_result"
    }
   ],
   "source": [
    "name_char = []\n",
    "for char in \"olaitan\":\n",
    "     if char==\"i\":\n",
    "        continue  # skip any i\n",
    "     name_char.append(char)\n",
    "   \n",
    "name_char"
   ]
  },
  {
   "cell_type": "code",
   "execution_count": 4,
   "id": "e24c7c33",
   "metadata": {},
   "outputs": [],
   "source": [
    "all_numbers = [1,2,3,4,5,6,7,8,9,10,11,12,13,14,15,16, 17, 18, 19, 20]\n",
    "# from all_numbers list above, seperate the even number from odd number\n",
    "even_numbers = []\n",
    "odd_numbers = []\n",
    "for element in all_numbers:\n",
    "    if element%2 == 0:\n",
    "        even_numbers.append(element)\n",
    "    else:\n",
    "        odd_numbers.append(element)"
   ]
  },
  {
   "cell_type": "code",
   "execution_count": 5,
   "id": "47a90578",
   "metadata": {},
   "outputs": [
    {
     "data": {
      "text/plain": [
       "[2, 4, 6, 8, 10, 12, 14, 16, 18, 20]"
      ]
     },
     "execution_count": 5,
     "metadata": {},
     "output_type": "execute_result"
    }
   ],
   "source": [
    "even_numbers"
   ]
  },
  {
   "cell_type": "code",
   "execution_count": 6,
   "id": "900c3ad1",
   "metadata": {},
   "outputs": [
    {
     "data": {
      "text/plain": [
       "[1, 3, 5, 7, 9, 11, 13, 15, 17, 19]"
      ]
     },
     "execution_count": 6,
     "metadata": {},
     "output_type": "execute_result"
    }
   ],
   "source": [
    "odd_numbers"
   ]
  },
  {
   "cell_type": "markdown",
   "id": "4599a12b",
   "metadata": {},
   "source": [
    "# Function in  Python\n",
    "function is a group of statements under a specific name to perform a specific task\n",
    "1. non parament function\n",
    "2. parameter function"
   ]
  },
  {
   "cell_type": "code",
   "execution_count": 7,
   "id": "7f2d1268",
   "metadata": {},
   "outputs": [],
   "source": [
    "# how to define function in python\n",
    "def greet():  \n",
    "    print(\"You are welcome to our school, how may i help today?\")"
   ]
  },
  {
   "cell_type": "code",
   "execution_count": null,
   "id": "33072978",
   "metadata": {},
   "outputs": [],
   "source": [
    "dry"
   ]
  },
  {
   "cell_type": "code",
   "execution_count": 8,
   "id": "dee0b0d6",
   "metadata": {},
   "outputs": [
    {
     "name": "stdout",
     "output_type": "stream",
     "text": [
      "You are welcome to our school, how may i help today?\n"
     ]
    }
   ],
   "source": [
    "greet()"
   ]
  },
  {
   "cell_type": "code",
   "execution_count": null,
   "id": "12582286",
   "metadata": {},
   "outputs": [],
   "source": []
  },
  {
   "cell_type": "code",
   "execution_count": 10,
   "id": "676adddc",
   "metadata": {},
   "outputs": [],
   "source": [
    "# define function that can add any two numbers\n",
    "\n",
    "def add_two_num(a, b):\n",
    "    total = a + b\n",
    "    return total"
   ]
  },
  {
   "cell_type": "code",
   "execution_count": 11,
   "id": "aadcb504",
   "metadata": {},
   "outputs": [
    {
     "data": {
      "text/plain": [
       "10"
      ]
     },
     "execution_count": 11,
     "metadata": {},
     "output_type": "execute_result"
    }
   ],
   "source": [
    "add_two_num(2, 8)"
   ]
  },
  {
   "cell_type": "code",
   "execution_count": 12,
   "id": "21f0fae7",
   "metadata": {},
   "outputs": [],
   "source": [
    "# Anonnynous Function"
   ]
  },
  {
   "cell_type": "code",
   "execution_count": 13,
   "id": "73d60060",
   "metadata": {},
   "outputs": [],
   "source": [
    "minute_conversion = lambda minute: minute * 60"
   ]
  },
  {
   "cell_type": "code",
   "execution_count": 14,
   "id": "cdedce3d",
   "metadata": {},
   "outputs": [
    {
     "data": {
      "text/plain": [
       "300"
      ]
     },
     "execution_count": 14,
     "metadata": {},
     "output_type": "execute_result"
    }
   ],
   "source": [
    "minute_conversion(5)"
   ]
  },
  {
   "cell_type": "code",
   "execution_count": null,
   "id": "57fe0c2e",
   "metadata": {},
   "outputs": [],
   "source": [
    "numpy\n",
    "pandas\n",
    "matplot\n",
    "sklearn\n",
    "tensorflow"
   ]
  },
  {
   "cell_type": "code",
   "execution_count": null,
   "id": "2a596bf9",
   "metadata": {},
   "outputs": [],
   "source": []
  },
  {
   "cell_type": "code",
   "execution_count": null,
   "id": "8659bcf0",
   "metadata": {},
   "outputs": [],
   "source": []
  },
  {
   "cell_type": "code",
   "execution_count": null,
   "id": "3a41cd99",
   "metadata": {},
   "outputs": [],
   "source": []
  },
  {
   "cell_type": "code",
   "execution_count": null,
   "id": "6b6123a3",
   "metadata": {},
   "outputs": [],
   "source": []
  },
  {
   "cell_type": "code",
   "execution_count": null,
   "id": "bed9e461",
   "metadata": {},
   "outputs": [],
   "source": []
  },
  {
   "cell_type": "code",
   "execution_count": null,
   "id": "9d6b4271",
   "metadata": {},
   "outputs": [],
   "source": []
  },
  {
   "cell_type": "code",
   "execution_count": null,
   "id": "17315c82",
   "metadata": {},
   "outputs": [],
   "source": []
  },
  {
   "cell_type": "code",
   "execution_count": null,
   "id": "8142964a",
   "metadata": {},
   "outputs": [],
   "source": []
  },
  {
   "cell_type": "code",
   "execution_count": null,
   "id": "674faec6",
   "metadata": {},
   "outputs": [],
   "source": []
  },
  {
   "cell_type": "code",
   "execution_count": null,
   "id": "b6d76e49",
   "metadata": {},
   "outputs": [],
   "source": []
  },
  {
   "cell_type": "code",
   "execution_count": null,
   "id": "626b97c6",
   "metadata": {},
   "outputs": [],
   "source": []
  },
  {
   "cell_type": "code",
   "execution_count": null,
   "id": "24429b13",
   "metadata": {},
   "outputs": [],
   "source": []
  },
  {
   "cell_type": "code",
   "execution_count": null,
   "id": "60bae6ca",
   "metadata": {},
   "outputs": [],
   "source": []
  },
  {
   "cell_type": "code",
   "execution_count": null,
   "id": "070c120a",
   "metadata": {},
   "outputs": [],
   "source": []
  },
  {
   "cell_type": "code",
   "execution_count": null,
   "id": "f141156a",
   "metadata": {},
   "outputs": [],
   "source": []
  },
  {
   "cell_type": "code",
   "execution_count": null,
   "id": "a849d8ae",
   "metadata": {},
   "outputs": [],
   "source": []
  },
  {
   "cell_type": "code",
   "execution_count": null,
   "id": "eac871ae",
   "metadata": {},
   "outputs": [],
   "source": []
  },
  {
   "cell_type": "code",
   "execution_count": 24,
   "id": "3fc58788",
   "metadata": {},
   "outputs": [],
   "source": [
    "import mysql.connector as cn\n",
    "import os\n",
    "import pandas as pd"
   ]
  },
  {
   "cell_type": "code",
   "execution_count": 25,
   "id": "7f7b80ef",
   "metadata": {},
   "outputs": [],
   "source": [
    "password = os.environ.get(\"password\")"
   ]
  },
  {
   "cell_type": "code",
   "execution_count": null,
   "id": "bee56a5d",
   "metadata": {},
   "outputs": [],
   "source": []
  },
  {
   "cell_type": "code",
   "execution_count": 31,
   "id": "45b9aa1c",
   "metadata": {},
   "outputs": [
    {
     "data": {
      "text/html": [
       "<div>\n",
       "<style scoped>\n",
       "    .dataframe tbody tr th:only-of-type {\n",
       "        vertical-align: middle;\n",
       "    }\n",
       "\n",
       "    .dataframe tbody tr th {\n",
       "        vertical-align: top;\n",
       "    }\n",
       "\n",
       "    .dataframe thead th {\n",
       "        text-align: right;\n",
       "    }\n",
       "</style>\n",
       "<table border=\"1\" class=\"dataframe\">\n",
       "  <thead>\n",
       "    <tr style=\"text-align: right;\">\n",
       "      <th></th>\n",
       "      <th>id</th>\n",
       "      <th>fullname</th>\n",
       "      <th>job</th>\n",
       "      <th>salary</th>\n",
       "    </tr>\n",
       "  </thead>\n",
       "  <tbody>\n",
       "    <tr>\n",
       "      <th>0</th>\n",
       "      <td>1</td>\n",
       "      <td>John Doe</td>\n",
       "      <td>IT</td>\n",
       "      <td>60000</td>\n",
       "    </tr>\n",
       "    <tr>\n",
       "      <th>1</th>\n",
       "      <td>2</td>\n",
       "      <td>Jane Smith</td>\n",
       "      <td>HR</td>\n",
       "      <td>55000</td>\n",
       "    </tr>\n",
       "    <tr>\n",
       "      <th>2</th>\n",
       "      <td>3</td>\n",
       "      <td>Bob Johnson</td>\n",
       "      <td>IT</td>\n",
       "      <td>62000</td>\n",
       "    </tr>\n",
       "    <tr>\n",
       "      <th>3</th>\n",
       "      <td>4</td>\n",
       "      <td>Alice Brown</td>\n",
       "      <td>Sales</td>\n",
       "      <td>50000</td>\n",
       "    </tr>\n",
       "    <tr>\n",
       "      <th>4</th>\n",
       "      <td>5</td>\n",
       "      <td>Charlie Davis</td>\n",
       "      <td>HR</td>\n",
       "      <td>58000</td>\n",
       "    </tr>\n",
       "    <tr>\n",
       "      <th>5</th>\n",
       "      <td>6</td>\n",
       "      <td>Eva White</td>\n",
       "      <td>Sales</td>\n",
       "      <td>52000</td>\n",
       "    </tr>\n",
       "    <tr>\n",
       "      <th>6</th>\n",
       "      <td>7</td>\n",
       "      <td>Frank Wilson</td>\n",
       "      <td>IT</td>\n",
       "      <td>65000</td>\n",
       "    </tr>\n",
       "    <tr>\n",
       "      <th>7</th>\n",
       "      <td>8</td>\n",
       "      <td>Grace Miller</td>\n",
       "      <td>Sales</td>\n",
       "      <td>53000</td>\n",
       "    </tr>\n",
       "    <tr>\n",
       "      <th>8</th>\n",
       "      <td>9</td>\n",
       "      <td>Henry Jones</td>\n",
       "      <td>IT</td>\n",
       "      <td>70000</td>\n",
       "    </tr>\n",
       "    <tr>\n",
       "      <th>9</th>\n",
       "      <td>10</td>\n",
       "      <td>Ivy Robinson</td>\n",
       "      <td>HR</td>\n",
       "      <td>59000</td>\n",
       "    </tr>\n",
       "    <tr>\n",
       "      <th>10</th>\n",
       "      <td>11</td>\n",
       "      <td>Jack Adams</td>\n",
       "      <td>Finance</td>\n",
       "      <td>72000</td>\n",
       "    </tr>\n",
       "    <tr>\n",
       "      <th>11</th>\n",
       "      <td>12</td>\n",
       "      <td>Lily Martin</td>\n",
       "      <td>Finance</td>\n",
       "      <td>68000</td>\n",
       "    </tr>\n",
       "    <tr>\n",
       "      <th>12</th>\n",
       "      <td>13</td>\n",
       "      <td>Mike Taylor</td>\n",
       "      <td>IT</td>\n",
       "      <td>63000</td>\n",
       "    </tr>\n",
       "    <tr>\n",
       "      <th>13</th>\n",
       "      <td>14</td>\n",
       "      <td>Nina White</td>\n",
       "      <td>Sales</td>\n",
       "      <td>54000</td>\n",
       "    </tr>\n",
       "    <tr>\n",
       "      <th>14</th>\n",
       "      <td>15</td>\n",
       "      <td>Oliver Hall</td>\n",
       "      <td>HR</td>\n",
       "      <td>60000</td>\n",
       "    </tr>\n",
       "    <tr>\n",
       "      <th>15</th>\n",
       "      <td>16</td>\n",
       "      <td>Pam Johnson</td>\n",
       "      <td>IT</td>\n",
       "      <td>66000</td>\n",
       "    </tr>\n",
       "    <tr>\n",
       "      <th>16</th>\n",
       "      <td>17</td>\n",
       "      <td>Quinn Davis</td>\n",
       "      <td>Sales</td>\n",
       "      <td>51000</td>\n",
       "    </tr>\n",
       "    <tr>\n",
       "      <th>17</th>\n",
       "      <td>18</td>\n",
       "      <td>Rick Evans</td>\n",
       "      <td>IT</td>\n",
       "      <td>67000</td>\n",
       "    </tr>\n",
       "    <tr>\n",
       "      <th>18</th>\n",
       "      <td>19</td>\n",
       "      <td>Sara Clark</td>\n",
       "      <td>HR</td>\n",
       "      <td>61000</td>\n",
       "    </tr>\n",
       "    <tr>\n",
       "      <th>19</th>\n",
       "      <td>20</td>\n",
       "      <td>Tom Parker</td>\n",
       "      <td>Finance</td>\n",
       "      <td>70000</td>\n",
       "    </tr>\n",
       "    <tr>\n",
       "      <th>20</th>\n",
       "      <td>21</td>\n",
       "      <td>Ursula Scott</td>\n",
       "      <td>HR</td>\n",
       "      <td>59000</td>\n",
       "    </tr>\n",
       "    <tr>\n",
       "      <th>21</th>\n",
       "      <td>22</td>\n",
       "      <td>Vince Garcia</td>\n",
       "      <td>IT</td>\n",
       "      <td>68000</td>\n",
       "    </tr>\n",
       "    <tr>\n",
       "      <th>22</th>\n",
       "      <td>23</td>\n",
       "      <td>Wendy Adams</td>\n",
       "      <td>Sales</td>\n",
       "      <td>52000</td>\n",
       "    </tr>\n",
       "    <tr>\n",
       "      <th>23</th>\n",
       "      <td>24</td>\n",
       "      <td>Xander Miller</td>\n",
       "      <td>IT</td>\n",
       "      <td>70000</td>\n",
       "    </tr>\n",
       "    <tr>\n",
       "      <th>24</th>\n",
       "      <td>25</td>\n",
       "      <td>Yara Turner</td>\n",
       "      <td>Sales</td>\n",
       "      <td>55000</td>\n",
       "    </tr>\n",
       "    <tr>\n",
       "      <th>25</th>\n",
       "      <td>26</td>\n",
       "      <td>Zane Hill</td>\n",
       "      <td>Finance</td>\n",
       "      <td>71000</td>\n",
       "    </tr>\n",
       "    <tr>\n",
       "      <th>26</th>\n",
       "      <td>27</td>\n",
       "      <td>Ava Rodriguez</td>\n",
       "      <td>IT</td>\n",
       "      <td>64000</td>\n",
       "    </tr>\n",
       "    <tr>\n",
       "      <th>27</th>\n",
       "      <td>28</td>\n",
       "      <td>Benjamin Brooks</td>\n",
       "      <td>Sales</td>\n",
       "      <td>53000</td>\n",
       "    </tr>\n",
       "    <tr>\n",
       "      <th>28</th>\n",
       "      <td>29</td>\n",
       "      <td>Cora Simmons</td>\n",
       "      <td>HR</td>\n",
       "      <td>58000</td>\n",
       "    </tr>\n",
       "    <tr>\n",
       "      <th>29</th>\n",
       "      <td>30</td>\n",
       "      <td>Dylan Foster</td>\n",
       "      <td>IT</td>\n",
       "      <td>69000</td>\n",
       "    </tr>\n",
       "  </tbody>\n",
       "</table>\n",
       "</div>"
      ],
      "text/plain": [
       "    id         fullname      job  salary\n",
       "0    1         John Doe       IT   60000\n",
       "1    2       Jane Smith       HR   55000\n",
       "2    3      Bob Johnson       IT   62000\n",
       "3    4      Alice Brown    Sales   50000\n",
       "4    5    Charlie Davis       HR   58000\n",
       "5    6        Eva White    Sales   52000\n",
       "6    7     Frank Wilson       IT   65000\n",
       "7    8     Grace Miller    Sales   53000\n",
       "8    9      Henry Jones       IT   70000\n",
       "9   10     Ivy Robinson       HR   59000\n",
       "10  11       Jack Adams  Finance   72000\n",
       "11  12      Lily Martin  Finance   68000\n",
       "12  13      Mike Taylor       IT   63000\n",
       "13  14       Nina White    Sales   54000\n",
       "14  15      Oliver Hall       HR   60000\n",
       "15  16      Pam Johnson       IT   66000\n",
       "16  17      Quinn Davis    Sales   51000\n",
       "17  18       Rick Evans       IT   67000\n",
       "18  19       Sara Clark       HR   61000\n",
       "19  20       Tom Parker  Finance   70000\n",
       "20  21     Ursula Scott       HR   59000\n",
       "21  22     Vince Garcia       IT   68000\n",
       "22  23      Wendy Adams    Sales   52000\n",
       "23  24    Xander Miller       IT   70000\n",
       "24  25      Yara Turner    Sales   55000\n",
       "25  26        Zane Hill  Finance   71000\n",
       "26  27    Ava Rodriguez       IT   64000\n",
       "27  28  Benjamin Brooks    Sales   53000\n",
       "28  29     Cora Simmons       HR   58000\n",
       "29  30     Dylan Foster       IT   69000"
      ]
     },
     "metadata": {},
     "output_type": "display_data"
    }
   ],
   "source": [
    "try:\n",
    "# this allow use to connect to a h database on the local host server of the sql\n",
    "    connection= cn.connect(\n",
    "        user=\"root\",\n",
    "        password=password, \n",
    "        database=\"h\", \n",
    "        host=\"localhost\" )\n",
    "\n",
    "    # to enable to work on the database\n",
    "    cursor = connection.cursor()\n",
    "\n",
    "    qry1 = \"SELECT * FROM employees\"\n",
    "    cursor.execute(qry1)\n",
    "    result = cursor.fetchall()\n",
    "    df = pd.DataFrame(result, columns=[\"id\", \"fullname\", \"job\", \"salary\"])\n",
    "    display(df)\n",
    "except:\n",
    "    print(\"check for more detail\")"
   ]
  },
  {
   "cell_type": "code",
   "execution_count": 27,
   "id": "445f42ec",
   "metadata": {},
   "outputs": [],
   "source": []
  },
  {
   "cell_type": "code",
   "execution_count": 36,
   "id": "14c6e42d",
   "metadata": {},
   "outputs": [],
   "source": [
    "try:\n",
    "# this allow use to connect to a h database on the local host server of the sql\n",
    "    connection= cn.connect(\n",
    "        user=\"root\",\n",
    "        password=password, \n",
    "        database=\"h\", \n",
    "        host=\"localhost\" )\n",
    "\n",
    "    # to enable to work on the database\n",
    "    cursor = connection.cursor()\n",
    "\n",
    "    qry1 = \"\"\"\n",
    "            UPDATE employees\n",
    "            SET department=\"hr\"\n",
    "            where employee_id =11;\n",
    "        \"\"\"\n",
    "            \n",
    "    cursor.execute(qry1)\n",
    "    connection.commit()\n",
    "except:\n",
    "    print(\"check for more detail\")"
   ]
  },
  {
   "cell_type": "code",
   "execution_count": null,
   "id": "44140ece",
   "metadata": {},
   "outputs": [],
   "source": []
  },
  {
   "cell_type": "code",
   "execution_count": null,
   "id": "195a46c4",
   "metadata": {},
   "outputs": [],
   "source": []
  },
  {
   "cell_type": "code",
   "execution_count": null,
   "id": "2e881630",
   "metadata": {},
   "outputs": [],
   "source": []
  },
  {
   "cell_type": "code",
   "execution_count": null,
   "id": "c968e22a",
   "metadata": {},
   "outputs": [],
   "source": []
  },
  {
   "cell_type": "code",
   "execution_count": null,
   "id": "de5c032d",
   "metadata": {},
   "outputs": [],
   "source": []
  },
  {
   "cell_type": "code",
   "execution_count": null,
   "id": "abe4ab20",
   "metadata": {},
   "outputs": [],
   "source": []
  },
  {
   "cell_type": "code",
   "execution_count": null,
   "id": "a0d841a3",
   "metadata": {},
   "outputs": [],
   "source": []
  },
  {
   "cell_type": "code",
   "execution_count": null,
   "id": "f93ce48a",
   "metadata": {},
   "outputs": [],
   "source": []
  },
  {
   "cell_type": "code",
   "execution_count": null,
   "id": "0011448c",
   "metadata": {},
   "outputs": [],
   "source": []
  }
 ],
 "metadata": {
  "kernelspec": {
   "display_name": "Python 3 (ipykernel)",
   "language": "python",
   "name": "python3"
  },
  "language_info": {
   "codemirror_mode": {
    "name": "ipython",
    "version": 3
   },
   "file_extension": ".py",
   "mimetype": "text/x-python",
   "name": "python",
   "nbconvert_exporter": "python",
   "pygments_lexer": "ipython3",
   "version": "3.9.13"
  }
 },
 "nbformat": 4,
 "nbformat_minor": 5
}
