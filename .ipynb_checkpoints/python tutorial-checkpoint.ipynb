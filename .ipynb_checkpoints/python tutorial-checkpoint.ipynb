{
 "cells": [
  {
   "cell_type": "code",
   "execution_count": null,
   "id": "5cb386fb",
   "metadata": {},
   "outputs": [],
   "source": []
  },
  {
   "cell_type": "markdown",
   "id": "8e5d0052",
   "metadata": {},
   "source": [
    "# Introduction to jupyter Notebook\n",
    "\n",
    "you don't have to stress yourself in **creating** body, just write what you want `write`\n",
    "\n",
    "## Python is fun\n",
    "\n",
    "###### smallest header\n",
    "\n",
    "## Order list\n",
    "1. Point One\n",
    "2. Point Two\n",
    "3. Point Three\n",
    "\n",
    "\n",
    "## Unorder List\n",
    "- Point One\n",
    "- Point Two\n",
    "- Point three\n",
    "\n",
    "\n"
   ]
  },
  {
   "cell_type": "code",
   "execution_count": 3,
   "id": "637a7ccd",
   "metadata": {},
   "outputs": [
    {
     "name": "stdout",
     "output_type": "stream",
     "text": [
      "Hello World,  python is awesome\n"
     ]
    }
   ],
   "source": [
    "# am about to write my first python code\n",
    "print(\"Hello World,  python is awesome\")"
   ]
  },
  {
   "cell_type": "markdown",
   "id": "e0046c07",
   "metadata": {},
   "source": [
    "# Variable and identifier\n",
    "- A variable is an object that occupy space on compputer memory\n",
    "- Identifier is used to identify variable\n",
    "\n",
    "\n",
    "## Rules For Naming Variable\n",
    "\n",
    "- A variable name can not start with a number, though it can be find anywhere else\n",
    "- A variable name can not contain any special character(s) except underscore\n",
    "- A variable name can not be join with space, Use underscore instead.\n",
    "- A variable can not be name with pyton reserved key words"
   ]
  },
  {
   "cell_type": "code",
   "execution_count": null,
   "id": "7a9de3a5",
   "metadata": {},
   "outputs": [],
   "source": [
    "# state your fullname, age and your name of your school, then introduce youreself to the screen"
   ]
  },
  {
   "cell_type": "code",
   "execution_count": 2,
   "id": "cc6fbb25",
   "metadata": {},
   "outputs": [
    {
     "name": "stdout",
     "output_type": "stream",
     "text": [
      "Hello everyone, my fullname is olaitan kazeem i am 12 year olds and the name of my school is  LASOP\n"
     ]
    }
   ],
   "source": [
    "first_name = \"olaitan\"\n",
    "last_name = \"kazeem\"\n",
    "age = 12\n",
    "school = \"LASOP\"\n",
    "\n",
    "print(\"Hello everyone, my fullname is\" , first_name, last_name, \"i am\" , age, \n",
    "     \"year olds and the name of my school is \", school)"
   ]
  },
  {
   "cell_type": "code",
   "execution_count": 3,
   "id": "e8e9d293",
   "metadata": {},
   "outputs": [
    {
     "name": "stdout",
     "output_type": "stream",
     "text": [
      "please enter your first name James\n",
      "please enter your last name Sancho\n",
      "please enter your age 45\n",
      "What is the name of your school  Fut Minna\n",
      "Hello everyone, my fullname is James Sancho i am 45 year olds and the name of my school is  Fut Minna\n"
     ]
    }
   ],
   "source": [
    "first_name = input(\"please enter your first name \")\n",
    "last_name = input(\"please enter your last name \")\n",
    "age = input(\"please enter your age \")\n",
    "school = input(\"What is the name of your school  \")\n",
    "\n",
    "print(\"Hello everyone, my fullname is\" , first_name, last_name, \"i am\" , age, \n",
    "     \"year olds and the name of my school is \", school)"
   ]
  },
  {
   "cell_type": "code",
   "execution_count": 4,
   "id": "3cbdf377",
   "metadata": {},
   "outputs": [
    {
     "name": "stdout",
     "output_type": "stream",
     "text": [
      "please enter your first name k\n",
      "please enter your last name i\n",
      "please enter your age y\n",
      "What is the name of your school  g\n",
      "Hello everyone, my fullname is k i i am y year olds and the name of my school is  g\n"
     ]
    }
   ],
   "source": [
    "first_name = input(\"please enter your first name \")\n",
    "last_name = input(\"please enter your last name \")\n",
    "age = input(\"please enter your age \")\n",
    "school = input(\"What is the name of your school  \")\n",
    "\n",
    "print(\"Hello everyone, my fullname is\" , first_name, last_name, \"i am\" , age, \n",
    "     \"year olds and the name of my school is \", school)"
   ]
  },
  {
   "cell_type": "code",
   "execution_count": null,
   "id": "9cbfbd5e",
   "metadata": {},
   "outputs": [],
   "source": []
  },
  {
   "cell_type": "code",
   "execution_count": null,
   "id": "20116fe9",
   "metadata": {},
   "outputs": [],
   "source": []
  },
  {
   "cell_type": "markdown",
   "id": "0af3263f",
   "metadata": {},
   "source": [
    "# Operator in Python\n",
    "Operator are used to manipulate operand\n",
    "operand can be object or variable\n",
    "\n",
    "1. Arithmetic\n",
    "2. Assignment\n",
    "3. Comparison\n",
    "4. Identity\n",
    "5. Membership\n",
    "6. Logical \n",
    "7. Bitwise"
   ]
  },
  {
   "cell_type": "markdown",
   "id": "2268a998",
   "metadata": {},
   "source": [
    "# 1. Arithmetic"
   ]
  },
  {
   "cell_type": "code",
   "execution_count": 2,
   "id": "7cd63c04",
   "metadata": {},
   "outputs": [
    {
     "name": "stdout",
     "output_type": "stream",
     "text": [
      "25\n"
     ]
    }
   ],
   "source": [
    "# Addition\n",
    "num1 = 10\n",
    "num2 = 15\n",
    "total = num1 + num2\n",
    "print(total)"
   ]
  },
  {
   "cell_type": "code",
   "execution_count": 3,
   "id": "55107885",
   "metadata": {},
   "outputs": [
    {
     "name": "stdout",
     "output_type": "stream",
     "text": [
      "-5\n"
     ]
    }
   ],
   "source": [
    "# subtaction\n",
    "num1 = 10\n",
    "num2 = 15\n",
    "total = num1 - num2\n",
    "print(total)"
   ]
  },
  {
   "cell_type": "code",
   "execution_count": 4,
   "id": "bf7eb093",
   "metadata": {},
   "outputs": [
    {
     "name": "stdout",
     "output_type": "stream",
     "text": [
      "0.6666666666666666\n"
     ]
    }
   ],
   "source": [
    "# division\n",
    "num1 = 10\n",
    "num2 = 15\n",
    "total = num1 / num2\n",
    "print(total)"
   ]
  },
  {
   "cell_type": "code",
   "execution_count": 5,
   "id": "39416ac6",
   "metadata": {},
   "outputs": [
    {
     "name": "stdout",
     "output_type": "stream",
     "text": [
      "150\n"
     ]
    }
   ],
   "source": [
    "# multiplication\n",
    "num1 = 10\n",
    "num2 = 15\n",
    "total = num1 * num2\n",
    "print(total)"
   ]
  },
  {
   "cell_type": "code",
   "execution_count": 6,
   "id": "8c1db274",
   "metadata": {},
   "outputs": [
    {
     "name": "stdout",
     "output_type": "stream",
     "text": [
      "1000000000000000\n"
     ]
    }
   ],
   "source": [
    "# power\n",
    "num1 = 10\n",
    "num2 = 15\n",
    "total = num1 ** num2\n",
    "print(total)"
   ]
  },
  {
   "cell_type": "code",
   "execution_count": 7,
   "id": "056eae1d",
   "metadata": {},
   "outputs": [
    {
     "name": "stdout",
     "output_type": "stream",
     "text": [
      "5\n"
     ]
    }
   ],
   "source": [
    "# modulus\n",
    "num1 = 10\n",
    "num2 = 15\n",
    "total = num2 % num1\n",
    "print(total)"
   ]
  },
  {
   "cell_type": "markdown",
   "id": "92473277",
   "metadata": {},
   "source": [
    "# Assignment Operator"
   ]
  },
  {
   "cell_type": "code",
   "execution_count": null,
   "id": "3716d22a",
   "metadata": {},
   "outputs": [],
   "source": [
    "# Equality sign\n",
    "name = \"olaitan\""
   ]
  },
  {
   "cell_type": "code",
   "execution_count": 9,
   "id": "8bbef3fd",
   "metadata": {},
   "outputs": [
    {
     "name": "stdout",
     "output_type": "stream",
     "text": [
      "6\n"
     ]
    }
   ],
   "source": [
    "# increments \n",
    "a = 4\n",
    "a+=2 # increase the value of a by two\n",
    "print(a)"
   ]
  },
  {
   "cell_type": "code",
   "execution_count": 10,
   "id": "9c295b2f",
   "metadata": {},
   "outputs": [
    {
     "name": "stdout",
     "output_type": "stream",
     "text": [
      "2\n"
     ]
    }
   ],
   "source": [
    "# decrements \n",
    "a = 4\n",
    "a-=2 # increase the value of a by two\n",
    "print(a)"
   ]
  },
  {
   "cell_type": "markdown",
   "id": "a5b5f63d",
   "metadata": {},
   "source": [
    "# 3. Comparison Operator;\n",
    "it will return boolean result: (True or False)"
   ]
  },
  {
   "cell_type": "code",
   "execution_count": null,
   "id": "eac5f9d8",
   "metadata": {},
   "outputs": [],
   "source": []
  },
  {
   "cell_type": "code",
   "execution_count": 12,
   "id": "877d0c9b",
   "metadata": {},
   "outputs": [
    {
     "name": "stdout",
     "output_type": "stream",
     "text": [
      "False\n"
     ]
    }
   ],
   "source": [
    "# grater than\n",
    "num1 = 5\n",
    "num2 = 7\n",
    "print(num1 > num2)"
   ]
  },
  {
   "cell_type": "code",
   "execution_count": 13,
   "id": "1209ad01",
   "metadata": {},
   "outputs": [
    {
     "name": "stdout",
     "output_type": "stream",
     "text": [
      "True\n"
     ]
    }
   ],
   "source": [
    "# less than\n",
    "num1 = 5\n",
    "num2 = 7\n",
    "print(num1 < num2)"
   ]
  },
  {
   "cell_type": "code",
   "execution_count": 15,
   "id": "28a1d087",
   "metadata": {},
   "outputs": [
    {
     "name": "stdout",
     "output_type": "stream",
     "text": [
      "True\n"
     ]
    }
   ],
   "source": [
    "# grater than or equal to\n",
    "num1 = 5\n",
    "num2 = 5\n",
    "print(num1 >= num2)"
   ]
  },
  {
   "cell_type": "code",
   "execution_count": 18,
   "id": "2411a865",
   "metadata": {},
   "outputs": [
    {
     "name": "stdout",
     "output_type": "stream",
     "text": [
      "False\n"
     ]
    }
   ],
   "source": [
    "# less than or equal to\n",
    "num1 = 8\n",
    "num2 = 5\n",
    "print(num1 <= num2)"
   ]
  },
  {
   "cell_type": "code",
   "execution_count": 20,
   "id": "5ae163db",
   "metadata": {},
   "outputs": [
    {
     "name": "stdout",
     "output_type": "stream",
     "text": [
      "False\n"
     ]
    }
   ],
   "source": [
    "#==\n",
    "num1 = 9\n",
    "num2 = 5\n",
    "print(num1 == num2)"
   ]
  },
  {
   "cell_type": "markdown",
   "id": "9783dd71",
   "metadata": {},
   "source": [
    "# Identity Operator\n",
    "it also return boolean result\n",
    "\n",
    "in, not in"
   ]
  },
  {
   "cell_type": "code",
   "execution_count": 22,
   "id": "8596b4cd",
   "metadata": {},
   "outputs": [
    {
     "data": {
      "text/plain": [
       "False"
      ]
     },
     "execution_count": 22,
     "metadata": {},
     "output_type": "execute_result"
    }
   ],
   "source": [
    "name = \"olaitan\"\n",
    "\"O\" in name"
   ]
  },
  {
   "cell_type": "code",
   "execution_count": 23,
   "id": "e5426615",
   "metadata": {},
   "outputs": [
    {
     "data": {
      "text/plain": [
       "True"
      ]
     },
     "execution_count": 23,
     "metadata": {},
     "output_type": "execute_result"
    }
   ],
   "source": [
    "name = \"olaitan\"\n",
    "\"O\" not in name"
   ]
  },
  {
   "cell_type": "markdown",
   "id": "b1aea11a",
   "metadata": {},
   "source": [
    "# Membership Operator\n",
    "also return boolean result\n",
    "\n",
    "- is, is not"
   ]
  },
  {
   "cell_type": "code",
   "execution_count": 25,
   "id": "867cd7f3",
   "metadata": {},
   "outputs": [
    {
     "data": {
      "text/plain": [
       "True"
      ]
     },
     "execution_count": 25,
     "metadata": {},
     "output_type": "execute_result"
    }
   ],
   "source": [
    "name = \"olaitan\"\n",
    "name2 = \"olaitan\"\n",
    "name1 = \"kazeem\"\n",
    "name is name2"
   ]
  },
  {
   "cell_type": "code",
   "execution_count": 26,
   "id": "542e30d7",
   "metadata": {},
   "outputs": [
    {
     "data": {
      "text/plain": [
       "False"
      ]
     },
     "execution_count": 26,
     "metadata": {},
     "output_type": "execute_result"
    }
   ],
   "source": [
    "name is not name2"
   ]
  },
  {
   "cell_type": "code",
   "execution_count": null,
   "id": "3055421e",
   "metadata": {},
   "outputs": [],
   "source": []
  },
  {
   "cell_type": "code",
   "execution_count": null,
   "id": "f2cbceb6",
   "metadata": {},
   "outputs": [],
   "source": []
  },
  {
   "cell_type": "code",
   "execution_count": null,
   "id": "e54f01a4",
   "metadata": {},
   "outputs": [],
   "source": []
  },
  {
   "cell_type": "code",
   "execution_count": null,
   "id": "52ed3fe7",
   "metadata": {},
   "outputs": [],
   "source": []
  },
  {
   "cell_type": "code",
   "execution_count": null,
   "id": "7ed47f3d",
   "metadata": {},
   "outputs": [],
   "source": []
  },
  {
   "cell_type": "code",
   "execution_count": null,
   "id": "2ba7e6c9",
   "metadata": {},
   "outputs": [],
   "source": []
  },
  {
   "cell_type": "code",
   "execution_count": null,
   "id": "610d4ebc",
   "metadata": {},
   "outputs": [],
   "source": []
  }
 ],
 "metadata": {
  "kernelspec": {
   "display_name": "Python 3 (ipykernel)",
   "language": "python",
   "name": "python3"
  },
  "language_info": {
   "codemirror_mode": {
    "name": "ipython",
    "version": 3
   },
   "file_extension": ".py",
   "mimetype": "text/x-python",
   "name": "python",
   "nbconvert_exporter": "python",
   "pygments_lexer": "ipython3",
   "version": "3.9.13"
  }
 },
 "nbformat": 4,
 "nbformat_minor": 5
}
