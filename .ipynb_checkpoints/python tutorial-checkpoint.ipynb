{
 "cells": [
  {
   "cell_type": "code",
   "execution_count": null,
   "id": "5cb386fb",
   "metadata": {},
   "outputs": [],
   "source": []
  },
  {
   "cell_type": "markdown",
   "id": "8e5d0052",
   "metadata": {},
   "source": [
    "# Introduction to jupyter Notebook\n",
    "\n",
    "you don't have to stress yourself in **creating** body, just write what you want `write`\n",
    "\n",
    "## Python is fun\n",
    "\n",
    "###### smallest header\n",
    "\n",
    "## Order list\n",
    "1. Point One\n",
    "2. Point Two\n",
    "3. Point Three\n",
    "\n",
    "\n",
    "## Unorder List\n",
    "- Point One\n",
    "- Point Two\n",
    "- Point three\n",
    "\n",
    "\n"
   ]
  },
  {
   "cell_type": "code",
   "execution_count": 3,
   "id": "637a7ccd",
   "metadata": {},
   "outputs": [
    {
     "name": "stdout",
     "output_type": "stream",
     "text": [
      "Hello World,  python is awesome\n"
     ]
    }
   ],
   "source": [
    "# am about to write my first python code\n",
    "print(\"Hello World,  python is awesome\")"
   ]
  },
  {
   "cell_type": "markdown",
   "id": "e0046c07",
   "metadata": {},
   "source": [
    "# Variable and identifier\n",
    "- A variable is an object that occupy space on compputer memory\n",
    "- Identifier is used to identify variable\n",
    "\n",
    "\n",
    "## Rules For Naming Variable\n",
    "\n",
    "- A variable name can not start with a number, though it can be find anywhere else\n",
    "- A variable name can not contain any special character(s) except underscore\n",
    "- A variable name can not be join with space, Use underscore instead.\n",
    "- A variable can not be name with pyton reserved key words"
   ]
  },
  {
   "cell_type": "code",
   "execution_count": null,
   "id": "7a9de3a5",
   "metadata": {},
   "outputs": [],
   "source": [
    "# state your fullname, age and your name of your school, then introduce youreself to the screen"
   ]
  },
  {
   "cell_type": "code",
   "execution_count": 2,
   "id": "cc6fbb25",
   "metadata": {},
   "outputs": [
    {
     "name": "stdout",
     "output_type": "stream",
     "text": [
      "Hello everyone, my fullname is olaitan kazeem i am 12 year olds and the name of my school is  LASOP\n"
     ]
    }
   ],
   "source": [
    "first_name = \"olaitan\"\n",
    "last_name = \"kazeem\"\n",
    "age = 12\n",
    "school = \"LASOP\"\n",
    "\n",
    "print(\"Hello everyone, my fullname is\" , first_name, last_name, \"i am\" , age, \n",
    "     \"year olds and the name of my school is \", school)"
   ]
  },
  {
   "cell_type": "code",
   "execution_count": 3,
   "id": "e8e9d293",
   "metadata": {},
   "outputs": [
    {
     "name": "stdout",
     "output_type": "stream",
     "text": [
      "please enter your first name James\n",
      "please enter your last name Sancho\n",
      "please enter your age 45\n",
      "What is the name of your school  Fut Minna\n",
      "Hello everyone, my fullname is James Sancho i am 45 year olds and the name of my school is  Fut Minna\n"
     ]
    }
   ],
   "source": [
    "first_name = input(\"please enter your first name \")\n",
    "last_name = input(\"please enter your last name \")\n",
    "age = input(\"please enter your age \")\n",
    "school = input(\"What is the name of your school  \")\n",
    "\n",
    "print(\"Hello everyone, my fullname is\" , first_name, last_name, \"i am\" , age, \n",
    "     \"year olds and the name of my school is \", school)"
   ]
  },
  {
   "cell_type": "code",
   "execution_count": 4,
   "id": "3cbdf377",
   "metadata": {},
   "outputs": [
    {
     "name": "stdout",
     "output_type": "stream",
     "text": [
      "please enter your first name k\n",
      "please enter your last name i\n",
      "please enter your age y\n",
      "What is the name of your school  g\n",
      "Hello everyone, my fullname is k i i am y year olds and the name of my school is  g\n"
     ]
    }
   ],
   "source": [
    "first_name = input(\"please enter your first name \")\n",
    "last_name = input(\"please enter your last name \")\n",
    "age = input(\"please enter your age \")\n",
    "school = input(\"What is the name of your school  \")\n",
    "\n",
    "print(\"Hello everyone, my fullname is\" , first_name, last_name, \"i am\" , age, \n",
    "     \"year olds and the name of my school is \", school)"
   ]
  },
  {
   "cell_type": "code",
   "execution_count": null,
   "id": "9cbfbd5e",
   "metadata": {},
   "outputs": [],
   "source": []
  },
  {
   "cell_type": "code",
   "execution_count": null,
   "id": "9da99831",
   "metadata": {},
   "outputs": [],
   "source": []
  },
  {
   "cell_type": "markdown",
   "id": "27414b04",
   "metadata": {},
   "source": [
    "# Operator in Python\n",
    "Operator are used to manipulate operand\n",
    "operand can be object or variable\n",
    "\n",
    "1. Arithmetic\n",
    "2. Assignment\n",
    "3. Comparison\n",
    "4. Identity\n",
    "5. Membership\n",
    "6. Logical \n",
    "7. Bitwise"
   ]
  },
  {
   "cell_type": "markdown",
   "id": "7a0a4f63",
   "metadata": {},
   "source": [
    "# 1. Arithmetic"
   ]
  },
  {
   "cell_type": "code",
   "execution_count": 2,
   "id": "060e0d83",
   "metadata": {},
   "outputs": [
    {
     "name": "stdout",
     "output_type": "stream",
     "text": [
      "25\n"
     ]
    }
   ],
   "source": [
    "# Addition\n",
    "num1 = 10\n",
    "num2 = 15\n",
    "total = num1 + num2\n",
    "print(total)"
   ]
  },
  {
   "cell_type": "code",
   "execution_count": 3,
   "id": "4867bea3",
   "metadata": {},
   "outputs": [
    {
     "name": "stdout",
     "output_type": "stream",
     "text": [
      "-5\n"
     ]
    }
   ],
   "source": [
    "# subtaction\n",
    "num1 = 10\n",
    "num2 = 15\n",
    "total = num1 - num2\n",
    "print(total)"
   ]
  },
  {
   "cell_type": "code",
   "execution_count": 4,
   "id": "3e146660",
   "metadata": {},
   "outputs": [
    {
     "name": "stdout",
     "output_type": "stream",
     "text": [
      "0.6666666666666666\n"
     ]
    }
   ],
   "source": [
    "# division\n",
    "num1 = 10\n",
    "num2 = 15\n",
    "total = num1 / num2\n",
    "print(total)"
   ]
  },
  {
   "cell_type": "code",
   "execution_count": 5,
   "id": "182c44d9",
   "metadata": {},
   "outputs": [
    {
     "name": "stdout",
     "output_type": "stream",
     "text": [
      "150\n"
     ]
    }
   ],
   "source": [
    "# multiplication\n",
    "num1 = 10\n",
    "num2 = 15\n",
    "total = num1 * num2\n",
    "print(total)"
   ]
  },
  {
   "cell_type": "code",
   "execution_count": 6,
   "id": "8b67cedf",
   "metadata": {},
   "outputs": [
    {
     "name": "stdout",
     "output_type": "stream",
     "text": [
      "1000000000000000\n"
     ]
    }
   ],
   "source": [
    "# power\n",
    "num1 = 10\n",
    "num2 = 15\n",
    "total = num1 ** num2\n",
    "print(total)"
   ]
  },
  {
   "cell_type": "code",
   "execution_count": 7,
   "id": "00b8d146",
   "metadata": {},
   "outputs": [
    {
     "name": "stdout",
     "output_type": "stream",
     "text": [
      "5\n"
     ]
    }
   ],
   "source": [
    "# modulus\n",
    "num1 = 10\n",
    "num2 = 15\n",
    "total = num2 % num1\n",
    "print(total)"
   ]
  },
  {
   "cell_type": "markdown",
   "id": "0bf46c7a",
   "metadata": {},
   "source": [
    "# Assignment Operator"
   ]
  },
  {
   "cell_type": "code",
   "execution_count": null,
   "id": "aebe2a68",
   "metadata": {},
   "outputs": [],
   "source": [
    "# Equality sign\n",
    "name = \"olaitan\""
   ]
  },
  {
   "cell_type": "code",
   "execution_count": 9,
   "id": "646cee4f",
   "metadata": {},
   "outputs": [
    {
     "name": "stdout",
     "output_type": "stream",
     "text": [
      "6\n"
     ]
    }
   ],
   "source": [
    "# increments \n",
    "a = 4\n",
    "a+=2 # increase the value of a by two\n",
    "print(a)"
   ]
  },
  {
   "cell_type": "code",
   "execution_count": 10,
   "id": "c82a70cd",
   "metadata": {},
   "outputs": [
    {
     "name": "stdout",
     "output_type": "stream",
     "text": [
      "2\n"
     ]
    }
   ],
   "source": [
    "# decrements \n",
    "a = 4\n",
    "a-=2 # increase the value of a by two\n",
    "print(a)"
   ]
  },
  {
   "cell_type": "markdown",
   "id": "1988dc97",
   "metadata": {},
   "source": [
    "# 3. Comparison Operator;\n",
    "it will return boolean result: (True or False)"
   ]
  },
  {
   "cell_type": "code",
   "execution_count": null,
   "id": "cb880c2d",
   "metadata": {},
   "outputs": [],
   "source": []
  },
  {
   "cell_type": "code",
   "execution_count": 12,
   "id": "757750fc",
   "metadata": {},
   "outputs": [
    {
     "name": "stdout",
     "output_type": "stream",
     "text": [
      "False\n"
     ]
    }
   ],
   "source": [
    "# grater than\n",
    "num1 = 5\n",
    "num2 = 7\n",
    "print(num1 > num2)"
   ]
  },
  {
   "cell_type": "code",
   "execution_count": 13,
   "id": "efb98976",
   "metadata": {},
   "outputs": [
    {
     "name": "stdout",
     "output_type": "stream",
     "text": [
      "True\n"
     ]
    }
   ],
   "source": [
    "# less than\n",
    "num1 = 5\n",
    "num2 = 7\n",
    "print(num1 < num2)"
   ]
  },
  {
   "cell_type": "code",
   "execution_count": 15,
   "id": "ab0f9a49",
   "metadata": {},
   "outputs": [
    {
     "name": "stdout",
     "output_type": "stream",
     "text": [
      "True\n"
     ]
    }
   ],
   "source": [
    "# grater than or equal to\n",
    "num1 = 5\n",
    "num2 = 5\n",
    "print(num1 >= num2)"
   ]
  },
  {
   "cell_type": "code",
   "execution_count": 18,
   "id": "8b37c347",
   "metadata": {},
   "outputs": [
    {
     "name": "stdout",
     "output_type": "stream",
     "text": [
      "False\n"
     ]
    }
   ],
   "source": [
    "# less than or equal to\n",
    "num1 = 8\n",
    "num2 = 5\n",
    "print(num1 <= num2)"
   ]
  },
  {
   "cell_type": "code",
   "execution_count": 20,
   "id": "fa1f13b5",
   "metadata": {},
   "outputs": [
    {
     "name": "stdout",
     "output_type": "stream",
     "text": [
      "False\n"
     ]
    }
   ],
   "source": [
    "#==\n",
    "num1 = 9\n",
    "num2 = 5\n",
    "print(num1 == num2)"
   ]
  },
  {
   "cell_type": "markdown",
   "id": "164e1333",
   "metadata": {},
   "source": [
    "# Identity Operator\n",
    "it also return boolean result\n",
    "\n",
    "in, not in"
   ]
  },
  {
   "cell_type": "code",
   "execution_count": 22,
   "id": "e1af73e1",
   "metadata": {},
   "outputs": [
    {
     "data": {
      "text/plain": [
       "False"
      ]
     },
     "execution_count": 22,
     "metadata": {},
     "output_type": "execute_result"
    }
   ],
   "source": [
    "name = \"olaitan\"\n",
    "\"O\" in name"
   ]
  },
  {
   "cell_type": "code",
   "execution_count": 23,
   "id": "9e70fc81",
   "metadata": {},
   "outputs": [
    {
     "data": {
      "text/plain": [
       "True"
      ]
     },
     "execution_count": 23,
     "metadata": {},
     "output_type": "execute_result"
    }
   ],
   "source": [
    "name = \"olaitan\"\n",
    "\"O\" not in name"
   ]
  },
  {
   "cell_type": "markdown",
   "id": "d10d5768",
   "metadata": {},
   "source": [
    "# Membership Operator\n",
    "also return boolean result\n",
    "\n",
    "- is, is not"
   ]
  },
  {
   "cell_type": "code",
   "execution_count": 25,
   "id": "a592fa24",
   "metadata": {},
   "outputs": [
    {
     "data": {
      "text/plain": [
       "True"
      ]
     },
     "execution_count": 25,
     "metadata": {},
     "output_type": "execute_result"
    }
   ],
   "source": [
    "name = \"olaitan\"\n",
    "name2 = \"olaitan\"\n",
    "name1 = \"kazeem\"\n",
    "name is name2"
   ]
  },
  {
   "cell_type": "code",
   "execution_count": 26,
   "id": "e5ad41e9",
   "metadata": {},
   "outputs": [
    {
     "data": {
      "text/plain": [
       "False"
      ]
     },
     "execution_count": 26,
     "metadata": {},
     "output_type": "execute_result"
    }
   ],
   "source": [
    "name is not name2"
   ]
  },
  {
   "cell_type": "code",
   "execution_count": null,
   "id": "5aa11ac9",
   "metadata": {},
   "outputs": [],
   "source": [
    "# Logical Operator\n",
    "it also return boolean result\n",
    "or, And"
   ]
  },
  {
   "cell_type": "code",
   "execution_count": 28,
   "id": "7bbabad3",
   "metadata": {},
   "outputs": [
    {
     "data": {
      "text/plain": [
       "True"
      ]
     },
     "execution_count": 28,
     "metadata": {},
     "output_type": "execute_result"
    }
   ],
   "source": [
    "num1 = 6\n",
    "num2 = 7\n",
    "num3 = 10\n",
    "(num1)> (num2) or (num3 > num2) # or returning true because one condition is true"
   ]
  },
  {
   "cell_type": "code",
   "execution_count": 29,
   "id": "8a739f11",
   "metadata": {},
   "outputs": [
    {
     "data": {
      "text/plain": [
       "False"
      ]
     },
     "execution_count": 29,
     "metadata": {},
     "output_type": "execute_result"
    }
   ],
   "source": [
    "(num1)> (num2) and (num3 > num2) # or returning true because one condition is true"
   ]
  },
  {
   "cell_type": "markdown",
   "id": "0d54974f",
   "metadata": {},
   "source": [
    "# Bitwise\n",
    "\n",
    "| &"
   ]
  },
  {
   "cell_type": "code",
   "execution_count": 35,
   "id": "d0449120",
   "metadata": {},
   "outputs": [
    {
     "data": {
      "text/plain": [
       "False"
      ]
     },
     "execution_count": 35,
     "metadata": {},
     "output_type": "execute_result"
    }
   ],
   "source": [
    "num1 = 6\n",
    "num2 = 7\n",
    "num3 = 10\n",
    "((num1)> (num2)) & ((num3 > num2)) # or returning true because one condition is true"
   ]
  },
  {
   "cell_type": "code",
   "execution_count": 37,
   "id": "4b59df46",
   "metadata": {},
   "outputs": [
    {
     "data": {
      "text/plain": [
       "True"
      ]
     },
     "execution_count": 37,
     "metadata": {},
     "output_type": "execute_result"
    }
   ],
   "source": [
    "num1 = 6\n",
    "num2 = 7\n",
    "num3 = 10\n",
    "((num1)> (num2)) | ((num3 > num2) )# or returning true because one condition is true"
   ]
  },
  {
   "cell_type": "code",
   "execution_count": null,
   "id": "dbb98030",
   "metadata": {},
   "outputs": [],
   "source": [
    "# mutable data type: this is data type that can be modify after defination\n",
    "1. list \n",
    "2. dictionary\n",
    "\n",
    "## immutable data type: this is data type that can not be modify after defination\n",
    "1. string\n",
    "2. number\n",
    "3. tuple\n",
    "4. set"
   ]
  },
  {
   "cell_type": "markdown",
   "id": "d6e28e81",
   "metadata": {},
   "source": [
    "# Number "
   ]
  },
  {
   "cell_type": "code",
   "execution_count": 3,
   "id": "47e3e011",
   "metadata": {},
   "outputs": [],
   "source": [
    "a = 23 # int\n",
    "b = 23.7 # float\n",
    "c = 2 + 7j # complex"
   ]
  },
  {
   "cell_type": "code",
   "execution_count": null,
   "id": "b53e6cbb",
   "metadata": {},
   "outputs": [],
   "source": []
  },
  {
   "cell_type": "markdown",
   "id": "7ebaf459",
   "metadata": {},
   "source": [
    "# String Datatype\n",
    "they are sequence of characters inside quote"
   ]
  },
  {
   "cell_type": "code",
   "execution_count": 1,
   "id": "86b9203c",
   "metadata": {},
   "outputs": [],
   "source": [
    "name = \"olaitan\"\n",
    "name = 'olaitan'\n",
    "introduction = \"\"\"  this is\n",
    "                 introduction to \n",
    "                 python \"\"\""
   ]
  },
  {
   "cell_type": "code",
   "execution_count": 2,
   "id": "17a15aba",
   "metadata": {},
   "outputs": [
    {
     "data": {
      "text/plain": [
       "str"
      ]
     },
     "execution_count": 2,
     "metadata": {},
     "output_type": "execute_result"
    }
   ],
   "source": [
    "type(name)"
   ]
  },
  {
   "cell_type": "code",
   "execution_count": 4,
   "id": "514ea605",
   "metadata": {},
   "outputs": [
    {
     "data": {
      "text/plain": [
       "int"
      ]
     },
     "execution_count": 4,
     "metadata": {},
     "output_type": "execute_result"
    }
   ],
   "source": [
    "type(a)"
   ]
  },
  {
   "cell_type": "markdown",
   "id": "76123624",
   "metadata": {},
   "source": [
    "# index and slicing\n",
    "idexing is just a way of return a character at a given position"
   ]
  },
  {
   "cell_type": "code",
   "execution_count": 7,
   "id": "6129463d",
   "metadata": {},
   "outputs": [],
   "source": [
    "introduction = \"\"\"this is introduction to python\"\"\""
   ]
  },
  {
   "cell_type": "code",
   "execution_count": 8,
   "id": "fd534327",
   "metadata": {},
   "outputs": [],
   "source": [
    "# any datatype in python has zero base index"
   ]
  },
  {
   "cell_type": "code",
   "execution_count": 9,
   "id": "610d4ebc",
   "metadata": {},
   "outputs": [
    {
     "data": {
      "text/plain": [
       "'t'"
      ]
     },
     "execution_count": 9,
     "metadata": {},
     "output_type": "execute_result"
    }
   ],
   "source": [
    "# return the first character from the introduction variable\n",
    "introduction[0]   # forward indexing "
   ]
  },
  {
   "cell_type": "code",
   "execution_count": 10,
   "id": "34731271",
   "metadata": {},
   "outputs": [
    {
     "data": {
      "text/plain": [
       "'u'"
      ]
     },
     "execution_count": 10,
     "metadata": {},
     "output_type": "execute_result"
    }
   ],
   "source": [
    "# return u from the introduction variable\n",
    "introduction[14]  # forward indexing"
   ]
  },
  {
   "cell_type": "code",
   "execution_count": 11,
   "id": "91f0f955",
   "metadata": {},
   "outputs": [
    {
     "data": {
      "text/plain": [
       "'y'"
      ]
     },
     "execution_count": 11,
     "metadata": {},
     "output_type": "execute_result"
    }
   ],
   "source": [
    "# using backward indexing return  y from the introduction\n",
    "introduction[-5]"
   ]
  },
  {
   "cell_type": "markdown",
   "id": "ae1cd092",
   "metadata": {},
   "source": [
    "# slicing will return set of characters within range\n",
    "\n",
    "[idexNO: postionNO: stepskip]"
   ]
  },
  {
   "cell_type": "code",
   "execution_count": 14,
   "id": "97ce5532",
   "metadata": {},
   "outputs": [
    {
     "data": {
      "text/plain": [
       "'introduction'"
      ]
     },
     "execution_count": 14,
     "metadata": {},
     "output_type": "execute_result"
    }
   ],
   "source": [
    "introduction = \"\"\"this is introduction to python\"\"\"\n",
    "\n",
    "# return introduction from the variable above\n",
    "introduction[8:20]"
   ]
  },
  {
   "cell_type": "code",
   "execution_count": 17,
   "id": "2d5d9af8",
   "metadata": {},
   "outputs": [
    {
     "data": {
      "text/plain": [
       "'ti sit'"
      ]
     },
     "execution_count": 17,
     "metadata": {},
     "output_type": "execute_result"
    }
   ],
   "source": [
    "# return \"ti sit\" from the variable above\n",
    "introduction[0:11: 2]"
   ]
  },
  {
   "cell_type": "code",
   "execution_count": 24,
   "id": "3e6bb622",
   "metadata": {},
   "outputs": [
    {
     "data": {
      "text/plain": [
       "'tdtn'"
      ]
     },
     "execution_count": 24,
     "metadata": {},
     "output_type": "execute_result"
    }
   ],
   "source": [
    "# tdtn\n",
    "introduction[10:22:3]"
   ]
  },
  {
   "cell_type": "code",
   "execution_count": null,
   "id": "9ee9fc18",
   "metadata": {},
   "outputs": [],
   "source": [
    "pip install jupytertheme"
   ]
  },
  {
   "cell_type": "code",
   "execution_count": null,
   "id": "f1193686",
   "metadata": {},
   "outputs": [],
   "source": []
  },
  {
   "cell_type": "code",
   "execution_count": null,
   "id": "d349944f",
   "metadata": {},
   "outputs": [],
   "source": []
  },
  {
   "cell_type": "code",
   "execution_count": null,
   "id": "1db52815",
   "metadata": {},
   "outputs": [],
   "source": []
  },
  {
   "cell_type": "code",
   "execution_count": null,
   "id": "96aa1a44",
   "metadata": {},
   "outputs": [],
   "source": []
  },
  {
   "cell_type": "code",
   "execution_count": 8,
   "id": "acaaca40",
   "metadata": {},
   "outputs": [
    {
     "name": "stdout",
     "output_type": "stream",
     "text": [
      "enter the first number 7\n",
      "enter the second number 9\n",
      "the summation of the two number entered is  16\n"
     ]
    }
   ],
   "source": [
    "num1 = int (    input(\"enter the first number \")    )\n",
    "num2 = int (input(\"enter the second number \"))\n",
    "total = num1 + num2\n",
    "print(\"the summation of the two number entered is \", total)"
   ]
  },
  {
   "cell_type": "code",
   "execution_count": null,
   "id": "aa50e241",
   "metadata": {},
   "outputs": [],
   "source": [
    "int\n",
    "float\n",
    "str\n",
    "complex"
   ]
  },
  {
   "cell_type": "code",
   "execution_count": 2,
   "id": "b09d05a6",
   "metadata": {},
   "outputs": [],
   "source": [
    "w = \"12\""
   ]
  },
  {
   "cell_type": "code",
   "execution_count": 3,
   "id": "e06f1f24",
   "metadata": {},
   "outputs": [
    {
     "data": {
      "text/plain": [
       "str"
      ]
     },
     "execution_count": 3,
     "metadata": {},
     "output_type": "execute_result"
    }
   ],
   "source": [
    "type(w)"
   ]
  },
  {
   "cell_type": "code",
   "execution_count": 5,
   "id": "28ab5810",
   "metadata": {},
   "outputs": [],
   "source": [
    "w= int(w)"
   ]
  },
  {
   "cell_type": "code",
   "execution_count": 6,
   "id": "5cc8cb84",
   "metadata": {},
   "outputs": [
    {
     "data": {
      "text/plain": [
       "int"
      ]
     },
     "execution_count": 6,
     "metadata": {},
     "output_type": "execute_result"
    }
   ],
   "source": [
    "type(w)"
   ]
  },
  {
   "cell_type": "code",
   "execution_count": 9,
   "id": "668fb920",
   "metadata": {},
   "outputs": [
    {
     "name": "stdout",
     "output_type": "stream",
     "text": [
      "please enter you born year 2000\n",
      "Your current Age is  23\n"
     ]
    }
   ],
   "source": [
    "# write python script that can ask users for their born year, then return the current age of such user\n",
    "born_year = int (input(\"please enter you born year \"))\n",
    "age = 2023 -born_year\n",
    "print(\"Your current Age is \", age)"
   ]
  },
  {
   "cell_type": "markdown",
   "id": "ffa84062",
   "metadata": {},
   "source": [
    "# Operators In Python\n",
    " In python Operators are used to manipulate Operand\n",
    "\n",
    "1. Arithmentic\n",
    "2. Assignment\n",
    "3. Comparision\n",
    "4. Membership\n",
    "5. Identity \n",
    "6. Logical \n",
    "7. Bitwise \n"
   ]
  },
  {
   "cell_type": "markdown",
   "id": "b5403763",
   "metadata": {},
   "source": [
    "# Arithmetic"
   ]
  },
  {
   "cell_type": "code",
   "execution_count": 11,
   "id": "ee28a20c",
   "metadata": {},
   "outputs": [
    {
     "name": "stdout",
     "output_type": "stream",
     "text": [
      "10\n"
     ]
    }
   ],
   "source": [
    "# Addition\n",
    "a = 3\n",
    "b = 7\n",
    "total = a + b\n",
    "print(total)"
   ]
  },
  {
   "cell_type": "code",
   "execution_count": 12,
   "id": "7f800850",
   "metadata": {},
   "outputs": [
    {
     "name": "stdout",
     "output_type": "stream",
     "text": [
      "-4\n"
     ]
    }
   ],
   "source": [
    "# subtraction\n",
    "a = 3\n",
    "b = 7\n",
    "total = a - b\n",
    "print(total)"
   ]
  },
  {
   "cell_type": "code",
   "execution_count": 13,
   "id": "51eaca9e",
   "metadata": {},
   "outputs": [
    {
     "name": "stdout",
     "output_type": "stream",
     "text": [
      "3.3333333333333335\n"
     ]
    }
   ],
   "source": [
    "# division\n",
    "a = 10\n",
    "b = 3\n",
    "total = a / b\n",
    "print(total)"
   ]
  },
  {
   "cell_type": "code",
   "execution_count": 14,
   "id": "67ae41ec",
   "metadata": {},
   "outputs": [
    {
     "name": "stdout",
     "output_type": "stream",
     "text": [
      "30\n"
     ]
    }
   ],
   "source": [
    "# multiplication\n",
    "a = 10\n",
    "b = 3\n",
    "total = a * b\n",
    "print(total)"
   ]
  },
  {
   "cell_type": "code",
   "execution_count": 15,
   "id": "fcf2563d",
   "metadata": {},
   "outputs": [
    {
     "name": "stdout",
     "output_type": "stream",
     "text": [
      "1000\n"
     ]
    }
   ],
   "source": [
    "# power\n",
    "a = 10\n",
    "b = 3\n",
    "total = a ** b\n",
    "print(total)"
   ]
  },
  {
   "cell_type": "code",
   "execution_count": 17,
   "id": "7eab33d8",
   "metadata": {},
   "outputs": [
    {
     "name": "stdout",
     "output_type": "stream",
     "text": [
      "0\n"
     ]
    }
   ],
   "source": [
    "# modulus\n",
    "a = 10\n",
    "b = 2\n",
    "total = a  %    b\n",
    "print(total)"
   ]
  },
  {
   "cell_type": "code",
   "execution_count": null,
   "id": "e29448c6",
   "metadata": {},
   "outputs": [],
   "source": []
  },
  {
   "cell_type": "code",
   "execution_count": null,
   "id": "069542bb",
   "metadata": {},
   "outputs": [],
   "source": []
  },
  {
   "cell_type": "code",
   "execution_count": null,
   "id": "0e64bef7",
   "metadata": {},
   "outputs": [],
   "source": []
  },
  {
   "cell_type": "code",
   "execution_count": null,
   "id": "beae1d9a",
   "metadata": {},
   "outputs": [],
   "source": []
  }
 ],
 "metadata": {
  "kernelspec": {
   "display_name": "Python 3 (ipykernel)",
   "language": "python",
   "name": "python3"
  },
  "language_info": {
   "codemirror_mode": {
    "name": "ipython",
    "version": 3
   },
   "file_extension": ".py",
   "mimetype": "text/x-python",
   "name": "python",
   "nbconvert_exporter": "python",
   "pygments_lexer": "ipython3",
   "version": "3.9.13"
  }
 },
 "nbformat": 4,
 "nbformat_minor": 5
}
