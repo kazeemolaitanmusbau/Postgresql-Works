{
 "cells": [
  {
   "cell_type": "code",
   "execution_count": null,
   "id": "5cb386fb",
   "metadata": {},
   "outputs": [],
   "source": []
  },
  {
   "cell_type": "markdown",
   "id": "8e5d0052",
   "metadata": {},
   "source": [
    "# Introduction to jupyter Notebook\n",
    "\n",
    "you don't have to stress yourself in **creating** body, just write what you want `write`\n",
    "\n",
    "## Python is fun\n",
    "\n",
    "###### smallest header\n",
    "\n",
    "## Order list\n",
    "1. Point One\n",
    "2. Point Two\n",
    "3. Point Three\n",
    "\n",
    "\n",
    "## Unorder List\n",
    "- Point One\n",
    "- Point Two\n",
    "- Point three\n",
    "\n",
    "\n"
   ]
  },
  {
   "cell_type": "code",
   "execution_count": 3,
   "id": "637a7ccd",
   "metadata": {},
   "outputs": [
    {
     "name": "stdout",
     "output_type": "stream",
     "text": [
      "Hello World,  python is awesome\n"
     ]
    }
   ],
   "source": [
    "# am about to write my first python code\n",
    "print(\"Hello World,  python is awesome\")"
   ]
  },
  {
   "cell_type": "markdown",
   "id": "e0046c07",
   "metadata": {},
   "source": [
    "# Variable and identifier\n",
    "- A variable is an object that occupy space on compputer memory\n",
    "- Identifier is used to identify variable\n",
    "\n",
    "\n",
    "## Rules For Naming Variable\n",
    "\n",
    "- A variable name can not start with a number, though it can be find anywhere else\n",
    "- A variable name can not contain any special character(s) except underscore\n",
    "- A variable name can not be join with space, Use underscore instead.\n",
    "- A variable can not be name with pyton reserved key words"
   ]
  },
  {
   "cell_type": "code",
   "execution_count": null,
   "id": "7a9de3a5",
   "metadata": {},
   "outputs": [],
   "source": [
    "# state your fullname, age and your name of your school, then introduce youreself to the screen"
   ]
  },
  {
   "cell_type": "code",
   "execution_count": 2,
   "id": "cc6fbb25",
   "metadata": {},
   "outputs": [
    {
     "name": "stdout",
     "output_type": "stream",
     "text": [
      "Hello everyone, my fullname is olaitan kazeem i am 12 year olds and the name of my school is  LASOP\n"
     ]
    }
   ],
   "source": [
    "first_name = \"olaitan\"\n",
    "last_name = \"kazeem\"\n",
    "age = 12\n",
    "school = \"LASOP\"\n",
    "\n",
    "print(\"Hello everyone, my fullname is\" , first_name, last_name, \"i am\" , age, \n",
    "     \"year olds and the name of my school is \", school)"
   ]
  },
  {
   "cell_type": "code",
   "execution_count": 3,
   "id": "e8e9d293",
   "metadata": {},
   "outputs": [
    {
     "name": "stdout",
     "output_type": "stream",
     "text": [
      "please enter your first name James\n",
      "please enter your last name Sancho\n",
      "please enter your age 45\n",
      "What is the name of your school  Fut Minna\n",
      "Hello everyone, my fullname is James Sancho i am 45 year olds and the name of my school is  Fut Minna\n"
     ]
    }
   ],
   "source": [
    "first_name = input(\"please enter your first name \")\n",
    "last_name = input(\"please enter your last name \")\n",
    "age = input(\"please enter your age \")\n",
    "school = input(\"What is the name of your school  \")\n",
    "\n",
    "print(\"Hello everyone, my fullname is\" , first_name, last_name, \"i am\" , age, \n",
    "     \"year olds and the name of my school is \", school)"
   ]
  },
  {
   "cell_type": "code",
   "execution_count": 4,
   "id": "3cbdf377",
   "metadata": {},
   "outputs": [
    {
     "name": "stdout",
     "output_type": "stream",
     "text": [
      "please enter your first name k\n",
      "please enter your last name i\n",
      "please enter your age y\n",
      "What is the name of your school  g\n",
      "Hello everyone, my fullname is k i i am y year olds and the name of my school is  g\n"
     ]
    }
   ],
   "source": [
    "first_name = input(\"please enter your first name \")\n",
    "last_name = input(\"please enter your last name \")\n",
    "age = input(\"please enter your age \")\n",
    "school = input(\"What is the name of your school  \")\n",
    "\n",
    "print(\"Hello everyone, my fullname is\" , first_name, last_name, \"i am\" , age, \n",
    "     \"year olds and the name of my school is \", school)"
   ]
  },
  {
   "cell_type": "code",
   "execution_count": null,
   "id": "9cbfbd5e",
   "metadata": {},
   "outputs": [],
   "source": []
  },
  {
   "cell_type": "code",
   "execution_count": null,
   "id": "9da99831",
   "metadata": {},
   "outputs": [],
   "source": []
  },
  {
   "cell_type": "markdown",
   "id": "27414b04",
   "metadata": {},
   "source": [
    "# Operator in Python\n",
    "Operator are used to manipulate operand\n",
    "operand can be object or variable\n",
    "\n",
    "1. Arithmetic\n",
    "2. Assignment\n",
    "3. Comparison\n",
    "4. Identity\n",
    "5. Membership\n",
    "6. Logical \n",
    "7. Bitwise"
   ]
  },
  {
   "cell_type": "markdown",
   "id": "7a0a4f63",
   "metadata": {},
   "source": [
    "# 1. Arithmetic"
   ]
  },
  {
   "cell_type": "code",
   "execution_count": 2,
   "id": "060e0d83",
   "metadata": {},
   "outputs": [
    {
     "name": "stdout",
     "output_type": "stream",
     "text": [
      "25\n"
     ]
    }
   ],
   "source": [
    "# Addition\n",
    "num1 = 10\n",
    "num2 = 15\n",
    "total = num1 + num2\n",
    "print(total)"
   ]
  },
  {
   "cell_type": "code",
   "execution_count": 3,
   "id": "4867bea3",
   "metadata": {},
   "outputs": [
    {
     "name": "stdout",
     "output_type": "stream",
     "text": [
      "-5\n"
     ]
    }
   ],
   "source": [
    "# subtaction\n",
    "num1 = 10\n",
    "num2 = 15\n",
    "total = num1 - num2\n",
    "print(total)"
   ]
  },
  {
   "cell_type": "code",
   "execution_count": 4,
   "id": "3e146660",
   "metadata": {},
   "outputs": [
    {
     "name": "stdout",
     "output_type": "stream",
     "text": [
      "0.6666666666666666\n"
     ]
    }
   ],
   "source": [
    "# division\n",
    "num1 = 10\n",
    "num2 = 15\n",
    "total = num1 / num2\n",
    "print(total)"
   ]
  },
  {
   "cell_type": "code",
   "execution_count": 5,
   "id": "182c44d9",
   "metadata": {},
   "outputs": [
    {
     "name": "stdout",
     "output_type": "stream",
     "text": [
      "150\n"
     ]
    }
   ],
   "source": [
    "# multiplication\n",
    "num1 = 10\n",
    "num2 = 15\n",
    "total = num1 * num2\n",
    "print(total)"
   ]
  },
  {
   "cell_type": "code",
   "execution_count": 6,
   "id": "8b67cedf",
   "metadata": {},
   "outputs": [
    {
     "name": "stdout",
     "output_type": "stream",
     "text": [
      "1000000000000000\n"
     ]
    }
   ],
   "source": [
    "# power\n",
    "num1 = 10\n",
    "num2 = 15\n",
    "total = num1 ** num2\n",
    "print(total)"
   ]
  },
  {
   "cell_type": "code",
   "execution_count": 7,
   "id": "00b8d146",
   "metadata": {},
   "outputs": [
    {
     "name": "stdout",
     "output_type": "stream",
     "text": [
      "5\n"
     ]
    }
   ],
   "source": [
    "# modulus\n",
    "num1 = 10\n",
    "num2 = 15\n",
    "total = num2 % num1\n",
    "print(total)"
   ]
  },
  {
   "cell_type": "markdown",
   "id": "0bf46c7a",
   "metadata": {},
   "source": [
    "# Assignment Operator"
   ]
  },
  {
   "cell_type": "code",
   "execution_count": null,
   "id": "aebe2a68",
   "metadata": {},
   "outputs": [],
   "source": [
    "# Equality sign\n",
    "name = \"olaitan\""
   ]
  },
  {
   "cell_type": "code",
   "execution_count": 9,
   "id": "646cee4f",
   "metadata": {},
   "outputs": [
    {
     "name": "stdout",
     "output_type": "stream",
     "text": [
      "6\n"
     ]
    }
   ],
   "source": [
    "# increments \n",
    "a = 4\n",
    "a+=2 # increase the value of a by two\n",
    "print(a)"
   ]
  },
  {
   "cell_type": "code",
   "execution_count": 10,
   "id": "c82a70cd",
   "metadata": {},
   "outputs": [
    {
     "name": "stdout",
     "output_type": "stream",
     "text": [
      "2\n"
     ]
    }
   ],
   "source": [
    "# decrements \n",
    "a = 4\n",
    "a-=2 # increase the value of a by two\n",
    "print(a)"
   ]
  },
  {
   "cell_type": "markdown",
   "id": "1988dc97",
   "metadata": {},
   "source": [
    "# 3. Comparison Operator;\n",
    "it will return boolean result: (True or False)"
   ]
  },
  {
   "cell_type": "code",
   "execution_count": null,
   "id": "cb880c2d",
   "metadata": {},
   "outputs": [],
   "source": []
  },
  {
   "cell_type": "code",
   "execution_count": 12,
   "id": "757750fc",
   "metadata": {},
   "outputs": [
    {
     "name": "stdout",
     "output_type": "stream",
     "text": [
      "False\n"
     ]
    }
   ],
   "source": [
    "# grater than\n",
    "num1 = 5\n",
    "num2 = 7\n",
    "print(num1 > num2)"
   ]
  },
  {
   "cell_type": "code",
   "execution_count": 13,
   "id": "efb98976",
   "metadata": {},
   "outputs": [
    {
     "name": "stdout",
     "output_type": "stream",
     "text": [
      "True\n"
     ]
    }
   ],
   "source": [
    "# less than\n",
    "num1 = 5\n",
    "num2 = 7\n",
    "print(num1 < num2)"
   ]
  },
  {
   "cell_type": "code",
   "execution_count": 15,
   "id": "ab0f9a49",
   "metadata": {},
   "outputs": [
    {
     "name": "stdout",
     "output_type": "stream",
     "text": [
      "True\n"
     ]
    }
   ],
   "source": [
    "# grater than or equal to\n",
    "num1 = 5\n",
    "num2 = 5\n",
    "print(num1 >= num2)"
   ]
  },
  {
   "cell_type": "code",
   "execution_count": 18,
   "id": "8b37c347",
   "metadata": {},
   "outputs": [
    {
     "name": "stdout",
     "output_type": "stream",
     "text": [
      "False\n"
     ]
    }
   ],
   "source": [
    "# less than or equal to\n",
    "num1 = 8\n",
    "num2 = 5\n",
    "print(num1 <= num2)"
   ]
  },
  {
   "cell_type": "code",
   "execution_count": 20,
   "id": "fa1f13b5",
   "metadata": {},
   "outputs": [
    {
     "name": "stdout",
     "output_type": "stream",
     "text": [
      "False\n"
     ]
    }
   ],
   "source": [
    "#==\n",
    "num1 = 9\n",
    "num2 = 5\n",
    "print(num1 == num2)"
   ]
  },
  {
   "cell_type": "markdown",
   "id": "164e1333",
   "metadata": {},
   "source": [
    "# Identity Operator\n",
    "it also return boolean result\n",
    "\n",
    "in, not in"
   ]
  },
  {
   "cell_type": "code",
   "execution_count": 22,
   "id": "e1af73e1",
   "metadata": {},
   "outputs": [
    {
     "data": {
      "text/plain": [
       "False"
      ]
     },
     "execution_count": 22,
     "metadata": {},
     "output_type": "execute_result"
    }
   ],
   "source": [
    "name = \"olaitan\"\n",
    "\"O\" in name"
   ]
  },
  {
   "cell_type": "code",
   "execution_count": 23,
   "id": "9e70fc81",
   "metadata": {},
   "outputs": [
    {
     "data": {
      "text/plain": [
       "True"
      ]
     },
     "execution_count": 23,
     "metadata": {},
     "output_type": "execute_result"
    }
   ],
   "source": [
    "name = \"olaitan\"\n",
    "\"O\" not in name"
   ]
  },
  {
   "cell_type": "markdown",
   "id": "d10d5768",
   "metadata": {},
   "source": [
    "# Membership Operator\n",
    "also return boolean result\n",
    "\n",
    "- is, is not"
   ]
  },
  {
   "cell_type": "code",
   "execution_count": 25,
   "id": "a592fa24",
   "metadata": {},
   "outputs": [
    {
     "data": {
      "text/plain": [
       "True"
      ]
     },
     "execution_count": 25,
     "metadata": {},
     "output_type": "execute_result"
    }
   ],
   "source": [
    "name = \"olaitan\"\n",
    "name2 = \"olaitan\"\n",
    "name1 = \"kazeem\"\n",
    "name is name2"
   ]
  },
  {
   "cell_type": "code",
   "execution_count": 26,
   "id": "e5ad41e9",
   "metadata": {},
   "outputs": [
    {
     "data": {
      "text/plain": [
       "False"
      ]
     },
     "execution_count": 26,
     "metadata": {},
     "output_type": "execute_result"
    }
   ],
   "source": [
    "name is not name2"
   ]
  },
  {
   "cell_type": "code",
   "execution_count": null,
   "id": "5aa11ac9",
   "metadata": {},
   "outputs": [],
   "source": [
    "# Logical Operator\n",
    "it also return boolean result\n",
    "or, And"
   ]
  },
  {
   "cell_type": "code",
   "execution_count": 28,
   "id": "7bbabad3",
   "metadata": {},
   "outputs": [
    {
     "data": {
      "text/plain": [
       "True"
      ]
     },
     "execution_count": 28,
     "metadata": {},
     "output_type": "execute_result"
    }
   ],
   "source": [
    "num1 = 6\n",
    "num2 = 7\n",
    "num3 = 10\n",
    "(num1)> (num2) or (num3 > num2) # or returning true because one condition is true"
   ]
  },
  {
   "cell_type": "code",
   "execution_count": 29,
   "id": "8a739f11",
   "metadata": {},
   "outputs": [
    {
     "data": {
      "text/plain": [
       "False"
      ]
     },
     "execution_count": 29,
     "metadata": {},
     "output_type": "execute_result"
    }
   ],
   "source": [
    "(num1)> (num2) and (num3 > num2) # or returning true because one condition is true"
   ]
  },
  {
   "cell_type": "markdown",
   "id": "0d54974f",
   "metadata": {},
   "source": [
    "# Bitwise\n",
    "\n",
    "| &"
   ]
  },
  {
   "cell_type": "code",
   "execution_count": 35,
   "id": "d0449120",
   "metadata": {},
   "outputs": [
    {
     "data": {
      "text/plain": [
       "False"
      ]
     },
     "execution_count": 35,
     "metadata": {},
     "output_type": "execute_result"
    }
   ],
   "source": [
    "num1 = 6\n",
    "num2 = 7\n",
    "num3 = 10\n",
    "((num1)> (num2)) & ((num3 > num2)) # or returning true because one condition is true"
   ]
  },
  {
   "cell_type": "code",
   "execution_count": 37,
   "id": "4b59df46",
   "metadata": {},
   "outputs": [
    {
     "data": {
      "text/plain": [
       "True"
      ]
     },
     "execution_count": 37,
     "metadata": {},
     "output_type": "execute_result"
    }
   ],
   "source": [
    "num1 = 6\n",
    "num2 = 7\n",
    "num3 = 10\n",
    "((num1)> (num2)) | ((num3 > num2) )# or returning true because one condition is true"
   ]
  },
  {
   "cell_type": "code",
   "execution_count": null,
   "id": "dbb98030",
   "metadata": {},
   "outputs": [],
   "source": [
    "# mutable data type: this is data type that can be modify after defination\n",
    "1. list \n",
    "2. dictionary\n",
    "\n",
    "## immutable data type: this is data type that can not be modify after defination\n",
    "1. string\n",
    "2. number\n",
    "3. tuple\n",
    "4. set"
   ]
  },
  {
   "cell_type": "markdown",
   "id": "d6e28e81",
   "metadata": {},
   "source": [
    "# Number "
   ]
  },
  {
   "cell_type": "code",
   "execution_count": 3,
   "id": "47e3e011",
   "metadata": {},
   "outputs": [],
   "source": [
    "a = 23 # int\n",
    "b = 23.7 # float\n",
    "c = 2 + 7j # complex"
   ]
  },
  {
   "cell_type": "code",
   "execution_count": null,
   "id": "b53e6cbb",
   "metadata": {},
   "outputs": [],
   "source": []
  },
  {
   "cell_type": "markdown",
   "id": "7ebaf459",
   "metadata": {},
   "source": [
    "# String Datatype\n",
    "they are sequence of characters inside quote"
   ]
  },
  {
   "cell_type": "code",
   "execution_count": 1,
   "id": "86b9203c",
   "metadata": {},
   "outputs": [],
   "source": [
    "name = \"olaitan\"\n",
    "name = 'olaitan'\n",
    "introduction = \"\"\"  this is\n",
    "                 introduction to \n",
    "                 python \"\"\""
   ]
  },
  {
   "cell_type": "code",
   "execution_count": 2,
   "id": "17a15aba",
   "metadata": {},
   "outputs": [
    {
     "data": {
      "text/plain": [
       "str"
      ]
     },
     "execution_count": 2,
     "metadata": {},
     "output_type": "execute_result"
    }
   ],
   "source": [
    "type(name)"
   ]
  },
  {
   "cell_type": "code",
   "execution_count": 4,
   "id": "514ea605",
   "metadata": {},
   "outputs": [
    {
     "data": {
      "text/plain": [
       "int"
      ]
     },
     "execution_count": 4,
     "metadata": {},
     "output_type": "execute_result"
    }
   ],
   "source": [
    "type(a)"
   ]
  },
  {
   "cell_type": "markdown",
   "id": "76123624",
   "metadata": {},
   "source": [
    "# index and slicing\n",
    "idexing is just a way of return a character at a given position"
   ]
  },
  {
   "cell_type": "code",
   "execution_count": 7,
   "id": "6129463d",
   "metadata": {},
   "outputs": [],
   "source": [
    "introduction = \"\"\"this is introduction to python\"\"\""
   ]
  },
  {
   "cell_type": "code",
   "execution_count": 8,
   "id": "fd534327",
   "metadata": {},
   "outputs": [],
   "source": [
    "# any datatype in python has zero base index"
   ]
  },
  {
   "cell_type": "code",
   "execution_count": 9,
   "id": "610d4ebc",
   "metadata": {},
   "outputs": [
    {
     "data": {
      "text/plain": [
       "'t'"
      ]
     },
     "execution_count": 9,
     "metadata": {},
     "output_type": "execute_result"
    }
   ],
   "source": [
    "# return the first character from the introduction variable\n",
    "introduction[0]   # forward indexing "
   ]
  },
  {
   "cell_type": "code",
   "execution_count": 10,
   "id": "34731271",
   "metadata": {},
   "outputs": [
    {
     "data": {
      "text/plain": [
       "'u'"
      ]
     },
     "execution_count": 10,
     "metadata": {},
     "output_type": "execute_result"
    }
   ],
   "source": [
    "# return u from the introduction variable\n",
    "introduction[14]  # forward indexing"
   ]
  },
  {
   "cell_type": "code",
   "execution_count": 11,
   "id": "91f0f955",
   "metadata": {},
   "outputs": [
    {
     "data": {
      "text/plain": [
       "'y'"
      ]
     },
     "execution_count": 11,
     "metadata": {},
     "output_type": "execute_result"
    }
   ],
   "source": [
    "# using backward indexing return  y from the introduction\n",
    "introduction[-5]"
   ]
  },
  {
   "cell_type": "markdown",
   "id": "ae1cd092",
   "metadata": {},
   "source": [
    "# slicing will return set of characters within range\n",
    "\n",
    "[idexNO: postionNO: stepskip]"
   ]
  },
  {
   "cell_type": "code",
   "execution_count": 14,
   "id": "97ce5532",
   "metadata": {},
   "outputs": [
    {
     "data": {
      "text/plain": [
       "'introduction'"
      ]
     },
     "execution_count": 14,
     "metadata": {},
     "output_type": "execute_result"
    }
   ],
   "source": [
    "introduction = \"\"\"this is introduction to python\"\"\"\n",
    "\n",
    "# return introduction from the variable above\n",
    "introduction[8:20]"
   ]
  },
  {
   "cell_type": "code",
   "execution_count": 17,
   "id": "2d5d9af8",
   "metadata": {},
   "outputs": [
    {
     "data": {
      "text/plain": [
       "'ti sit'"
      ]
     },
     "execution_count": 17,
     "metadata": {},
     "output_type": "execute_result"
    }
   ],
   "source": [
    "# return \"ti sit\" from the variable above\n",
    "introduction[0:11: 2]"
   ]
  },
  {
   "cell_type": "code",
   "execution_count": 24,
   "id": "3e6bb622",
   "metadata": {},
   "outputs": [
    {
     "data": {
      "text/plain": [
       "'tdtn'"
      ]
     },
     "execution_count": 24,
     "metadata": {},
     "output_type": "execute_result"
    }
   ],
   "source": [
    "# tdtn\n",
    "introduction[10:22:3]"
   ]
  },
  {
   "cell_type": "code",
   "execution_count": null,
   "id": "9ee9fc18",
   "metadata": {},
   "outputs": [],
   "source": [
    "pip install jupytertheme"
   ]
  },
  {
   "cell_type": "code",
   "execution_count": null,
   "id": "cedf1bb0",
   "metadata": {},
   "outputs": [],
   "source": []
  },
  {
   "cell_type": "code",
   "execution_count": null,
   "id": "c2339cfc",
   "metadata": {},
   "outputs": [],
   "source": []
  },
  {
   "cell_type": "code",
   "execution_count": null,
   "id": "ba9f5e64",
   "metadata": {},
   "outputs": [],
   "source": []
  },
  {
   "cell_type": "code",
   "execution_count": null,
   "id": "aa0009d9",
   "metadata": {},
   "outputs": [],
   "source": []
  },
  {
   "cell_type": "code",
   "execution_count": 8,
   "id": "759e2766",
   "metadata": {},
   "outputs": [
    {
     "name": "stdout",
     "output_type": "stream",
     "text": [
      "enter the first number 7\n",
      "enter the second number 9\n",
      "the summation of the two number entered is  16\n"
     ]
    }
   ],
   "source": [
    "num1 = int (    input(\"enter the first number \")    )\n",
    "num2 = int (input(\"enter the second number \"))\n",
    "total = num1 + num2\n",
    "print(\"the summation of the two number entered is \", total)"
   ]
  },
  {
   "cell_type": "code",
   "execution_count": null,
   "id": "c2567a1c",
   "metadata": {},
   "outputs": [],
   "source": [
    "int\n",
    "float\n",
    "str\n",
    "complex"
   ]
  },
  {
   "cell_type": "code",
   "execution_count": 2,
   "id": "a1919fa0",
   "metadata": {},
   "outputs": [],
   "source": [
    "w = \"12\""
   ]
  },
  {
   "cell_type": "code",
   "execution_count": 3,
   "id": "2e488a03",
   "metadata": {},
   "outputs": [
    {
     "data": {
      "text/plain": [
       "str"
      ]
     },
     "execution_count": 3,
     "metadata": {},
     "output_type": "execute_result"
    }
   ],
   "source": [
    "type(w)"
   ]
  },
  {
   "cell_type": "code",
   "execution_count": 5,
   "id": "fef26460",
   "metadata": {},
   "outputs": [],
   "source": [
    "w= int(w)"
   ]
  },
  {
   "cell_type": "code",
   "execution_count": 6,
   "id": "8cdcb38d",
   "metadata": {},
   "outputs": [
    {
     "data": {
      "text/plain": [
       "int"
      ]
     },
     "execution_count": 6,
     "metadata": {},
     "output_type": "execute_result"
    }
   ],
   "source": [
    "type(w)"
   ]
  },
  {
   "cell_type": "code",
   "execution_count": 9,
   "id": "80a29143",
   "metadata": {},
   "outputs": [
    {
     "name": "stdout",
     "output_type": "stream",
     "text": [
      "please enter you born year 2000\n",
      "Your current Age is  23\n"
     ]
    }
   ],
   "source": [
    "# write python script that can ask users for their born year, then return the current age of such user\n",
    "born_year = int (input(\"please enter you born year \"))\n",
    "age = 2023 -born_year\n",
    "print(\"Your current Age is \", age)"
   ]
  },
  {
   "cell_type": "markdown",
   "id": "4e99253e",
   "metadata": {},
   "source": [
    "# Operators In Python\n",
    " In python Operators are used to manipulate Operand\n",
    "\n",
    "1. Arithmentic\n",
    "2. Assignment\n",
    "3. Comparision\n",
    "4. Membership\n",
    "5. Identity \n",
    "6. Logical \n",
    "7. Bitwise \n"
   ]
  },
  {
   "cell_type": "markdown",
   "id": "424067c6",
   "metadata": {},
   "source": [
    "# Arithmetic"
   ]
  },
  {
   "cell_type": "code",
   "execution_count": 11,
   "id": "408349ff",
   "metadata": {},
   "outputs": [
    {
     "name": "stdout",
     "output_type": "stream",
     "text": [
      "10\n"
     ]
    }
   ],
   "source": [
    "# Addition\n",
    "a = 3\n",
    "b = 7\n",
    "total = a + b\n",
    "print(total)"
   ]
  },
  {
   "cell_type": "code",
   "execution_count": 12,
   "id": "ff8976f5",
   "metadata": {},
   "outputs": [
    {
     "name": "stdout",
     "output_type": "stream",
     "text": [
      "-4\n"
     ]
    }
   ],
   "source": [
    "# subtraction\n",
    "a = 3\n",
    "b = 7\n",
    "total = a - b\n",
    "print(total)"
   ]
  },
  {
   "cell_type": "code",
   "execution_count": 13,
   "id": "749ff37e",
   "metadata": {},
   "outputs": [
    {
     "name": "stdout",
     "output_type": "stream",
     "text": [
      "3.3333333333333335\n"
     ]
    }
   ],
   "source": [
    "# division\n",
    "a = 10\n",
    "b = 3\n",
    "total = a / b\n",
    "print(total)"
   ]
  },
  {
   "cell_type": "code",
   "execution_count": 14,
   "id": "613a5da8",
   "metadata": {},
   "outputs": [
    {
     "name": "stdout",
     "output_type": "stream",
     "text": [
      "30\n"
     ]
    }
   ],
   "source": [
    "# multiplication\n",
    "a = 10\n",
    "b = 3\n",
    "total = a * b\n",
    "print(total)"
   ]
  },
  {
   "cell_type": "code",
   "execution_count": 15,
   "id": "d331a0cf",
   "metadata": {},
   "outputs": [
    {
     "name": "stdout",
     "output_type": "stream",
     "text": [
      "1000\n"
     ]
    }
   ],
   "source": [
    "# power\n",
    "a = 10\n",
    "b = 3\n",
    "total = a ** b\n",
    "print(total)"
   ]
  },
  {
   "cell_type": "code",
   "execution_count": 17,
   "id": "24bde201",
   "metadata": {},
   "outputs": [
    {
     "name": "stdout",
     "output_type": "stream",
     "text": [
      "0\n"
     ]
    }
   ],
   "source": [
    "# modulus\n",
    "a = 10\n",
    "b = 2\n",
    "total = a  %    b\n",
    "print(total)"
   ]
  },
  {
   "cell_type": "markdown",
   "id": "bc37d574",
   "metadata": {},
   "source": [
    "# Assignment Operator"
   ]
  },
  {
   "cell_type": "code",
   "execution_count": 18,
   "id": "0a5ba1cf",
   "metadata": {},
   "outputs": [],
   "source": [
    "# eual sign\n",
    "name = \"olaitan\""
   ]
  },
  {
   "cell_type": "code",
   "execution_count": 19,
   "id": "983faf8b",
   "metadata": {},
   "outputs": [
    {
     "name": "stdout",
     "output_type": "stream",
     "text": [
      "6\n"
     ]
    }
   ],
   "source": [
    "# increament\n",
    "a = 4\n",
    "a+=2 # increase the values of a with 2\n",
    "print(a)"
   ]
  },
  {
   "cell_type": "code",
   "execution_count": 22,
   "id": "d2c050aa",
   "metadata": {},
   "outputs": [
    {
     "name": "stdout",
     "output_type": "stream",
     "text": [
      "0\n"
     ]
    }
   ],
   "source": [
    "# decreament\n",
    "a = 4\n",
    "a-=2 # increase the values of a with 2\n",
    "print(a)"
   ]
  },
  {
   "cell_type": "markdown",
   "id": "a2b5d1a8",
   "metadata": {},
   "source": [
    "# Comparision Operator\n",
    "it will return boolean result: True or False"
   ]
  },
  {
   "cell_type": "code",
   "execution_count": 23,
   "id": "9743a41f",
   "metadata": {},
   "outputs": [
    {
     "data": {
      "text/plain": [
       "False"
      ]
     },
     "execution_count": 23,
     "metadata": {},
     "output_type": "execute_result"
    }
   ],
   "source": [
    "# >\n",
    "a =10\n",
    "b= 15\n",
    "a > b"
   ]
  },
  {
   "cell_type": "code",
   "execution_count": 25,
   "id": "ca1fed5a",
   "metadata": {},
   "outputs": [
    {
     "data": {
      "text/plain": [
       "True"
      ]
     },
     "execution_count": 25,
     "metadata": {},
     "output_type": "execute_result"
    }
   ],
   "source": [
    "# >=\n",
    "a =10\n",
    "b= 10\n",
    "a >= b"
   ]
  },
  {
   "cell_type": "code",
   "execution_count": 26,
   "id": "0eb60ef7",
   "metadata": {},
   "outputs": [
    {
     "data": {
      "text/plain": [
       "True"
      ]
     },
     "execution_count": 26,
     "metadata": {},
     "output_type": "execute_result"
    }
   ],
   "source": [
    "# <\n",
    "a =10\n",
    "b= 15\n",
    "a < b"
   ]
  },
  {
   "cell_type": "code",
   "execution_count": 27,
   "id": "9714c8de",
   "metadata": {},
   "outputs": [
    {
     "data": {
      "text/plain": [
       "True"
      ]
     },
     "execution_count": 27,
     "metadata": {},
     "output_type": "execute_result"
    }
   ],
   "source": [
    "# <=\n",
    "a =10\n",
    "b= 15\n",
    "a <= b"
   ]
  },
  {
   "cell_type": "code",
   "execution_count": 29,
   "id": "026a4792",
   "metadata": {},
   "outputs": [
    {
     "data": {
      "text/plain": [
       "True"
      ]
     },
     "execution_count": 29,
     "metadata": {},
     "output_type": "execute_result"
    }
   ],
   "source": [
    "# ==\n",
    "a =15\n",
    "b= 15\n",
    "a == b"
   ]
  },
  {
   "cell_type": "code",
   "execution_count": 35,
   "id": "f63e6f5e",
   "metadata": {},
   "outputs": [
    {
     "data": {
      "text/plain": [
       "False"
      ]
     },
     "execution_count": 35,
     "metadata": {},
     "output_type": "execute_result"
    }
   ],
   "source": [
    "# ==\n",
    "a =15\n",
    "b= 15\n",
    "a != b"
   ]
  },
  {
   "cell_type": "markdown",
   "id": "8efe0759",
   "metadata": {},
   "source": [
    "# MemberShip\n",
    "it also return a boolean result\n",
    "\n",
    "is, is not"
   ]
  },
  {
   "cell_type": "code",
   "execution_count": 30,
   "id": "f8e1b379",
   "metadata": {},
   "outputs": [
    {
     "data": {
      "text/plain": [
       "False"
      ]
     },
     "execution_count": 30,
     "metadata": {},
     "output_type": "execute_result"
    }
   ],
   "source": [
    "name = \"olaitan\"\n",
    "name2 = \"Olaitan\"\n",
    "name is name2"
   ]
  },
  {
   "cell_type": "code",
   "execution_count": 31,
   "id": "edb44506",
   "metadata": {},
   "outputs": [
    {
     "data": {
      "text/plain": [
       "True"
      ]
     },
     "execution_count": 31,
     "metadata": {},
     "output_type": "execute_result"
    }
   ],
   "source": [
    "name is not name2"
   ]
  },
  {
   "cell_type": "markdown",
   "id": "83efc00d",
   "metadata": {},
   "source": [
    "# Identity\n",
    "it also return boolean result\n",
    "in, not in"
   ]
  },
  {
   "cell_type": "code",
   "execution_count": 32,
   "id": "d114ff1b",
   "metadata": {},
   "outputs": [
    {
     "data": {
      "text/plain": [
       "False"
      ]
     },
     "execution_count": 32,
     "metadata": {},
     "output_type": "execute_result"
    }
   ],
   "source": [
    "name = \"olaitan\"\n",
    "\"O\" in name"
   ]
  },
  {
   "cell_type": "code",
   "execution_count": 34,
   "id": "4ed9134d",
   "metadata": {},
   "outputs": [
    {
     "data": {
      "text/plain": [
       "True"
      ]
     },
     "execution_count": 34,
     "metadata": {},
     "output_type": "execute_result"
    }
   ],
   "source": [
    "\"O\" not in name"
   ]
  },
  {
   "cell_type": "code",
   "execution_count": null,
   "id": "98a4e5bb",
   "metadata": {},
   "outputs": [],
   "source": [
    "# Logical Operator\n",
    "it also return boolean result\n",
    "- and or"
   ]
  },
  {
   "cell_type": "code",
   "execution_count": 36,
   "id": "0e4e8c79",
   "metadata": {},
   "outputs": [
    {
     "data": {
      "text/plain": [
       "True"
      ]
     },
     "execution_count": 36,
     "metadata": {},
     "output_type": "execute_result"
    }
   ],
   "source": [
    "a = 6\n",
    "b = 8\n",
    "c = 19\n",
    "(a> b) or (a<c)"
   ]
  },
  {
   "cell_type": "code",
   "execution_count": 37,
   "id": "4de73683",
   "metadata": {},
   "outputs": [
    {
     "data": {
      "text/plain": [
       "False"
      ]
     },
     "execution_count": 37,
     "metadata": {},
     "output_type": "execute_result"
    }
   ],
   "source": [
    "(a> b) and (a<c)"
   ]
  },
  {
   "cell_type": "markdown",
   "id": "23cc0420",
   "metadata": {},
   "source": [
    "# Bitwise\n",
    "| and &"
   ]
  },
  {
   "cell_type": "code",
   "execution_count": 38,
   "id": "fd061914",
   "metadata": {},
   "outputs": [
    {
     "data": {
      "text/plain": [
       "True"
      ]
     },
     "execution_count": 38,
     "metadata": {},
     "output_type": "execute_result"
    }
   ],
   "source": [
    "a = 6\n",
    "b = 8\n",
    "c = 19\n",
    "((a> b))  |  ((a<c))"
   ]
  },
  {
   "cell_type": "code",
   "execution_count": 39,
   "id": "459c336f",
   "metadata": {},
   "outputs": [
    {
     "data": {
      "text/plain": [
       "False"
      ]
     },
     "execution_count": 39,
     "metadata": {},
     "output_type": "execute_result"
    }
   ],
   "source": [
    "a = 6\n",
    "b = 8\n",
    "c = 19\n",
    "((a> b))  &  ((a<c))"
   ]
  },
  {
   "cell_type": "code",
   "execution_count": null,
   "id": "e7119d9c",
   "metadata": {},
   "outputs": [],
   "source": []
  },
  {
   "cell_type": "code",
   "execution_count": null,
   "id": "8430a194",
   "metadata": {},
   "outputs": [],
   "source": []
  },
  {
   "cell_type": "code",
   "execution_count": null,
   "id": "1be322e2",
   "metadata": {},
   "outputs": [],
   "source": []
  },
  {
   "cell_type": "code",
   "execution_count": null,
   "id": "add697cd",
   "metadata": {},
   "outputs": [],
   "source": []
  },
  {
   "cell_type": "code",
   "execution_count": null,
   "id": "772f2789",
   "metadata": {},
   "outputs": [],
   "source": []
  },
  {
   "cell_type": "code",
   "execution_count": null,
   "id": "0316f5bb",
   "metadata": {},
   "outputs": [],
   "source": []
  },
  {
   "cell_type": "code",
   "execution_count": null,
   "id": "72c0959d",
   "metadata": {},
   "outputs": [],
   "source": []
  },
  {
   "cell_type": "markdown",
   "id": "dc3b0e73",
   "metadata": {},
   "source": [
    "\n",
    "\n",
    "1. What are the rules for naming a variable in Python?\n",
    "2. Can a variable start with a number in Python?\n",
    "3. Is Python case-sensitive when it comes to variable names?\n",
    "4. Are keywords allowed as variable names in Python?\n",
    "5. What is the purpose of using underscores (_) in variable names?\n",
    "6. How do you choose a meaningful and descriptive variable name in Python?\n",
    "7. Can a variable name contain spaces?\n",
    "8. Explain the concept of snake_case and CamelCase in Python variable naming.\n",
    "9. What is the significance of the 'self' variable in Python classes?\n",
    "10. Why is it important to choose a variable name that reflects its purpose?\n",
    "\n",
    "11. Differentiate between the '==' and 'is' operators in Python.\n",
    "12. Explain the use of the '+=', '-=', '*=', and '/=' operators in Python.\n",
    "13. What is the purpose of the '%' operator in Python?\n",
    "14. How does the '//' operator differ from the '/' operator?\n",
    "15. What is the difference between 'and' and 'or' logical operators in Python?\n",
    "16. Explain the purpose of the 'not' operator in Python.\n",
    "17. How does the 'in' operator work in Python?\n",
    "18. What is the ternary operator in Python, and how is it used?\n",
    "19. Discuss the role of the bitwise operators (&, |, ^, ~) in Python.\n",
    "20. Can you explain the difference between '==' and '!=' operators in Python?"
   ]
  },
  {
   "cell_type": "code",
   "execution_count": null,
   "id": "fd9c2567",
   "metadata": {},
   "outputs": [],
   "source": []
  },
  {
   "cell_type": "code",
   "execution_count": null,
   "id": "33b76def",
   "metadata": {},
   "outputs": [],
   "source": []
  },
  {
   "cell_type": "code",
   "execution_count": null,
   "id": "7d5fc661",
   "metadata": {},
   "outputs": [],
   "source": []
  },
  {
   "cell_type": "markdown",
   "id": "2a1825b0",
   "metadata": {},
   "source": [
    "# Data Type In Python\n",
    "Mutable: they are kind of datatype that can be modify after declaration\n",
    "1. list: (sequence type)\n",
    "2. dictionary: (mappping type)\n",
    "\n",
    "Immutable: they are kind of datatype that can not be modify after declaration\n",
    "1. number: float, int  \n",
    "2. str   (sequence type)\n",
    "3. tuple  (sequence type)\n",
    "4. set   (set type )"
   ]
  },
  {
   "cell_type": "markdown",
   "id": "1f450bd0",
   "metadata": {},
   "source": [
    "# Number "
   ]
  },
  {
   "cell_type": "code",
   "execution_count": null,
   "id": "5236a1f5",
   "metadata": {},
   "outputs": [],
   "source": [
    "a = 12 # int\n",
    "b = 12.5 # float"
   ]
  },
  {
   "cell_type": "markdown",
   "id": "6eaf8c7c",
   "metadata": {},
   "source": [
    "# Str\n",
    "Str is a sequence of characters joined together"
   ]
  },
  {
   "cell_type": "code",
   "execution_count": null,
   "id": "3ca0b480",
   "metadata": {},
   "outputs": [],
   "source": [
    "name = 'olaitan'\n",
    "name1 = \"olaitan\"\n",
    "introudtion = \"\"\"this \n",
    "                is \n",
    "                introduction \n",
    "                to python\"\"\""
   ]
  },
  {
   "cell_type": "markdown",
   "id": "b41ab1d5",
   "metadata": {},
   "source": [
    "# Indexing and Slicing\n",
    "- indexing is the process of fetching out a character from str or any other datatype in a position\n",
    "- slicing is the process of fetching out character(s) from str or any other datatype within range of positions\n",
    "\n",
    "## Note\n",
    "Data type in python has zero base index"
   ]
  },
  {
   "cell_type": "code",
   "execution_count": null,
   "id": "829399d7",
   "metadata": {},
   "outputs": [],
   "source": []
  },
  {
   "cell_type": "code",
   "execution_count": 1,
   "id": "94aba82a",
   "metadata": {},
   "outputs": [
    {
     "data": {
      "text/plain": [
       "'t'"
      ]
     },
     "execution_count": 1,
     "metadata": {},
     "output_type": "execute_result"
    }
   ],
   "source": [
    "introudtion = \"\"\"this is introduction to python\"\"\"\n",
    "# return the first t from the variable above\n",
    "introudtion[0]"
   ]
  },
  {
   "cell_type": "code",
   "execution_count": 2,
   "id": "3dc487f4",
   "metadata": {},
   "outputs": [
    {
     "data": {
      "text/plain": [
       "'t'"
      ]
     },
     "execution_count": 2,
     "metadata": {},
     "output_type": "execute_result"
    }
   ],
   "source": [
    "# return the second t from the variable above\n",
    "introudtion[10]"
   ]
  },
  {
   "cell_type": "code",
   "execution_count": 4,
   "id": "ce6f3c69",
   "metadata": {},
   "outputs": [
    {
     "data": {
      "text/plain": [
       "'o'"
      ]
     },
     "execution_count": 4,
     "metadata": {},
     "output_type": "execute_result"
    }
   ],
   "source": [
    "# return the second o from the variable above\n",
    "introudtion[18] # forward indexing"
   ]
  },
  {
   "cell_type": "code",
   "execution_count": 5,
   "id": "b3ef69ee",
   "metadata": {},
   "outputs": [
    {
     "data": {
      "text/plain": [
       "'i'"
      ]
     },
     "execution_count": 5,
     "metadata": {},
     "output_type": "execute_result"
    }
   ],
   "source": [
    "introudtion = \"\"\"this is introduction to python\"\"\"\n",
    "#return the first third i from the variable above usinf backward indexing\n",
    "introudtion[-22]"
   ]
  },
  {
   "cell_type": "code",
   "execution_count": null,
   "id": "5110fe6f",
   "metadata": {},
   "outputs": [],
   "source": [
    "# using backward indexing return y from the varibble above"
   ]
  },
  {
   "cell_type": "code",
   "execution_count": 6,
   "id": "67d71bf4",
   "metadata": {},
   "outputs": [
    {
     "data": {
      "text/plain": [
       "'natialO'"
      ]
     },
     "execution_count": 6,
     "metadata": {},
     "output_type": "execute_result"
    }
   ],
   "source": [
    "# reverse str\n",
    "name = \"Olaitan\"\n",
    "name[::-1]"
   ]
  },
  {
   "cell_type": "code",
   "execution_count": null,
   "id": "c5b1befa",
   "metadata": {},
   "outputs": [],
   "source": [
    "variablename[startpoint:   endpoint:    NOsteps]\n",
    "\n",
    "startpoint: index NO\n",
    "endpoint: posistin No"
   ]
  },
  {
   "cell_type": "code",
   "execution_count": 9,
   "id": "22160ecc",
   "metadata": {},
   "outputs": [
    {
     "data": {
      "text/plain": [
       "'is intro'"
      ]
     },
     "execution_count": 9,
     "metadata": {},
     "output_type": "execute_result"
    }
   ],
   "source": [
    "introudtion = \"\"\"this is introduction to python\"\"\"\n",
    "#  return 'is intro' from the variable above\n",
    "introudtion[5:13]"
   ]
  },
  {
   "cell_type": "code",
   "execution_count": 10,
   "id": "ab94144b",
   "metadata": {},
   "outputs": [
    {
     "data": {
      "text/plain": [
       "'ction to'"
      ]
     },
     "execution_count": 10,
     "metadata": {},
     "output_type": "execute_result"
    }
   ],
   "source": [
    "#  return 'ction to' from the variable above\n",
    "introudtion[15:23]"
   ]
  },
  {
   "cell_type": "code",
   "execution_count": 14,
   "id": "feb65db3",
   "metadata": {},
   "outputs": [
    {
     "data": {
      "text/plain": [
       "'introductio'"
      ]
     },
     "execution_count": 14,
     "metadata": {},
     "output_type": "execute_result"
    }
   ],
   "source": [
    "introudtion = \"\"\"this is introduction to python\"\"\"\n",
    "introudtion[8:19]"
   ]
  },
  {
   "cell_type": "code",
   "execution_count": 15,
   "id": "1f8a7efc",
   "metadata": {},
   "outputs": [
    {
     "data": {
      "text/plain": [
       "'itouto'"
      ]
     },
     "execution_count": 15,
     "metadata": {},
     "output_type": "execute_result"
    }
   ],
   "source": [
    "#  return 'itouto' from the variable above\n",
    "introudtion[8:19:2]"
   ]
  },
  {
   "cell_type": "code",
   "execution_count": 19,
   "id": "1f06e833",
   "metadata": {},
   "outputs": [
    {
     "data": {
      "text/plain": [
       "'s rcn h'"
      ]
     },
     "execution_count": 19,
     "metadata": {},
     "output_type": "execute_result"
    }
   ],
   "source": [
    "introudtion = \"\"\"this is introduction to python\"\"\"\n",
    "#  return 's rcn h' from the variable above\n",
    "introudtion[3:    :4]"
   ]
  },
  {
   "cell_type": "markdown",
   "id": "b0225f91",
   "metadata": {},
   "source": [
    "# Str Method in Python\n",
    "str method is a function that is associated with str object"
   ]
  },
  {
   "cell_type": "code",
   "execution_count": 20,
   "id": "12f4f2e0",
   "metadata": {},
   "outputs": [
    {
     "data": {
      "text/plain": [
       "'    tolu     '"
      ]
     },
     "execution_count": 20,
     "metadata": {},
     "output_type": "execute_result"
    }
   ],
   "source": [
    "name= \"    tolu     \"\n",
    "name"
   ]
  },
  {
   "cell_type": "code",
   "execution_count": null,
   "id": "97702e59",
   "metadata": {},
   "outputs": [],
   "source": [
    "# strip().. remove excessive white space before and after the str"
   ]
  },
  {
   "cell_type": "code",
   "execution_count": 21,
   "id": "e5ae8b4a",
   "metadata": {},
   "outputs": [
    {
     "data": {
      "text/plain": [
       "'tolu'"
      ]
     },
     "execution_count": 21,
     "metadata": {},
     "output_type": "execute_result"
    }
   ],
   "source": [
    "name.strip()"
   ]
  },
  {
   "cell_type": "code",
   "execution_count": 27,
   "id": "67d8eea1",
   "metadata": {},
   "outputs": [
    {
     "data": {
      "text/plain": [
       "'<<<???tolu?????//////'"
      ]
     },
     "execution_count": 27,
     "metadata": {},
     "output_type": "execute_result"
    }
   ],
   "source": [
    "name= \"<<<???tolu?????//////\"\n",
    "name"
   ]
  },
  {
   "cell_type": "code",
   "execution_count": 31,
   "id": "e12b9407",
   "metadata": {},
   "outputs": [
    {
     "data": {
      "text/plain": [
       "'tolu'"
      ]
     },
     "execution_count": 31,
     "metadata": {},
     "output_type": "execute_result"
    }
   ],
   "source": [
    "name.strip(\"/\").strip(\"<\").strip(\"?\")"
   ]
  },
  {
   "cell_type": "code",
   "execution_count": null,
   "id": "1e1cad03",
   "metadata": {},
   "outputs": [],
   "source": [
    "# format"
   ]
  },
  {
   "cell_type": "code",
   "execution_count": 33,
   "id": "55344e49",
   "metadata": {},
   "outputs": [
    {
     "name": "stdout",
     "output_type": "stream",
     "text": [
      "please enter your first name olaitan\n",
      "please enter your last name kazeem\n",
      "please enter your age 12\n",
      "What is the name of your school  lak\n",
      "Hello everyone, my fullname is olaitan kazeem i am 12 year olds and the name of my school is  lak\n"
     ]
    }
   ],
   "source": [
    "first_name = input(\"please enter your first name \")\n",
    "last_name = input(\"please enter your last name \")\n",
    "age = input(\"please enter your age \")\n",
    "school = input(\"What is the name of your school  \")\n",
    "\n",
    "print(\"Hello everyone, my fullname is\" , first_name, last_name, \"i am\" , age, \n",
    "     \"year olds and the name of my school is \", sch)"
   ]
  },
  {
   "cell_type": "code",
   "execution_count": 35,
   "id": "4ea75f65",
   "metadata": {},
   "outputs": [
    {
     "name": "stdout",
     "output_type": "stream",
     "text": [
      "Hello everyone, my fullname is olaitan kazeem i am 12 year olds and the name of my school is lak\n"
     ]
    }
   ],
   "source": [
    "print(\"Hello everyone, my fullname is {} {} i am {} year olds and the name of my school is {}\".format(first_name,last_name, age, school))"
   ]
  },
  {
   "cell_type": "code",
   "execution_count": 37,
   "id": "e32fb339",
   "metadata": {},
   "outputs": [
    {
     "data": {
      "text/plain": [
       "-1"
      ]
     },
     "execution_count": 37,
     "metadata": {},
     "output_type": "execute_result"
    }
   ],
   "source": [
    "# find\n",
    "name = \"kola\"\n",
    "name.find(\"z\")"
   ]
  },
  {
   "cell_type": "code",
   "execution_count": 38,
   "id": "e5956a29",
   "metadata": {},
   "outputs": [
    {
     "data": {
      "text/plain": [
       "True"
      ]
     },
     "execution_count": 38,
     "metadata": {},
     "output_type": "execute_result"
    }
   ],
   "source": [
    "# endswith:: it will return boolean result\n",
    "name = \"Damilare\"\n",
    "name.endswith(\"e\")"
   ]
  },
  {
   "cell_type": "code",
   "execution_count": 41,
   "id": "1593a1bf",
   "metadata": {},
   "outputs": [
    {
     "data": {
      "text/plain": [
       "'i love python because i can build cool artificial intelligent application with it'"
      ]
     },
     "execution_count": 41,
     "metadata": {},
     "output_type": "execute_result"
    }
   ],
   "source": [
    "var = \"i love python because i can build cool AI application with it\" \n",
    "var = var.replace(\"AI\", \"artificial intelligent\")\n",
    "var"
   ]
  },
  {
   "cell_type": "code",
   "execution_count": 43,
   "id": "3e621511",
   "metadata": {},
   "outputs": [],
   "source": [
    "# split\n",
    "\n",
    "h=var.split()"
   ]
  },
  {
   "cell_type": "code",
   "execution_count": 44,
   "id": "94e42095",
   "metadata": {},
   "outputs": [
    {
     "data": {
      "text/plain": [
       "list"
      ]
     },
     "execution_count": 44,
     "metadata": {},
     "output_type": "execute_result"
    }
   ],
   "source": [
    "type(h)"
   ]
  },
  {
   "cell_type": "code",
   "execution_count": 45,
   "id": "c3225978",
   "metadata": {},
   "outputs": [
    {
     "data": {
      "text/plain": [
       "['people', 'from', 'africa', 'are', 'black', 'like', 'tolu']"
      ]
     },
     "execution_count": 45,
     "metadata": {},
     "output_type": "execute_result"
    }
   ],
   "source": [
    "u =\"people>from>africa>are>black>like>tolu\"\n",
    "u.split(\">\")"
   ]
  },
  {
   "cell_type": "code",
   "execution_count": null,
   "id": "80a87ac3",
   "metadata": {},
   "outputs": [],
   "source": []
  },
  {
   "cell_type": "markdown",
   "id": "dad06d2b",
   "metadata": {},
   "source": [
    "# List Datatype\n",
    "mutable\n",
    "sequence dataype\n"
   ]
  },
  {
   "cell_type": "code",
   "execution_count": null,
   "id": "283a67ca",
   "metadata": {},
   "outputs": [],
   "source": [
    "# list \n",
    "list1 = [] # an empty list"
   ]
  },
  {
   "cell_type": "code",
   "execution_count": 57,
   "id": "0eeaa41f",
   "metadata": {},
   "outputs": [],
   "source": [
    "# list with elements\n",
    "list2 = [23, \"kola\", 23.7, 3+7j] # one dimensional list"
   ]
  },
  {
   "cell_type": "code",
   "execution_count": null,
   "id": "327618dc",
   "metadata": {},
   "outputs": [],
   "source": [
    "list3 = [[  2,3,4,6,7,8    ]] # "
   ]
  },
  {
   "cell_type": "code",
   "execution_count": null,
   "id": "683e96f8",
   "metadata": {},
   "outputs": [],
   "source": [
    "# nested list\n",
    "list4 = [2,   5,  [\"goat\", \"cow\", \"rat\"], \"Ada\", \"begger\", 77]"
   ]
  },
  {
   "cell_type": "markdown",
   "id": "94684ec0",
   "metadata": {},
   "source": [
    "# indexing and slicing "
   ]
  },
  {
   "cell_type": "code",
   "execution_count": 59,
   "id": "32de150b",
   "metadata": {},
   "outputs": [],
   "source": [
    "# return 2,\"goat\", \"rat\", begger\n",
    "list4 = [2,   5,  \"goat\", \"cow\", \"rat\", \"Ada\", \"begger\", 77]"
   ]
  },
  {
   "cell_type": "code",
   "execution_count": 61,
   "id": "63dde342",
   "metadata": {},
   "outputs": [
    {
     "data": {
      "text/plain": [
       "[2, 'goat', 'rat', 'begger']"
      ]
     },
     "execution_count": 61,
     "metadata": {},
     "output_type": "execute_result"
    }
   ],
   "source": [
    "list4[0:7:2]"
   ]
  },
  {
   "cell_type": "code",
   "execution_count": 68,
   "id": "32f00511",
   "metadata": {},
   "outputs": [],
   "source": [
    "# return cow\n",
    "list5 = [2,   5,  [\"goat\", \"cow\", \"rat\"], \"Ada\", \"begger\", 77]"
   ]
  },
  {
   "cell_type": "code",
   "execution_count": 70,
   "id": "54cfaf86",
   "metadata": {},
   "outputs": [
    {
     "data": {
      "text/plain": [
       "'cow'"
      ]
     },
     "execution_count": 70,
     "metadata": {},
     "output_type": "execute_result"
    }
   ],
   "source": [
    "list5[2][1]"
   ]
  },
  {
   "cell_type": "code",
   "execution_count": null,
   "id": "1012cc81",
   "metadata": {},
   "outputs": [],
   "source": [
    "list7 = [2,77,8,4,[\"A\", \"B\", \"C\", \"D\"], \"Z\", \"Y\", \"X\"]"
   ]
  },
  {
   "cell_type": "code",
   "execution_count": null,
   "id": "849d617a",
   "metadata": {},
   "outputs": [],
   "source": [
    "# return 77, 8\n",
    "# return \"A\", \"C\"\n",
    "# return \"Y\", \"X\""
   ]
  },
  {
   "cell_type": "markdown",
   "id": "a3a3126b",
   "metadata": {},
   "source": [
    "# list Method"
   ]
  },
  {
   "cell_type": "code",
   "execution_count": 71,
   "id": "0bfc916c",
   "metadata": {},
   "outputs": [
    {
     "name": "stdout",
     "output_type": "stream",
     "text": [
      "[1, 2, 3, 4]\n"
     ]
    }
   ],
   "source": [
    "# append: is used to add new element to the end of list\n",
    "w = [1,2,3]\n",
    "w.append(4)\n",
    "print(w)"
   ]
  },
  {
   "cell_type": "code",
   "execution_count": 72,
   "id": "27e5f885",
   "metadata": {},
   "outputs": [
    {
     "name": "stdout",
     "output_type": "stream",
     "text": [
      "['Ada', 'Ojo', 'Ade', 'Kemi']\n"
     ]
    }
   ],
   "source": [
    "# insert: is used to add new element specified index NO\n",
    "e = [\"Ada\", \"Ade\", \"Kemi\"]\n",
    "e.insert(1, \"Ojo\")\n",
    "print(e)"
   ]
  },
  {
   "cell_type": "code",
   "execution_count": 75,
   "id": "d737a29f",
   "metadata": {},
   "outputs": [
    {
     "name": "stdout",
     "output_type": "stream",
     "text": [
      "['Ada', 'Ade', 'Kemi', 1, 2, 3]\n"
     ]
    }
   ],
   "source": [
    "# extend: is use to add list of new elements to list\n",
    "w = [1,2,3]\n",
    "e = [\"Ada\", \"Ade\", \"Kemi\"]\n",
    "e.extend(w)\n",
    "print(e)"
   ]
  },
  {
   "cell_type": "code",
   "execution_count": 76,
   "id": "9ac496e3",
   "metadata": {},
   "outputs": [],
   "source": [
    "# w = [1,2,3]\n",
    "# e = [\"Ada\", \"Ade\", \"Kemi\"]\n",
    "# e.append(w)\n",
    "# print(e)"
   ]
  },
  {
   "cell_type": "code",
   "execution_count": 77,
   "id": "f763a92d",
   "metadata": {},
   "outputs": [
    {
     "name": "stdout",
     "output_type": "stream",
     "text": [
      "['Ada', 'Kemi', 1, 2, 3]\n"
     ]
    }
   ],
   "source": [
    "# remove\n",
    "e.remove(\"Ade\")\n",
    "print(e)"
   ]
  },
  {
   "cell_type": "code",
   "execution_count": 78,
   "id": "beae1d9a",
   "metadata": {},
   "outputs": [
    {
     "name": "stdout",
     "output_type": "stream",
     "text": [
      "['Ada', 'Kemi', 1, 2]\n"
     ]
    }
   ],
   "source": [
    "# pop: is used to remove last element or element at specified index NO\n",
    "e.pop() # remove element at the end of the list\n",
    "print(e)"
   ]
  },
  {
   "cell_type": "code",
   "execution_count": 79,
   "id": "a6fd03ea",
   "metadata": {},
   "outputs": [
    {
     "name": "stdout",
     "output_type": "stream",
     "text": [
      "['Kemi', 1, 2]\n"
     ]
    }
   ],
   "source": [
    "e.pop(0) # remove element at index zero\n",
    "print(e)"
   ]
  },
  {
   "cell_type": "code",
   "execution_count": 81,
   "id": "bddef6c6",
   "metadata": {},
   "outputs": [
    {
     "name": "stdout",
     "output_type": "stream",
     "text": [
      "[]\n"
     ]
    }
   ],
   "source": [
    "# clear: remove all the elements of the list\n",
    "e.clear()\n",
    "print(e)"
   ]
  },
  {
   "cell_type": "code",
   "execution_count": 82,
   "id": "781daef6",
   "metadata": {},
   "outputs": [
    {
     "ename": "NameError",
     "evalue": "name 'e' is not defined",
     "output_type": "error",
     "traceback": [
      "\u001b[1;31m---------------------------------------------------------------------------\u001b[0m",
      "\u001b[1;31mNameError\u001b[0m                                 Traceback (most recent call last)",
      "\u001b[1;32m~\\AppData\\Local\\Temp\\ipykernel_2708\\718719857.py\u001b[0m in \u001b[0;36m<module>\u001b[1;34m\u001b[0m\n\u001b[0;32m      1\u001b[0m \u001b[1;31m# del is use to delete list or any other datatype\u001b[0m\u001b[1;33m\u001b[0m\u001b[1;33m\u001b[0m\u001b[0m\n\u001b[0;32m      2\u001b[0m \u001b[1;32mdel\u001b[0m \u001b[0me\u001b[0m\u001b[1;33m\u001b[0m\u001b[1;33m\u001b[0m\u001b[0m\n\u001b[1;32m----> 3\u001b[1;33m \u001b[0mprint\u001b[0m\u001b[1;33m(\u001b[0m\u001b[0me\u001b[0m\u001b[1;33m)\u001b[0m\u001b[1;33m\u001b[0m\u001b[1;33m\u001b[0m\u001b[0m\n\u001b[0m",
      "\u001b[1;31mNameError\u001b[0m: name 'e' is not defined"
     ]
    }
   ],
   "source": [
    "# del is use to delete list or any other datatype\n",
    "del e\n",
    "print(e)"
   ]
  },
  {
   "cell_type": "code",
   "execution_count": 84,
   "id": "58698cbe",
   "metadata": {},
   "outputs": [
    {
     "data": {
      "text/plain": [
       "'I>Love>Python'"
      ]
     },
     "execution_count": 84,
     "metadata": {},
     "output_type": "execute_result"
    }
   ],
   "source": [
    "u = ['I', \"Love\", \"Python\"]\n",
    "\" \".join(u)"
   ]
  },
  {
   "cell_type": "code",
   "execution_count": null,
   "id": "b76c9201",
   "metadata": {},
   "outputs": [],
   "source": []
  },
  {
   "cell_type": "code",
   "execution_count": null,
   "id": "34e0eff7",
   "metadata": {},
   "outputs": [],
   "source": []
  },
  {
   "cell_type": "markdown",
   "id": "356f6c06",
   "metadata": {},
   "source": [
    "# Data Modifying in List Datatype"
   ]
  },
  {
   "cell_type": "code",
   "execution_count": 2,
   "id": "8a38cdb6",
   "metadata": {},
   "outputs": [
    {
     "name": "stdout",
     "output_type": "stream",
     "text": [
      "[1, 2, 3, 4, 'five']\n"
     ]
    }
   ],
   "source": [
    "# change the element 5 from the list below to five\n",
    "y = [1, 2,3,4,5]\n",
    "y[-1] = \"five\"\n",
    "print(y)"
   ]
  },
  {
   "cell_type": "code",
   "execution_count": null,
   "id": "6683f126",
   "metadata": {},
   "outputs": [],
   "source": []
  },
  {
   "cell_type": "code",
   "execution_count": null,
   "id": "aba205b3",
   "metadata": {},
   "outputs": [],
   "source": []
  },
  {
   "cell_type": "code",
   "execution_count": null,
   "id": "00c02061",
   "metadata": {},
   "outputs": [],
   "source": []
  },
  {
   "cell_type": "code",
   "execution_count": null,
   "id": "c47bc2aa",
   "metadata": {},
   "outputs": [],
   "source": []
  },
  {
   "cell_type": "code",
   "execution_count": null,
   "id": "2223bf9b",
   "metadata": {},
   "outputs": [],
   "source": []
  },
  {
   "cell_type": "code",
   "execution_count": 5,
   "id": "63853dd3",
   "metadata": {},
   "outputs": [
    {
     "name": "stdout",
     "output_type": "stream",
     "text": [
      "[2, 'five', 'Elephant', 'Horse', 'rat', 'Ada', 'begger', 77]\n"
     ]
    }
   ],
   "source": [
    "# from the list below, modify 5, goat and cow to five, elephant, and horse respectively\n",
    "list4 = [2,   5,  \"goat\", \"cow\", \"rat\", \"Ada\", \"begger\", 77]\n",
    "list4[1:4] = [\"five\", \"Elephant\", \"Horse\"]\n",
    "print(list4)"
   ]
  },
  {
   "cell_type": "code",
   "execution_count": 8,
   "id": "b263fc5d",
   "metadata": {},
   "outputs": [
    {
     "name": "stdout",
     "output_type": "stream",
     "text": [
      "[2, 5, ['goat', 'cow', 'Rabbit'], 'Ada', 'begger', 77]\n"
     ]
    }
   ],
   "source": [
    "# modify rat from the list below to Rabbit\n",
    "list5 = [2,   5,  [\"goat\", \"cow\", \"rat\"], \"Ada\", \"begger\", 77]\n",
    "list5[2][-1] = \"Rabbit\"\n",
    "print(list5)"
   ]
  },
  {
   "cell_type": "code",
   "execution_count": 12,
   "id": "b4165a85",
   "metadata": {},
   "outputs": [
    {
     "name": "stdout",
     "output_type": "stream",
     "text": [
      "[2, 77, 8, 4, ['A', 'B', 'C', 'D'], 'M', 'N', 'X']\n"
     ]
    }
   ],
   "source": [
    "# modify the Z and Y to M and N\n",
    "list7 = [2,77,8,4,[\"A\", \"B\", \"C\", \"D\"], \"Z\", \"Y\", \"X\"]\n",
    "list7[-3:-1] = [\"M\", \"N\"]\n",
    "print(list7)"
   ]
  },
  {
   "cell_type": "markdown",
   "id": "1cc9abee",
   "metadata": {},
   "source": [
    "# Tuple"
   ]
  },
  {
   "cell_type": "code",
   "execution_count": null,
   "id": "a24e8557",
   "metadata": {},
   "outputs": [],
   "source": [
    "tup1 = () # this is an empty tuple"
   ]
  },
  {
   "cell_type": "code",
   "execution_count": 13,
   "id": "62eac086",
   "metadata": {},
   "outputs": [],
   "source": [
    "tup2 = ([1,2,3], 5, \"olaitan\", (8,7,0)) # tuple with different datatype"
   ]
  },
  {
   "cell_type": "code",
   "execution_count": 14,
   "id": "4347ff18",
   "metadata": {},
   "outputs": [
    {
     "data": {
      "text/plain": [
       "tuple"
      ]
     },
     "execution_count": 14,
     "metadata": {},
     "output_type": "execute_result"
    }
   ],
   "source": [
    "type(tup2)"
   ]
  },
  {
   "cell_type": "code",
   "execution_count": 16,
   "id": "cfa181c0",
   "metadata": {},
   "outputs": [
    {
     "ename": "TypeError",
     "evalue": "'tuple' object does not support item assignment",
     "output_type": "error",
     "traceback": [
      "\u001b[1;31m---------------------------------------------------------------------------\u001b[0m",
      "\u001b[1;31mTypeError\u001b[0m                                 Traceback (most recent call last)",
      "\u001b[1;32m~\\AppData\\Local\\Temp\\ipykernel_11636\\1225110608.py\u001b[0m in \u001b[0;36m<module>\u001b[1;34m\u001b[0m\n\u001b[0;32m      1\u001b[0m \u001b[1;31m# from the tuple return 3 and as well return 8\u001b[0m\u001b[1;33m\u001b[0m\u001b[1;33m\u001b[0m\u001b[0m\n\u001b[1;32m----> 2\u001b[1;33m \u001b[0mtup2\u001b[0m\u001b[1;33m[\u001b[0m\u001b[1;36m1\u001b[0m\u001b[1;33m]\u001b[0m \u001b[1;33m=\u001b[0m \u001b[1;34m\"five\"\u001b[0m\u001b[1;33m\u001b[0m\u001b[1;33m\u001b[0m\u001b[0m\n\u001b[0m",
      "\u001b[1;31mTypeError\u001b[0m: 'tuple' object does not support item assignment"
     ]
    }
   ],
   "source": [
    "# from the tuple return 3 and as well return 8\n",
    "tup2[1] = \"five\""
   ]
  },
  {
   "cell_type": "code",
   "execution_count": 18,
   "id": "a507a57f",
   "metadata": {},
   "outputs": [
    {
     "name": "stdout",
     "output_type": "stream",
     "text": [
      "([1, 2, 3], 5, 'olaitan', (3, 7, 0), 'ola', 'james', 'smiths')\n"
     ]
    }
   ],
   "source": [
    "tup3=(\"ola\", \"james\", \"smiths\")\n",
    "y=tup2 + tup3\n",
    "print(y)"
   ]
  },
  {
   "cell_type": "markdown",
   "id": "b3de2662",
   "metadata": {},
   "source": [
    "# Set"
   ]
  },
  {
   "cell_type": "code",
   "execution_count": 28,
   "id": "055388d6",
   "metadata": {},
   "outputs": [
    {
     "name": "stdout",
     "output_type": "stream",
     "text": [
      "[1, 2, 1, 2, 1]\n"
     ]
    }
   ],
   "source": [
    "set1 = {1,2,3,4,5}\n",
    "list1 =[1,2,1,2,1]\n",
    "print(list1)"
   ]
  },
  {
   "cell_type": "code",
   "execution_count": 29,
   "id": "40c6183b",
   "metadata": {},
   "outputs": [
    {
     "name": "stdout",
     "output_type": "stream",
     "text": [
      "{1, 2}\n"
     ]
    }
   ],
   "source": [
    "set1 ={1,2,1,2,1}\n",
    "print(set1)"
   ]
  },
  {
   "cell_type": "markdown",
   "id": "37ad3f90",
   "metadata": {},
   "source": [
    "# dictionary\n",
    "dictionary has a key and value pair relationship"
   ]
  },
  {
   "cell_type": "code",
   "execution_count": 30,
   "id": "781ee2a4",
   "metadata": {},
   "outputs": [],
   "source": [
    "dict1 = {\"Name\":\"Olaitan\", \"Age\":12, \"address\":\"New York\"}"
   ]
  },
  {
   "cell_type": "code",
   "execution_count": 31,
   "id": "eedaea3a",
   "metadata": {},
   "outputs": [
    {
     "data": {
      "text/plain": [
       "dict"
      ]
     },
     "execution_count": 31,
     "metadata": {},
     "output_type": "execute_result"
    }
   ],
   "source": [
    "type(dict1)"
   ]
  },
  {
   "cell_type": "code",
   "execution_count": 32,
   "id": "4becf77b",
   "metadata": {},
   "outputs": [
    {
     "data": {
      "text/plain": [
       "'Olaitan'"
      ]
     },
     "execution_count": 32,
     "metadata": {},
     "output_type": "execute_result"
    }
   ],
   "source": [
    "# fetch out olaitan from the dict above\n",
    "dict1[\"Name\"]"
   ]
  },
  {
   "cell_type": "code",
   "execution_count": 33,
   "id": "27ab1d35",
   "metadata": {},
   "outputs": [
    {
     "data": {
      "text/plain": [
       "12"
      ]
     },
     "execution_count": 33,
     "metadata": {},
     "output_type": "execute_result"
    }
   ],
   "source": [
    "dict1[\"Age\"]"
   ]
  },
  {
   "cell_type": "code",
   "execution_count": 35,
   "id": "aebc2fc9",
   "metadata": {},
   "outputs": [],
   "source": [
    "dict1 = {\"Name\":[\"Olaitan\", \"Smith\",\"Ada\", \"James\"], \"Age\":[12,34,56,23], \n",
    "         \"address\":[\"New York\", \"Olowoira\", \"lekki\", \"Begger\"]}"
   ]
  },
  {
   "cell_type": "code",
   "execution_count": 37,
   "id": "b2d7ae14",
   "metadata": {},
   "outputs": [
    {
     "data": {
      "text/plain": [
       "'Olowoira'"
      ]
     },
     "execution_count": 37,
     "metadata": {},
     "output_type": "execute_result"
    }
   ],
   "source": [
    "# return all the address from the dicts above\n",
    "# return olowoira from the dicts above\n",
    "dict1[\"address\"][1]"
   ]
  },
  {
   "cell_type": "code",
   "execution_count": 39,
   "id": "5ae92471",
   "metadata": {},
   "outputs": [
    {
     "name": "stdout",
     "output_type": "stream",
     "text": [
      "{'Name': ['Olaitan', 'Smith', 'Ada', 'James'], 'Age': [12, 34, 56, 23], 'address': ['New York', 'Olowoira', 'lekki', 'Begger'], 'Salary': [28373, 393773, 2763, 3772]}\n"
     ]
    }
   ],
   "source": [
    "# updating existing dictionary\n",
    "dict1[\"Salary\"]= [28373, 393773, 2763, 3772]\n",
    "print(dict1)"
   ]
  },
  {
   "cell_type": "code",
   "execution_count": null,
   "id": "792cdbec",
   "metadata": {},
   "outputs": [],
   "source": []
  },
  {
   "cell_type": "code",
   "execution_count": 40,
   "id": "dda4e24a",
   "metadata": {},
   "outputs": [
    {
     "name": "stdout",
     "output_type": "stream",
     "text": [
      "{'Age': [12, 34, 56, 23], 'address': ['New York', 'Olowoira', 'lekki', 'Begger'], 'Salary': [28373, 393773, 2763, 3772]}\n"
     ]
    }
   ],
   "source": [
    "dict1.pop(\"Name\")# this will the all Names\n",
    "print(dict1)"
   ]
  },
  {
   "cell_type": "code",
   "execution_count": 42,
   "id": "90209717",
   "metadata": {},
   "outputs": [
    {
     "data": {
      "text/plain": [
       "'lekki'"
      ]
     },
     "execution_count": 42,
     "metadata": {},
     "output_type": "execute_result"
    }
   ],
   "source": [
    "dict1[\"address\"].pop(2)"
   ]
  },
  {
   "cell_type": "code",
   "execution_count": 43,
   "id": "25c13cc4",
   "metadata": {},
   "outputs": [
    {
     "data": {
      "text/plain": [
       "{'Age': [12, 34, 56, 23],\n",
       " 'address': ['New York', 'Olowoira', 'Begger'],\n",
       " 'Salary': [28373, 393773, 2763, 3772]}"
      ]
     },
     "execution_count": 43,
     "metadata": {},
     "output_type": "execute_result"
    }
   ],
   "source": [
    "dict1"
   ]
  },
  {
   "cell_type": "code",
   "execution_count": null,
   "id": "51b44f4f",
   "metadata": {},
   "outputs": [],
   "source": []
  },
  {
   "cell_type": "code",
   "execution_count": null,
   "id": "0baeed3e",
   "metadata": {},
   "outputs": [],
   "source": []
  },
  {
   "cell_type": "code",
   "execution_count": null,
   "id": "211d06aa",
   "metadata": {},
   "outputs": [],
   "source": []
  },
  {
   "cell_type": "markdown",
   "id": "a8e75d8f",
   "metadata": {},
   "source": [
    "### Create a Dictionary of List\n",
    "\n",
    "- create a dictionary with the following information\n",
    "- fruit as key with the following values (apple, banana, orange)\n",
    "- color as key with the following values (red, yellow, orange)\n",
    "- number as key with the following values (1,2,3,4,5)\n",
    "- cities as key with the following values (\"New York\", \"California\", \"New Jersey\")\n",
    "\n",
    "\n",
    "\n",
    "\n",
    "\n",
    "### Practice Questions:\n",
    "1. Access the second element in the \"fruits\" list.\n",
    "2. Retrieve the list of colors from the dictionary.\n",
    "3. Get the last number from the \"numbers\" list.\n",
    "4. Access the third city from the \"cities\" list.\n",
    "5. Change the first element in the \"fruits\" list to \"grape\".\n",
    "6. Add a new color, \"green\", to the list of colors.\n",
    "7. Remove the second element from the \"numbers\" list.\n",
    "8. Check if the key \"animals\" is present in the dictionary.\n",
    "9. Print all keys in the dictionary.\n",
    "10. Slice the \"fruits\" list to get the elements from index 1 to 2.\n",
    "11. Extend the \"fruits\" list by adding [\"grape\", \"watermelon\"] to it.\n",
    "12. Check the length of the \"cities\" list.\n",
    "13. Remove the \"colors\" key and its associated list from the dictionary.\n",
    "14. Create a new key, \"animals\", and assign it a list containing [\"lion\", \"elephant\", \"zebra\"].\n",
    "15. Reverse the order of elements in the \"numbers\" list.\n"
   ]
  },
  {
   "cell_type": "code",
   "execution_count": null,
   "id": "a2711e48",
   "metadata": {},
   "outputs": [],
   "source": []
  },
  {
   "cell_type": "code",
   "execution_count": null,
   "id": "dc1491a6",
   "metadata": {},
   "outputs": [],
   "source": []
  },
  {
   "cell_type": "code",
   "execution_count": null,
   "id": "2056bbc7",
   "metadata": {},
   "outputs": [],
   "source": []
  },
  {
   "cell_type": "code",
   "execution_count": null,
   "id": "1408b5c0",
   "metadata": {},
   "outputs": [],
   "source": []
  },
  {
   "cell_type": "code",
   "execution_count": null,
   "id": "0f9d576c",
   "metadata": {},
   "outputs": [],
   "source": []
  },
  {
   "cell_type": "code",
   "execution_count": null,
   "id": "357e69e1",
   "metadata": {},
   "outputs": [],
   "source": []
  },
  {
   "cell_type": "code",
   "execution_count": null,
   "id": "ae95b413",
   "metadata": {},
   "outputs": [],
   "source": []
  },
  {
   "cell_type": "code",
   "execution_count": null,
   "id": "c572fef4",
   "metadata": {},
   "outputs": [],
   "source": []
  },
  {
   "cell_type": "code",
   "execution_count": null,
   "id": "ce2a317a",
   "metadata": {},
   "outputs": [],
   "source": []
  },
  {
   "cell_type": "code",
   "execution_count": null,
   "id": "d190fe39",
   "metadata": {},
   "outputs": [],
   "source": []
  },
  {
   "cell_type": "code",
   "execution_count": null,
   "id": "80744cfb",
   "metadata": {},
   "outputs": [],
   "source": []
  },
  {
   "cell_type": "code",
   "execution_count": null,
   "id": "ff08413a",
   "metadata": {},
   "outputs": [],
   "source": []
  }
 ],
 "metadata": {
  "kernelspec": {
   "display_name": "Python 3 (ipykernel)",
   "language": "python",
   "name": "python3"
  },
  "language_info": {
   "codemirror_mode": {
    "name": "ipython",
    "version": 3
   },
   "file_extension": ".py",
   "mimetype": "text/x-python",
   "name": "python",
   "nbconvert_exporter": "python",
   "pygments_lexer": "ipython3",
   "version": "3.9.13"
  }
 },
 "nbformat": 4,
 "nbformat_minor": 5
}
