{
 "cells": [
  {
   "cell_type": "code",
   "execution_count": 1,
   "id": "bd70ecc2",
   "metadata": {},
   "outputs": [],
   "source": [
    "import numpy as np\n",
    "import pandas as pd \n",
    "import matplotlib.pyplot as plt\n",
    "import seaborn as sns\n",
    "from sklearn.preprocessing import OrdinalEncoder, OneHotEncoder, StandardScaler\n",
    "from sklearn.model_selection import train_test_split\n",
    "from sklearn.compose import ColumnTransformer\n",
    "from sklearn.model_selection import StratifiedKFold, cross_validate\n",
    "from sklearn.pipeline import Pipeline\n",
    "from sklearn.metrics import precision_score, recall_score\n",
    "from sklearn.linear_model import LogisticRegression\n",
    "from sklearn.tree import DecisionTreeClassifier\n",
    "from sklearn.svm import SVC\n",
    "from sklearn.ensemble import RandomForestClassifier, AdaBoostClassifier, GradientBoostingClassifier\n",
    "from sklearn.neighbors import KNeighborsClassifier\n",
    "from sklearn.naive_bayes import GaussianNB\n",
    "from sklearn.metrics import roc_auc_score, roc_curve, accuracy_score, r2_score, f1_score, recall_score, precision_score, confusion_matrix, classification_report\n",
    "\n",
    "#from google.colab import drive\n",
    "#import warnings\n",
    "#warnings.filterwarnings('ignore')\n",
    "%matplotlib inline\n",
    "plt.rcParams.update({'figure.max_open_warning': 0}) # Hide warnings"
   ]
  },
  {
   "cell_type": "code",
   "execution_count": null,
   "id": "eda159ce",
   "metadata": {},
   "outputs": [],
   "source": []
  },
  {
   "cell_type": "code",
   "execution_count": 2,
   "id": "5ec87493",
   "metadata": {},
   "outputs": [],
   "source": [
    "# import the data into datafram\n",
    "path =\"C:/Users/pc/Desktop/1/my project/depression prediction/\"\n",
    "df = pd.read_csv(path + \"data.csv\")"
   ]
  },
  {
   "cell_type": "code",
   "execution_count": 4,
   "id": "d2339f0a",
   "metadata": {},
   "outputs": [],
   "source": [
    "df.drop_duplicates(inplace=True)"
   ]
  },
  {
   "cell_type": "code",
   "execution_count": 7,
   "id": "795ea76d",
   "metadata": {},
   "outputs": [],
   "source": [
    "new_col = ['age','address','schooling','stud_hr','employed','h_disab',\n",
    "           'ment_cond','social_hr','fit_hr','wind','dry_mouth',\n",
    "           'positive','breath_diff','initiate','tremb','worry','look_fwd',\n",
    "           'down','enthus','life_mean','scared','outcome']\n",
    "df.columns= new_col"
   ]
  },
  {
   "cell_type": "code",
   "execution_count": 8,
   "id": "c5ddd424",
   "metadata": {},
   "outputs": [],
   "source": [
    "df.outcome.replace('high signs of depression ', 'High signs of depression ', inplace=True)"
   ]
  },
  {
   "cell_type": "code",
   "execution_count": 116,
   "id": "6449bb5b",
   "metadata": {},
   "outputs": [],
   "source": [
    "X = df.copy()\n",
    "y = X.pop(\"outcome\")"
   ]
  },
  {
   "cell_type": "code",
   "execution_count": 117,
   "id": "529ac5ef",
   "metadata": {},
   "outputs": [],
   "source": [
    "i = lambda x: x.split(\"-\")[-1].strip(\"hours\")[0]\n",
    "X[\"social_hr\"]=X[\"social_hr\"].apply(i)\n",
    "X[\"fit_hr\"]=X[\"fit_hr\"].apply(i)"
   ]
  },
  {
   "cell_type": "code",
   "execution_count": 140,
   "id": "8f4b3576",
   "metadata": {},
   "outputs": [],
   "source": [
    "X.drop(columns=[\"address\", \"schooling\"], inplace=True)"
   ]
  },
  {
   "cell_type": "code",
   "execution_count": 141,
   "id": "05c1cad9",
   "metadata": {},
   "outputs": [],
   "source": [
    "mominal_cloumns_mask=X.select_dtypes(\"object\").nunique()>2\n",
    "mominal_cloumns=mominal_cloumns_mask.index[mominal_cloumns_mask][:-2]"
   ]
  },
  {
   "cell_type": "code",
   "execution_count": 142,
   "id": "1615885b",
   "metadata": {},
   "outputs": [],
   "source": [
    "\n",
    "ordinal_columns_mask=X.select_dtypes([\"int64\", \"float64\"]).nunique()==4\n",
    "ordinal_columns=ordinal_columns_mask.index[ordinal_columns_mask]\n",
    "for i in mominal_cloumns_mask.index[mominal_cloumns_mask][[3,4]]:\n",
    "    ordinal_columns=ordinal_columns.insert(0, i)"
   ]
  },
  {
   "cell_type": "code",
   "execution_count": 143,
   "id": "a92eeabe",
   "metadata": {},
   "outputs": [],
   "source": [
    "numerical_columns_mask=X.select_dtypes([\"int64\", \"float64\"]).nunique()>4\n",
    "numerical_columns=numerical_columns_mask.index[numerical_columns_mask]"
   ]
  },
  {
   "cell_type": "code",
   "execution_count": 144,
   "id": "15ac5358",
   "metadata": {},
   "outputs": [],
   "source": [
    "for i in ordinal_columns:\n",
    "    X[i] = X[i].astype(\"category\")   "
   ]
  },
  {
   "cell_type": "code",
   "execution_count": null,
   "id": "9237d4c9",
   "metadata": {},
   "outputs": [],
   "source": []
  },
  {
   "cell_type": "code",
   "execution_count": 145,
   "id": "e6e4b925",
   "metadata": {},
   "outputs": [],
   "source": [
    "precessor = [\n",
    "    (\"ordinal columns\", OrdinalEncoder(),ordinal_columns ),\n",
    "    (\"nominal columns\", OneHotEncoder(),mominal_cloumns ),\n",
    "    (\"numerical columns\", StandardScaler(),numerical_columns )\n",
    "    \n",
    "]"
   ]
  },
  {
   "cell_type": "code",
   "execution_count": 146,
   "id": "53a07c2b",
   "metadata": {},
   "outputs": [],
   "source": [
    "transformer = ColumnTransformer(precessor, remainder=\"passthrough\")"
   ]
  },
  {
   "cell_type": "code",
   "execution_count": null,
   "id": "2b580719",
   "metadata": {},
   "outputs": [],
   "source": []
  },
  {
   "cell_type": "code",
   "execution_count": 158,
   "id": "a24880d5",
   "metadata": {},
   "outputs": [],
   "source": [
    "classfier_names = [\"RandomForest\", \"AdaBoost\", \"GradientBosst\", \"Logisticregression\", \"DecisionTree\",\n",
    "                  \"GaussianNB\"]\n",
    "\n",
    "classfiers=[RandomForestClassifier(), AdaBoostClassifier(), GradientBoostingClassifier(),\n",
    "LogisticRegression(max_iter=1000), DecisionTreeClassifier(), GaussianNB()]"
   ]
  },
  {
   "cell_type": "code",
   "execution_count": null,
   "id": "27543044",
   "metadata": {},
   "outputs": [],
   "source": []
  },
  {
   "cell_type": "code",
   "execution_count": null,
   "id": "2576ba63",
   "metadata": {},
   "outputs": [],
   "source": []
  },
  {
   "cell_type": "code",
   "execution_count": 159,
   "id": "4b7bb569",
   "metadata": {},
   "outputs": [],
   "source": [
    "pipelines =[ Pipeline([\n",
    "    (\"transformer\", transformer), (classfier_name, classfier)\n",
    "]) for classfier_name, classfier in zip(classfier_names, classfiers) ]"
   ]
  },
  {
   "cell_type": "code",
   "execution_count": 160,
   "id": "86111d26",
   "metadata": {},
   "outputs": [],
   "source": [
    "scoring = {\"acc\": \"accuracy\"}\n",
    "training_scores = []\n",
    "cv_scores = {classfier_name:[] for classfier_name in classfier_names}\n",
    "for classfier_name, pipeline in zip(classfier_names, pipelines):\n",
    "    cv_score = cross_validate(estimator=pipeline, X=X, y=y, cv=4, error_score='raise', scoring=scoring,\n",
    "                         return_estimator=True, return_train_score=True)\n",
    "    training_score = np.mean(cv_score[\"train_acc\"]) * 100\n",
    "    training_scores.append(training_score)\n",
    "    cv_scores[classfier_name].append(cv_score)"
   ]
  },
  {
   "cell_type": "code",
   "execution_count": 161,
   "id": "05e0c035",
   "metadata": {},
   "outputs": [
    {
     "data": {
      "text/plain": [
       "[97.25274725274726,\n",
       " 65.84249084249085,\n",
       " 97.25274725274726,\n",
       " 83.25752116735724,\n",
       " 97.25274725274726,\n",
       " 67.48333633579536]"
      ]
     },
     "execution_count": 161,
     "metadata": {},
     "output_type": "execute_result"
    }
   ],
   "source": [
    "training_scores"
   ]
  },
  {
   "cell_type": "code",
   "execution_count": 172,
   "id": "655fdcb4",
   "metadata": {},
   "outputs": [],
   "source": [
    "best_estimators = {classfier_name:[] for classfier_name in classfier_names}\n",
    "for key, model in cv_scores.items():\n",
    "    best_score=np.argmax(model[0][\"test_acc\"])\n",
    "    best_estimator=model[0][\"estimator\"][best_score]\n",
    "    best_estimators[key].append(best_estimator)"
   ]
  },
  {
   "cell_type": "code",
   "execution_count": 173,
   "id": "bf145981",
   "metadata": {},
   "outputs": [
    {
     "data": {
      "text/plain": [
       "{'RandomForest': [Pipeline(steps=[('transformer',\n",
       "                   ColumnTransformer(remainder='passthrough',\n",
       "                                     transformers=[('ordinal columns',\n",
       "                                                    OrdinalEncoder(),\n",
       "                                                    Index(['fit_hr', 'social_hr', 'wind', 'dry_mouth', 'positive', 'breath_diff',\n",
       "         'initiate', 'tremb', 'worry', 'look_fwd', 'down', 'enthus', 'life_mean',\n",
       "         'scared'],\n",
       "        dtype='object')),\n",
       "                                                   ('nominal columns',\n",
       "                                                    OneHotEncoder(),\n",
       "                                                    Index(['employed', 'h_disab', 'ment_cond'], dtype='object')),\n",
       "                                                   ('numerical columns',\n",
       "                                                    StandardScaler(),\n",
       "                                                    Index(['age', 'stud_hr'], dtype='object'))])),\n",
       "                  ('RandomForest', RandomForestClassifier())])],\n",
       " 'AdaBoost': [Pipeline(steps=[('transformer',\n",
       "                   ColumnTransformer(remainder='passthrough',\n",
       "                                     transformers=[('ordinal columns',\n",
       "                                                    OrdinalEncoder(),\n",
       "                                                    Index(['fit_hr', 'social_hr', 'wind', 'dry_mouth', 'positive', 'breath_diff',\n",
       "         'initiate', 'tremb', 'worry', 'look_fwd', 'down', 'enthus', 'life_mean',\n",
       "         'scared'],\n",
       "        dtype='object')),\n",
       "                                                   ('nominal columns',\n",
       "                                                    OneHotEncoder(),\n",
       "                                                    Index(['employed', 'h_disab', 'ment_cond'], dtype='object')),\n",
       "                                                   ('numerical columns',\n",
       "                                                    StandardScaler(),\n",
       "                                                    Index(['age', 'stud_hr'], dtype='object'))])),\n",
       "                  ('AdaBoost', AdaBoostClassifier())])],\n",
       " 'GradientBosst': [Pipeline(steps=[('transformer',\n",
       "                   ColumnTransformer(remainder='passthrough',\n",
       "                                     transformers=[('ordinal columns',\n",
       "                                                    OrdinalEncoder(),\n",
       "                                                    Index(['fit_hr', 'social_hr', 'wind', 'dry_mouth', 'positive', 'breath_diff',\n",
       "         'initiate', 'tremb', 'worry', 'look_fwd', 'down', 'enthus', 'life_mean',\n",
       "         'scared'],\n",
       "        dtype='object')),\n",
       "                                                   ('nominal columns',\n",
       "                                                    OneHotEncoder(),\n",
       "                                                    Index(['employed', 'h_disab', 'ment_cond'], dtype='object')),\n",
       "                                                   ('numerical columns',\n",
       "                                                    StandardScaler(),\n",
       "                                                    Index(['age', 'stud_hr'], dtype='object'))])),\n",
       "                  ('GradientBosst', GradientBoostingClassifier())])],\n",
       " 'Logisticregression': [Pipeline(steps=[('transformer',\n",
       "                   ColumnTransformer(remainder='passthrough',\n",
       "                                     transformers=[('ordinal columns',\n",
       "                                                    OrdinalEncoder(),\n",
       "                                                    Index(['fit_hr', 'social_hr', 'wind', 'dry_mouth', 'positive', 'breath_diff',\n",
       "         'initiate', 'tremb', 'worry', 'look_fwd', 'down', 'enthus', 'life_mean',\n",
       "         'scared'],\n",
       "        dtype='object')),\n",
       "                                                   ('nominal columns',\n",
       "                                                    OneHotEncoder(),\n",
       "                                                    Index(['employed', 'h_disab', 'ment_cond'], dtype='object')),\n",
       "                                                   ('numerical columns',\n",
       "                                                    StandardScaler(),\n",
       "                                                    Index(['age', 'stud_hr'], dtype='object'))])),\n",
       "                  ('Logisticregression', LogisticRegression(max_iter=1000))])],\n",
       " 'DecisionTree': [Pipeline(steps=[('transformer',\n",
       "                   ColumnTransformer(remainder='passthrough',\n",
       "                                     transformers=[('ordinal columns',\n",
       "                                                    OrdinalEncoder(),\n",
       "                                                    Index(['fit_hr', 'social_hr', 'wind', 'dry_mouth', 'positive', 'breath_diff',\n",
       "         'initiate', 'tremb', 'worry', 'look_fwd', 'down', 'enthus', 'life_mean',\n",
       "         'scared'],\n",
       "        dtype='object')),\n",
       "                                                   ('nominal columns',\n",
       "                                                    OneHotEncoder(),\n",
       "                                                    Index(['employed', 'h_disab', 'ment_cond'], dtype='object')),\n",
       "                                                   ('numerical columns',\n",
       "                                                    StandardScaler(),\n",
       "                                                    Index(['age', 'stud_hr'], dtype='object'))])),\n",
       "                  ('DecisionTree', DecisionTreeClassifier())])],\n",
       " 'GaussianNB': [Pipeline(steps=[('transformer',\n",
       "                   ColumnTransformer(remainder='passthrough',\n",
       "                                     transformers=[('ordinal columns',\n",
       "                                                    OrdinalEncoder(),\n",
       "                                                    Index(['fit_hr', 'social_hr', 'wind', 'dry_mouth', 'positive', 'breath_diff',\n",
       "         'initiate', 'tremb', 'worry', 'look_fwd', 'down', 'enthus', 'life_mean',\n",
       "         'scared'],\n",
       "        dtype='object')),\n",
       "                                                   ('nominal columns',\n",
       "                                                    OneHotEncoder(),\n",
       "                                                    Index(['employed', 'h_disab', 'ment_cond'], dtype='object')),\n",
       "                                                   ('numerical columns',\n",
       "                                                    StandardScaler(),\n",
       "                                                    Index(['age', 'stud_hr'], dtype='object'))])),\n",
       "                  ('GaussianNB', GaussianNB())])]}"
      ]
     },
     "execution_count": 173,
     "metadata": {},
     "output_type": "execute_result"
    }
   ],
   "source": [
    "best_estimators"
   ]
  },
  {
   "cell_type": "code",
   "execution_count": 168,
   "id": "738b5a42",
   "metadata": {},
   "outputs": [
    {
     "data": {
      "text/plain": [
       "{'fit_time': array([0.03355455, 0.03219652, 0.03155661, 0.03323078]),\n",
       " 'score_time': array([0.01652193, 0.01688838, 0.01590323, 0.0336535 ]),\n",
       " 'estimator': [Pipeline(steps=[('transformer',\n",
       "                   ColumnTransformer(remainder='passthrough',\n",
       "                                     transformers=[('ordinal columns',\n",
       "                                                    OrdinalEncoder(),\n",
       "                                                    Index(['fit_hr', 'social_hr', 'wind', 'dry_mouth', 'positive', 'breath_diff',\n",
       "         'initiate', 'tremb', 'worry', 'look_fwd', 'down', 'enthus', 'life_mean',\n",
       "         'scared'],\n",
       "        dtype='object')),\n",
       "                                                   ('nominal columns',\n",
       "                                                    OneHotEncoder(),\n",
       "                                                    Index(['employed', 'h_disab', 'ment_cond'], dtype='object')),\n",
       "                                                   ('numerical columns',\n",
       "                                                    StandardScaler(),\n",
       "                                                    Index(['age', 'stud_hr'], dtype='object'))])),\n",
       "                  ('GaussianNB', GaussianNB())]),\n",
       "  Pipeline(steps=[('transformer',\n",
       "                   ColumnTransformer(remainder='passthrough',\n",
       "                                     transformers=[('ordinal columns',\n",
       "                                                    OrdinalEncoder(),\n",
       "                                                    Index(['fit_hr', 'social_hr', 'wind', 'dry_mouth', 'positive', 'breath_diff',\n",
       "         'initiate', 'tremb', 'worry', 'look_fwd', 'down', 'enthus', 'life_mean',\n",
       "         'scared'],\n",
       "        dtype='object')),\n",
       "                                                   ('nominal columns',\n",
       "                                                    OneHotEncoder(),\n",
       "                                                    Index(['employed', 'h_disab', 'ment_cond'], dtype='object')),\n",
       "                                                   ('numerical columns',\n",
       "                                                    StandardScaler(),\n",
       "                                                    Index(['age', 'stud_hr'], dtype='object'))])),\n",
       "                  ('GaussianNB', GaussianNB())]),\n",
       "  Pipeline(steps=[('transformer',\n",
       "                   ColumnTransformer(remainder='passthrough',\n",
       "                                     transformers=[('ordinal columns',\n",
       "                                                    OrdinalEncoder(),\n",
       "                                                    Index(['fit_hr', 'social_hr', 'wind', 'dry_mouth', 'positive', 'breath_diff',\n",
       "         'initiate', 'tremb', 'worry', 'look_fwd', 'down', 'enthus', 'life_mean',\n",
       "         'scared'],\n",
       "        dtype='object')),\n",
       "                                                   ('nominal columns',\n",
       "                                                    OneHotEncoder(),\n",
       "                                                    Index(['employed', 'h_disab', 'ment_cond'], dtype='object')),\n",
       "                                                   ('numerical columns',\n",
       "                                                    StandardScaler(),\n",
       "                                                    Index(['age', 'stud_hr'], dtype='object'))])),\n",
       "                  ('GaussianNB', GaussianNB())]),\n",
       "  Pipeline(steps=[('transformer',\n",
       "                   ColumnTransformer(remainder='passthrough',\n",
       "                                     transformers=[('ordinal columns',\n",
       "                                                    OrdinalEncoder(),\n",
       "                                                    Index(['fit_hr', 'social_hr', 'wind', 'dry_mouth', 'positive', 'breath_diff',\n",
       "         'initiate', 'tremb', 'worry', 'look_fwd', 'down', 'enthus', 'life_mean',\n",
       "         'scared'],\n",
       "        dtype='object')),\n",
       "                                                   ('nominal columns',\n",
       "                                                    OneHotEncoder(),\n",
       "                                                    Index(['employed', 'h_disab', 'ment_cond'], dtype='object')),\n",
       "                                                   ('numerical columns',\n",
       "                                                    StandardScaler(),\n",
       "                                                    Index(['age', 'stud_hr'], dtype='object'))])),\n",
       "                  ('GaussianNB', GaussianNB())])],\n",
       " 'test_acc': array([0.57377049, 0.60655738, 0.70491803, 0.56666667]),\n",
       " 'train_acc': array([0.6043956 , 0.68681319, 0.68681319, 0.72131148])}"
      ]
     },
     "execution_count": 168,
     "metadata": {},
     "output_type": "execute_result"
    }
   ],
   "source": [
    "cv_score"
   ]
  },
  {
   "cell_type": "code",
   "execution_count": null,
   "id": "c33e0b68",
   "metadata": {},
   "outputs": [],
   "source": []
  },
  {
   "cell_type": "code",
   "execution_count": null,
   "id": "8f3e01b2",
   "metadata": {},
   "outputs": [],
   "source": []
  },
  {
   "cell_type": "code",
   "execution_count": null,
   "id": "968918ae",
   "metadata": {},
   "outputs": [],
   "source": []
  },
  {
   "cell_type": "code",
   "execution_count": null,
   "id": "2eb5456a",
   "metadata": {},
   "outputs": [],
   "source": []
  },
  {
   "cell_type": "code",
   "execution_count": null,
   "id": "1a5fd056",
   "metadata": {},
   "outputs": [],
   "source": []
  },
  {
   "cell_type": "code",
   "execution_count": null,
   "id": "2e39a290",
   "metadata": {},
   "outputs": [],
   "source": []
  },
  {
   "cell_type": "code",
   "execution_count": null,
   "id": "470e402f",
   "metadata": {},
   "outputs": [],
   "source": []
  },
  {
   "cell_type": "code",
   "execution_count": null,
   "id": "5eebd94a",
   "metadata": {},
   "outputs": [],
   "source": []
  },
  {
   "cell_type": "code",
   "execution_count": null,
   "id": "d42cccb2",
   "metadata": {},
   "outputs": [],
   "source": []
  },
  {
   "cell_type": "code",
   "execution_count": null,
   "id": "abd7195d",
   "metadata": {},
   "outputs": [],
   "source": []
  },
  {
   "cell_type": "code",
   "execution_count": null,
   "id": "3ed6ffe2",
   "metadata": {},
   "outputs": [],
   "source": []
  },
  {
   "cell_type": "code",
   "execution_count": null,
   "id": "931fd9e6",
   "metadata": {},
   "outputs": [],
   "source": []
  },
  {
   "cell_type": "code",
   "execution_count": null,
   "id": "55a198db",
   "metadata": {},
   "outputs": [],
   "source": []
  },
  {
   "cell_type": "code",
   "execution_count": null,
   "id": "2ee0e4b1",
   "metadata": {},
   "outputs": [],
   "source": []
  },
  {
   "cell_type": "code",
   "execution_count": null,
   "id": "8f024475",
   "metadata": {},
   "outputs": [],
   "source": []
  },
  {
   "cell_type": "code",
   "execution_count": null,
   "id": "df094e29",
   "metadata": {},
   "outputs": [],
   "source": []
  },
  {
   "cell_type": "code",
   "execution_count": null,
   "id": "d815246e",
   "metadata": {},
   "outputs": [],
   "source": []
  },
  {
   "cell_type": "code",
   "execution_count": null,
   "id": "5bea44c2",
   "metadata": {},
   "outputs": [],
   "source": []
  },
  {
   "cell_type": "code",
   "execution_count": null,
   "id": "070227a6",
   "metadata": {},
   "outputs": [],
   "source": []
  },
  {
   "cell_type": "code",
   "execution_count": null,
   "id": "b86fd22a",
   "metadata": {},
   "outputs": [],
   "source": []
  },
  {
   "cell_type": "code",
   "execution_count": null,
   "id": "6d4cc269",
   "metadata": {},
   "outputs": [],
   "source": []
  },
  {
   "cell_type": "code",
   "execution_count": null,
   "id": "3ab5806d",
   "metadata": {},
   "outputs": [],
   "source": []
  },
  {
   "cell_type": "code",
   "execution_count": null,
   "id": "ca798589",
   "metadata": {},
   "outputs": [],
   "source": []
  },
  {
   "cell_type": "code",
   "execution_count": null,
   "id": "aba7c7ab",
   "metadata": {},
   "outputs": [],
   "source": []
  },
  {
   "cell_type": "code",
   "execution_count": null,
   "id": "e8ff8831",
   "metadata": {},
   "outputs": [],
   "source": []
  },
  {
   "cell_type": "code",
   "execution_count": null,
   "id": "bff0581e",
   "metadata": {},
   "outputs": [],
   "source": []
  },
  {
   "cell_type": "code",
   "execution_count": null,
   "id": "62f7b675",
   "metadata": {},
   "outputs": [],
   "source": []
  },
  {
   "cell_type": "code",
   "execution_count": null,
   "id": "ef09c3df",
   "metadata": {},
   "outputs": [],
   "source": [
    " "
   ]
  }
 ],
 "metadata": {
  "kernelspec": {
   "display_name": "Python 3 (ipykernel)",
   "language": "python",
   "name": "python3"
  },
  "language_info": {
   "codemirror_mode": {
    "name": "ipython",
    "version": 3
   },
   "file_extension": ".py",
   "mimetype": "text/x-python",
   "name": "python",
   "nbconvert_exporter": "python",
   "pygments_lexer": "ipython3",
   "version": "3.9.13"
  }
 },
 "nbformat": 4,
 "nbformat_minor": 5
}
