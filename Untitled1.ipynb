{
 "cells": [
  {
   "cell_type": "code",
   "execution_count": 39,
   "id": "bd70ecc2",
   "metadata": {},
   "outputs": [],
   "source": [
    "import numpy as np\n",
    "import pandas as pd \n",
    "import matplotlib.pyplot as plt\n",
    "import seaborn as sns\n",
    "from sklearn.preprocessing import OrdinalEncoder, OneHotEncoder, StandardScaler\n",
    "from sklearn.model_selection import train_test_split\n",
    "from sklearn.compose import ColumnTransformer\n",
    "from sklearn.model_selection import StratifiedKFold, cross_validate\n",
    "from sklearn.pipeline import Pipeline\n",
    "from sklearn.metrics import precision_score, recall_score\n",
    "from sklearn.linear_model import LogisticRegression\n",
    "from sklearn.tree import DecisionTreeClassifier\n",
    "from sklearn.svm import SVC\n",
    "from sklearn.ensemble import RandomForestClassifier, AdaBoostClassifier, GradientBoostingClassifier\n",
    "from sklearn.neighbors import KNeighborsClassifier\n",
    "from sklearn.naive_bayes import GaussianNB\n",
    "from sklearn.metrics import roc_auc_score, roc_curve, accuracy_score, r2_score, f1_score, recall_score, precision_score, confusion_matrix, classification_report\n",
    "from sklearn.preprocessing import LabelEncoder\n",
    "#from google.colab import drive\n",
    "#import warnings\n",
    "#warnings.filterwarnings('ignore')\n",
    "%matplotlib inline\n",
    "plt.rcParams.update({'figure.max_open_warning': 0}) # Hide warnings"
   ]
  },
  {
   "cell_type": "code",
   "execution_count": null,
   "id": "eda159ce",
   "metadata": {},
   "outputs": [],
   "source": []
  },
  {
   "cell_type": "code",
   "execution_count": 2,
   "id": "5ec87493",
   "metadata": {},
   "outputs": [],
   "source": [
    "# import the data into datafram\n",
    "path =\"C:/Users/pc/Desktop/1/my project/depression prediction/\"\n",
    "df = pd.read_csv(path + \"data.csv\")"
   ]
  },
  {
   "cell_type": "code",
   "execution_count": 3,
   "id": "d2339f0a",
   "metadata": {},
   "outputs": [],
   "source": [
    "df.drop_duplicates(inplace=True)"
   ]
  },
  {
   "cell_type": "code",
   "execution_count": 4,
   "id": "795ea76d",
   "metadata": {},
   "outputs": [],
   "source": [
    "new_col = ['age','address','schooling','stud_hr','employed','h_disab',\n",
    "           'ment_cond','social_hr','fit_hr','wind','dry_mouth',\n",
    "           'positive','breath_diff','initiate','tremb','worry','look_fwd',\n",
    "           'down','enthus','life_mean','scared','outcome']\n",
    "df.columns= new_col"
   ]
  },
  {
   "cell_type": "code",
   "execution_count": 5,
   "id": "c5ddd424",
   "metadata": {},
   "outputs": [],
   "source": [
    "df.outcome.replace('high signs of depression ', 'High signs of depression ', inplace=True)"
   ]
  },
  {
   "cell_type": "code",
   "execution_count": 6,
   "id": "6449bb5b",
   "metadata": {},
   "outputs": [],
   "source": [
    "X = df.copy()\n",
    "y = X.pop(\"outcome\")"
   ]
  },
  {
   "cell_type": "code",
   "execution_count": 41,
   "id": "8b6d41ed",
   "metadata": {},
   "outputs": [],
   "source": [
    "le = LabelEncoder()\n",
    "y_= le.fit_transform(y)"
   ]
  },
  {
   "cell_type": "code",
   "execution_count": 7,
   "id": "529ac5ef",
   "metadata": {},
   "outputs": [],
   "source": [
    "i = lambda x: x.split(\"-\")[-1].strip(\"hours\")[0]\n",
    "X[\"social_hr\"]=X[\"social_hr\"].apply(i)\n",
    "X[\"fit_hr\"]=X[\"fit_hr\"].apply(i)"
   ]
  },
  {
   "cell_type": "code",
   "execution_count": 8,
   "id": "8f4b3576",
   "metadata": {},
   "outputs": [],
   "source": [
    "X.drop(columns=[\"address\", \"schooling\"], inplace=True)"
   ]
  },
  {
   "cell_type": "code",
   "execution_count": 9,
   "id": "05c1cad9",
   "metadata": {},
   "outputs": [],
   "source": [
    "mominal_cloumns_mask=X.select_dtypes(\"object\").nunique()>2\n",
    "mominal_cloumns=mominal_cloumns_mask.index[mominal_cloumns_mask][:-2]"
   ]
  },
  {
   "cell_type": "code",
   "execution_count": 10,
   "id": "1615885b",
   "metadata": {},
   "outputs": [],
   "source": [
    "\n",
    "ordinal_columns_mask=X.select_dtypes([\"int64\", \"float64\"]).nunique()==4\n",
    "ordinal_columns=ordinal_columns_mask.index[ordinal_columns_mask]\n",
    "for i in mominal_cloumns_mask.index[mominal_cloumns_mask][[3,4]]:\n",
    "    ordinal_columns=ordinal_columns.insert(0, i)"
   ]
  },
  {
   "cell_type": "code",
   "execution_count": 11,
   "id": "a92eeabe",
   "metadata": {},
   "outputs": [],
   "source": [
    "numerical_columns_mask=X.select_dtypes([\"int64\", \"float64\"]).nunique()>4\n",
    "numerical_columns=numerical_columns_mask.index[numerical_columns_mask]"
   ]
  },
  {
   "cell_type": "code",
   "execution_count": 12,
   "id": "15ac5358",
   "metadata": {},
   "outputs": [],
   "source": [
    "for i in ordinal_columns:\n",
    "    X[i] = X[i].astype(\"category\")   "
   ]
  },
  {
   "cell_type": "code",
   "execution_count": null,
   "id": "9237d4c9",
   "metadata": {},
   "outputs": [],
   "source": []
  },
  {
   "cell_type": "code",
   "execution_count": 13,
   "id": "e6e4b925",
   "metadata": {},
   "outputs": [],
   "source": [
    "precessor = [\n",
    "    (\"ordinal columns\", OrdinalEncoder(),ordinal_columns ),\n",
    "    (\"nominal columns\", OneHotEncoder(),mominal_cloumns ),\n",
    "    (\"numerical columns\", StandardScaler(),numerical_columns )\n",
    "    \n",
    "]"
   ]
  },
  {
   "cell_type": "code",
   "execution_count": 14,
   "id": "53a07c2b",
   "metadata": {},
   "outputs": [],
   "source": [
    "transformer = ColumnTransformer(precessor, remainder=\"passthrough\")"
   ]
  },
  {
   "cell_type": "code",
   "execution_count": null,
   "id": "2b580719",
   "metadata": {},
   "outputs": [],
   "source": []
  },
  {
   "cell_type": "code",
   "execution_count": 15,
   "id": "a24880d5",
   "metadata": {},
   "outputs": [],
   "source": [
    "classfier_names = [\"RandomForest\", \"AdaBoost\", \"GradientBosst\", \"Logisticregression\", \"DecisionTree\",\n",
    "                  \"GaussianNB\"]\n",
    "\n",
    "classfiers=[RandomForestClassifier(), AdaBoostClassifier(), GradientBoostingClassifier(),\n",
    "LogisticRegression(max_iter=1000), DecisionTreeClassifier(), GaussianNB()]"
   ]
  },
  {
   "cell_type": "code",
   "execution_count": null,
   "id": "27543044",
   "metadata": {},
   "outputs": [],
   "source": []
  },
  {
   "cell_type": "code",
   "execution_count": null,
   "id": "2576ba63",
   "metadata": {},
   "outputs": [],
   "source": []
  },
  {
   "cell_type": "code",
   "execution_count": 16,
   "id": "4b7bb569",
   "metadata": {},
   "outputs": [],
   "source": [
    "pipelines =[ Pipeline([\n",
    "    (\"transformer\", transformer), (classfier_name, classfier)\n",
    "]) for classfier_name, classfier in zip(classfier_names, classfiers) ]"
   ]
  },
  {
   "cell_type": "code",
   "execution_count": 44,
   "id": "86111d26",
   "metadata": {},
   "outputs": [],
   "source": [
    "scoring = {\"acc\": \"accuracy\"}\n",
    "training_scores = []\n",
    "cv_scores = {classfier_name:[] for classfier_name in classfier_names}\n",
    "for classfier_name, pipeline in zip(classfier_names, pipelines):\n",
    "    cv_score = cross_validate(estimator=pipeline, X=X, y=y_, cv=4, error_score='raise', scoring=scoring,\n",
    "                         return_estimator=True, return_train_score=True)\n",
    "    training_score = np.mean(cv_score[\"train_acc\"]) * 100\n",
    "    training_scores.append(training_score)\n",
    "    cv_scores[classfier_name].append(cv_score)"
   ]
  },
  {
   "cell_type": "code",
   "execution_count": 45,
   "id": "05e0c035",
   "metadata": {},
   "outputs": [
    {
     "data": {
      "text/plain": [
       "[97.25274725274726,\n",
       " 65.84249084249085,\n",
       " 97.25274725274726,\n",
       " 83.25752116735724,\n",
       " 97.25274725274726,\n",
       " 67.48333633579536]"
      ]
     },
     "execution_count": 45,
     "metadata": {},
     "output_type": "execute_result"
    }
   ],
   "source": [
    "training_scores"
   ]
  },
  {
   "cell_type": "code",
   "execution_count": 46,
   "id": "655fdcb4",
   "metadata": {},
   "outputs": [],
   "source": [
    "best_estimators = {classfier_name:[] for classfier_name in classfier_names}\n",
    "for key, model in cv_scores.items():\n",
    "    best_score=np.argmax(model[0][\"test_acc\"])\n",
    "    best_estimator=model[0][\"estimator\"][best_score]\n",
    "    best_estimators[key].append(best_estimator)"
   ]
  },
  {
   "cell_type": "code",
   "execution_count": 69,
   "id": "9f35617c",
   "metadata": {},
   "outputs": [],
   "source": [
    "accurace_score1, precision_score1,recall_score1 ,test_score = [], [], [], []\n",
    "for estimator_val in best_estimators.values():\n",
    "    estimator = estimator_val[0]\n",
    "    y_pred =estimator.predict(X)\n",
    "    accurace = accuracy_score(y_, y_pred)\n",
    "   # precision = precision_score(y_, y_pred, average='weighted')\n",
    "    recall = recall_score(y_, y_pred, average='weighted')\n",
    "    score = estimator.score(X, y_)\n",
    "    accurace_score1.append(accurace)\n",
    "    #precision_score1.append(precision)    \n",
    "    recall_score1.append(recall)    \n",
    "    test_score.append(score)  \n",
    "\n",
    "all_metrics = {\"accurace_score\":accurace_score1, \"precision_score\":precision_score1,      \n",
    "               \"recall_score\":recall_score1, \"test_score\":test_score}"
   ]
  },
  {
   "cell_type": "code",
   "execution_count": 70,
   "id": "69daea56",
   "metadata": {},
   "outputs": [
    {
     "data": {
      "text/plain": [
       "{'accurace_score': [0.9094650205761317,\n",
       "  0.6584362139917695,\n",
       "  0.9135802469135802,\n",
       "  0.7942386831275721,\n",
       "  0.8930041152263375,\n",
       "  0.691358024691358],\n",
       " 'precision_score': [],\n",
       " 'recall_score': [0.9094650205761317,\n",
       "  0.6584362139917695,\n",
       "  0.9135802469135802,\n",
       "  0.7942386831275721,\n",
       "  0.8930041152263375,\n",
       "  0.691358024691358],\n",
       " 'test_score': [0.9094650205761317,\n",
       "  0.6584362139917695,\n",
       "  0.9135802469135802,\n",
       "  0.7942386831275721,\n",
       "  0.8930041152263375,\n",
       "  0.691358024691358]}"
      ]
     },
     "execution_count": 70,
     "metadata": {},
     "output_type": "execute_result"
    }
   ],
   "source": [
    "all_metrics"
   ]
  },
  {
   "cell_type": "code",
   "execution_count": null,
   "id": "5aeab213",
   "metadata": {},
   "outputs": [],
   "source": []
  },
  {
   "cell_type": "code",
   "execution_count": 66,
   "id": "d62c521b",
   "metadata": {},
   "outputs": [
    {
     "data": {
      "text/plain": [
       "{'accurace_score': [0.9094650205761317,\n",
       "  0.6584362139917695,\n",
       "  0.9135802469135802,\n",
       "  0.7942386831275721,\n",
       "  0.8930041152263375,\n",
       "  0.691358024691358],\n",
       " 'precision_score': [],\n",
       " 'recall_score': [0.9094650205761317,\n",
       "  0.6584362139917695,\n",
       "  0.9135802469135802,\n",
       "  0.7942386831275721,\n",
       "  0.8930041152263375,\n",
       "  0.691358024691358],\n",
       " 'score_score': [0.9094650205761317,\n",
       "  0.6584362139917695,\n",
       "  0.9135802469135802,\n",
       "  0.7942386831275721,\n",
       "  0.8930041152263375,\n",
       "  0.691358024691358]}"
      ]
     },
     "execution_count": 66,
     "metadata": {},
     "output_type": "execute_result"
    }
   ],
   "source": [
    "all_metrics"
   ]
  },
  {
   "cell_type": "code",
   "execution_count": null,
   "id": "c33e0b68",
   "metadata": {},
   "outputs": [],
   "source": []
  },
  {
   "cell_type": "code",
   "execution_count": 75,
   "id": "8f3e01b2",
   "metadata": {},
   "outputs": [],
   "source": [
    "results_df = pd.DataFrame({'Model': classfier_names,\n",
    "                           'train_accuracy': np.array(training_scores),\n",
    "                           'test_accuracy': np.array(all_metrics['test_score']) * 100,\n",
    "                           'test_precision': np.array(all_metrics['accurace_score'] )* 100,\n",
    "                           'test_recall': np.array(all_metrics['recall_score'] )* 100} )"
   ]
  },
  {
   "cell_type": "code",
   "execution_count": 76,
   "id": "968918ae",
   "metadata": {},
   "outputs": [
    {
     "data": {
      "text/html": [
       "<div>\n",
       "<style scoped>\n",
       "    .dataframe tbody tr th:only-of-type {\n",
       "        vertical-align: middle;\n",
       "    }\n",
       "\n",
       "    .dataframe tbody tr th {\n",
       "        vertical-align: top;\n",
       "    }\n",
       "\n",
       "    .dataframe thead th {\n",
       "        text-align: right;\n",
       "    }\n",
       "</style>\n",
       "<table border=\"1\" class=\"dataframe\">\n",
       "  <thead>\n",
       "    <tr style=\"text-align: right;\">\n",
       "      <th></th>\n",
       "      <th>Model</th>\n",
       "      <th>train_accuracy</th>\n",
       "      <th>test_accuracy</th>\n",
       "      <th>test_precision</th>\n",
       "      <th>test_recall</th>\n",
       "    </tr>\n",
       "  </thead>\n",
       "  <tbody>\n",
       "    <tr>\n",
       "      <th>0</th>\n",
       "      <td>RandomForest</td>\n",
       "      <td>97.252747</td>\n",
       "      <td>90.946502</td>\n",
       "      <td>90.946502</td>\n",
       "      <td>90.946502</td>\n",
       "    </tr>\n",
       "    <tr>\n",
       "      <th>1</th>\n",
       "      <td>AdaBoost</td>\n",
       "      <td>65.842491</td>\n",
       "      <td>65.843621</td>\n",
       "      <td>65.843621</td>\n",
       "      <td>65.843621</td>\n",
       "    </tr>\n",
       "    <tr>\n",
       "      <th>2</th>\n",
       "      <td>GradientBosst</td>\n",
       "      <td>97.252747</td>\n",
       "      <td>91.358025</td>\n",
       "      <td>91.358025</td>\n",
       "      <td>91.358025</td>\n",
       "    </tr>\n",
       "    <tr>\n",
       "      <th>3</th>\n",
       "      <td>Logisticregression</td>\n",
       "      <td>83.257521</td>\n",
       "      <td>79.423868</td>\n",
       "      <td>79.423868</td>\n",
       "      <td>79.423868</td>\n",
       "    </tr>\n",
       "    <tr>\n",
       "      <th>4</th>\n",
       "      <td>DecisionTree</td>\n",
       "      <td>97.252747</td>\n",
       "      <td>89.300412</td>\n",
       "      <td>89.300412</td>\n",
       "      <td>89.300412</td>\n",
       "    </tr>\n",
       "    <tr>\n",
       "      <th>5</th>\n",
       "      <td>GaussianNB</td>\n",
       "      <td>67.483336</td>\n",
       "      <td>69.135802</td>\n",
       "      <td>69.135802</td>\n",
       "      <td>69.135802</td>\n",
       "    </tr>\n",
       "  </tbody>\n",
       "</table>\n",
       "</div>"
      ],
      "text/plain": [
       "                Model  train_accuracy  test_accuracy  test_precision  \\\n",
       "0        RandomForest       97.252747      90.946502       90.946502   \n",
       "1            AdaBoost       65.842491      65.843621       65.843621   \n",
       "2       GradientBosst       97.252747      91.358025       91.358025   \n",
       "3  Logisticregression       83.257521      79.423868       79.423868   \n",
       "4        DecisionTree       97.252747      89.300412       89.300412   \n",
       "5          GaussianNB       67.483336      69.135802       69.135802   \n",
       "\n",
       "   test_recall  \n",
       "0    90.946502  \n",
       "1    65.843621  \n",
       "2    91.358025  \n",
       "3    79.423868  \n",
       "4    89.300412  \n",
       "5    69.135802  "
      ]
     },
     "execution_count": 76,
     "metadata": {},
     "output_type": "execute_result"
    }
   ],
   "source": [
    "results_df"
   ]
  },
  {
   "cell_type": "code",
   "execution_count": 78,
   "id": "2eb5456a",
   "metadata": {},
   "outputs": [
    {
     "data": {
      "text/plain": [
       "(0.0, 100.0)"
      ]
     },
     "execution_count": 78,
     "metadata": {},
     "output_type": "execute_result"
    },
    {
     "data": {
      "image/png": "[encoded data removed]",
      "text/plain": [
       "<Figure size 1500x1500 with 2 Axes>"
      ]
     },
     "metadata": {},
     "output_type": "display_data"
    }
   ],
   "source": [
    "_, ax = plt.subplots(nrows=2, ncols=1, figsize=(15, 15))\n",
    "sns.barplot(data=results_df, x='train_accuracy',\n",
    "            y='Model', orient='h', ax=ax[0],\n",
    "           order=results_df.sort_values('train_accuracy',ascending = False).Model)\n",
    "ax[0].set_xlim([0, 100])\n",
    "sns.barplot(data=results_df, x='test_accuracy',\n",
    "            y='Model', orient='h', ax=ax[1],\n",
    "           order=results_df.sort_values('test_accuracy',ascending = False).Model)\n",
    "ax[1].set_xlim([0, 100])"
   ]
  },
  {
   "cell_type": "code",
   "execution_count": null,
   "id": "1a5fd056",
   "metadata": {},
   "outputs": [],
   "source": []
  },
  {
   "cell_type": "code",
   "execution_count": null,
   "id": "2e39a290",
   "metadata": {},
   "outputs": [],
   "source": []
  },
  {
   "cell_type": "code",
   "execution_count": null,
   "id": "470e402f",
   "metadata": {},
   "outputs": [],
   "source": []
  },
  {
   "cell_type": "code",
   "execution_count": null,
   "id": "5eebd94a",
   "metadata": {},
   "outputs": [],
   "source": []
  },
  {
   "cell_type": "code",
   "execution_count": null,
   "id": "d42cccb2",
   "metadata": {},
   "outputs": [],
   "source": []
  },
  {
   "cell_type": "code",
   "execution_count": null,
   "id": "abd7195d",
   "metadata": {},
   "outputs": [],
   "source": []
  },
  {
   "cell_type": "code",
   "execution_count": null,
   "id": "3ed6ffe2",
   "metadata": {},
   "outputs": [],
   "source": []
  },
  {
   "cell_type": "code",
   "execution_count": null,
   "id": "931fd9e6",
   "metadata": {},
   "outputs": [],
   "source": []
  },
  {
   "cell_type": "code",
   "execution_count": null,
   "id": "55a198db",
   "metadata": {},
   "outputs": [],
   "source": []
  },
  {
   "cell_type": "code",
   "execution_count": null,
   "id": "2ee0e4b1",
   "metadata": {},
   "outputs": [],
   "source": []
  },
  {
   "cell_type": "code",
   "execution_count": null,
   "id": "8f024475",
   "metadata": {},
   "outputs": [],
   "source": []
  },
  {
   "cell_type": "code",
   "execution_count": null,
   "id": "df094e29",
   "metadata": {},
   "outputs": [],
   "source": []
  },
  {
   "cell_type": "code",
   "execution_count": null,
   "id": "d815246e",
   "metadata": {},
   "outputs": [],
   "source": []
  },
  {
   "cell_type": "code",
   "execution_count": null,
   "id": "5bea44c2",
   "metadata": {},
   "outputs": [],
   "source": []
  },
  {
   "cell_type": "code",
   "execution_count": null,
   "id": "070227a6",
   "metadata": {},
   "outputs": [],
   "source": []
  },
  {
   "cell_type": "code",
   "execution_count": 48,
   "id": "b86fd22a",
   "metadata": {},
   "outputs": [],
   "source": [
    "import numpy as np\n",
    "import pandas as pd\n",
    "import seaborn as sns\n",
    "from sklearn.cluster import KMeans\n",
    "import matplotlib.pyplot as plt"
   ]
  },
  {
   "cell_type": "code",
   "execution_count": 49,
   "id": "6d4cc269",
   "metadata": {},
   "outputs": [],
   "source": [
    "path = \"C:/Users/pc/Desktop/1/Data Science/machine learning/Algorithm/Unsupervised/Clustering/\"\n",
    "df = pd.read_csv(path + \"unsupervise.csv\")"
   ]
  },
  {
   "cell_type": "code",
   "execution_count": 50,
   "id": "fc9e86b3",
   "metadata": {},
   "outputs": [
    {
     "data": {
      "text/html": [
       "<div>\n",
       "<style scoped>\n",
       "    .dataframe tbody tr th:only-of-type {\n",
       "        vertical-align: middle;\n",
       "    }\n",
       "\n",
       "    .dataframe tbody tr th {\n",
       "        vertical-align: top;\n",
       "    }\n",
       "\n",
       "    .dataframe thead th {\n",
       "        text-align: right;\n",
       "    }\n",
       "</style>\n",
       "<table border=\"1\" class=\"dataframe\">\n",
       "  <thead>\n",
       "    <tr style=\"text-align: right;\">\n",
       "      <th></th>\n",
       "      <th>one</th>\n",
       "      <th>two</th>\n",
       "      <th>three</th>\n",
       "      <th>four</th>\n",
       "      <th>five</th>\n",
       "    </tr>\n",
       "  </thead>\n",
       "  <tbody>\n",
       "    <tr>\n",
       "      <th>0</th>\n",
       "      <td>0.698381</td>\n",
       "      <td>-0.882347</td>\n",
       "      <td>-0.235656</td>\n",
       "      <td>0.193847</td>\n",
       "      <td>-0.496219</td>\n",
       "    </tr>\n",
       "    <tr>\n",
       "      <th>1</th>\n",
       "      <td>0.638863</td>\n",
       "      <td>0.087218</td>\n",
       "      <td>0.856593</td>\n",
       "      <td>-1.576665</td>\n",
       "      <td>0.617569</td>\n",
       "    </tr>\n",
       "    <tr>\n",
       "      <th>2</th>\n",
       "      <td>-0.777021</td>\n",
       "      <td>-0.102452</td>\n",
       "      <td>-1.037489</td>\n",
       "      <td>-0.167750</td>\n",
       "      <td>-0.746777</td>\n",
       "    </tr>\n",
       "    <tr>\n",
       "      <th>3</th>\n",
       "      <td>0.375982</td>\n",
       "      <td>-0.313393</td>\n",
       "      <td>0.066893</td>\n",
       "      <td>-1.493809</td>\n",
       "      <td>-0.073505</td>\n",
       "    </tr>\n",
       "    <tr>\n",
       "      <th>4</th>\n",
       "      <td>1.542086</td>\n",
       "      <td>0.214434</td>\n",
       "      <td>2.072326</td>\n",
       "      <td>2.364854</td>\n",
       "      <td>1.495367</td>\n",
       "    </tr>\n",
       "  </tbody>\n",
       "</table>\n",
       "</div>"
      ],
      "text/plain": [
       "        one       two     three      four      five\n",
       "0  0.698381 -0.882347 -0.235656  0.193847 -0.496219\n",
       "1  0.638863  0.087218  0.856593 -1.576665  0.617569\n",
       "2 -0.777021 -0.102452 -1.037489 -0.167750 -0.746777\n",
       "3  0.375982 -0.313393  0.066893 -1.493809 -0.073505\n",
       "4  1.542086  0.214434  2.072326  2.364854  1.495367"
      ]
     },
     "execution_count": 50,
     "metadata": {},
     "output_type": "execute_result"
    }
   ],
   "source": [
    "df.head()"
   ]
  },
  {
   "cell_type": "code",
   "execution_count": null,
   "id": "b5b7fddc",
   "metadata": {},
   "outputs": [],
   "source": []
  },
  {
   "cell_type": "code",
   "execution_count": 51,
   "id": "3ab5806d",
   "metadata": {},
   "outputs": [
    {
     "data": {
      "image/png": "[encoded data removed]",
      "text/plain": [
       "<Figure size 500x500 with 1 Axes>"
      ]
     },
     "metadata": {},
     "output_type": "display_data"
    }
   ],
   "source": [
    "# code to determine the number of cluster(group)\n",
    "elbow = {} # empty dictionary\n",
    "for i in range(1, 11): # iterate from one to 10 to determine fit our dataset\n",
    "    model = KMeans(n_clusters=i)\n",
    "    model = model.fit(df)\n",
    "    elbow[i] = model.inertia_\n",
    "keys=list(elbow.keys())\n",
    "values=list(elbow.values())\n",
    "fig, ax = plt.subplots(figsize=(5,5))\n",
    "ax.grid(True)\n",
    "sns.pointplot(x=keys, y=values, ax=ax)\n",
    "plt.show()"
   ]
  },
  {
   "cell_type": "markdown",
   "id": "8dbd38a9",
   "metadata": {},
   "source": [
    "# Build the Model using 4_cluster"
   ]
  },
  {
   "cell_type": "code",
   "execution_count": 52,
   "id": "34eed9aa",
   "metadata": {},
   "outputs": [],
   "source": [
    "model = KMeans(n_clusters=4, random_state=42)\n",
    "model = model.fit(df)"
   ]
  },
  {
   "cell_type": "code",
   "execution_count": 53,
   "id": "22a4a99b",
   "metadata": {},
   "outputs": [
    {
     "data": {
      "text/plain": [
       "array([2, 0, 1, ..., 2, 1, 1])"
      ]
     },
     "execution_count": 53,
     "metadata": {},
     "output_type": "execute_result"
    }
   ],
   "source": [
    "# predict the class/group\n",
    "model.predict(df)"
   ]
  },
  {
   "cell_type": "code",
   "execution_count": 54,
   "id": "aba7c7ab",
   "metadata": {},
   "outputs": [],
   "source": [
    "# predict the class/group\n",
    "prediction= model.predict(df)"
   ]
  },
  {
   "cell_type": "code",
   "execution_count": 55,
   "id": "e8ff8831",
   "metadata": {},
   "outputs": [],
   "source": [
    "df['cluster'] = prediction"
   ]
  },
  {
   "cell_type": "code",
   "execution_count": 56,
   "id": "bff0581e",
   "metadata": {},
   "outputs": [],
   "source": [
    "# rename the group\n",
    "df[\"cluster\"].replace([0,1,2,3], [\"group one\", \"group two\", \"group three\", \"group four\"], inplace=True)"
   ]
  },
  {
   "cell_type": "code",
   "execution_count": null,
   "id": "62f7b675",
   "metadata": {},
   "outputs": [],
   "source": []
  },
  {
   "cell_type": "code",
   "execution_count": 58,
   "id": "ef09c3df",
   "metadata": {},
   "outputs": [
    {
     "data": {
      "text/plain": [
       "group one      1640\n",
       "group three    1491\n",
       "group two      1078\n",
       "group four      791\n",
       "Name: cluster, dtype: int64"
      ]
     },
     "execution_count": 58,
     "metadata": {},
     "output_type": "execute_result"
    }
   ],
   "source": [
    " df[\"cluster\"].value_counts()"
   ]
  },
  {
   "cell_type": "code",
   "execution_count": 60,
   "id": "77f35e08",
   "metadata": {},
   "outputs": [],
   "source": [
    " X = df.copy()\n",
    "y = X.pop(\"cluster\")"
   ]
  },
  {
   "cell_type": "code",
   "execution_count": 61,
   "id": "655b2dc0",
   "metadata": {},
   "outputs": [],
   "source": [
    "from sklearn.model_selection import train_test_split\n",
    "x_train, x_val, y_train, y_val = train_test_split(X, y,test_size=0.2, random_state=42)"
   ]
  },
  {
   "cell_type": "code",
   "execution_count": 62,
   "id": "2d6dae49",
   "metadata": {},
   "outputs": [],
   "source": [
    "from sklearn.tree import DecisionTreeClassifier\n",
    "dt = DecisionTreeClassifier()\n",
    "model = dt.fit(x_train, y_train)"
   ]
  },
  {
   "cell_type": "code",
   "execution_count": 63,
   "id": "b34a7fe1",
   "metadata": {},
   "outputs": [],
   "source": [
    "prediction = model.predict(x_val)"
   ]
  },
  {
   "cell_type": "code",
   "execution_count": null,
   "id": "cf7cbf8d",
   "metadata": {},
   "outputs": [],
   "source": []
  },
  {
   "cell_type": "code",
   "execution_count": null,
   "id": "1a44adc7",
   "metadata": {},
   "outputs": [],
   "source": []
  },
  {
   "cell_type": "code",
   "execution_count": null,
   "id": "8a05237b",
   "metadata": {},
   "outputs": [],
   "source": []
  },
  {
   "cell_type": "code",
   "execution_count": null,
   "id": "bcdbb2bc",
   "metadata": {},
   "outputs": [],
   "source": []
  },
  {
   "cell_type": "code",
   "execution_count": null,
   "id": "64fec59c",
   "metadata": {},
   "outputs": [],
   "source": []
  }
 ],
 "metadata": {
  "kernelspec": {
   "display_name": "Python 3 (ipykernel)",
   "language": "python",
   "name": "python3"
  },
  "language_info": {
   "codemirror_mode": {
    "name": "ipython",
    "version": 3
   },
   "file_extension": ".py",
   "mimetype": "text/x-python",
   "name": "python",
   "nbconvert_exporter": "python",
   "pygments_lexer": "ipython3",
   "version": "3.9.13"
  }
 },
 "nbformat": 4,
 "nbformat_minor": 5
}
