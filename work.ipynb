{
 "cells": [
  {
   "cell_type": "code",
   "execution_count": 1,
   "id": "dc8988b3",
   "metadata": {},
   "outputs": [],
   "source": [
    "import numpy as np\n",
    "import pandas as pd\n",
    "import matplotlib.pyplot as plt\n",
    "import seaborn as sns\n",
    "from sklearn.pipeline import Pipeline\n",
    "from sklearn.preprocessing import StandardScaler, OneHotEncoder\n",
    "from sklearn.impute import SimpleImputer\n",
    "from sklearn.compose import  ColumnTransformer\n",
    "from sklearn.linear_model import LinearRegression\n",
    "from sklearn.metrics import r2_score\n"
   ]
  },
  {
   "cell_type": "code",
   "execution_count": 84,
   "id": "4b0fe05f",
   "metadata": {},
   "outputs": [
    {
     "data": {
      "text/html": [
       "<div>\n",
       "<style scoped>\n",
       "    .dataframe tbody tr th:only-of-type {\n",
       "        vertical-align: middle;\n",
       "    }\n",
       "\n",
       "    .dataframe tbody tr th {\n",
       "        vertical-align: top;\n",
       "    }\n",
       "\n",
       "    .dataframe thead th {\n",
       "        text-align: right;\n",
       "    }\n",
       "</style>\n",
       "<table border=\"1\" class=\"dataframe\">\n",
       "  <thead>\n",
       "    <tr style=\"text-align: right;\">\n",
       "      <th></th>\n",
       "      <th>ID</th>\n",
       "      <th>District</th>\n",
       "      <th>Block</th>\n",
       "      <th>CultLand</th>\n",
       "      <th>CropCultLand</th>\n",
       "      <th>LandPreparationMethod</th>\n",
       "      <th>CropTillageDate</th>\n",
       "      <th>CropTillageDepth</th>\n",
       "      <th>CropEstMethod</th>\n",
       "      <th>RcNursEstDate</th>\n",
       "      <th>...</th>\n",
       "      <th>MineralFertAppMethod.1</th>\n",
       "      <th>Harv_method</th>\n",
       "      <th>Harv_date</th>\n",
       "      <th>Harv_hand_rent</th>\n",
       "      <th>Threshing_date</th>\n",
       "      <th>Threshing_method</th>\n",
       "      <th>Residue_length</th>\n",
       "      <th>Residue_perc</th>\n",
       "      <th>Stubble_use</th>\n",
       "      <th>Acre</th>\n",
       "    </tr>\n",
       "  </thead>\n",
       "  <tbody>\n",
       "    <tr>\n",
       "      <th>0</th>\n",
       "      <td>ID_F9XXEXN2ADR2</td>\n",
       "      <td>Jamui</td>\n",
       "      <td>Khaira</td>\n",
       "      <td>20</td>\n",
       "      <td>13</td>\n",
       "      <td>TractorPlough</td>\n",
       "      <td>2022-07-24</td>\n",
       "      <td>4</td>\n",
       "      <td>Manual_PuddledLine</td>\n",
       "      <td>2022-07-03</td>\n",
       "      <td>...</td>\n",
       "      <td>Broadcasting</td>\n",
       "      <td>hand</td>\n",
       "      <td>2022-12-02</td>\n",
       "      <td>500.0</td>\n",
       "      <td>2022-12-28</td>\n",
       "      <td>hand</td>\n",
       "      <td>22</td>\n",
       "      <td>10</td>\n",
       "      <td>plowed_in_soil</td>\n",
       "      <td>0.272727</td>\n",
       "    </tr>\n",
       "    <tr>\n",
       "      <th>1</th>\n",
       "      <td>ID_SO3VW2X4QO93</td>\n",
       "      <td>Jamui</td>\n",
       "      <td>Khaira</td>\n",
       "      <td>25</td>\n",
       "      <td>25</td>\n",
       "      <td>TractorPlough</td>\n",
       "      <td>2022-07-24</td>\n",
       "      <td>5</td>\n",
       "      <td>Manual_PuddledRandom</td>\n",
       "      <td>2022-07-08</td>\n",
       "      <td>...</td>\n",
       "      <td>Broadcasting</td>\n",
       "      <td>hand</td>\n",
       "      <td>2022-11-12</td>\n",
       "      <td>150.0</td>\n",
       "      <td>2022-12-20</td>\n",
       "      <td>machine</td>\n",
       "      <td>28</td>\n",
       "      <td>10</td>\n",
       "      <td>plowed_in_soil</td>\n",
       "      <td>0.227273</td>\n",
       "    </tr>\n",
       "    <tr>\n",
       "      <th>2</th>\n",
       "      <td>ID_UKUQ7JM8E894</td>\n",
       "      <td>Nalanda</td>\n",
       "      <td>Rajgir</td>\n",
       "      <td>30</td>\n",
       "      <td>30</td>\n",
       "      <td>WetTillagePuddling TractorPlough FourWheelTrac...</td>\n",
       "      <td>2022-07-07</td>\n",
       "      <td>5</td>\n",
       "      <td>Manual_PuddledRandom</td>\n",
       "      <td>2022-06-24</td>\n",
       "      <td>...</td>\n",
       "      <td>Broadcasting</td>\n",
       "      <td>hand</td>\n",
       "      <td>2022-11-24</td>\n",
       "      <td>1200.0</td>\n",
       "      <td>2022-12-05</td>\n",
       "      <td>machine</td>\n",
       "      <td>28</td>\n",
       "      <td>10</td>\n",
       "      <td>plowed_in_soil</td>\n",
       "      <td>0.281250</td>\n",
       "    </tr>\n",
       "    <tr>\n",
       "      <th>3</th>\n",
       "      <td>ID_QUISMWEZR2H4</td>\n",
       "      <td>Vaishali</td>\n",
       "      <td>Mahua</td>\n",
       "      <td>15</td>\n",
       "      <td>10</td>\n",
       "      <td>WetTillagePuddling TractorPlough BullockPlough...</td>\n",
       "      <td>2022-07-04</td>\n",
       "      <td>5</td>\n",
       "      <td>Manual_PuddledRandom</td>\n",
       "      <td>2022-06-20</td>\n",
       "      <td>...</td>\n",
       "      <td>SoilApplied</td>\n",
       "      <td>hand</td>\n",
       "      <td>2022-10-15</td>\n",
       "      <td>300.0</td>\n",
       "      <td>2022-10-25</td>\n",
       "      <td>hand</td>\n",
       "      <td>30</td>\n",
       "      <td>10</td>\n",
       "      <td>plowed_in_soil</td>\n",
       "      <td>0.136364</td>\n",
       "    </tr>\n",
       "    <tr>\n",
       "      <th>4</th>\n",
       "      <td>ID_25JGI455VKCZ</td>\n",
       "      <td>Nalanda</td>\n",
       "      <td>Rajgir</td>\n",
       "      <td>30</td>\n",
       "      <td>10</td>\n",
       "      <td>WetTillagePuddling TractorPlough FourWheelTrac...</td>\n",
       "      <td>2022-07-21</td>\n",
       "      <td>3</td>\n",
       "      <td>Manual_PuddledRandom</td>\n",
       "      <td>2022-06-24</td>\n",
       "      <td>...</td>\n",
       "      <td>Broadcasting</td>\n",
       "      <td>machine</td>\n",
       "      <td>2022-11-20</td>\n",
       "      <td>NaN</td>\n",
       "      <td>2022-11-20</td>\n",
       "      <td>machine</td>\n",
       "      <td>26</td>\n",
       "      <td>40</td>\n",
       "      <td>plowed_in_soil</td>\n",
       "      <td>0.312500</td>\n",
       "    </tr>\n",
       "    <tr>\n",
       "      <th>...</th>\n",
       "      <td>...</td>\n",
       "      <td>...</td>\n",
       "      <td>...</td>\n",
       "      <td>...</td>\n",
       "      <td>...</td>\n",
       "      <td>...</td>\n",
       "      <td>...</td>\n",
       "      <td>...</td>\n",
       "      <td>...</td>\n",
       "      <td>...</td>\n",
       "      <td>...</td>\n",
       "      <td>...</td>\n",
       "      <td>...</td>\n",
       "      <td>...</td>\n",
       "      <td>...</td>\n",
       "      <td>...</td>\n",
       "      <td>...</td>\n",
       "      <td>...</td>\n",
       "      <td>...</td>\n",
       "      <td>...</td>\n",
       "      <td>...</td>\n",
       "    </tr>\n",
       "    <tr>\n",
       "      <th>1285</th>\n",
       "      <td>ID_6MMECMX3B728</td>\n",
       "      <td>Jamui</td>\n",
       "      <td>Khaira</td>\n",
       "      <td>20</td>\n",
       "      <td>16</td>\n",
       "      <td>TractorPlough</td>\n",
       "      <td>2022-07-23</td>\n",
       "      <td>4</td>\n",
       "      <td>Manual_PuddledLine</td>\n",
       "      <td>2022-07-05</td>\n",
       "      <td>...</td>\n",
       "      <td>Broadcasting</td>\n",
       "      <td>hand</td>\n",
       "      <td>2022-12-01</td>\n",
       "      <td>1200.0</td>\n",
       "      <td>2022-12-23</td>\n",
       "      <td>hand</td>\n",
       "      <td>23</td>\n",
       "      <td>10</td>\n",
       "      <td>plowed_in_soil</td>\n",
       "      <td>0.500000</td>\n",
       "    </tr>\n",
       "    <tr>\n",
       "      <th>1286</th>\n",
       "      <td>ID_GZ9YGWCLLMKN</td>\n",
       "      <td>Vaishali</td>\n",
       "      <td>Mahua</td>\n",
       "      <td>25</td>\n",
       "      <td>14</td>\n",
       "      <td>WetTillagePuddling TractorPlough FourWheelTrac...</td>\n",
       "      <td>2022-07-07</td>\n",
       "      <td>5</td>\n",
       "      <td>Manual_PuddledRandom</td>\n",
       "      <td>2022-07-09</td>\n",
       "      <td>...</td>\n",
       "      <td>NaN</td>\n",
       "      <td>hand</td>\n",
       "      <td>2022-10-15</td>\n",
       "      <td>450.0</td>\n",
       "      <td>2022-10-20</td>\n",
       "      <td>hand</td>\n",
       "      <td>28</td>\n",
       "      <td>10</td>\n",
       "      <td>plowed_in_soil</td>\n",
       "      <td>0.181818</td>\n",
       "    </tr>\n",
       "    <tr>\n",
       "      <th>1287</th>\n",
       "      <td>ID_01YVA2LJVYBR</td>\n",
       "      <td>Vaishali</td>\n",
       "      <td>Garoul</td>\n",
       "      <td>10</td>\n",
       "      <td>3</td>\n",
       "      <td>TractorPlough</td>\n",
       "      <td>2022-07-06</td>\n",
       "      <td>6</td>\n",
       "      <td>Manual_PuddledLine</td>\n",
       "      <td>2022-06-18</td>\n",
       "      <td>...</td>\n",
       "      <td>Broadcasting</td>\n",
       "      <td>hand</td>\n",
       "      <td>2022-10-28</td>\n",
       "      <td>600.0</td>\n",
       "      <td>2022-11-12</td>\n",
       "      <td>hand</td>\n",
       "      <td>29</td>\n",
       "      <td>10</td>\n",
       "      <td>plowed_in_soil</td>\n",
       "      <td>0.136364</td>\n",
       "    </tr>\n",
       "    <tr>\n",
       "      <th>1288</th>\n",
       "      <td>ID_YQRL2IOUU4SZ</td>\n",
       "      <td>Jamui</td>\n",
       "      <td>Jamui</td>\n",
       "      <td>10</td>\n",
       "      <td>10</td>\n",
       "      <td>TractorPlough BullockPlough</td>\n",
       "      <td>2022-07-22</td>\n",
       "      <td>4</td>\n",
       "      <td>Manual_PuddledRandom</td>\n",
       "      <td>2022-06-18</td>\n",
       "      <td>...</td>\n",
       "      <td>Broadcasting</td>\n",
       "      <td>hand</td>\n",
       "      <td>2022-11-25</td>\n",
       "      <td>90.0</td>\n",
       "      <td>2023-01-28</td>\n",
       "      <td>hand</td>\n",
       "      <td>29</td>\n",
       "      <td>10</td>\n",
       "      <td>plowed_in_soil</td>\n",
       "      <td>0.227273</td>\n",
       "    </tr>\n",
       "    <tr>\n",
       "      <th>1289</th>\n",
       "      <td>ID_VAX2N8ELPEZE</td>\n",
       "      <td>Nalanda</td>\n",
       "      <td>Noorsarai</td>\n",
       "      <td>15</td>\n",
       "      <td>15</td>\n",
       "      <td>TractorPlough FourWheelTracRotavator</td>\n",
       "      <td>2022-07-08</td>\n",
       "      <td>4</td>\n",
       "      <td>Manual_PuddledRandom</td>\n",
       "      <td>2022-06-22</td>\n",
       "      <td>...</td>\n",
       "      <td>NaN</td>\n",
       "      <td>hand</td>\n",
       "      <td>2022-11-04</td>\n",
       "      <td>250.0</td>\n",
       "      <td>2023-01-09</td>\n",
       "      <td>machine</td>\n",
       "      <td>26</td>\n",
       "      <td>10</td>\n",
       "      <td>plowed_in_soil</td>\n",
       "      <td>0.156250</td>\n",
       "    </tr>\n",
       "  </tbody>\n",
       "</table>\n",
       "<p>1290 rows × 43 columns</p>\n",
       "</div>"
      ],
      "text/plain": [
       "                   ID  District      Block  CultLand  CropCultLand  \\\n",
       "0     ID_F9XXEXN2ADR2     Jamui     Khaira        20            13   \n",
       "1     ID_SO3VW2X4QO93     Jamui     Khaira        25            25   \n",
       "2     ID_UKUQ7JM8E894   Nalanda     Rajgir        30            30   \n",
       "3     ID_QUISMWEZR2H4  Vaishali      Mahua        15            10   \n",
       "4     ID_25JGI455VKCZ   Nalanda     Rajgir        30            10   \n",
       "...               ...       ...        ...       ...           ...   \n",
       "1285  ID_6MMECMX3B728     Jamui     Khaira        20            16   \n",
       "1286  ID_GZ9YGWCLLMKN  Vaishali      Mahua        25            14   \n",
       "1287  ID_01YVA2LJVYBR  Vaishali     Garoul        10             3   \n",
       "1288  ID_YQRL2IOUU4SZ     Jamui      Jamui        10            10   \n",
       "1289  ID_VAX2N8ELPEZE   Nalanda  Noorsarai        15            15   \n",
       "\n",
       "                                  LandPreparationMethod CropTillageDate  \\\n",
       "0                                         TractorPlough      2022-07-24   \n",
       "1                                         TractorPlough      2022-07-24   \n",
       "2     WetTillagePuddling TractorPlough FourWheelTrac...      2022-07-07   \n",
       "3     WetTillagePuddling TractorPlough BullockPlough...      2022-07-04   \n",
       "4     WetTillagePuddling TractorPlough FourWheelTrac...      2022-07-21   \n",
       "...                                                 ...             ...   \n",
       "1285                                      TractorPlough      2022-07-23   \n",
       "1286  WetTillagePuddling TractorPlough FourWheelTrac...      2022-07-07   \n",
       "1287                                      TractorPlough      2022-07-06   \n",
       "1288                        TractorPlough BullockPlough      2022-07-22   \n",
       "1289               TractorPlough FourWheelTracRotavator      2022-07-08   \n",
       "\n",
       "      CropTillageDepth         CropEstMethod RcNursEstDate  ...  \\\n",
       "0                    4    Manual_PuddledLine    2022-07-03  ...   \n",
       "1                    5  Manual_PuddledRandom    2022-07-08  ...   \n",
       "2                    5  Manual_PuddledRandom    2022-06-24  ...   \n",
       "3                    5  Manual_PuddledRandom    2022-06-20  ...   \n",
       "4                    3  Manual_PuddledRandom    2022-06-24  ...   \n",
       "...                ...                   ...           ...  ...   \n",
       "1285                 4    Manual_PuddledLine    2022-07-05  ...   \n",
       "1286                 5  Manual_PuddledRandom    2022-07-09  ...   \n",
       "1287                 6    Manual_PuddledLine    2022-06-18  ...   \n",
       "1288                 4  Manual_PuddledRandom    2022-06-18  ...   \n",
       "1289                 4  Manual_PuddledRandom    2022-06-22  ...   \n",
       "\n",
       "     MineralFertAppMethod.1  Harv_method   Harv_date Harv_hand_rent  \\\n",
       "0              Broadcasting         hand  2022-12-02          500.0   \n",
       "1              Broadcasting         hand  2022-11-12          150.0   \n",
       "2              Broadcasting         hand  2022-11-24         1200.0   \n",
       "3               SoilApplied         hand  2022-10-15          300.0   \n",
       "4              Broadcasting      machine  2022-11-20            NaN   \n",
       "...                     ...          ...         ...            ...   \n",
       "1285           Broadcasting         hand  2022-12-01         1200.0   \n",
       "1286                    NaN         hand  2022-10-15          450.0   \n",
       "1287           Broadcasting         hand  2022-10-28          600.0   \n",
       "1288           Broadcasting         hand  2022-11-25           90.0   \n",
       "1289                    NaN         hand  2022-11-04          250.0   \n",
       "\n",
       "      Threshing_date Threshing_method Residue_length  Residue_perc  \\\n",
       "0         2022-12-28             hand             22            10   \n",
       "1         2022-12-20          machine             28            10   \n",
       "2         2022-12-05          machine             28            10   \n",
       "3         2022-10-25             hand             30            10   \n",
       "4         2022-11-20          machine             26            40   \n",
       "...              ...              ...            ...           ...   \n",
       "1285      2022-12-23             hand             23            10   \n",
       "1286      2022-10-20             hand             28            10   \n",
       "1287      2022-11-12             hand             29            10   \n",
       "1288      2023-01-28             hand             29            10   \n",
       "1289      2023-01-09          machine             26            10   \n",
       "\n",
       "         Stubble_use      Acre  \n",
       "0     plowed_in_soil  0.272727  \n",
       "1     plowed_in_soil  0.227273  \n",
       "2     plowed_in_soil  0.281250  \n",
       "3     plowed_in_soil  0.136364  \n",
       "4     plowed_in_soil  0.312500  \n",
       "...              ...       ...  \n",
       "1285  plowed_in_soil  0.500000  \n",
       "1286  plowed_in_soil  0.181818  \n",
       "1287  plowed_in_soil  0.136364  \n",
       "1288  plowed_in_soil  0.227273  \n",
       "1289  plowed_in_soil  0.156250  \n",
       "\n",
       "[1290 rows x 43 columns]"
      ]
     },
     "execution_count": 84,
     "metadata": {},
     "output_type": "execute_result"
    }
   ],
   "source": [
    "path = \"C:/Users/pc/Desktop/1/zindi/third project/digital-green-crop-yield-estimate-challenge20230912-4562-1bbmstk\"\n",
    "\n",
    "train = pd.read_csv(path + \"/test.csv\")\n",
    "train"
   ]
  },
  {
   "cell_type": "code",
   "execution_count": 85,
   "id": "1f3cf8a7",
   "metadata": {},
   "outputs": [
    {
     "data": {
      "text/plain": [
       "Index(['ID', 'District', 'Block', 'CultLand', 'CropCultLand',\n",
       "       'LandPreparationMethod', 'CropTillageDate', 'CropTillageDepth',\n",
       "       'CropEstMethod', 'RcNursEstDate', 'SeedingSowingTransplanting',\n",
       "       'SeedlingsPerPit', 'NursDetFactor', 'TransDetFactor',\n",
       "       'TransplantingIrrigationHours', 'TransplantingIrrigationSource',\n",
       "       'TransplantingIrrigationPowerSource', 'TransIrriCost', 'StandingWater',\n",
       "       'OrgFertilizers', 'Ganaura', 'CropOrgFYM', 'PCropSolidOrgFertAppMethod',\n",
       "       'NoFertilizerAppln', 'CropbasalFerts', 'BasalDAP', 'BasalUrea',\n",
       "       'MineralFertAppMethod', 'FirstTopDressFert', '1tdUrea', '1appDaysUrea',\n",
       "       '2tdUrea', '2appDaysUrea', 'MineralFertAppMethod.1', 'Harv_method',\n",
       "       'Harv_date', 'Harv_hand_rent', 'Threshing_date', 'Threshing_method',\n",
       "       'Residue_length', 'Residue_perc', 'Stubble_use', 'Acre'],\n",
       "      dtype='object')"
      ]
     },
     "execution_count": 85,
     "metadata": {},
     "output_type": "execute_result"
    }
   ],
   "source": [
    "train.columns"
   ]
  },
  {
   "cell_type": "code",
   "execution_count": 86,
   "id": "4be29c9a",
   "metadata": {},
   "outputs": [
    {
     "name": "stdout",
     "output_type": "stream",
     "text": [
      "<class 'pandas.core.frame.DataFrame'>\n",
      "RangeIndex: 1290 entries, 0 to 1289\n",
      "Data columns (total 43 columns):\n",
      " #   Column                              Non-Null Count  Dtype  \n",
      "---  ------                              --------------  -----  \n",
      " 0   ID                                  1290 non-null   object \n",
      " 1   District                            1290 non-null   object \n",
      " 2   Block                               1290 non-null   object \n",
      " 3   CultLand                            1290 non-null   int64  \n",
      " 4   CropCultLand                        1290 non-null   int64  \n",
      " 5   LandPreparationMethod               1290 non-null   object \n",
      " 6   CropTillageDate                     1290 non-null   object \n",
      " 7   CropTillageDepth                    1290 non-null   int64  \n",
      " 8   CropEstMethod                       1290 non-null   object \n",
      " 9   RcNursEstDate                       1247 non-null   object \n",
      " 10  SeedingSowingTransplanting          1290 non-null   object \n",
      " 11  SeedlingsPerPit                     1187 non-null   float64\n",
      " 12  NursDetFactor                       1187 non-null   object \n",
      " 13  TransDetFactor                      1187 non-null   object \n",
      " 14  TransplantingIrrigationHours        1213 non-null   float64\n",
      " 15  TransplantingIrrigationSource       1244 non-null   object \n",
      " 16  TransplantingIrrigationPowerSource  1119 non-null   object \n",
      " 17  TransIrriCost                       973 non-null    float64\n",
      " 18  StandingWater                       1211 non-null   float64\n",
      " 19  OrgFertilizers                      875 non-null    object \n",
      " 20  Ganaura                             495 non-null    float64\n",
      " 21  CropOrgFYM                          422 non-null    float64\n",
      " 22  PCropSolidOrgFertAppMethod          874 non-null    object \n",
      " 23  NoFertilizerAppln                   1290 non-null   int64  \n",
      " 24  CropbasalFerts                      1214 non-null   object \n",
      " 25  BasalDAP                            1099 non-null   float64\n",
      " 26  BasalUrea                           719 non-null    float64\n",
      " 27  MineralFertAppMethod                1290 non-null   object \n",
      " 28  FirstTopDressFert                   1141 non-null   object \n",
      " 29  1tdUrea                             1113 non-null   float64\n",
      " 30  1appDaysUrea                        1112 non-null   float64\n",
      " 31  2tdUrea                             415 non-null    float64\n",
      " 32  2appDaysUrea                        408 non-null    float64\n",
      " 33  MineralFertAppMethod.1              1144 non-null   object \n",
      " 34  Harv_method                         1290 non-null   object \n",
      " 35  Harv_date                           1290 non-null   object \n",
      " 36  Harv_hand_rent                      1217 non-null   float64\n",
      " 37  Threshing_date                      1290 non-null   object \n",
      " 38  Threshing_method                    1290 non-null   object \n",
      " 39  Residue_length                      1290 non-null   int64  \n",
      " 40  Residue_perc                        1290 non-null   int64  \n",
      " 41  Stubble_use                         1290 non-null   object \n",
      " 42  Acre                                1290 non-null   float64\n",
      "dtypes: float64(14), int64(6), object(23)\n",
      "memory usage: 433.5+ KB\n"
     ]
    }
   ],
   "source": [
    "train.info()"
   ]
  },
  {
   "cell_type": "code",
   "execution_count": 87,
   "id": "7f0713e6",
   "metadata": {},
   "outputs": [],
   "source": [
    "date_col=[\"Threshing_date\", \"RcNursEstDate\", \"Harv_date\", \"CropTillageDate\", \"RcNursEstDate\", \"SeedingSowingTransplanting\"]\n",
    "for col in date_col:\n",
    "    train[col]= pd.to_datetime(train[col])"
   ]
  },
  {
   "cell_type": "code",
   "execution_count": 88,
   "id": "30163856",
   "metadata": {},
   "outputs": [
    {
     "name": "stdout",
     "output_type": "stream",
     "text": [
      "<class 'pandas.core.frame.DataFrame'>\n",
      "RangeIndex: 1290 entries, 0 to 1289\n",
      "Data columns (total 43 columns):\n",
      " #   Column                              Non-Null Count  Dtype         \n",
      "---  ------                              --------------  -----         \n",
      " 0   ID                                  1290 non-null   object        \n",
      " 1   District                            1290 non-null   object        \n",
      " 2   Block                               1290 non-null   object        \n",
      " 3   CultLand                            1290 non-null   int64         \n",
      " 4   CropCultLand                        1290 non-null   int64         \n",
      " 5   LandPreparationMethod               1290 non-null   object        \n",
      " 6   CropTillageDate                     1290 non-null   datetime64[ns]\n",
      " 7   CropTillageDepth                    1290 non-null   int64         \n",
      " 8   CropEstMethod                       1290 non-null   object        \n",
      " 9   RcNursEstDate                       1247 non-null   datetime64[ns]\n",
      " 10  SeedingSowingTransplanting          1290 non-null   datetime64[ns]\n",
      " 11  SeedlingsPerPit                     1187 non-null   float64       \n",
      " 12  NursDetFactor                       1187 non-null   object        \n",
      " 13  TransDetFactor                      1187 non-null   object        \n",
      " 14  TransplantingIrrigationHours        1213 non-null   float64       \n",
      " 15  TransplantingIrrigationSource       1244 non-null   object        \n",
      " 16  TransplantingIrrigationPowerSource  1119 non-null   object        \n",
      " 17  TransIrriCost                       973 non-null    float64       \n",
      " 18  StandingWater                       1211 non-null   float64       \n",
      " 19  OrgFertilizers                      875 non-null    object        \n",
      " 20  Ganaura                             495 non-null    float64       \n",
      " 21  CropOrgFYM                          422 non-null    float64       \n",
      " 22  PCropSolidOrgFertAppMethod          874 non-null    object        \n",
      " 23  NoFertilizerAppln                   1290 non-null   int64         \n",
      " 24  CropbasalFerts                      1214 non-null   object        \n",
      " 25  BasalDAP                            1099 non-null   float64       \n",
      " 26  BasalUrea                           719 non-null    float64       \n",
      " 27  MineralFertAppMethod                1290 non-null   object        \n",
      " 28  FirstTopDressFert                   1141 non-null   object        \n",
      " 29  1tdUrea                             1113 non-null   float64       \n",
      " 30  1appDaysUrea                        1112 non-null   float64       \n",
      " 31  2tdUrea                             415 non-null    float64       \n",
      " 32  2appDaysUrea                        408 non-null    float64       \n",
      " 33  MineralFertAppMethod.1              1144 non-null   object        \n",
      " 34  Harv_method                         1290 non-null   object        \n",
      " 35  Harv_date                           1290 non-null   datetime64[ns]\n",
      " 36  Harv_hand_rent                      1217 non-null   float64       \n",
      " 37  Threshing_date                      1290 non-null   datetime64[ns]\n",
      " 38  Threshing_method                    1290 non-null   object        \n",
      " 39  Residue_length                      1290 non-null   int64         \n",
      " 40  Residue_perc                        1290 non-null   int64         \n",
      " 41  Stubble_use                         1290 non-null   object        \n",
      " 42  Acre                                1290 non-null   float64       \n",
      "dtypes: datetime64[ns](5), float64(14), int64(6), object(18)\n",
      "memory usage: 433.5+ KB\n"
     ]
    }
   ],
   "source": [
    "train.info()"
   ]
  },
  {
   "cell_type": "code",
   "execution_count": 89,
   "id": "a295c472",
   "metadata": {},
   "outputs": [],
   "source": [
    "# Feature extraction: Extract year, month, and day as separate features\n",
    "for col in date_col:\n",
    "    train[col + '_Year'] = train[col].dt.year\n",
    "    train[col + '_Month'] = train[col].dt.month\n",
    "    train[col + '_Day'] = train[col].dt.day\n",
    "\n",
    "# Time intervals: Calculate time intervals between key dates\n",
    "train['Time_Between_Tillage_Est'] = (train['RcNursEstDate'] - train['CropTillageDate']).dt.days\n",
    "train['Time_Between_Sowing_Harvest'] = (train['Harv_date'] - train['SeedingSowingTransplanting']).dt.days\n",
    "\n",
    "# Cyclical encoding: Encode month as a cyclical feature (sine and cosine)\n",
    "train['Harv_date_Month_Sin'] = np.sin(2 * np.pi * train['Harv_date'].dt.month / 12)\n",
    "train['Harv_date_Month_Cos'] = np.cos(2 * np.pi * train['Harv_date'].dt.month / 12)\n"
   ]
  },
  {
   "cell_type": "code",
   "execution_count": 90,
   "id": "de9ea81a",
   "metadata": {},
   "outputs": [
    {
     "data": {
      "text/plain": [
       "Index(['ID', 'District', 'Block', 'CultLand', 'CropCultLand',\n",
       "       'LandPreparationMethod', 'CropTillageDate', 'CropTillageDepth',\n",
       "       'CropEstMethod', 'RcNursEstDate', 'SeedingSowingTransplanting',\n",
       "       'SeedlingsPerPit', 'NursDetFactor', 'TransDetFactor',\n",
       "       'TransplantingIrrigationHours', 'TransplantingIrrigationSource',\n",
       "       'TransplantingIrrigationPowerSource', 'TransIrriCost', 'StandingWater',\n",
       "       'OrgFertilizers', 'Ganaura', 'CropOrgFYM', 'PCropSolidOrgFertAppMethod',\n",
       "       'NoFertilizerAppln', 'CropbasalFerts', 'BasalDAP', 'BasalUrea',\n",
       "       'MineralFertAppMethod', 'FirstTopDressFert', '1tdUrea', '1appDaysUrea',\n",
       "       '2tdUrea', '2appDaysUrea', 'MineralFertAppMethod.1', 'Harv_method',\n",
       "       'Harv_date', 'Harv_hand_rent', 'Threshing_date', 'Threshing_method',\n",
       "       'Residue_length', 'Residue_perc', 'Stubble_use', 'Acre',\n",
       "       'Threshing_date_Year', 'Threshing_date_Month', 'Threshing_date_Day',\n",
       "       'RcNursEstDate_Year', 'RcNursEstDate_Month', 'RcNursEstDate_Day',\n",
       "       'Harv_date_Year', 'Harv_date_Month', 'Harv_date_Day',\n",
       "       'CropTillageDate_Year', 'CropTillageDate_Month', 'CropTillageDate_Day',\n",
       "       'SeedingSowingTransplanting_Year', 'SeedingSowingTransplanting_Month',\n",
       "       'SeedingSowingTransplanting_Day', 'Time_Between_Tillage_Est',\n",
       "       'Time_Between_Sowing_Harvest', 'Harv_date_Month_Sin',\n",
       "       'Harv_date_Month_Cos'],\n",
       "      dtype='object')"
      ]
     },
     "execution_count": 90,
     "metadata": {},
     "output_type": "execute_result"
    }
   ],
   "source": [
    "train.columns"
   ]
  },
  {
   "cell_type": "code",
   "execution_count": 91,
   "id": "563e4210",
   "metadata": {},
   "outputs": [],
   "source": [
    "# Lag features: Create lag features for selected date columns\n",
    "lag_columns = ['CropTillageDate', 'Harv_date']\n",
    "lag_periods = [1, 2]  # Define the number of periods to lag (e.g., 1 period = 1 year)\n",
    "for col in lag_columns:\n",
    "    for period in lag_periods:\n",
    "        train[col + f'_Lag{period}'] = train[col] - pd.DateOffset(years=period)"
   ]
  },
  {
   "cell_type": "code",
   "execution_count": null,
   "id": "8f81d1e6",
   "metadata": {},
   "outputs": [],
   "source": []
  },
  {
   "cell_type": "code",
   "execution_count": 92,
   "id": "87a0734f",
   "metadata": {},
   "outputs": [],
   "source": [
    "# Date difference features: Calculate the time elapsed since a specific date\n",
    "train['TimeSince_Tillage'] = (train['Harv_date'] - train['CropTillageDate']).dt.days\n"
   ]
  },
  {
   "cell_type": "code",
   "execution_count": 93,
   "id": "c8505acd",
   "metadata": {},
   "outputs": [
    {
     "name": "stdout",
     "output_type": "stream",
     "text": [
      "<class 'pandas.core.frame.DataFrame'>\n",
      "RangeIndex: 1290 entries, 0 to 1289\n",
      "Data columns (total 67 columns):\n",
      " #   Column                              Non-Null Count  Dtype         \n",
      "---  ------                              --------------  -----         \n",
      " 0   ID                                  1290 non-null   object        \n",
      " 1   District                            1290 non-null   object        \n",
      " 2   Block                               1290 non-null   object        \n",
      " 3   CultLand                            1290 non-null   int64         \n",
      " 4   CropCultLand                        1290 non-null   int64         \n",
      " 5   LandPreparationMethod               1290 non-null   object        \n",
      " 6   CropTillageDate                     1290 non-null   datetime64[ns]\n",
      " 7   CropTillageDepth                    1290 non-null   int64         \n",
      " 8   CropEstMethod                       1290 non-null   object        \n",
      " 9   RcNursEstDate                       1247 non-null   datetime64[ns]\n",
      " 10  SeedingSowingTransplanting          1290 non-null   datetime64[ns]\n",
      " 11  SeedlingsPerPit                     1187 non-null   float64       \n",
      " 12  NursDetFactor                       1187 non-null   object        \n",
      " 13  TransDetFactor                      1187 non-null   object        \n",
      " 14  TransplantingIrrigationHours        1213 non-null   float64       \n",
      " 15  TransplantingIrrigationSource       1244 non-null   object        \n",
      " 16  TransplantingIrrigationPowerSource  1119 non-null   object        \n",
      " 17  TransIrriCost                       973 non-null    float64       \n",
      " 18  StandingWater                       1211 non-null   float64       \n",
      " 19  OrgFertilizers                      875 non-null    object        \n",
      " 20  Ganaura                             495 non-null    float64       \n",
      " 21  CropOrgFYM                          422 non-null    float64       \n",
      " 22  PCropSolidOrgFertAppMethod          874 non-null    object        \n",
      " 23  NoFertilizerAppln                   1290 non-null   int64         \n",
      " 24  CropbasalFerts                      1214 non-null   object        \n",
      " 25  BasalDAP                            1099 non-null   float64       \n",
      " 26  BasalUrea                           719 non-null    float64       \n",
      " 27  MineralFertAppMethod                1290 non-null   object        \n",
      " 28  FirstTopDressFert                   1141 non-null   object        \n",
      " 29  1tdUrea                             1113 non-null   float64       \n",
      " 30  1appDaysUrea                        1112 non-null   float64       \n",
      " 31  2tdUrea                             415 non-null    float64       \n",
      " 32  2appDaysUrea                        408 non-null    float64       \n",
      " 33  MineralFertAppMethod.1              1144 non-null   object        \n",
      " 34  Harv_method                         1290 non-null   object        \n",
      " 35  Harv_date                           1290 non-null   datetime64[ns]\n",
      " 36  Harv_hand_rent                      1217 non-null   float64       \n",
      " 37  Threshing_date                      1290 non-null   datetime64[ns]\n",
      " 38  Threshing_method                    1290 non-null   object        \n",
      " 39  Residue_length                      1290 non-null   int64         \n",
      " 40  Residue_perc                        1290 non-null   int64         \n",
      " 41  Stubble_use                         1290 non-null   object        \n",
      " 42  Acre                                1290 non-null   float64       \n",
      " 43  Threshing_date_Year                 1290 non-null   int64         \n",
      " 44  Threshing_date_Month                1290 non-null   int64         \n",
      " 45  Threshing_date_Day                  1290 non-null   int64         \n",
      " 46  RcNursEstDate_Year                  1247 non-null   float64       \n",
      " 47  RcNursEstDate_Month                 1247 non-null   float64       \n",
      " 48  RcNursEstDate_Day                   1247 non-null   float64       \n",
      " 49  Harv_date_Year                      1290 non-null   int64         \n",
      " 50  Harv_date_Month                     1290 non-null   int64         \n",
      " 51  Harv_date_Day                       1290 non-null   int64         \n",
      " 52  CropTillageDate_Year                1290 non-null   int64         \n",
      " 53  CropTillageDate_Month               1290 non-null   int64         \n",
      " 54  CropTillageDate_Day                 1290 non-null   int64         \n",
      " 55  SeedingSowingTransplanting_Year     1290 non-null   int64         \n",
      " 56  SeedingSowingTransplanting_Month    1290 non-null   int64         \n",
      " 57  SeedingSowingTransplanting_Day      1290 non-null   int64         \n",
      " 58  Time_Between_Tillage_Est            1247 non-null   float64       \n",
      " 59  Time_Between_Sowing_Harvest         1290 non-null   int64         \n",
      " 60  Harv_date_Month_Sin                 1290 non-null   float64       \n",
      " 61  Harv_date_Month_Cos                 1290 non-null   float64       \n",
      " 62  CropTillageDate_Lag1                1290 non-null   datetime64[ns]\n",
      " 63  CropTillageDate_Lag2                1290 non-null   datetime64[ns]\n",
      " 64  Harv_date_Lag1                      1290 non-null   datetime64[ns]\n",
      " 65  Harv_date_Lag2                      1290 non-null   datetime64[ns]\n",
      " 66  TimeSince_Tillage                   1290 non-null   int64         \n",
      "dtypes: datetime64[ns](9), float64(20), int64(20), object(18)\n",
      "memory usage: 675.4+ KB\n"
     ]
    }
   ],
   "source": [
    "train.info()"
   ]
  },
  {
   "cell_type": "code",
   "execution_count": null,
   "id": "11541536",
   "metadata": {},
   "outputs": [],
   "source": []
  },
  {
   "cell_type": "code",
   "execution_count": 94,
   "id": "8070f95e",
   "metadata": {},
   "outputs": [
    {
     "data": {
      "text/plain": [
       "Index(['Ganaura', 'CropOrgFYM', '2tdUrea', '2appDaysUrea'], dtype='object')"
      ]
     },
     "execution_count": 94,
     "metadata": {},
     "output_type": "execute_result"
    }
   ],
   "source": [
    "train.isna().sum()\n",
    "missing_value=train.isna().sum() / train.shape[0] * 100\n",
    "missing_value[missing_value>50].index"
   ]
  },
  {
   "cell_type": "code",
   "execution_count": 95,
   "id": "8e79a222",
   "metadata": {},
   "outputs": [],
   "source": [
    "# drop all columns with more than 50% missing values\n",
    "df=train.drop(columns=[\"ID\",'Ganaura', 'CropOrgFYM', '2tdUrea', '2appDaysUrea'])"
   ]
  },
  {
   "cell_type": "code",
   "execution_count": 96,
   "id": "4db25b21",
   "metadata": {},
   "outputs": [],
   "source": [
    "cat_variables= [x for x in df.columns if df[x].nunique()<=100 and df[x].dtype==\"object\"]\n",
    "num_variables = [x for x in df.columns if df[x].dtype in [ \"int\", \"float\"]]"
   ]
  },
  {
   "cell_type": "code",
   "execution_count": null,
   "id": "58d750fb",
   "metadata": {},
   "outputs": [],
   "source": []
  },
  {
   "cell_type": "code",
   "execution_count": 71,
   "id": "d3885ec7",
   "metadata": {},
   "outputs": [],
   "source": [
    "cat_transformer = Pipeline( [ \n",
    "     (\"impute\", SimpleImputer(strategy=\"most_frequent\")), (\"scaler\", OneHotEncoder())\n",
    "                          \n",
    "                          ])\n",
    "\n",
    "\n",
    "num_transformer = Pipeline( [ \n",
    "     (\"impute\", SimpleImputer(strategy=\"mean\")), (\"scaler\", StandardScaler())\n",
    "                          \n",
    "                          ])"
   ]
  },
  {
   "cell_type": "code",
   "execution_count": 72,
   "id": "92b7e8ac",
   "metadata": {},
   "outputs": [],
   "source": [
    "processor = ColumnTransformer(   [      \n",
    "    (\"cat\", cat_transformer, cat_variables ),\n",
    "    (\"num\", num_transformer, num_variables)\n",
    "\n",
    "]   )"
   ]
  },
  {
   "cell_type": "code",
   "execution_count": 74,
   "id": "8a60da60",
   "metadata": {},
   "outputs": [],
   "source": [
    "X = df.copy()\n",
    "y=X.pop(\"Yield\")"
   ]
  },
  {
   "cell_type": "code",
   "execution_count": 75,
   "id": "d7aec0a3",
   "metadata": {},
   "outputs": [],
   "source": [
    "model=pipeline.fit(X, y)"
   ]
  },
  {
   "cell_type": "code",
   "execution_count": 76,
   "id": "fb0993b7",
   "metadata": {},
   "outputs": [],
   "source": [
    "p=model.predict(X)"
   ]
  },
  {
   "cell_type": "code",
   "execution_count": null,
   "id": "173e527b",
   "metadata": {},
   "outputs": [],
   "source": []
  },
  {
   "cell_type": "code",
   "execution_count": 77,
   "id": "9fa0ed5a",
   "metadata": {},
   "outputs": [
    {
     "data": {
      "text/plain": [
       "0.5078790615791651"
      ]
     },
     "execution_count": 77,
     "metadata": {},
     "output_type": "execute_result"
    }
   ],
   "source": [
    "r2_score(y, p)"
   ]
  },
  {
   "cell_type": "code",
   "execution_count": null,
   "id": "411935bc",
   "metadata": {},
   "outputs": [],
   "source": []
  },
  {
   "cell_type": "code",
   "execution_count": null,
   "id": "ef1818d0",
   "metadata": {},
   "outputs": [],
   "source": []
  },
  {
   "cell_type": "code",
   "execution_count": null,
   "id": "fab6f51b",
   "metadata": {},
   "outputs": [],
   "source": []
  },
  {
   "cell_type": "code",
   "execution_count": null,
   "id": "5f769d07",
   "metadata": {},
   "outputs": [],
   "source": []
  },
  {
   "cell_type": "code",
   "execution_count": 79,
   "id": "aa9c3f1f",
   "metadata": {},
   "outputs": [],
   "source": [
    "from sklearn.ensemble import RandomForestRegressor\n",
    "model2 = RandomForestRegressor(n_estimators=100, random_state=0)"
   ]
  },
  {
   "cell_type": "code",
   "execution_count": 80,
   "id": "17c464c6",
   "metadata": {},
   "outputs": [],
   "source": [
    "g = Pipeline([\n",
    "    \n",
    "    (\"processor\", processor),\n",
    "    (\"emtimator\", model2)\n",
    "])"
   ]
  },
  {
   "cell_type": "code",
   "execution_count": 81,
   "id": "b1fda598",
   "metadata": {},
   "outputs": [],
   "source": [
    "ff=g.fit(X, y)"
   ]
  },
  {
   "cell_type": "code",
   "execution_count": 82,
   "id": "e422c88c",
   "metadata": {},
   "outputs": [],
   "source": [
    "u=ff.predict(X)"
   ]
  },
  {
   "cell_type": "code",
   "execution_count": 83,
   "id": "38e19c00",
   "metadata": {},
   "outputs": [
    {
     "data": {
      "text/plain": [
       "0.9125246124363613"
      ]
     },
     "execution_count": 83,
     "metadata": {},
     "output_type": "execute_result"
    }
   ],
   "source": [
    "r2_score(y, u)"
   ]
  },
  {
   "cell_type": "code",
   "execution_count": null,
   "id": "19a57ccc",
   "metadata": {},
   "outputs": [],
   "source": [
    "0.90"
   ]
  },
  {
   "cell_type": "code",
   "execution_count": null,
   "id": "f4f28bc3",
   "metadata": {},
   "outputs": [],
   "source": []
  },
  {
   "cell_type": "code",
   "execution_count": 22,
   "id": "be312ea0",
   "metadata": {},
   "outputs": [
    {
     "data": {
      "text/plain": [
       "['./rf_model.pkl']"
      ]
     },
     "execution_count": 22,
     "metadata": {},
     "output_type": "execute_result"
    }
   ],
   "source": [
    "import joblib\n",
    "joblib.dump(ff, \"./rf_model.pkl\")"
   ]
  },
  {
   "cell_type": "code",
   "execution_count": 23,
   "id": "8b7daabc",
   "metadata": {},
   "outputs": [
    {
     "data": {
      "text/plain": [
       "array([597.9 , 597.32, 239.05, ..., 646.  , 404.1 , 214.38])"
      ]
     },
     "execution_count": 23,
     "metadata": {},
     "output_type": "execute_result"
    }
   ],
   "source": [
    "rf_model = joblib.load(\"rf_model.pkl\")\n",
    "rf_model.predict(X)"
   ]
  },
  {
   "cell_type": "code",
   "execution_count": null,
   "id": "4bdd1ac2",
   "metadata": {},
   "outputs": [],
   "source": []
  }
 ],
 "metadata": {
  "kernelspec": {
   "display_name": "Python 3 (ipykernel)",
   "language": "python",
   "name": "python3"
  },
  "language_info": {
   "codemirror_mode": {
    "name": "ipython",
    "version": 3
   },
   "file_extension": ".py",
   "mimetype": "text/x-python",
   "name": "python",
   "nbconvert_exporter": "python",
   "pygments_lexer": "ipython3",
   "version": "3.9.13"
  }
 },
 "nbformat": 4,
 "nbformat_minor": 5
}
