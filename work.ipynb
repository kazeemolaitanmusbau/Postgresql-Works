{
 "cells": [
  {
   "cell_type": "code",
   "execution_count": 1,
   "id": "dc8988b3",
   "metadata": {},
   "outputs": [],
   "source": [
    "import numpy as np\n",
    "import pandas as pd\n",
    "import matplotlib.pyplot as plt\n",
    "import seaborn as sns\n",
    "from sklearn.pipeline import Pipeline\n",
    "from sklearn.preprocessing import StandardScaler, OneHotEncoder, LabelEncoder\n",
    "from sklearn.impute import SimpleImputer\n",
    "from sklearn.compose import  ColumnTransformer\n",
    "from sklearn.linear_model import LinearRegression\n",
    "from sklearn.metrics import r2_score, mean_absolute_error\n",
    "from sklearn.model_selection import train_test_split\n",
    "from sklearn.ensemble import RandomForestRegressor\n",
    "import warnings \n",
    "warnings.filterwarnings(\"ignore\")"
   ]
  },
  {
   "cell_type": "code",
   "execution_count": 2,
   "id": "4b0fe05f",
   "metadata": {},
   "outputs": [
    {
     "data": {
      "text/html": [
       "<div>\n",
       "<style scoped>\n",
       "    .dataframe tbody tr th:only-of-type {\n",
       "        vertical-align: middle;\n",
       "    }\n",
       "\n",
       "    .dataframe tbody tr th {\n",
       "        vertical-align: top;\n",
       "    }\n",
       "\n",
       "    .dataframe thead th {\n",
       "        text-align: right;\n",
       "    }\n",
       "</style>\n",
       "<table border=\"1\" class=\"dataframe\">\n",
       "  <thead>\n",
       "    <tr style=\"text-align: right;\">\n",
       "      <th></th>\n",
       "      <th>ID</th>\n",
       "      <th>District</th>\n",
       "      <th>Block</th>\n",
       "      <th>CultLand</th>\n",
       "      <th>CropCultLand</th>\n",
       "      <th>LandPreparationMethod</th>\n",
       "      <th>CropTillageDate</th>\n",
       "      <th>CropTillageDepth</th>\n",
       "      <th>CropEstMethod</th>\n",
       "      <th>RcNursEstDate</th>\n",
       "      <th>...</th>\n",
       "      <th>Harv_method</th>\n",
       "      <th>Harv_date</th>\n",
       "      <th>Harv_hand_rent</th>\n",
       "      <th>Threshing_date</th>\n",
       "      <th>Threshing_method</th>\n",
       "      <th>Residue_length</th>\n",
       "      <th>Residue_perc</th>\n",
       "      <th>Stubble_use</th>\n",
       "      <th>Acre</th>\n",
       "      <th>Yield</th>\n",
       "    </tr>\n",
       "  </thead>\n",
       "  <tbody>\n",
       "    <tr>\n",
       "      <th>0</th>\n",
       "      <td>ID_GTFAC7PEVWQ9</td>\n",
       "      <td>Nalanda</td>\n",
       "      <td>Noorsarai</td>\n",
       "      <td>45</td>\n",
       "      <td>40</td>\n",
       "      <td>TractorPlough FourWheelTracRotavator</td>\n",
       "      <td>2022-07-20</td>\n",
       "      <td>5</td>\n",
       "      <td>Manual_PuddledRandom</td>\n",
       "      <td>2022-06-27</td>\n",
       "      <td>...</td>\n",
       "      <td>machine</td>\n",
       "      <td>2022-11-16</td>\n",
       "      <td>NaN</td>\n",
       "      <td>2022-11-16</td>\n",
       "      <td>machine</td>\n",
       "      <td>30</td>\n",
       "      <td>40</td>\n",
       "      <td>plowed_in_soil</td>\n",
       "      <td>0.312500</td>\n",
       "      <td>600</td>\n",
       "    </tr>\n",
       "    <tr>\n",
       "      <th>1</th>\n",
       "      <td>ID_TK40ARLSPOKS</td>\n",
       "      <td>Nalanda</td>\n",
       "      <td>Rajgir</td>\n",
       "      <td>26</td>\n",
       "      <td>26</td>\n",
       "      <td>WetTillagePuddling TractorPlough FourWheelTrac...</td>\n",
       "      <td>2022-07-18</td>\n",
       "      <td>5</td>\n",
       "      <td>Manual_PuddledRandom</td>\n",
       "      <td>2022-06-20</td>\n",
       "      <td>...</td>\n",
       "      <td>hand</td>\n",
       "      <td>2022-11-25</td>\n",
       "      <td>3.0</td>\n",
       "      <td>2022-12-24</td>\n",
       "      <td>machine</td>\n",
       "      <td>24</td>\n",
       "      <td>10</td>\n",
       "      <td>plowed_in_soil</td>\n",
       "      <td>0.312500</td>\n",
       "      <td>600</td>\n",
       "    </tr>\n",
       "    <tr>\n",
       "      <th>2</th>\n",
       "      <td>ID_1FJY2CRIMLZZ</td>\n",
       "      <td>Gaya</td>\n",
       "      <td>Gurua</td>\n",
       "      <td>10</td>\n",
       "      <td>10</td>\n",
       "      <td>TractorPlough FourWheelTracRotavator</td>\n",
       "      <td>2022-06-30</td>\n",
       "      <td>6</td>\n",
       "      <td>Manual_PuddledRandom</td>\n",
       "      <td>2022-06-20</td>\n",
       "      <td>...</td>\n",
       "      <td>hand</td>\n",
       "      <td>2022-12-12</td>\n",
       "      <td>480.0</td>\n",
       "      <td>2023-01-11</td>\n",
       "      <td>machine</td>\n",
       "      <td>30</td>\n",
       "      <td>10</td>\n",
       "      <td>plowed_in_soil</td>\n",
       "      <td>0.148148</td>\n",
       "      <td>225</td>\n",
       "    </tr>\n",
       "    <tr>\n",
       "      <th>3</th>\n",
       "      <td>ID_I3IPXS4DB7NE</td>\n",
       "      <td>Gaya</td>\n",
       "      <td>Gurua</td>\n",
       "      <td>15</td>\n",
       "      <td>15</td>\n",
       "      <td>TractorPlough FourWheelTracRotavator</td>\n",
       "      <td>2022-06-16</td>\n",
       "      <td>6</td>\n",
       "      <td>Manual_PuddledRandom</td>\n",
       "      <td>2022-06-17</td>\n",
       "      <td>...</td>\n",
       "      <td>hand</td>\n",
       "      <td>2022-12-02</td>\n",
       "      <td>240.0</td>\n",
       "      <td>2022-12-29</td>\n",
       "      <td>hand</td>\n",
       "      <td>26</td>\n",
       "      <td>10</td>\n",
       "      <td>plowed_in_soil</td>\n",
       "      <td>0.222222</td>\n",
       "      <td>468</td>\n",
       "    </tr>\n",
       "    <tr>\n",
       "      <th>4</th>\n",
       "      <td>ID_4T8YQWXWHB4A</td>\n",
       "      <td>Nalanda</td>\n",
       "      <td>Noorsarai</td>\n",
       "      <td>60</td>\n",
       "      <td>60</td>\n",
       "      <td>TractorPlough WetTillagePuddling</td>\n",
       "      <td>2022-07-19</td>\n",
       "      <td>4</td>\n",
       "      <td>Manual_PuddledRandom</td>\n",
       "      <td>2022-06-21</td>\n",
       "      <td>...</td>\n",
       "      <td>machine</td>\n",
       "      <td>2022-11-30</td>\n",
       "      <td>NaN</td>\n",
       "      <td>2022-12-02</td>\n",
       "      <td>machine</td>\n",
       "      <td>24</td>\n",
       "      <td>40</td>\n",
       "      <td>plowed_in_soil</td>\n",
       "      <td>0.468750</td>\n",
       "      <td>550</td>\n",
       "    </tr>\n",
       "    <tr>\n",
       "      <th>...</th>\n",
       "      <td>...</td>\n",
       "      <td>...</td>\n",
       "      <td>...</td>\n",
       "      <td>...</td>\n",
       "      <td>...</td>\n",
       "      <td>...</td>\n",
       "      <td>...</td>\n",
       "      <td>...</td>\n",
       "      <td>...</td>\n",
       "      <td>...</td>\n",
       "      <td>...</td>\n",
       "      <td>...</td>\n",
       "      <td>...</td>\n",
       "      <td>...</td>\n",
       "      <td>...</td>\n",
       "      <td>...</td>\n",
       "      <td>...</td>\n",
       "      <td>...</td>\n",
       "      <td>...</td>\n",
       "      <td>...</td>\n",
       "      <td>...</td>\n",
       "    </tr>\n",
       "    <tr>\n",
       "      <th>3865</th>\n",
       "      <td>ID_7ZZQ6R4XB4FK</td>\n",
       "      <td>Nalanda</td>\n",
       "      <td>Rajgir</td>\n",
       "      <td>28</td>\n",
       "      <td>28</td>\n",
       "      <td>WetTillagePuddling TractorPlough FourWheelTrac...</td>\n",
       "      <td>2022-07-02</td>\n",
       "      <td>6</td>\n",
       "      <td>LineSowingAfterTillage</td>\n",
       "      <td>2022-06-29</td>\n",
       "      <td>...</td>\n",
       "      <td>machine</td>\n",
       "      <td>2022-11-29</td>\n",
       "      <td>NaN</td>\n",
       "      <td>2022-12-14</td>\n",
       "      <td>machine</td>\n",
       "      <td>25</td>\n",
       "      <td>40</td>\n",
       "      <td>plowed_in_soil</td>\n",
       "      <td>0.375000</td>\n",
       "      <td>720</td>\n",
       "    </tr>\n",
       "    <tr>\n",
       "      <th>3866</th>\n",
       "      <td>ID_PVVDF6LK6FO8</td>\n",
       "      <td>Vaishali</td>\n",
       "      <td>Mahua</td>\n",
       "      <td>5</td>\n",
       "      <td>5</td>\n",
       "      <td>WetTillagePuddling TractorPlough FourWheelTrac...</td>\n",
       "      <td>2022-07-06</td>\n",
       "      <td>5</td>\n",
       "      <td>Manual_PuddledRandom</td>\n",
       "      <td>2022-07-08</td>\n",
       "      <td>...</td>\n",
       "      <td>hand</td>\n",
       "      <td>2022-10-10</td>\n",
       "      <td>4.0</td>\n",
       "      <td>2022-11-05</td>\n",
       "      <td>hand</td>\n",
       "      <td>30</td>\n",
       "      <td>10</td>\n",
       "      <td>plowed_in_soil</td>\n",
       "      <td>0.136364</td>\n",
       "      <td>250</td>\n",
       "    </tr>\n",
       "    <tr>\n",
       "      <th>3867</th>\n",
       "      <td>ID_RBYVUPRATVMW</td>\n",
       "      <td>Nalanda</td>\n",
       "      <td>Noorsarai</td>\n",
       "      <td>50</td>\n",
       "      <td>45</td>\n",
       "      <td>TractorPlough</td>\n",
       "      <td>2022-07-07</td>\n",
       "      <td>5</td>\n",
       "      <td>Manual_PuddledRandom</td>\n",
       "      <td>2022-06-15</td>\n",
       "      <td>...</td>\n",
       "      <td>hand</td>\n",
       "      <td>2022-10-20</td>\n",
       "      <td>1200.0</td>\n",
       "      <td>2022-10-30</td>\n",
       "      <td>hand</td>\n",
       "      <td>25</td>\n",
       "      <td>10</td>\n",
       "      <td>plowed_in_soil</td>\n",
       "      <td>0.375000</td>\n",
       "      <td>600</td>\n",
       "    </tr>\n",
       "    <tr>\n",
       "      <th>3868</th>\n",
       "      <td>ID_ARE9QWENJNJ2</td>\n",
       "      <td>Jamui</td>\n",
       "      <td>Khaira</td>\n",
       "      <td>20</td>\n",
       "      <td>20</td>\n",
       "      <td>TractorPlough</td>\n",
       "      <td>2022-07-12</td>\n",
       "      <td>3</td>\n",
       "      <td>Manual_PuddledRandom</td>\n",
       "      <td>2022-06-28</td>\n",
       "      <td>...</td>\n",
       "      <td>hand</td>\n",
       "      <td>2022-11-09</td>\n",
       "      <td>100.0</td>\n",
       "      <td>2022-12-10</td>\n",
       "      <td>hand</td>\n",
       "      <td>25</td>\n",
       "      <td>10</td>\n",
       "      <td>plowed_in_soil</td>\n",
       "      <td>0.227273</td>\n",
       "      <td>400</td>\n",
       "    </tr>\n",
       "    <tr>\n",
       "      <th>3869</th>\n",
       "      <td>ID_KEPOQDTCZC6S</td>\n",
       "      <td>Jamui</td>\n",
       "      <td>Jamui</td>\n",
       "      <td>4</td>\n",
       "      <td>4</td>\n",
       "      <td>TractorPlough</td>\n",
       "      <td>2022-07-24</td>\n",
       "      <td>4</td>\n",
       "      <td>Manual_PuddledRandom</td>\n",
       "      <td>2022-06-25</td>\n",
       "      <td>...</td>\n",
       "      <td>hand</td>\n",
       "      <td>2022-11-17</td>\n",
       "      <td>300.0</td>\n",
       "      <td>2022-12-29</td>\n",
       "      <td>machine</td>\n",
       "      <td>27</td>\n",
       "      <td>10</td>\n",
       "      <td>plowed_in_soil</td>\n",
       "      <td>0.136364</td>\n",
       "      <td>238</td>\n",
       "    </tr>\n",
       "  </tbody>\n",
       "</table>\n",
       "<p>3870 rows × 44 columns</p>\n",
       "</div>"
      ],
      "text/plain": [
       "                   ID  District      Block  CultLand  CropCultLand  \\\n",
       "0     ID_GTFAC7PEVWQ9   Nalanda  Noorsarai        45            40   \n",
       "1     ID_TK40ARLSPOKS   Nalanda     Rajgir        26            26   \n",
       "2     ID_1FJY2CRIMLZZ      Gaya      Gurua        10            10   \n",
       "3     ID_I3IPXS4DB7NE      Gaya      Gurua        15            15   \n",
       "4     ID_4T8YQWXWHB4A   Nalanda  Noorsarai        60            60   \n",
       "...               ...       ...        ...       ...           ...   \n",
       "3865  ID_7ZZQ6R4XB4FK   Nalanda     Rajgir        28            28   \n",
       "3866  ID_PVVDF6LK6FO8  Vaishali      Mahua         5             5   \n",
       "3867  ID_RBYVUPRATVMW   Nalanda  Noorsarai        50            45   \n",
       "3868  ID_ARE9QWENJNJ2     Jamui     Khaira        20            20   \n",
       "3869  ID_KEPOQDTCZC6S     Jamui      Jamui         4             4   \n",
       "\n",
       "                                  LandPreparationMethod CropTillageDate  \\\n",
       "0                  TractorPlough FourWheelTracRotavator      2022-07-20   \n",
       "1     WetTillagePuddling TractorPlough FourWheelTrac...      2022-07-18   \n",
       "2                  TractorPlough FourWheelTracRotavator      2022-06-30   \n",
       "3                  TractorPlough FourWheelTracRotavator      2022-06-16   \n",
       "4                      TractorPlough WetTillagePuddling      2022-07-19   \n",
       "...                                                 ...             ...   \n",
       "3865  WetTillagePuddling TractorPlough FourWheelTrac...      2022-07-02   \n",
       "3866  WetTillagePuddling TractorPlough FourWheelTrac...      2022-07-06   \n",
       "3867                                      TractorPlough      2022-07-07   \n",
       "3868                                      TractorPlough      2022-07-12   \n",
       "3869                                      TractorPlough      2022-07-24   \n",
       "\n",
       "      CropTillageDepth           CropEstMethod RcNursEstDate  ... Harv_method  \\\n",
       "0                    5    Manual_PuddledRandom    2022-06-27  ...     machine   \n",
       "1                    5    Manual_PuddledRandom    2022-06-20  ...        hand   \n",
       "2                    6    Manual_PuddledRandom    2022-06-20  ...        hand   \n",
       "3                    6    Manual_PuddledRandom    2022-06-17  ...        hand   \n",
       "4                    4    Manual_PuddledRandom    2022-06-21  ...     machine   \n",
       "...                ...                     ...           ...  ...         ...   \n",
       "3865                 6  LineSowingAfterTillage    2022-06-29  ...     machine   \n",
       "3866                 5    Manual_PuddledRandom    2022-07-08  ...        hand   \n",
       "3867                 5    Manual_PuddledRandom    2022-06-15  ...        hand   \n",
       "3868                 3    Manual_PuddledRandom    2022-06-28  ...        hand   \n",
       "3869                 4    Manual_PuddledRandom    2022-06-25  ...        hand   \n",
       "\n",
       "       Harv_date Harv_hand_rent Threshing_date  Threshing_method  \\\n",
       "0     2022-11-16            NaN     2022-11-16           machine   \n",
       "1     2022-11-25            3.0     2022-12-24           machine   \n",
       "2     2022-12-12          480.0     2023-01-11           machine   \n",
       "3     2022-12-02          240.0     2022-12-29              hand   \n",
       "4     2022-11-30            NaN     2022-12-02           machine   \n",
       "...          ...            ...            ...               ...   \n",
       "3865  2022-11-29            NaN     2022-12-14           machine   \n",
       "3866  2022-10-10            4.0     2022-11-05              hand   \n",
       "3867  2022-10-20         1200.0     2022-10-30              hand   \n",
       "3868  2022-11-09          100.0     2022-12-10              hand   \n",
       "3869  2022-11-17          300.0     2022-12-29           machine   \n",
       "\n",
       "     Residue_length Residue_perc     Stubble_use      Acre Yield  \n",
       "0                30           40  plowed_in_soil  0.312500   600  \n",
       "1                24           10  plowed_in_soil  0.312500   600  \n",
       "2                30           10  plowed_in_soil  0.148148   225  \n",
       "3                26           10  plowed_in_soil  0.222222   468  \n",
       "4                24           40  plowed_in_soil  0.468750   550  \n",
       "...             ...          ...             ...       ...   ...  \n",
       "3865             25           40  plowed_in_soil  0.375000   720  \n",
       "3866             30           10  plowed_in_soil  0.136364   250  \n",
       "3867             25           10  plowed_in_soil  0.375000   600  \n",
       "3868             25           10  plowed_in_soil  0.227273   400  \n",
       "3869             27           10  plowed_in_soil  0.136364   238  \n",
       "\n",
       "[3870 rows x 44 columns]"
      ]
     },
     "execution_count": 2,
     "metadata": {},
     "output_type": "execute_result"
    }
   ],
   "source": [
    "path = \"C:/Users/pc/Desktop/1/zindi/third project/digital-green-crop-yield-estimate-challenge20230912-4562-1bbmstk\"\n",
    "\n",
    "train = pd.read_csv(path + \"/train.csv\")\n",
    "train"
   ]
  },
  {
   "cell_type": "code",
   "execution_count": 7,
   "id": "60bba29c",
   "metadata": {},
   "outputs": [
    {
     "data": {
      "text/plain": [
       "Urea            2798\n",
       "DAP Urea         322\n",
       "Urea DAP         177\n",
       "DAP               64\n",
       "NPKS Urea          6\n",
       "Urea NPKS          5\n",
       "NPK                3\n",
       "DAP NPKS           3\n",
       "NPK Urea           2\n",
       "DAP NPK Urea       1\n",
       "Urea NPK           1\n",
       "DAP NPK            1\n",
       "Urea SSP           1\n",
       "Other Urea         1\n",
       "Name: FirstTopDressFert, dtype: int64"
      ]
     },
     "execution_count": 7,
     "metadata": {},
     "output_type": "execute_result"
    }
   ],
   "source": [
    "train[\"FirstTopDressFert\"].value_counts()"
   ]
  },
  {
   "cell_type": "code",
   "execution_count": 4,
   "id": "f0b2ee42",
   "metadata": {},
   "outputs": [
    {
     "ename": "NameError",
     "evalue": "name 'NoFertilizerAppln' is not defined",
     "output_type": "error",
     "traceback": [
      "\u001b[1;31m---------------------------------------------------------------------------\u001b[0m",
      "\u001b[1;31mNameError\u001b[0m                                 Traceback (most recent call last)",
      "\u001b[1;32m~\\AppData\\Local\\Temp\\ipykernel_14200\\2027335813.py\u001b[0m in \u001b[0;36m<module>\u001b[1;34m\u001b[0m\n\u001b[1;32m----> 1\u001b[1;33m \u001b[0mNoFertilizerAppln\u001b[0m\u001b[1;33m\u001b[0m\u001b[1;33m\u001b[0m\u001b[0m\n\u001b[0m",
      "\u001b[1;31mNameError\u001b[0m: name 'NoFertilizerAppln' is not defined"
     ]
    }
   ],
   "source": [
    "NoFertilizerAppln"
   ]
  },
  {
   "cell_type": "code",
   "execution_count": null,
   "id": "005732b3",
   "metadata": {},
   "outputs": [],
   "source": [
    "TransplantingIrrigationPowerSource, TransIrriCost, Ganaura, CropOrgFYM"
   ]
  },
  {
   "cell_type": "code",
   "execution_count": null,
   "id": "3418f9a3",
   "metadata": {},
   "outputs": [],
   "source": [
    "date: RcNursEstDate SeedingSowingTransplanting CropTillageDate\n",
    "mapping: SeedlingsPerPit , TransplantingIrrigationHours, StandingWater, OrgFertilizers\n",
    "\n",
    "NursDetFactor TransDetFactor*"
   ]
  },
  {
   "cell_type": "code",
   "execution_count": null,
   "id": "898d0ce3",
   "metadata": {},
   "outputs": [],
   "source": [
    "[\"District\", \"Block\", \"CultLand\", 'CropCultLand','LandPreparationMethod','CropTillageDate', 'CropTillageDepth'\n",
    "\n",
    "\"CropEstMethod\", \"RcNursEstDate\", \"SeedingSowingTransplanting\", \"SeedlingsPerPit\" \"NursDetFactor\", \"TransDetFactor\",\n",
    "\"TransplantingIrrigationHours\", \"TransplantingIrrigationSource\", \"OrgFertilizers\", \"StandingWater\",\n",
    "\"PCropSolidOrgFertAppMethod\", \"NoFertilizerAppln\", \"CropbasalFerts\",\"BasalUrea\", \"BasalDAP\",\"MineralFertAppMethod\",\n",
    "\"FirstTopDressFert\"]"
   ]
  },
  {
   "cell_type": "code",
   "execution_count": 226,
   "id": "1f3cf8a7",
   "metadata": {},
   "outputs": [
    {
     "data": {
      "text/plain": [
       "Index(['ID', 'District', 'Block', 'CultLand', 'CropCultLand',\n",
       "       'LandPreparationMethod', 'CropTillageDate', 'CropTillageDepth',\n",
       "       'CropEstMethod', 'RcNursEstDate', 'SeedingSowingTransplanting',\n",
       "       'SeedlingsPerPit', 'NursDetFactor', 'TransDetFactor',\n",
       "       'TransplantingIrrigationHours', 'TransplantingIrrigationSource',\n",
       "       'TransplantingIrrigationPowerSource', 'TransIrriCost', 'StandingWater',\n",
       "       'OrgFertilizers', 'Ganaura', 'CropOrgFYM', 'PCropSolidOrgFertAppMethod',\n",
       "       'NoFertilizerAppln', 'CropbasalFerts', 'BasalDAP', 'BasalUrea',\n",
       "       'MineralFertAppMethod', 'FirstTopDressFert', '1tdUrea', '1appDaysUrea',\n",
       "       '2tdUrea', '2appDaysUrea', 'MineralFertAppMethod.1', 'Harv_method',\n",
       "       'Harv_date', 'Harv_hand_rent', 'Threshing_date', 'Threshing_method',\n",
       "       'Residue_length', 'Residue_perc', 'Stubble_use', 'Acre', 'Yield'],\n",
       "      dtype='object')"
      ]
     },
     "execution_count": 226,
     "metadata": {},
     "output_type": "execute_result"
    }
   ],
   "source": [
    "train.columns"
   ]
  },
  {
   "cell_type": "code",
   "execution_count": 227,
   "id": "4be29c9a",
   "metadata": {},
   "outputs": [
    {
     "name": "stdout",
     "output_type": "stream",
     "text": [
      "<class 'pandas.core.frame.DataFrame'>\n",
      "RangeIndex: 3870 entries, 0 to 3869\n",
      "Data columns (total 44 columns):\n",
      " #   Column                              Non-Null Count  Dtype  \n",
      "---  ------                              --------------  -----  \n",
      " 0   ID                                  3870 non-null   object \n",
      " 1   District                            3870 non-null   object \n",
      " 2   Block                               3870 non-null   object \n",
      " 3   CultLand                            3870 non-null   int64  \n",
      " 4   CropCultLand                        3870 non-null   int64  \n",
      " 5   LandPreparationMethod               3870 non-null   object \n",
      " 6   CropTillageDate                     3870 non-null   object \n",
      " 7   CropTillageDepth                    3870 non-null   int64  \n",
      " 8   CropEstMethod                       3870 non-null   object \n",
      " 9   RcNursEstDate                       3787 non-null   object \n",
      " 10  SeedingSowingTransplanting          3870 non-null   object \n",
      " 11  SeedlingsPerPit                     3581 non-null   float64\n",
      " 12  NursDetFactor                       3581 non-null   object \n",
      " 13  TransDetFactor                      3581 non-null   object \n",
      " 14  TransplantingIrrigationHours        3677 non-null   float64\n",
      " 15  TransplantingIrrigationSource       3755 non-null   object \n",
      " 16  TransplantingIrrigationPowerSource  3367 non-null   object \n",
      " 17  TransIrriCost                       2988 non-null   float64\n",
      " 18  StandingWater                       3632 non-null   float64\n",
      " 19  OrgFertilizers                      2535 non-null   object \n",
      " 20  Ganaura                             1453 non-null   float64\n",
      " 21  CropOrgFYM                          1196 non-null   float64\n",
      " 22  PCropSolidOrgFertAppMethod          2533 non-null   object \n",
      " 23  NoFertilizerAppln                   3870 non-null   int64  \n",
      " 24  CropbasalFerts                      3682 non-null   object \n",
      " 25  BasalDAP                            3327 non-null   float64\n",
      " 26  BasalUrea                           2166 non-null   float64\n",
      " 27  MineralFertAppMethod                3870 non-null   object \n",
      " 28  FirstTopDressFert                   3385 non-null   object \n",
      " 29  1tdUrea                             3314 non-null   float64\n",
      " 30  1appDaysUrea                        3314 non-null   float64\n",
      " 31  2tdUrea                             1176 non-null   float64\n",
      " 32  2appDaysUrea                        1170 non-null   float64\n",
      " 33  MineralFertAppMethod.1              3389 non-null   object \n",
      " 34  Harv_method                         3870 non-null   object \n",
      " 35  Harv_date                           3870 non-null   object \n",
      " 36  Harv_hand_rent                      3618 non-null   float64\n",
      " 37  Threshing_date                      3870 non-null   object \n",
      " 38  Threshing_method                    3870 non-null   object \n",
      " 39  Residue_length                      3870 non-null   int64  \n",
      " 40  Residue_perc                        3870 non-null   int64  \n",
      " 41  Stubble_use                         3870 non-null   object \n",
      " 42  Acre                                3870 non-null   float64\n",
      " 43  Yield                               3870 non-null   int64  \n",
      "dtypes: float64(14), int64(7), object(23)\n",
      "memory usage: 1.3+ MB\n"
     ]
    }
   ],
   "source": [
    "train.info()"
   ]
  },
  {
   "cell_type": "code",
   "execution_count": 228,
   "id": "7f0713e6",
   "metadata": {},
   "outputs": [],
   "source": [
    "date_col=[\"Threshing_date\", \"RcNursEstDate\", \"Harv_date\", \"CropTillageDate\", \"RcNursEstDate\", \"SeedingSowingTransplanting\"]\n",
    "for col in date_col:\n",
    "    train[col]= pd.to_datetime(train[col])"
   ]
  },
  {
   "cell_type": "code",
   "execution_count": null,
   "id": "a2f32b13",
   "metadata": {},
   "outputs": [],
   "source": [
    "[]"
   ]
  },
  {
   "cell_type": "code",
   "execution_count": 229,
   "id": "ed83c7b7",
   "metadata": {},
   "outputs": [
    {
     "name": "stdout",
     "output_type": "stream",
     "text": [
      "<class 'pandas.core.frame.DataFrame'>\n",
      "RangeIndex: 3870 entries, 0 to 3869\n",
      "Data columns (total 44 columns):\n",
      " #   Column                              Non-Null Count  Dtype         \n",
      "---  ------                              --------------  -----         \n",
      " 0   ID                                  3870 non-null   object        \n",
      " 1   District                            3870 non-null   object        \n",
      " 2   Block                               3870 non-null   object        \n",
      " 3   CultLand                            3870 non-null   int64         \n",
      " 4   CropCultLand                        3870 non-null   int64         \n",
      " 5   LandPreparationMethod               3870 non-null   object        \n",
      " 6   CropTillageDate                     3870 non-null   datetime64[ns]\n",
      " 7   CropTillageDepth                    3870 non-null   int64         \n",
      " 8   CropEstMethod                       3870 non-null   object        \n",
      " 9   RcNursEstDate                       3787 non-null   datetime64[ns]\n",
      " 10  SeedingSowingTransplanting          3870 non-null   datetime64[ns]\n",
      " 11  SeedlingsPerPit                     3581 non-null   float64       \n",
      " 12  NursDetFactor                       3581 non-null   object        \n",
      " 13  TransDetFactor                      3581 non-null   object        \n",
      " 14  TransplantingIrrigationHours        3677 non-null   float64       \n",
      " 15  TransplantingIrrigationSource       3755 non-null   object        \n",
      " 16  TransplantingIrrigationPowerSource  3367 non-null   object        \n",
      " 17  TransIrriCost                       2988 non-null   float64       \n",
      " 18  StandingWater                       3632 non-null   float64       \n",
      " 19  OrgFertilizers                      2535 non-null   object        \n",
      " 20  Ganaura                             1453 non-null   float64       \n",
      " 21  CropOrgFYM                          1196 non-null   float64       \n",
      " 22  PCropSolidOrgFertAppMethod          2533 non-null   object        \n",
      " 23  NoFertilizerAppln                   3870 non-null   int64         \n",
      " 24  CropbasalFerts                      3682 non-null   object        \n",
      " 25  BasalDAP                            3327 non-null   float64       \n",
      " 26  BasalUrea                           2166 non-null   float64       \n",
      " 27  MineralFertAppMethod                3870 non-null   object        \n",
      " 28  FirstTopDressFert                   3385 non-null   object        \n",
      " 29  1tdUrea                             3314 non-null   float64       \n",
      " 30  1appDaysUrea                        3314 non-null   float64       \n",
      " 31  2tdUrea                             1176 non-null   float64       \n",
      " 32  2appDaysUrea                        1170 non-null   float64       \n",
      " 33  MineralFertAppMethod.1              3389 non-null   object        \n",
      " 34  Harv_method                         3870 non-null   object        \n",
      " 35  Harv_date                           3870 non-null   datetime64[ns]\n",
      " 36  Harv_hand_rent                      3618 non-null   float64       \n",
      " 37  Threshing_date                      3870 non-null   datetime64[ns]\n",
      " 38  Threshing_method                    3870 non-null   object        \n",
      " 39  Residue_length                      3870 non-null   int64         \n",
      " 40  Residue_perc                        3870 non-null   int64         \n",
      " 41  Stubble_use                         3870 non-null   object        \n",
      " 42  Acre                                3870 non-null   float64       \n",
      " 43  Yield                               3870 non-null   int64         \n",
      "dtypes: datetime64[ns](5), float64(14), int64(7), object(18)\n",
      "memory usage: 1.3+ MB\n"
     ]
    }
   ],
   "source": [
    "train.info()"
   ]
  },
  {
   "cell_type": "code",
   "execution_count": null,
   "id": "cef14074",
   "metadata": {},
   "outputs": [],
   "source": []
  },
  {
   "cell_type": "code",
   "execution_count": 1,
   "id": "d9eaa6ff",
   "metadata": {},
   "outputs": [
    {
     "name": "stdout",
     "output_type": "stream",
     "text": [
      "Hello World! \n"
     ]
    }
   ],
   "source": [
    "# am about to write my first python code\n",
    "print(\"Hello World! \")"
   ]
  },
  {
   "cell_type": "code",
   "execution_count": null,
   "id": "ea7aa692",
   "metadata": {},
   "outputs": [],
   "source": [
    "# variable and identifier"
   ]
  },
  {
   "cell_type": "code",
   "execution_count": 2,
   "id": "7c388655",
   "metadata": {},
   "outputs": [
    {
     "name": "stdout",
     "output_type": "stream",
     "text": [
      "olaitan\n"
     ]
    }
   ],
   "source": [
    "name = \"olaitan\"\n",
    "print(name)"
   ]
  },
  {
   "cell_type": "markdown",
   "id": "36f1eb2b",
   "metadata": {},
   "source": [
    "# Operator and Oprand in python\n",
    "- operator are used to manipulate oprand\n",
    "- oprand are two are more variable\n",
    "\n",
    "1. Arithmetic\n",
    "2. comparison\n",
    "3. Assignment\n",
    "4. membership\n",
    "5. identity\n",
    "6. Logical\n",
    "7. bitwise "
   ]
  },
  {
   "cell_type": "markdown",
   "id": "14638d10",
   "metadata": {},
   "source": [
    "# Arithmetic"
   ]
  },
  {
   "cell_type": "code",
   "execution_count": 3,
   "id": "f179e428",
   "metadata": {},
   "outputs": [
    {
     "name": "stdout",
     "output_type": "stream",
     "text": [
      "20\n"
     ]
    }
   ],
   "source": [
    "# Addition (+)\n",
    "num1 = 7\n",
    "num2 = 13\n",
    "total = num1 + num2  \n",
    "print(total)"
   ]
  },
  {
   "cell_type": "code",
   "execution_count": 4,
   "id": "9c69d161",
   "metadata": {},
   "outputs": [
    {
     "name": "stdout",
     "output_type": "stream",
     "text": [
      "-6\n"
     ]
    }
   ],
   "source": [
    "# Subtraction (-)\n",
    "num1 = 7\n",
    "num2 = 13\n",
    "total = num1 - num2  \n",
    "print(total)"
   ]
  },
  {
   "cell_type": "code",
   "execution_count": 5,
   "id": "d5490af1",
   "metadata": {},
   "outputs": [
    {
     "name": "stdout",
     "output_type": "stream",
     "text": [
      "0.5384615384615384\n"
     ]
    }
   ],
   "source": [
    "# division (/)\n",
    "num1 = 7\n",
    "num2 = 13\n",
    "total = num1 / num2  \n",
    "print(total)"
   ]
  },
  {
   "cell_type": "code",
   "execution_count": 6,
   "id": "c08478ef",
   "metadata": {},
   "outputs": [
    {
     "name": "stdout",
     "output_type": "stream",
     "text": [
      "96889010407\n"
     ]
    }
   ],
   "source": [
    "# Power (**)\n",
    "num1 = 7\n",
    "num2 = 13\n",
    "total = num1 ** num2  \n",
    "print(total)"
   ]
  },
  {
   "cell_type": "code",
   "execution_count": 7,
   "id": "ae73f0c6",
   "metadata": {},
   "outputs": [
    {
     "name": "stdout",
     "output_type": "stream",
     "text": [
      "6\n"
     ]
    }
   ],
   "source": [
    "# Modulus (%): IS USED TO RETURN REMAINDER OF DIVISION\n",
    "num1 = 7\n",
    "num2 = 13\n",
    "total = num2 % num1\n",
    "print(total)"
   ]
  },
  {
   "cell_type": "markdown",
   "id": "e5481afa",
   "metadata": {},
   "source": [
    "# Comparison\n",
    "is used to compear variables, it return bollean result, True or False"
   ]
  },
  {
   "cell_type": "code",
   "execution_count": 8,
   "id": "30ba5832",
   "metadata": {},
   "outputs": [
    {
     "data": {
      "text/plain": [
       "False"
      ]
     },
     "execution_count": 8,
     "metadata": {},
     "output_type": "execute_result"
    }
   ],
   "source": [
    "# greater (>) \n",
    "num1 = 4\n",
    "num2 = 8\n",
    "num1 > num2"
   ]
  },
  {
   "cell_type": "code",
   "execution_count": 10,
   "id": "fb6186aa",
   "metadata": {},
   "outputs": [
    {
     "data": {
      "text/plain": [
       "True"
      ]
     },
     "execution_count": 10,
     "metadata": {},
     "output_type": "execute_result"
    }
   ],
   "source": [
    "# greater (>=) \n",
    "num1 = 4\n",
    "num2 = 4\n",
    "num1 >= num2"
   ]
  },
  {
   "cell_type": "code",
   "execution_count": 11,
   "id": "7df4a5cc",
   "metadata": {},
   "outputs": [
    {
     "data": {
      "text/plain": [
       "True"
      ]
     },
     "execution_count": 11,
     "metadata": {},
     "output_type": "execute_result"
    }
   ],
   "source": [
    "# less (<) \n",
    "num1 = 4\n",
    "num2 = 8\n",
    "num1 < num2"
   ]
  },
  {
   "cell_type": "code",
   "execution_count": 12,
   "id": "f48defc1",
   "metadata": {},
   "outputs": [
    {
     "data": {
      "text/plain": [
       "True"
      ]
     },
     "execution_count": 12,
     "metadata": {},
     "output_type": "execute_result"
    }
   ],
   "source": [
    "# less (<=) \n",
    "num1 = 4\n",
    "num2 = 8\n",
    "num1 <= num2"
   ]
  },
  {
   "cell_type": "code",
   "execution_count": 14,
   "id": "0aeef2f2",
   "metadata": {},
   "outputs": [
    {
     "data": {
      "text/plain": [
       "True"
      ]
     },
     "execution_count": 14,
     "metadata": {},
     "output_type": "execute_result"
    }
   ],
   "source": [
    "# equal to (==)\n",
    "num1 = 7\n",
    "num2 = 7\n",
    "num1== num2"
   ]
  },
  {
   "cell_type": "code",
   "execution_count": 15,
   "id": "4e31c53b",
   "metadata": {},
   "outputs": [
    {
     "data": {
      "text/plain": [
       "False"
      ]
     },
     "execution_count": 15,
     "metadata": {},
     "output_type": "execute_result"
    }
   ],
   "source": [
    "# not equal to(!=)\n",
    "num1 = 7\n",
    "num2 = 7\n",
    "num1 != num2"
   ]
  },
  {
   "cell_type": "markdown",
   "id": "3cfe7ee3",
   "metadata": {},
   "source": [
    "# Assignment"
   ]
  },
  {
   "cell_type": "code",
   "execution_count": null,
   "id": "a6fcba78",
   "metadata": {},
   "outputs": [],
   "source": [
    "# equal sign (=)\n",
    "name = \"olaitan\""
   ]
  },
  {
   "cell_type": "code",
   "execution_count": 18,
   "id": "0d0c1cf3",
   "metadata": {},
   "outputs": [
    {
     "name": "stdout",
     "output_type": "stream",
     "text": [
      "7\n"
     ]
    }
   ],
   "source": [
    "# increament(+=)\n",
    "num = 5\n",
    "num+=2 # add two to the current value of num variable\n",
    "print(num)"
   ]
  },
  {
   "cell_type": "code",
   "execution_count": 19,
   "id": "e4cd8b70",
   "metadata": {},
   "outputs": [
    {
     "name": "stdout",
     "output_type": "stream",
     "text": [
      "3\n"
     ]
    }
   ],
   "source": [
    "# decreament(-=)\n",
    "num = 5\n",
    "num-=2 # minus two to the current value of num variable\n",
    "print(num)"
   ]
  },
  {
   "cell_type": "code",
   "execution_count": null,
   "id": "b3dc66c8",
   "metadata": {},
   "outputs": [],
   "source": [
    "# membership\n",
    "in, not in "
   ]
  },
  {
   "cell_type": "code",
   "execution_count": 20,
   "id": "15dacda5",
   "metadata": {},
   "outputs": [
    {
     "data": {
      "text/plain": [
       "True"
      ]
     },
     "execution_count": 20,
     "metadata": {},
     "output_type": "execute_result"
    }
   ],
   "source": [
    "name = \"olaitan\"\n",
    "\"o\" in name"
   ]
  },
  {
   "cell_type": "code",
   "execution_count": 21,
   "id": "ce37f809",
   "metadata": {},
   "outputs": [
    {
     "data": {
      "text/plain": [
       "False"
      ]
     },
     "execution_count": 21,
     "metadata": {},
     "output_type": "execute_result"
    }
   ],
   "source": [
    "name = \"olaitan\"\n",
    "\"o\" not in name"
   ]
  },
  {
   "cell_type": "code",
   "execution_count": 22,
   "id": "524c3c8a",
   "metadata": {},
   "outputs": [
    {
     "data": {
      "text/plain": [
       "True"
      ]
     },
     "execution_count": 22,
     "metadata": {},
     "output_type": "execute_result"
    }
   ],
   "source": [
    "name = \"olaitan\"\n",
    "\"k\" not in name"
   ]
  },
  {
   "cell_type": "markdown",
   "id": "865ca183",
   "metadata": {},
   "source": [
    "# identify \n",
    "is, is not"
   ]
  },
  {
   "cell_type": "code",
   "execution_count": 26,
   "id": "d01a5e61",
   "metadata": {},
   "outputs": [
    {
     "name": "stderr",
     "output_type": "stream",
     "text": [
      "<>:1: SyntaxWarning: \"is\" with a literal. Did you mean \"==\"?\n",
      "<>:1: SyntaxWarning: \"is\" with a literal. Did you mean \"==\"?\n",
      "C:\\Users\\pc\\AppData\\Local\\Temp\\ipykernel_7980\\2470943968.py:1: SyntaxWarning: \"is\" with a literal. Did you mean \"==\"?\n",
      "  (\"ola\") is( \"ola\")\n"
     ]
    },
    {
     "data": {
      "text/plain": [
       "True"
      ]
     },
     "execution_count": 26,
     "metadata": {},
     "output_type": "execute_result"
    }
   ],
   "source": [
    "(\"ola\") is (\"ola\")"
   ]
  },
  {
   "cell_type": "code",
   "execution_count": 27,
   "id": "59d789fc",
   "metadata": {},
   "outputs": [
    {
     "name": "stderr",
     "output_type": "stream",
     "text": [
      "<>:1: SyntaxWarning: \"is not\" with a literal. Did you mean \"!=\"?\n",
      "<>:1: SyntaxWarning: \"is not\" with a literal. Did you mean \"!=\"?\n",
      "C:\\Users\\pc\\AppData\\Local\\Temp\\ipykernel_7980\\1382689674.py:1: SyntaxWarning: \"is not\" with a literal. Did you mean \"!=\"?\n",
      "  (\"ola\") is not (\"ola\")\n"
     ]
    },
    {
     "data": {
      "text/plain": [
       "False"
      ]
     },
     "execution_count": 27,
     "metadata": {},
     "output_type": "execute_result"
    }
   ],
   "source": [
    "(\"ola\") is not (\"ola\")"
   ]
  },
  {
   "cell_type": "code",
   "execution_count": null,
   "id": "61a6da47",
   "metadata": {},
   "outputs": [],
   "source": [
    "# logical operator\n",
    "or/and"
   ]
  },
  {
   "cell_type": "code",
   "execution_count": 29,
   "id": "0fb75f78",
   "metadata": {},
   "outputs": [
    {
     "data": {
      "text/plain": [
       "True"
      ]
     },
     "execution_count": 29,
     "metadata": {},
     "output_type": "execute_result"
    }
   ],
   "source": [
    "a =6\n",
    "b =7\n",
    "c =8\n",
    "(a>b) or (b<c)"
   ]
  },
  {
   "cell_type": "code",
   "execution_count": 30,
   "id": "ab4b1d38",
   "metadata": {},
   "outputs": [
    {
     "data": {
      "text/plain": [
       "False"
      ]
     },
     "execution_count": 30,
     "metadata": {},
     "output_type": "execute_result"
    }
   ],
   "source": [
    "a =6\n",
    "b =7\n",
    "c =8\n",
    "(a>b) and (b<c)"
   ]
  },
  {
   "cell_type": "markdown",
   "id": "539fd28a",
   "metadata": {},
   "source": [
    "# Data type in python\n",
    "### type of datatype\n",
    "Mutable Datatype: are kind of datatype that can modify after declaration \n",
    "- list\n",
    "- Dictionary\n",
    "Immutable Datatype: are kind of datatype that can not modify after declaration \n",
    "- Number\n",
    "- string\n",
    "- tuple\n",
    "- set"
   ]
  },
  {
   "cell_type": "code",
   "execution_count": 1,
   "id": "2300994d",
   "metadata": {},
   "outputs": [],
   "source": [
    "# number\n",
    "num1 = 8389 # int\n",
    "num2 = 83.89 # float\n",
    "num3 = 8 + 3j  # complex"
   ]
  },
  {
   "cell_type": "code",
   "execution_count": null,
   "id": "434872bd",
   "metadata": {},
   "outputs": [],
   "source": [
    "# string: they are sequence of characters\n",
    "name = \"olaitan\"\n",
    "name2 = 'kola'"
   ]
  },
  {
   "cell_type": "markdown",
   "id": "4289919e",
   "metadata": {},
   "source": [
    "# indexing and slicing\n",
    "- indexing is the processing of getting character of string in a postion\n",
    "- slicing is the processing of getting characters of string within range"
   ]
  },
  {
   "cell_type": "code",
   "execution_count": 2,
   "id": "e9aae396",
   "metadata": {},
   "outputs": [],
   "source": [
    "var = \"python can be use to build cool things\""
   ]
  },
  {
   "cell_type": "code",
   "execution_count": 4,
   "id": "3474bb78",
   "metadata": {},
   "outputs": [
    {
     "data": {
      "text/plain": [
       "'p'"
      ]
     },
     "execution_count": 4,
     "metadata": {},
     "output_type": "execute_result"
    }
   ],
   "source": [
    "# return p from the variable above\n",
    "var[0]"
   ]
  },
  {
   "cell_type": "markdown",
   "id": "3919b527",
   "metadata": {},
   "source": []
  },
  {
   "cell_type": "code",
   "execution_count": null,
   "id": "11e489dc",
   "metadata": {},
   "outputs": [],
   "source": []
  },
  {
   "cell_type": "code",
   "execution_count": null,
   "id": "2b75300b",
   "metadata": {},
   "outputs": [],
   "source": []
  },
  {
   "cell_type": "code",
   "execution_count": null,
   "id": "0a1a2654",
   "metadata": {},
   "outputs": [],
   "source": []
  },
  {
   "cell_type": "code",
   "execution_count": null,
   "id": "a7879cdd",
   "metadata": {},
   "outputs": [],
   "source": []
  },
  {
   "cell_type": "code",
   "execution_count": null,
   "id": "fb339415",
   "metadata": {},
   "outputs": [],
   "source": []
  }
 ],
 "metadata": {
  "kernelspec": {
   "display_name": "Python 3 (ipykernel)",
   "language": "python",
   "name": "python3"
  },
  "language_info": {
   "codemirror_mode": {
    "name": "ipython",
    "version": 3
   },
   "file_extension": ".py",
   "mimetype": "text/x-python",
   "name": "python",
   "nbconvert_exporter": "python",
   "pygments_lexer": "ipython3",
   "version": "3.9.13"
  }
 },
 "nbformat": 4,
 "nbformat_minor": 5
}
